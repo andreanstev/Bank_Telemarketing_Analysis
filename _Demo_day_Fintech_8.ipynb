{
  "nbformat": 4,
  "nbformat_minor": 0,
  "metadata": {
    "colab": {
      "name": "#Demo day Fintech 8.ipynb",
      "provenance": [],
      "collapsed_sections": [
        "I8sLXLmJ0YHl",
        "xNDd-nsn0bqh",
        "8nLDorXUiwIG"
      ],
      "toc_visible": true,
      "authorship_tag": "ABX9TyOidAp7SDQm4BuVCm7u70YD",
      "include_colab_link": true
    },
    "kernelspec": {
      "name": "python3",
      "display_name": "Python 3"
    },
    "language_info": {
      "name": "python"
    },
    "gpuClass": "standard"
  },
  "cells": [
    {
      "cell_type": "markdown",
      "metadata": {
        "id": "view-in-github",
        "colab_type": "text"
      },
      "source": [
        "<a href=\"https://colab.research.google.com/github/iongie/demo-day-fin-8/blob/Gigih-Santoso/_Demo_day_Fintech_8.ipynb\" target=\"_parent\"><img src=\"https://colab.research.google.com/assets/colab-badge.svg\" alt=\"Open In Colab\"/></a>"
      ]
    },
    {
      "cell_type": "markdown",
      "source": [
        "#Demo day Fintech 8\n",
        "\n",
        "\"Data tersebut terkait dengan kampanye pemasaran langsung dari lembaga perbankan Portugis. Kampanye pemasaran didasarkan pada panggilan telepon. Seringkali, lebih dari satu kontak ke klien yang sama diperlukan, untuk mengakses apakah produk (deposito berjangka bank) akan ('ya') atau tidak ('tidak') dilanggan oleh pelanggan atau tidak. Folder data berisi dua kumpulan data: -\n",
        "\n",
        "     train.csv: 45.211 baris dan 18 kolom diurutkan berdasarkan tanggal (dari Mei 2008 hingga November 2010)\n",
        "     test.csv: 4521 baris dan 18 kolom dengan 10% contoh (4521), dipilih secara acak dari train.csv\""
      ],
      "metadata": {
        "id": "hDbYMQhe0P1A"
      }
    },
    {
      "cell_type": "markdown",
      "source": [
        "test pull and push"
      ],
      "metadata": {
        "id": "8Hg4ZuZM0DQa"
      }
    },
    {
      "cell_type": "markdown",
      "source": [
        "##Setup"
      ],
      "metadata": {
        "id": "FVjSsPfn0VTS"
      }
    },
    {
      "cell_type": "code",
      "source": [
        "import pathlib\n",
        "import tensorflow as tf\n",
        "import zipfile\n",
        "import os\n",
        "import matplotlib.pyplot as plt\n",
        "import pandas as pd\n",
        "import numpy as np\n",
        "from google.colab import drive\n",
        "from google.colab import data_table\n",
        "import tensorflow as tf"
      ],
      "metadata": {
        "id": "XNyPcjlfy4QW"
      },
      "execution_count": 1,
      "outputs": []
    },
    {
      "cell_type": "markdown",
      "source": [
        "##Function"
      ],
      "metadata": {
        "id": "ppsowJyTjXhT"
      }
    },
    {
      "cell_type": "markdown",
      "source": [
        "function split data"
      ],
      "metadata": {
        "id": "RGZYYbArmE3y"
      }
    },
    {
      "cell_type": "code",
      "source": [
        "def dataframe_split(data, ratio= 0.2, shuffle= 0):\n",
        "  len_ = int(len(data) - (ratio*len(data)))\n",
        "  if shuffle == 0 :\n",
        "    part_  = data.iloc[:int(1 + len_)]\n",
        "    rest_part_ = data.drop(part_.index)\n",
        "  elif shuffle == 1:\n",
        "    part_ = data.sample(frac = 1.0 - ratio)\n",
        "    rest_part_ = data.drop(part_.index)\n",
        "  return (part_, rest_part_)"
      ],
      "metadata": {
        "id": "-yhTOXNX9zG_"
      },
      "execution_count": 2,
      "outputs": []
    },
    {
      "cell_type": "markdown",
      "source": [
        "fucntion membuat dataset"
      ],
      "metadata": {
        "id": "aES7xQuXmG_-"
      }
    },
    {
      "cell_type": "code",
      "source": [
        "def dataframe_to_dataset(data, batch_size=32):\n",
        "  df = data.copy()\n",
        "  labels = df.pop('target')\n",
        "  df = {key:  tf.expand_dims(value,axis=1) for key, value in df.items()}\n",
        "  ds = tf.data.Dataset.from_tensor_slices((dict(df), labels))\n",
        "  ds = ds.batch(batch_size)\n",
        "  ds = ds.prefetch(tf.data.AUTOTUNE)\n",
        "  return ds"
      ],
      "metadata": {
        "id": "yUeMchRXKhcS"
      },
      "execution_count": 3,
      "outputs": []
    },
    {
      "cell_type": "code",
      "source": [
        "def dataframe_imbalanced_to_dataset(data, batch_size=32):\n",
        "  no_df = data.loc[dataset_train['target'].eq(0)].copy()\n",
        "  yes_df = data.loc[dataset_train['target'].eq(1)].copy()\n",
        "  no_labels = no_df.pop('target')\n",
        "  yes_labels = yes_df.pop('target')\n",
        "\n",
        "  no_df = {key:  tf.expand_dims(value,axis=1) for key, value in no_df.items()}\n",
        "  no_ds = tf.data.Dataset.from_tensor_slices((dict(no_df), no_labels))\n",
        "\n",
        "  yes_df = {key:  tf.expand_dims(value,axis=1) for key, value in yes_df.items()}\n",
        "  yes_ds = tf.data.Dataset.from_tensor_slices((dict(yes_df), yes_labels))\n",
        "\n",
        "  ds = tf.data.Dataset.sample_from_datasets([no_ds, yes_ds], weights=[0.5, 0.5])\n",
        "  ds = ds.batch(batch_size)\n",
        "  ds = ds.prefetch(tf.data.AUTOTUNE)\n",
        "  return ds"
      ],
      "metadata": {
        "id": "EcEnw-62cpnK"
      },
      "execution_count": 4,
      "outputs": []
    },
    {
      "cell_type": "markdown",
      "source": [
        "function preprocessing numeric"
      ],
      "metadata": {
        "id": "x3qXY5rvmJFq"
      }
    },
    {
      "cell_type": "code",
      "source": [
        "def numeric_preprocessing(name, dataset, num_bins):\n",
        "  feature_dataset = dataset.map(lambda x,y: x[name])\n",
        "  layer = tf.keras.layers.Discretization(num_bins=num_bins, epsilon=0.01)\n",
        "  layer.adapt(feature_dataset)\n",
        "\n",
        "  return layer"
      ],
      "metadata": {
        "id": "jEXvg9csPJyb"
      },
      "execution_count": 5,
      "outputs": []
    },
    {
      "cell_type": "markdown",
      "source": [
        "fucntion preprocessing categories"
      ],
      "metadata": {
        "id": "LeSvhuKSmNTX"
      }
    },
    {
      "cell_type": "code",
      "source": [
        "def categories_preprocessing(name, dataset, dtype):\n",
        "  if(dtype == \"int64\"):\n",
        "    lookup = tf.keras.layers.IntegerLookup()\n",
        "  else:\n",
        "    lookup = tf.keras.layers.StringLookup()\n",
        "  feature_dataset = dataset.map(lambda x,y: x[name])\n",
        "  lookup.adapt(feature_dataset)\n",
        "\n",
        "  return lookup"
      ],
      "metadata": {
        "id": "4Z9l9kcjV4Fy"
      },
      "execution_count": 6,
      "outputs": []
    },
    {
      "cell_type": "markdown",
      "source": [
        "plot metric"
      ],
      "metadata": {
        "id": "r7-sO-o2kxN2"
      }
    },
    {
      "cell_type": "code",
      "source": [
        "def plot_metric(x, y, history, metric):\n",
        "  fig, ax = plt.subplots(x, y)\n",
        "  epochs = range(len(history.history[metric[0]]))\n",
        "  for metric, ax in zip(metric, ax.flatten()):\n",
        "    ax.plot(epochs, history.history[metric], 'r', label='train')\n",
        "    ax.plot(epochs, history.history['val_'+metric], 'b', ls=\"--\", label='val')\n",
        "    ax.set_ylabel(metric)\n",
        "    ax.set_xlabel('epoch')\n",
        "    ax.legend()  \n",
        "  plt.show()"
      ],
      "metadata": {
        "id": "hXtZMSKVkyav"
      },
      "execution_count": 40,
      "outputs": []
    },
    {
      "cell_type": "markdown",
      "source": [
        "## Mount Google Drive"
      ],
      "metadata": {
        "id": "I8sLXLmJ0YHl"
      }
    },
    {
      "cell_type": "code",
      "source": [
        "drive.mount('/content/drive')"
      ],
      "metadata": {
        "colab": {
          "base_uri": "https://localhost:8080/"
        },
        "id": "CKxJs9K80a5q",
        "outputId": "f782b20b-ab84-431c-dd59-6ad551b6a35a"
      },
      "execution_count": 8,
      "outputs": [
        {
          "output_type": "stream",
          "name": "stdout",
          "text": [
            "Mounted at /content/drive\n"
          ]
        }
      ]
    },
    {
      "cell_type": "markdown",
      "source": [
        "## Load Data"
      ],
      "metadata": {
        "id": "xNDd-nsn0bqh"
      }
    },
    {
      "cell_type": "code",
      "execution_count": 9,
      "metadata": {
        "id": "n12Gn5YyxmSE"
      },
      "outputs": [],
      "source": [
        "data_url = \"/content/drive/MyDrive/Kumpulan_dataset/fintech_banking_dataset.zip\"\n",
        "data_dir = zipfile.ZipFile(data_url, 'r')\n",
        "data_dir.extractall(\"demoday\")\n",
        "data_dir.close()"
      ]
    },
    {
      "cell_type": "code",
      "source": [
        "dataset_train=pd.read_csv('demoday/train.csv', delimiter=\";\")\n",
        "dataset_test=pd.read_csv('demoday/test.csv', delimiter=\";\")"
      ],
      "metadata": {
        "id": "bOWBr6d9Zwtn"
      },
      "execution_count": 10,
      "outputs": []
    },
    {
      "cell_type": "markdown",
      "source": [
        "##Data Explorer"
      ],
      "metadata": {
        "id": "8nLDorXUiwIG"
      }
    },
    {
      "cell_type": "code",
      "source": [
        "print(f\"jumlah data untuk train adalah {len(dataset_train)}\")\n",
        "print(f\"jumlah data untuk test adalah {len(dataset_test)}\")"
      ],
      "metadata": {
        "colab": {
          "base_uri": "https://localhost:8080/"
        },
        "id": "nh0ZVGm_FxZj",
        "outputId": "e00f76ab-2b08-4da8-bbbd-66246be12ab4"
      },
      "execution_count": 11,
      "outputs": [
        {
          "output_type": "stream",
          "name": "stdout",
          "text": [
            "jumlah data untuk train adalah 45211\n",
            "jumlah data untuk test adalah 4521\n"
          ]
        }
      ]
    },
    {
      "cell_type": "code",
      "source": [
        "dataset_test.head()"
      ],
      "metadata": {
        "colab": {
          "base_uri": "https://localhost:8080/",
          "height": 0
        },
        "id": "o3331SCAmVGt",
        "outputId": "ca1922e9-010a-478f-ce58-2b8a10b4774a"
      },
      "execution_count": 12,
      "outputs": [
        {
          "output_type": "execute_result",
          "data": {
            "text/plain": [
              "   age          job  marital  education default  balance housing loan  \\\n",
              "0   30   unemployed  married    primary      no     1787      no   no   \n",
              "1   33     services  married  secondary      no     4789     yes  yes   \n",
              "2   35   management   single   tertiary      no     1350     yes   no   \n",
              "3   30   management  married   tertiary      no     1476     yes  yes   \n",
              "4   59  blue-collar  married  secondary      no        0     yes   no   \n",
              "\n",
              "    contact  day month  duration  campaign  pdays  previous poutcome   y  \n",
              "0  cellular   19   oct        79         1     -1         0  unknown  no  \n",
              "1  cellular   11   may       220         1    339         4  failure  no  \n",
              "2  cellular   16   apr       185         1    330         1  failure  no  \n",
              "3   unknown    3   jun       199         4     -1         0  unknown  no  \n",
              "4   unknown    5   may       226         1     -1         0  unknown  no  "
            ],
            "text/html": [
              "\n",
              "  <div id=\"df-40e59257-3934-42c3-aecf-e3013e1accfd\">\n",
              "    <div class=\"colab-df-container\">\n",
              "      <div>\n",
              "<style scoped>\n",
              "    .dataframe tbody tr th:only-of-type {\n",
              "        vertical-align: middle;\n",
              "    }\n",
              "\n",
              "    .dataframe tbody tr th {\n",
              "        vertical-align: top;\n",
              "    }\n",
              "\n",
              "    .dataframe thead th {\n",
              "        text-align: right;\n",
              "    }\n",
              "</style>\n",
              "<table border=\"1\" class=\"dataframe\">\n",
              "  <thead>\n",
              "    <tr style=\"text-align: right;\">\n",
              "      <th></th>\n",
              "      <th>age</th>\n",
              "      <th>job</th>\n",
              "      <th>marital</th>\n",
              "      <th>education</th>\n",
              "      <th>default</th>\n",
              "      <th>balance</th>\n",
              "      <th>housing</th>\n",
              "      <th>loan</th>\n",
              "      <th>contact</th>\n",
              "      <th>day</th>\n",
              "      <th>month</th>\n",
              "      <th>duration</th>\n",
              "      <th>campaign</th>\n",
              "      <th>pdays</th>\n",
              "      <th>previous</th>\n",
              "      <th>poutcome</th>\n",
              "      <th>y</th>\n",
              "    </tr>\n",
              "  </thead>\n",
              "  <tbody>\n",
              "    <tr>\n",
              "      <th>0</th>\n",
              "      <td>30</td>\n",
              "      <td>unemployed</td>\n",
              "      <td>married</td>\n",
              "      <td>primary</td>\n",
              "      <td>no</td>\n",
              "      <td>1787</td>\n",
              "      <td>no</td>\n",
              "      <td>no</td>\n",
              "      <td>cellular</td>\n",
              "      <td>19</td>\n",
              "      <td>oct</td>\n",
              "      <td>79</td>\n",
              "      <td>1</td>\n",
              "      <td>-1</td>\n",
              "      <td>0</td>\n",
              "      <td>unknown</td>\n",
              "      <td>no</td>\n",
              "    </tr>\n",
              "    <tr>\n",
              "      <th>1</th>\n",
              "      <td>33</td>\n",
              "      <td>services</td>\n",
              "      <td>married</td>\n",
              "      <td>secondary</td>\n",
              "      <td>no</td>\n",
              "      <td>4789</td>\n",
              "      <td>yes</td>\n",
              "      <td>yes</td>\n",
              "      <td>cellular</td>\n",
              "      <td>11</td>\n",
              "      <td>may</td>\n",
              "      <td>220</td>\n",
              "      <td>1</td>\n",
              "      <td>339</td>\n",
              "      <td>4</td>\n",
              "      <td>failure</td>\n",
              "      <td>no</td>\n",
              "    </tr>\n",
              "    <tr>\n",
              "      <th>2</th>\n",
              "      <td>35</td>\n",
              "      <td>management</td>\n",
              "      <td>single</td>\n",
              "      <td>tertiary</td>\n",
              "      <td>no</td>\n",
              "      <td>1350</td>\n",
              "      <td>yes</td>\n",
              "      <td>no</td>\n",
              "      <td>cellular</td>\n",
              "      <td>16</td>\n",
              "      <td>apr</td>\n",
              "      <td>185</td>\n",
              "      <td>1</td>\n",
              "      <td>330</td>\n",
              "      <td>1</td>\n",
              "      <td>failure</td>\n",
              "      <td>no</td>\n",
              "    </tr>\n",
              "    <tr>\n",
              "      <th>3</th>\n",
              "      <td>30</td>\n",
              "      <td>management</td>\n",
              "      <td>married</td>\n",
              "      <td>tertiary</td>\n",
              "      <td>no</td>\n",
              "      <td>1476</td>\n",
              "      <td>yes</td>\n",
              "      <td>yes</td>\n",
              "      <td>unknown</td>\n",
              "      <td>3</td>\n",
              "      <td>jun</td>\n",
              "      <td>199</td>\n",
              "      <td>4</td>\n",
              "      <td>-1</td>\n",
              "      <td>0</td>\n",
              "      <td>unknown</td>\n",
              "      <td>no</td>\n",
              "    </tr>\n",
              "    <tr>\n",
              "      <th>4</th>\n",
              "      <td>59</td>\n",
              "      <td>blue-collar</td>\n",
              "      <td>married</td>\n",
              "      <td>secondary</td>\n",
              "      <td>no</td>\n",
              "      <td>0</td>\n",
              "      <td>yes</td>\n",
              "      <td>no</td>\n",
              "      <td>unknown</td>\n",
              "      <td>5</td>\n",
              "      <td>may</td>\n",
              "      <td>226</td>\n",
              "      <td>1</td>\n",
              "      <td>-1</td>\n",
              "      <td>0</td>\n",
              "      <td>unknown</td>\n",
              "      <td>no</td>\n",
              "    </tr>\n",
              "  </tbody>\n",
              "</table>\n",
              "</div>\n",
              "      <button class=\"colab-df-convert\" onclick=\"convertToInteractive('df-40e59257-3934-42c3-aecf-e3013e1accfd')\"\n",
              "              title=\"Convert this dataframe to an interactive table.\"\n",
              "              style=\"display:none;\">\n",
              "        \n",
              "  <svg xmlns=\"http://www.w3.org/2000/svg\" height=\"24px\"viewBox=\"0 0 24 24\"\n",
              "       width=\"24px\">\n",
              "    <path d=\"M0 0h24v24H0V0z\" fill=\"none\"/>\n",
              "    <path d=\"M18.56 5.44l.94 2.06.94-2.06 2.06-.94-2.06-.94-.94-2.06-.94 2.06-2.06.94zm-11 1L8.5 8.5l.94-2.06 2.06-.94-2.06-.94L8.5 2.5l-.94 2.06-2.06.94zm10 10l.94 2.06.94-2.06 2.06-.94-2.06-.94-.94-2.06-.94 2.06-2.06.94z\"/><path d=\"M17.41 7.96l-1.37-1.37c-.4-.4-.92-.59-1.43-.59-.52 0-1.04.2-1.43.59L10.3 9.45l-7.72 7.72c-.78.78-.78 2.05 0 2.83L4 21.41c.39.39.9.59 1.41.59.51 0 1.02-.2 1.41-.59l7.78-7.78 2.81-2.81c.8-.78.8-2.07 0-2.86zM5.41 20L4 18.59l7.72-7.72 1.47 1.35L5.41 20z\"/>\n",
              "  </svg>\n",
              "      </button>\n",
              "      \n",
              "  <style>\n",
              "    .colab-df-container {\n",
              "      display:flex;\n",
              "      flex-wrap:wrap;\n",
              "      gap: 12px;\n",
              "    }\n",
              "\n",
              "    .colab-df-convert {\n",
              "      background-color: #E8F0FE;\n",
              "      border: none;\n",
              "      border-radius: 50%;\n",
              "      cursor: pointer;\n",
              "      display: none;\n",
              "      fill: #1967D2;\n",
              "      height: 32px;\n",
              "      padding: 0 0 0 0;\n",
              "      width: 32px;\n",
              "    }\n",
              "\n",
              "    .colab-df-convert:hover {\n",
              "      background-color: #E2EBFA;\n",
              "      box-shadow: 0px 1px 2px rgba(60, 64, 67, 0.3), 0px 1px 3px 1px rgba(60, 64, 67, 0.15);\n",
              "      fill: #174EA6;\n",
              "    }\n",
              "\n",
              "    [theme=dark] .colab-df-convert {\n",
              "      background-color: #3B4455;\n",
              "      fill: #D2E3FC;\n",
              "    }\n",
              "\n",
              "    [theme=dark] .colab-df-convert:hover {\n",
              "      background-color: #434B5C;\n",
              "      box-shadow: 0px 1px 3px 1px rgba(0, 0, 0, 0.15);\n",
              "      filter: drop-shadow(0px 1px 2px rgba(0, 0, 0, 0.3));\n",
              "      fill: #FFFFFF;\n",
              "    }\n",
              "  </style>\n",
              "\n",
              "      <script>\n",
              "        const buttonEl =\n",
              "          document.querySelector('#df-40e59257-3934-42c3-aecf-e3013e1accfd button.colab-df-convert');\n",
              "        buttonEl.style.display =\n",
              "          google.colab.kernel.accessAllowed ? 'block' : 'none';\n",
              "\n",
              "        async function convertToInteractive(key) {\n",
              "          const element = document.querySelector('#df-40e59257-3934-42c3-aecf-e3013e1accfd');\n",
              "          const dataTable =\n",
              "            await google.colab.kernel.invokeFunction('convertToInteractive',\n",
              "                                                     [key], {});\n",
              "          if (!dataTable) return;\n",
              "\n",
              "          const docLinkHtml = 'Like what you see? Visit the ' +\n",
              "            '<a target=\"_blank\" href=https://colab.research.google.com/notebooks/data_table.ipynb>data table notebook</a>'\n",
              "            + ' to learn more about interactive tables.';\n",
              "          element.innerHTML = '';\n",
              "          dataTable['output_type'] = 'display_data';\n",
              "          await google.colab.output.renderOutput(dataTable, element);\n",
              "          const docLink = document.createElement('div');\n",
              "          docLink.innerHTML = docLinkHtml;\n",
              "          element.appendChild(docLink);\n",
              "        }\n",
              "      </script>\n",
              "    </div>\n",
              "  </div>\n",
              "  "
            ]
          },
          "metadata": {},
          "execution_count": 12
        }
      ]
    },
    {
      "cell_type": "code",
      "source": [
        "dataset_train.head()"
      ],
      "metadata": {
        "colab": {
          "base_uri": "https://localhost:8080/",
          "height": 0
        },
        "id": "Fkiy4n1UZ3hq",
        "outputId": "d73c2618-ce61-4cf3-a13f-fb7211ca599c"
      },
      "execution_count": 13,
      "outputs": [
        {
          "output_type": "execute_result",
          "data": {
            "text/plain": [
              "   age           job  marital  education default  balance housing loan  \\\n",
              "0   58    management  married   tertiary      no     2143     yes   no   \n",
              "1   44    technician   single  secondary      no       29     yes   no   \n",
              "2   33  entrepreneur  married  secondary      no        2     yes  yes   \n",
              "3   47   blue-collar  married    unknown      no     1506     yes   no   \n",
              "4   33       unknown   single    unknown      no        1      no   no   \n",
              "\n",
              "   contact  day month  duration  campaign  pdays  previous poutcome   y  \n",
              "0  unknown    5   may       261         1     -1         0  unknown  no  \n",
              "1  unknown    5   may       151         1     -1         0  unknown  no  \n",
              "2  unknown    5   may        76         1     -1         0  unknown  no  \n",
              "3  unknown    5   may        92         1     -1         0  unknown  no  \n",
              "4  unknown    5   may       198         1     -1         0  unknown  no  "
            ],
            "text/html": [
              "\n",
              "  <div id=\"df-af2fc20a-2349-4496-aefe-93b744f308a5\">\n",
              "    <div class=\"colab-df-container\">\n",
              "      <div>\n",
              "<style scoped>\n",
              "    .dataframe tbody tr th:only-of-type {\n",
              "        vertical-align: middle;\n",
              "    }\n",
              "\n",
              "    .dataframe tbody tr th {\n",
              "        vertical-align: top;\n",
              "    }\n",
              "\n",
              "    .dataframe thead th {\n",
              "        text-align: right;\n",
              "    }\n",
              "</style>\n",
              "<table border=\"1\" class=\"dataframe\">\n",
              "  <thead>\n",
              "    <tr style=\"text-align: right;\">\n",
              "      <th></th>\n",
              "      <th>age</th>\n",
              "      <th>job</th>\n",
              "      <th>marital</th>\n",
              "      <th>education</th>\n",
              "      <th>default</th>\n",
              "      <th>balance</th>\n",
              "      <th>housing</th>\n",
              "      <th>loan</th>\n",
              "      <th>contact</th>\n",
              "      <th>day</th>\n",
              "      <th>month</th>\n",
              "      <th>duration</th>\n",
              "      <th>campaign</th>\n",
              "      <th>pdays</th>\n",
              "      <th>previous</th>\n",
              "      <th>poutcome</th>\n",
              "      <th>y</th>\n",
              "    </tr>\n",
              "  </thead>\n",
              "  <tbody>\n",
              "    <tr>\n",
              "      <th>0</th>\n",
              "      <td>58</td>\n",
              "      <td>management</td>\n",
              "      <td>married</td>\n",
              "      <td>tertiary</td>\n",
              "      <td>no</td>\n",
              "      <td>2143</td>\n",
              "      <td>yes</td>\n",
              "      <td>no</td>\n",
              "      <td>unknown</td>\n",
              "      <td>5</td>\n",
              "      <td>may</td>\n",
              "      <td>261</td>\n",
              "      <td>1</td>\n",
              "      <td>-1</td>\n",
              "      <td>0</td>\n",
              "      <td>unknown</td>\n",
              "      <td>no</td>\n",
              "    </tr>\n",
              "    <tr>\n",
              "      <th>1</th>\n",
              "      <td>44</td>\n",
              "      <td>technician</td>\n",
              "      <td>single</td>\n",
              "      <td>secondary</td>\n",
              "      <td>no</td>\n",
              "      <td>29</td>\n",
              "      <td>yes</td>\n",
              "      <td>no</td>\n",
              "      <td>unknown</td>\n",
              "      <td>5</td>\n",
              "      <td>may</td>\n",
              "      <td>151</td>\n",
              "      <td>1</td>\n",
              "      <td>-1</td>\n",
              "      <td>0</td>\n",
              "      <td>unknown</td>\n",
              "      <td>no</td>\n",
              "    </tr>\n",
              "    <tr>\n",
              "      <th>2</th>\n",
              "      <td>33</td>\n",
              "      <td>entrepreneur</td>\n",
              "      <td>married</td>\n",
              "      <td>secondary</td>\n",
              "      <td>no</td>\n",
              "      <td>2</td>\n",
              "      <td>yes</td>\n",
              "      <td>yes</td>\n",
              "      <td>unknown</td>\n",
              "      <td>5</td>\n",
              "      <td>may</td>\n",
              "      <td>76</td>\n",
              "      <td>1</td>\n",
              "      <td>-1</td>\n",
              "      <td>0</td>\n",
              "      <td>unknown</td>\n",
              "      <td>no</td>\n",
              "    </tr>\n",
              "    <tr>\n",
              "      <th>3</th>\n",
              "      <td>47</td>\n",
              "      <td>blue-collar</td>\n",
              "      <td>married</td>\n",
              "      <td>unknown</td>\n",
              "      <td>no</td>\n",
              "      <td>1506</td>\n",
              "      <td>yes</td>\n",
              "      <td>no</td>\n",
              "      <td>unknown</td>\n",
              "      <td>5</td>\n",
              "      <td>may</td>\n",
              "      <td>92</td>\n",
              "      <td>1</td>\n",
              "      <td>-1</td>\n",
              "      <td>0</td>\n",
              "      <td>unknown</td>\n",
              "      <td>no</td>\n",
              "    </tr>\n",
              "    <tr>\n",
              "      <th>4</th>\n",
              "      <td>33</td>\n",
              "      <td>unknown</td>\n",
              "      <td>single</td>\n",
              "      <td>unknown</td>\n",
              "      <td>no</td>\n",
              "      <td>1</td>\n",
              "      <td>no</td>\n",
              "      <td>no</td>\n",
              "      <td>unknown</td>\n",
              "      <td>5</td>\n",
              "      <td>may</td>\n",
              "      <td>198</td>\n",
              "      <td>1</td>\n",
              "      <td>-1</td>\n",
              "      <td>0</td>\n",
              "      <td>unknown</td>\n",
              "      <td>no</td>\n",
              "    </tr>\n",
              "  </tbody>\n",
              "</table>\n",
              "</div>\n",
              "      <button class=\"colab-df-convert\" onclick=\"convertToInteractive('df-af2fc20a-2349-4496-aefe-93b744f308a5')\"\n",
              "              title=\"Convert this dataframe to an interactive table.\"\n",
              "              style=\"display:none;\">\n",
              "        \n",
              "  <svg xmlns=\"http://www.w3.org/2000/svg\" height=\"24px\"viewBox=\"0 0 24 24\"\n",
              "       width=\"24px\">\n",
              "    <path d=\"M0 0h24v24H0V0z\" fill=\"none\"/>\n",
              "    <path d=\"M18.56 5.44l.94 2.06.94-2.06 2.06-.94-2.06-.94-.94-2.06-.94 2.06-2.06.94zm-11 1L8.5 8.5l.94-2.06 2.06-.94-2.06-.94L8.5 2.5l-.94 2.06-2.06.94zm10 10l.94 2.06.94-2.06 2.06-.94-2.06-.94-.94-2.06-.94 2.06-2.06.94z\"/><path d=\"M17.41 7.96l-1.37-1.37c-.4-.4-.92-.59-1.43-.59-.52 0-1.04.2-1.43.59L10.3 9.45l-7.72 7.72c-.78.78-.78 2.05 0 2.83L4 21.41c.39.39.9.59 1.41.59.51 0 1.02-.2 1.41-.59l7.78-7.78 2.81-2.81c.8-.78.8-2.07 0-2.86zM5.41 20L4 18.59l7.72-7.72 1.47 1.35L5.41 20z\"/>\n",
              "  </svg>\n",
              "      </button>\n",
              "      \n",
              "  <style>\n",
              "    .colab-df-container {\n",
              "      display:flex;\n",
              "      flex-wrap:wrap;\n",
              "      gap: 12px;\n",
              "    }\n",
              "\n",
              "    .colab-df-convert {\n",
              "      background-color: #E8F0FE;\n",
              "      border: none;\n",
              "      border-radius: 50%;\n",
              "      cursor: pointer;\n",
              "      display: none;\n",
              "      fill: #1967D2;\n",
              "      height: 32px;\n",
              "      padding: 0 0 0 0;\n",
              "      width: 32px;\n",
              "    }\n",
              "\n",
              "    .colab-df-convert:hover {\n",
              "      background-color: #E2EBFA;\n",
              "      box-shadow: 0px 1px 2px rgba(60, 64, 67, 0.3), 0px 1px 3px 1px rgba(60, 64, 67, 0.15);\n",
              "      fill: #174EA6;\n",
              "    }\n",
              "\n",
              "    [theme=dark] .colab-df-convert {\n",
              "      background-color: #3B4455;\n",
              "      fill: #D2E3FC;\n",
              "    }\n",
              "\n",
              "    [theme=dark] .colab-df-convert:hover {\n",
              "      background-color: #434B5C;\n",
              "      box-shadow: 0px 1px 3px 1px rgba(0, 0, 0, 0.15);\n",
              "      filter: drop-shadow(0px 1px 2px rgba(0, 0, 0, 0.3));\n",
              "      fill: #FFFFFF;\n",
              "    }\n",
              "  </style>\n",
              "\n",
              "      <script>\n",
              "        const buttonEl =\n",
              "          document.querySelector('#df-af2fc20a-2349-4496-aefe-93b744f308a5 button.colab-df-convert');\n",
              "        buttonEl.style.display =\n",
              "          google.colab.kernel.accessAllowed ? 'block' : 'none';\n",
              "\n",
              "        async function convertToInteractive(key) {\n",
              "          const element = document.querySelector('#df-af2fc20a-2349-4496-aefe-93b744f308a5');\n",
              "          const dataTable =\n",
              "            await google.colab.kernel.invokeFunction('convertToInteractive',\n",
              "                                                     [key], {});\n",
              "          if (!dataTable) return;\n",
              "\n",
              "          const docLinkHtml = 'Like what you see? Visit the ' +\n",
              "            '<a target=\"_blank\" href=https://colab.research.google.com/notebooks/data_table.ipynb>data table notebook</a>'\n",
              "            + ' to learn more about interactive tables.';\n",
              "          element.innerHTML = '';\n",
              "          dataTable['output_type'] = 'display_data';\n",
              "          await google.colab.output.renderOutput(dataTable, element);\n",
              "          const docLink = document.createElement('div');\n",
              "          docLink.innerHTML = docLinkHtml;\n",
              "          element.appendChild(docLink);\n",
              "        }\n",
              "      </script>\n",
              "    </div>\n",
              "  </div>\n",
              "  "
            ]
          },
          "metadata": {},
          "execution_count": 13
        }
      ]
    },
    {
      "cell_type": "markdown",
      "source": [
        "melihat type pada data set"
      ],
      "metadata": {
        "id": "OhBKv9Lbl-vb"
      }
    },
    {
      "cell_type": "code",
      "source": [
        "dataset_train.dtypes"
      ],
      "metadata": {
        "colab": {
          "base_uri": "https://localhost:8080/"
        },
        "id": "1EWLh51tNZ46",
        "outputId": "762b9819-f336-41da-cea2-0a278439fc93"
      },
      "execution_count": 14,
      "outputs": [
        {
          "output_type": "execute_result",
          "data": {
            "text/plain": [
              "age           int64\n",
              "job          object\n",
              "marital      object\n",
              "education    object\n",
              "default      object\n",
              "balance       int64\n",
              "housing      object\n",
              "loan         object\n",
              "contact      object\n",
              "day           int64\n",
              "month        object\n",
              "duration      int64\n",
              "campaign      int64\n",
              "pdays         int64\n",
              "previous      int64\n",
              "poutcome     object\n",
              "y            object\n",
              "dtype: object"
            ]
          },
          "metadata": {},
          "execution_count": 14
        }
      ]
    },
    {
      "cell_type": "code",
      "source": [
        "train_index = [i for i in dataset_train.drop(columns=['y']).columns]\n",
        "dataset_train.groupby(by=train_index)[\"y\"].value_counts().unstack().reset_index().sort_values(by=[\"no\"], ascending=True).head()"
      ],
      "metadata": {
        "colab": {
          "base_uri": "https://localhost:8080/",
          "height": 0
        },
        "id": "9LQxvn4Dp7vZ",
        "outputId": "cc6ff8b6-3e5c-4619-97ec-061848bce25a"
      },
      "execution_count": 15,
      "outputs": [
        {
          "output_type": "execute_result",
          "data": {
            "text/plain": [
              "y      age           job  marital  education default  balance housing loan  \\\n",
              "2       18       student   single    primary      no     1944      no   no   \n",
              "30043   45  entrepreneur  married    primary      no     1953     yes   no   \n",
              "30044   45  entrepreneur  married    primary      no     2418     yes   no   \n",
              "30045   45  entrepreneur  married    primary      no     5315     yes  yes   \n",
              "30046   45  entrepreneur  married  secondary      no     -479     yes   no   \n",
              "\n",
              "y        contact  day month  duration  campaign  pdays  previous poutcome  \\\n",
              "2      telephone   10   aug       122         3     -1         0  unknown   \n",
              "30043    unknown   15   may        95         3     -1         0  unknown   \n",
              "30044    unknown   14   may       120         1     -1         0  unknown   \n",
              "30045   cellular   15   may       262         2     -1         0  unknown   \n",
              "30046   cellular   30   jul       167         2     -1         0  unknown   \n",
              "\n",
              "y       no  yes  \n",
              "2      1.0  NaN  \n",
              "30043  1.0  NaN  \n",
              "30044  1.0  NaN  \n",
              "30045  1.0  NaN  \n",
              "30046  1.0  NaN  "
            ],
            "text/html": [
              "\n",
              "  <div id=\"df-678141ea-716b-4b5c-92cb-5f5843f5c615\">\n",
              "    <div class=\"colab-df-container\">\n",
              "      <div>\n",
              "<style scoped>\n",
              "    .dataframe tbody tr th:only-of-type {\n",
              "        vertical-align: middle;\n",
              "    }\n",
              "\n",
              "    .dataframe tbody tr th {\n",
              "        vertical-align: top;\n",
              "    }\n",
              "\n",
              "    .dataframe thead th {\n",
              "        text-align: right;\n",
              "    }\n",
              "</style>\n",
              "<table border=\"1\" class=\"dataframe\">\n",
              "  <thead>\n",
              "    <tr style=\"text-align: right;\">\n",
              "      <th>y</th>\n",
              "      <th>age</th>\n",
              "      <th>job</th>\n",
              "      <th>marital</th>\n",
              "      <th>education</th>\n",
              "      <th>default</th>\n",
              "      <th>balance</th>\n",
              "      <th>housing</th>\n",
              "      <th>loan</th>\n",
              "      <th>contact</th>\n",
              "      <th>day</th>\n",
              "      <th>month</th>\n",
              "      <th>duration</th>\n",
              "      <th>campaign</th>\n",
              "      <th>pdays</th>\n",
              "      <th>previous</th>\n",
              "      <th>poutcome</th>\n",
              "      <th>no</th>\n",
              "      <th>yes</th>\n",
              "    </tr>\n",
              "  </thead>\n",
              "  <tbody>\n",
              "    <tr>\n",
              "      <th>2</th>\n",
              "      <td>18</td>\n",
              "      <td>student</td>\n",
              "      <td>single</td>\n",
              "      <td>primary</td>\n",
              "      <td>no</td>\n",
              "      <td>1944</td>\n",
              "      <td>no</td>\n",
              "      <td>no</td>\n",
              "      <td>telephone</td>\n",
              "      <td>10</td>\n",
              "      <td>aug</td>\n",
              "      <td>122</td>\n",
              "      <td>3</td>\n",
              "      <td>-1</td>\n",
              "      <td>0</td>\n",
              "      <td>unknown</td>\n",
              "      <td>1.0</td>\n",
              "      <td>NaN</td>\n",
              "    </tr>\n",
              "    <tr>\n",
              "      <th>30043</th>\n",
              "      <td>45</td>\n",
              "      <td>entrepreneur</td>\n",
              "      <td>married</td>\n",
              "      <td>primary</td>\n",
              "      <td>no</td>\n",
              "      <td>1953</td>\n",
              "      <td>yes</td>\n",
              "      <td>no</td>\n",
              "      <td>unknown</td>\n",
              "      <td>15</td>\n",
              "      <td>may</td>\n",
              "      <td>95</td>\n",
              "      <td>3</td>\n",
              "      <td>-1</td>\n",
              "      <td>0</td>\n",
              "      <td>unknown</td>\n",
              "      <td>1.0</td>\n",
              "      <td>NaN</td>\n",
              "    </tr>\n",
              "    <tr>\n",
              "      <th>30044</th>\n",
              "      <td>45</td>\n",
              "      <td>entrepreneur</td>\n",
              "      <td>married</td>\n",
              "      <td>primary</td>\n",
              "      <td>no</td>\n",
              "      <td>2418</td>\n",
              "      <td>yes</td>\n",
              "      <td>no</td>\n",
              "      <td>unknown</td>\n",
              "      <td>14</td>\n",
              "      <td>may</td>\n",
              "      <td>120</td>\n",
              "      <td>1</td>\n",
              "      <td>-1</td>\n",
              "      <td>0</td>\n",
              "      <td>unknown</td>\n",
              "      <td>1.0</td>\n",
              "      <td>NaN</td>\n",
              "    </tr>\n",
              "    <tr>\n",
              "      <th>30045</th>\n",
              "      <td>45</td>\n",
              "      <td>entrepreneur</td>\n",
              "      <td>married</td>\n",
              "      <td>primary</td>\n",
              "      <td>no</td>\n",
              "      <td>5315</td>\n",
              "      <td>yes</td>\n",
              "      <td>yes</td>\n",
              "      <td>cellular</td>\n",
              "      <td>15</td>\n",
              "      <td>may</td>\n",
              "      <td>262</td>\n",
              "      <td>2</td>\n",
              "      <td>-1</td>\n",
              "      <td>0</td>\n",
              "      <td>unknown</td>\n",
              "      <td>1.0</td>\n",
              "      <td>NaN</td>\n",
              "    </tr>\n",
              "    <tr>\n",
              "      <th>30046</th>\n",
              "      <td>45</td>\n",
              "      <td>entrepreneur</td>\n",
              "      <td>married</td>\n",
              "      <td>secondary</td>\n",
              "      <td>no</td>\n",
              "      <td>-479</td>\n",
              "      <td>yes</td>\n",
              "      <td>no</td>\n",
              "      <td>cellular</td>\n",
              "      <td>30</td>\n",
              "      <td>jul</td>\n",
              "      <td>167</td>\n",
              "      <td>2</td>\n",
              "      <td>-1</td>\n",
              "      <td>0</td>\n",
              "      <td>unknown</td>\n",
              "      <td>1.0</td>\n",
              "      <td>NaN</td>\n",
              "    </tr>\n",
              "  </tbody>\n",
              "</table>\n",
              "</div>\n",
              "      <button class=\"colab-df-convert\" onclick=\"convertToInteractive('df-678141ea-716b-4b5c-92cb-5f5843f5c615')\"\n",
              "              title=\"Convert this dataframe to an interactive table.\"\n",
              "              style=\"display:none;\">\n",
              "        \n",
              "  <svg xmlns=\"http://www.w3.org/2000/svg\" height=\"24px\"viewBox=\"0 0 24 24\"\n",
              "       width=\"24px\">\n",
              "    <path d=\"M0 0h24v24H0V0z\" fill=\"none\"/>\n",
              "    <path d=\"M18.56 5.44l.94 2.06.94-2.06 2.06-.94-2.06-.94-.94-2.06-.94 2.06-2.06.94zm-11 1L8.5 8.5l.94-2.06 2.06-.94-2.06-.94L8.5 2.5l-.94 2.06-2.06.94zm10 10l.94 2.06.94-2.06 2.06-.94-2.06-.94-.94-2.06-.94 2.06-2.06.94z\"/><path d=\"M17.41 7.96l-1.37-1.37c-.4-.4-.92-.59-1.43-.59-.52 0-1.04.2-1.43.59L10.3 9.45l-7.72 7.72c-.78.78-.78 2.05 0 2.83L4 21.41c.39.39.9.59 1.41.59.51 0 1.02-.2 1.41-.59l7.78-7.78 2.81-2.81c.8-.78.8-2.07 0-2.86zM5.41 20L4 18.59l7.72-7.72 1.47 1.35L5.41 20z\"/>\n",
              "  </svg>\n",
              "      </button>\n",
              "      \n",
              "  <style>\n",
              "    .colab-df-container {\n",
              "      display:flex;\n",
              "      flex-wrap:wrap;\n",
              "      gap: 12px;\n",
              "    }\n",
              "\n",
              "    .colab-df-convert {\n",
              "      background-color: #E8F0FE;\n",
              "      border: none;\n",
              "      border-radius: 50%;\n",
              "      cursor: pointer;\n",
              "      display: none;\n",
              "      fill: #1967D2;\n",
              "      height: 32px;\n",
              "      padding: 0 0 0 0;\n",
              "      width: 32px;\n",
              "    }\n",
              "\n",
              "    .colab-df-convert:hover {\n",
              "      background-color: #E2EBFA;\n",
              "      box-shadow: 0px 1px 2px rgba(60, 64, 67, 0.3), 0px 1px 3px 1px rgba(60, 64, 67, 0.15);\n",
              "      fill: #174EA6;\n",
              "    }\n",
              "\n",
              "    [theme=dark] .colab-df-convert {\n",
              "      background-color: #3B4455;\n",
              "      fill: #D2E3FC;\n",
              "    }\n",
              "\n",
              "    [theme=dark] .colab-df-convert:hover {\n",
              "      background-color: #434B5C;\n",
              "      box-shadow: 0px 1px 3px 1px rgba(0, 0, 0, 0.15);\n",
              "      filter: drop-shadow(0px 1px 2px rgba(0, 0, 0, 0.3));\n",
              "      fill: #FFFFFF;\n",
              "    }\n",
              "  </style>\n",
              "\n",
              "      <script>\n",
              "        const buttonEl =\n",
              "          document.querySelector('#df-678141ea-716b-4b5c-92cb-5f5843f5c615 button.colab-df-convert');\n",
              "        buttonEl.style.display =\n",
              "          google.colab.kernel.accessAllowed ? 'block' : 'none';\n",
              "\n",
              "        async function convertToInteractive(key) {\n",
              "          const element = document.querySelector('#df-678141ea-716b-4b5c-92cb-5f5843f5c615');\n",
              "          const dataTable =\n",
              "            await google.colab.kernel.invokeFunction('convertToInteractive',\n",
              "                                                     [key], {});\n",
              "          if (!dataTable) return;\n",
              "\n",
              "          const docLinkHtml = 'Like what you see? Visit the ' +\n",
              "            '<a target=\"_blank\" href=https://colab.research.google.com/notebooks/data_table.ipynb>data table notebook</a>'\n",
              "            + ' to learn more about interactive tables.';\n",
              "          element.innerHTML = '';\n",
              "          dataTable['output_type'] = 'display_data';\n",
              "          await google.colab.output.renderOutput(dataTable, element);\n",
              "          const docLink = document.createElement('div');\n",
              "          docLink.innerHTML = docLinkHtml;\n",
              "          element.appendChild(docLink);\n",
              "        }\n",
              "      </script>\n",
              "    </div>\n",
              "  </div>\n",
              "  "
            ]
          },
          "metadata": {},
          "execution_count": 15
        }
      ]
    },
    {
      "cell_type": "code",
      "source": [
        "cek_no_yes_max = dataset_train.groupby(by=[\"age\", \"job\", \"marital\", \"education\", \"balance\", \"housing\", \"loan\", \"month\" , \"duration\"])[\"y\"].value_counts().unstack().reset_index()"
      ],
      "metadata": {
        "id": "DbOxilfog-4k"
      },
      "execution_count": 16,
      "outputs": []
    },
    {
      "cell_type": "code",
      "source": [
        "cek_no_yes_max.loc[cek_no_yes_max['no'].ge(1.0) &cek_no_yes_max['yes'].ge(1.0)]"
      ],
      "metadata": {
        "colab": {
          "base_uri": "https://localhost:8080/",
          "height": 0
        },
        "id": "h5207phn71DR",
        "outputId": "3afdaf76-531c-4d3c-c205-7d1d391031b4"
      },
      "execution_count": 17,
      "outputs": [
        {
          "output_type": "execute_result",
          "data": {
            "text/plain": [
              "Empty DataFrame\n",
              "Columns: [age, job, marital, education, balance, housing, loan, month, duration, no, yes]\n",
              "Index: []"
            ],
            "text/html": [
              "\n",
              "  <div id=\"df-e3dc668d-80db-4c90-b4c6-34e04d6b10e7\">\n",
              "    <div class=\"colab-df-container\">\n",
              "      <div>\n",
              "<style scoped>\n",
              "    .dataframe tbody tr th:only-of-type {\n",
              "        vertical-align: middle;\n",
              "    }\n",
              "\n",
              "    .dataframe tbody tr th {\n",
              "        vertical-align: top;\n",
              "    }\n",
              "\n",
              "    .dataframe thead th {\n",
              "        text-align: right;\n",
              "    }\n",
              "</style>\n",
              "<table border=\"1\" class=\"dataframe\">\n",
              "  <thead>\n",
              "    <tr style=\"text-align: right;\">\n",
              "      <th>y</th>\n",
              "      <th>age</th>\n",
              "      <th>job</th>\n",
              "      <th>marital</th>\n",
              "      <th>education</th>\n",
              "      <th>balance</th>\n",
              "      <th>housing</th>\n",
              "      <th>loan</th>\n",
              "      <th>month</th>\n",
              "      <th>duration</th>\n",
              "      <th>no</th>\n",
              "      <th>yes</th>\n",
              "    </tr>\n",
              "  </thead>\n",
              "  <tbody>\n",
              "  </tbody>\n",
              "</table>\n",
              "</div>\n",
              "      <button class=\"colab-df-convert\" onclick=\"convertToInteractive('df-e3dc668d-80db-4c90-b4c6-34e04d6b10e7')\"\n",
              "              title=\"Convert this dataframe to an interactive table.\"\n",
              "              style=\"display:none;\">\n",
              "        \n",
              "  <svg xmlns=\"http://www.w3.org/2000/svg\" height=\"24px\"viewBox=\"0 0 24 24\"\n",
              "       width=\"24px\">\n",
              "    <path d=\"M0 0h24v24H0V0z\" fill=\"none\"/>\n",
              "    <path d=\"M18.56 5.44l.94 2.06.94-2.06 2.06-.94-2.06-.94-.94-2.06-.94 2.06-2.06.94zm-11 1L8.5 8.5l.94-2.06 2.06-.94-2.06-.94L8.5 2.5l-.94 2.06-2.06.94zm10 10l.94 2.06.94-2.06 2.06-.94-2.06-.94-.94-2.06-.94 2.06-2.06.94z\"/><path d=\"M17.41 7.96l-1.37-1.37c-.4-.4-.92-.59-1.43-.59-.52 0-1.04.2-1.43.59L10.3 9.45l-7.72 7.72c-.78.78-.78 2.05 0 2.83L4 21.41c.39.39.9.59 1.41.59.51 0 1.02-.2 1.41-.59l7.78-7.78 2.81-2.81c.8-.78.8-2.07 0-2.86zM5.41 20L4 18.59l7.72-7.72 1.47 1.35L5.41 20z\"/>\n",
              "  </svg>\n",
              "      </button>\n",
              "      \n",
              "  <style>\n",
              "    .colab-df-container {\n",
              "      display:flex;\n",
              "      flex-wrap:wrap;\n",
              "      gap: 12px;\n",
              "    }\n",
              "\n",
              "    .colab-df-convert {\n",
              "      background-color: #E8F0FE;\n",
              "      border: none;\n",
              "      border-radius: 50%;\n",
              "      cursor: pointer;\n",
              "      display: none;\n",
              "      fill: #1967D2;\n",
              "      height: 32px;\n",
              "      padding: 0 0 0 0;\n",
              "      width: 32px;\n",
              "    }\n",
              "\n",
              "    .colab-df-convert:hover {\n",
              "      background-color: #E2EBFA;\n",
              "      box-shadow: 0px 1px 2px rgba(60, 64, 67, 0.3), 0px 1px 3px 1px rgba(60, 64, 67, 0.15);\n",
              "      fill: #174EA6;\n",
              "    }\n",
              "\n",
              "    [theme=dark] .colab-df-convert {\n",
              "      background-color: #3B4455;\n",
              "      fill: #D2E3FC;\n",
              "    }\n",
              "\n",
              "    [theme=dark] .colab-df-convert:hover {\n",
              "      background-color: #434B5C;\n",
              "      box-shadow: 0px 1px 3px 1px rgba(0, 0, 0, 0.15);\n",
              "      filter: drop-shadow(0px 1px 2px rgba(0, 0, 0, 0.3));\n",
              "      fill: #FFFFFF;\n",
              "    }\n",
              "  </style>\n",
              "\n",
              "      <script>\n",
              "        const buttonEl =\n",
              "          document.querySelector('#df-e3dc668d-80db-4c90-b4c6-34e04d6b10e7 button.colab-df-convert');\n",
              "        buttonEl.style.display =\n",
              "          google.colab.kernel.accessAllowed ? 'block' : 'none';\n",
              "\n",
              "        async function convertToInteractive(key) {\n",
              "          const element = document.querySelector('#df-e3dc668d-80db-4c90-b4c6-34e04d6b10e7');\n",
              "          const dataTable =\n",
              "            await google.colab.kernel.invokeFunction('convertToInteractive',\n",
              "                                                     [key], {});\n",
              "          if (!dataTable) return;\n",
              "\n",
              "          const docLinkHtml = 'Like what you see? Visit the ' +\n",
              "            '<a target=\"_blank\" href=https://colab.research.google.com/notebooks/data_table.ipynb>data table notebook</a>'\n",
              "            + ' to learn more about interactive tables.';\n",
              "          element.innerHTML = '';\n",
              "          dataTable['output_type'] = 'display_data';\n",
              "          await google.colab.output.renderOutput(dataTable, element);\n",
              "          const docLink = document.createElement('div');\n",
              "          docLink.innerHTML = docLinkHtml;\n",
              "          element.appendChild(docLink);\n",
              "        }\n",
              "      </script>\n",
              "    </div>\n",
              "  </div>\n",
              "  "
            ]
          },
          "metadata": {},
          "execution_count": 17
        }
      ]
    },
    {
      "cell_type": "markdown",
      "source": [
        "##Data Preprocessing"
      ],
      "metadata": {
        "id": "p-QBTSuHBNk1"
      }
    },
    {
      "cell_type": "markdown",
      "source": [
        "mengubah column y, dengan nilai 0 menunjukan *NO* dan nilai 1 menunjukan *YES*"
      ],
      "metadata": {
        "id": "kQcO2hcxb3wL"
      }
    },
    {
      "cell_type": "code",
      "source": [
        "dataset_train['target'] = dataset_train.loc[:, 'y'].apply(lambda x : 0 if x == \"no\" else 1)\n",
        "\n",
        "dataset_train.drop(columns=[\"default\", \"contact\",\t\"day\", \"campaign\",\t\"pdays\",\t\"previous\", \"poutcome\", \"y\"], inplace=True)"
      ],
      "metadata": {
        "id": "ceeYHVHBbxnX"
      },
      "execution_count": 18,
      "outputs": []
    },
    {
      "cell_type": "code",
      "source": [
        "dataset_test['target'] = dataset_test.loc[:, 'y'].apply(lambda x : 0 if x == \"no\" else 1)\n",
        "\n",
        "dataset_test.drop(columns=[\"default\", \"contact\",\t\"day\", \"campaign\",\t\"pdays\",\t\"previous\", \"poutcome\", \"y\"], inplace=True)"
      ],
      "metadata": {
        "id": "Agv02-YRmL8O"
      },
      "execution_count": 19,
      "outputs": []
    },
    {
      "cell_type": "markdown",
      "source": [
        "dataset train ini merupakan dataframe pandas, split data train dengan ratio 80:20 . 20 % untuk validasi"
      ],
      "metadata": {
        "id": "-Vnal1UbHcZY"
      }
    },
    {
      "cell_type": "code",
      "source": [
        "train, val = dataframe_split(dataset_train, ratio = 0.2, shuffle=1)"
      ],
      "metadata": {
        "id": "rt2ZWTYzeWzv"
      },
      "execution_count": 20,
      "outputs": []
    },
    {
      "cell_type": "code",
      "source": [
        "print(len(train), 'training examples')\n",
        "print(len(val), 'validation examples')"
      ],
      "metadata": {
        "colab": {
          "base_uri": "https://localhost:8080/"
        },
        "id": "PVFwlMDWH8Dl",
        "outputId": "282a8eb7-5289-40f4-c0e7-cf807acfa491"
      },
      "execution_count": 21,
      "outputs": [
        {
          "output_type": "stream",
          "name": "stdout",
          "text": [
            "36169 training examples\n",
            "9042 validation examples\n"
          ]
        }
      ]
    },
    {
      "cell_type": "markdown",
      "source": [
        "membuat dataset"
      ],
      "metadata": {
        "id": "0VcaVe4Olf3u"
      }
    },
    {
      "cell_type": "code",
      "source": [
        "batch_size = 128\n",
        "\n",
        "train_ds = dataframe_to_dataset(train, batch_size=batch_size)\n",
        "val_ds = dataframe_to_dataset(val, batch_size=batch_size)\n",
        "test_ds = dataframe_to_dataset(dataset_test, batch_size=batch_size)"
      ],
      "metadata": {
        "id": "G2yhdthoLmol"
      },
      "execution_count": 22,
      "outputs": []
    },
    {
      "cell_type": "markdown",
      "source": [
        "cek data"
      ],
      "metadata": {
        "id": "Q6RnUThrljIL"
      }
    },
    {
      "cell_type": "code",
      "source": [
        "[(train_features, label_batch)] = train_ds.take(1)\n",
        "print('Every feature:', list(train_features.keys()))\n",
        "print('A batch of marital:', train_features['job'])\n",
        "print('A batch of targets:', label_batch )"
      ],
      "metadata": {
        "colab": {
          "base_uri": "https://localhost:8080/"
        },
        "id": "VptefnlDM1VA",
        "outputId": "79cc4e2c-981d-4a97-8101-bb17ad518dc1"
      },
      "execution_count": 23,
      "outputs": [
        {
          "output_type": "stream",
          "name": "stdout",
          "text": [
            "Every feature: ['age', 'job', 'marital', 'education', 'balance', 'housing', 'loan', 'month', 'duration']\n",
            "A batch of marital: tf.Tensor(\n",
            "[[b'housemaid']\n",
            " [b'unemployed']\n",
            " [b'services']\n",
            " [b'blue-collar']\n",
            " [b'student']\n",
            " [b'admin.']\n",
            " [b'management']\n",
            " [b'blue-collar']\n",
            " [b'blue-collar']\n",
            " [b'admin.']\n",
            " [b'blue-collar']\n",
            " [b'entrepreneur']\n",
            " [b'technician']\n",
            " [b'blue-collar']\n",
            " [b'management']\n",
            " [b'technician']\n",
            " [b'management']\n",
            " [b'admin.']\n",
            " [b'services']\n",
            " [b'technician']\n",
            " [b'blue-collar']\n",
            " [b'technician']\n",
            " [b'technician']\n",
            " [b'retired']\n",
            " [b'services']\n",
            " [b'management']\n",
            " [b'technician']\n",
            " [b'blue-collar']\n",
            " [b'admin.']\n",
            " [b'retired']\n",
            " [b'blue-collar']\n",
            " [b'blue-collar']\n",
            " [b'management']\n",
            " [b'entrepreneur']\n",
            " [b'blue-collar']\n",
            " [b'housemaid']\n",
            " [b'technician']\n",
            " [b'services']\n",
            " [b'management']\n",
            " [b'services']\n",
            " [b'technician']\n",
            " [b'blue-collar']\n",
            " [b'blue-collar']\n",
            " [b'management']\n",
            " [b'technician']\n",
            " [b'blue-collar']\n",
            " [b'management']\n",
            " [b'services']\n",
            " [b'technician']\n",
            " [b'unemployed']\n",
            " [b'technician']\n",
            " [b'self-employed']\n",
            " [b'services']\n",
            " [b'technician']\n",
            " [b'management']\n",
            " [b'self-employed']\n",
            " [b'management']\n",
            " [b'unknown']\n",
            " [b'admin.']\n",
            " [b'management']\n",
            " [b'admin.']\n",
            " [b'management']\n",
            " [b'admin.']\n",
            " [b'management']\n",
            " [b'management']\n",
            " [b'blue-collar']\n",
            " [b'blue-collar']\n",
            " [b'management']\n",
            " [b'blue-collar']\n",
            " [b'blue-collar']\n",
            " [b'retired']\n",
            " [b'management']\n",
            " [b'services']\n",
            " [b'blue-collar']\n",
            " [b'admin.']\n",
            " [b'blue-collar']\n",
            " [b'blue-collar']\n",
            " [b'admin.']\n",
            " [b'blue-collar']\n",
            " [b'management']\n",
            " [b'self-employed']\n",
            " [b'admin.']\n",
            " [b'blue-collar']\n",
            " [b'management']\n",
            " [b'technician']\n",
            " [b'retired']\n",
            " [b'management']\n",
            " [b'technician']\n",
            " [b'services']\n",
            " [b'management']\n",
            " [b'unknown']\n",
            " [b'blue-collar']\n",
            " [b'blue-collar']\n",
            " [b'blue-collar']\n",
            " [b'management']\n",
            " [b'blue-collar']\n",
            " [b'blue-collar']\n",
            " [b'management']\n",
            " [b'student']\n",
            " [b'management']\n",
            " [b'technician']\n",
            " [b'blue-collar']\n",
            " [b'management']\n",
            " [b'unemployed']\n",
            " [b'management']\n",
            " [b'admin.']\n",
            " [b'technician']\n",
            " [b'technician']\n",
            " [b'blue-collar']\n",
            " [b'admin.']\n",
            " [b'retired']\n",
            " [b'blue-collar']\n",
            " [b'housemaid']\n",
            " [b'technician']\n",
            " [b'blue-collar']\n",
            " [b'blue-collar']\n",
            " [b'retired']\n",
            " [b'blue-collar']\n",
            " [b'services']\n",
            " [b'technician']\n",
            " [b'blue-collar']\n",
            " [b'admin.']\n",
            " [b'unemployed']\n",
            " [b'management']\n",
            " [b'services']\n",
            " [b'blue-collar']\n",
            " [b'management']\n",
            " [b'self-employed']], shape=(128, 1), dtype=string)\n",
            "A batch of targets: tf.Tensor(\n",
            "[0 0 0 0 1 0 0 0 0 0 0 0 0 0 0 0 0 0 0 0 0 0 0 0 0 0 0 0 0 0 0 0 0 0 0 0 0\n",
            " 0 0 0 0 0 1 1 0 0 1 0 0 0 0 0 0 0 0 0 0 0 0 1 0 0 1 0 0 0 0 1 0 0 0 0 0 0\n",
            " 0 0 0 0 0 0 0 0 1 0 0 0 1 0 0 0 0 0 0 0 0 0 0 0 1 0 1 0 0 0 0 0 0 0 0 0 0\n",
            " 0 0 0 0 1 0 0 0 0 0 0 0 0 0 0 0 0], shape=(128,), dtype=int64)\n"
          ]
        }
      ]
    },
    {
      "cell_type": "markdown",
      "source": [
        "test preprocessing"
      ],
      "metadata": {
        "id": "2moUUtUQyEj5"
      }
    },
    {
      "cell_type": "code",
      "source": [
        "test_job_col = train_features['job']\n",
        "test_job_layer = categories_preprocessing(name='job',\n",
        "                                        dataset=train_ds,\n",
        "                                        dtype='string')\n",
        "test_job_layer(test_job_col).numpy()"
      ],
      "metadata": {
        "colab": {
          "base_uri": "https://localhost:8080/"
        },
        "id": "6C16yd6jyJVY",
        "outputId": "816940bf-c567-4136-b9fa-1096e9a62620"
      },
      "execution_count": 24,
      "outputs": [
        {
          "output_type": "execute_result",
          "data": {
            "text/plain": [
              "array([[10],\n",
              "       [ 9],\n",
              "       [ 5],\n",
              "       [ 1],\n",
              "       [11],\n",
              "       [ 4],\n",
              "       [ 2],\n",
              "       [ 1],\n",
              "       [ 1],\n",
              "       [ 4],\n",
              "       [ 1],\n",
              "       [ 8],\n",
              "       [ 3],\n",
              "       [ 1],\n",
              "       [ 2],\n",
              "       [ 3],\n",
              "       [ 2],\n",
              "       [ 4],\n",
              "       [ 5],\n",
              "       [ 3],\n",
              "       [ 1],\n",
              "       [ 3],\n",
              "       [ 3],\n",
              "       [ 6],\n",
              "       [ 5],\n",
              "       [ 2],\n",
              "       [ 3],\n",
              "       [ 1],\n",
              "       [ 4],\n",
              "       [ 6],\n",
              "       [ 1],\n",
              "       [ 1],\n",
              "       [ 2],\n",
              "       [ 8],\n",
              "       [ 1],\n",
              "       [10],\n",
              "       [ 3],\n",
              "       [ 5],\n",
              "       [ 2],\n",
              "       [ 5],\n",
              "       [ 3],\n",
              "       [ 1],\n",
              "       [ 1],\n",
              "       [ 2],\n",
              "       [ 3],\n",
              "       [ 1],\n",
              "       [ 2],\n",
              "       [ 5],\n",
              "       [ 3],\n",
              "       [ 9],\n",
              "       [ 3],\n",
              "       [ 7],\n",
              "       [ 5],\n",
              "       [ 3],\n",
              "       [ 2],\n",
              "       [ 7],\n",
              "       [ 2],\n",
              "       [12],\n",
              "       [ 4],\n",
              "       [ 2],\n",
              "       [ 4],\n",
              "       [ 2],\n",
              "       [ 4],\n",
              "       [ 2],\n",
              "       [ 2],\n",
              "       [ 1],\n",
              "       [ 1],\n",
              "       [ 2],\n",
              "       [ 1],\n",
              "       [ 1],\n",
              "       [ 6],\n",
              "       [ 2],\n",
              "       [ 5],\n",
              "       [ 1],\n",
              "       [ 4],\n",
              "       [ 1],\n",
              "       [ 1],\n",
              "       [ 4],\n",
              "       [ 1],\n",
              "       [ 2],\n",
              "       [ 7],\n",
              "       [ 4],\n",
              "       [ 1],\n",
              "       [ 2],\n",
              "       [ 3],\n",
              "       [ 6],\n",
              "       [ 2],\n",
              "       [ 3],\n",
              "       [ 5],\n",
              "       [ 2],\n",
              "       [12],\n",
              "       [ 1],\n",
              "       [ 1],\n",
              "       [ 1],\n",
              "       [ 2],\n",
              "       [ 1],\n",
              "       [ 1],\n",
              "       [ 2],\n",
              "       [11],\n",
              "       [ 2],\n",
              "       [ 3],\n",
              "       [ 1],\n",
              "       [ 2],\n",
              "       [ 9],\n",
              "       [ 2],\n",
              "       [ 4],\n",
              "       [ 3],\n",
              "       [ 3],\n",
              "       [ 1],\n",
              "       [ 4],\n",
              "       [ 6],\n",
              "       [ 1],\n",
              "       [10],\n",
              "       [ 3],\n",
              "       [ 1],\n",
              "       [ 1],\n",
              "       [ 6],\n",
              "       [ 1],\n",
              "       [ 5],\n",
              "       [ 3],\n",
              "       [ 1],\n",
              "       [ 4],\n",
              "       [ 9],\n",
              "       [ 2],\n",
              "       [ 5],\n",
              "       [ 1],\n",
              "       [ 2],\n",
              "       [ 7]])"
            ]
          },
          "metadata": {},
          "execution_count": 24
        }
      ]
    },
    {
      "cell_type": "code",
      "source": [
        "test_duration_col = train_features['duration']\n",
        "test_duration_layer = numeric_preprocessing(name='duration',\n",
        "                                            dataset=train_ds,\n",
        "                                            num_bins=32)\n",
        "test_duration_layer(test_duration_col)"
      ],
      "metadata": {
        "colab": {
          "base_uri": "https://localhost:8080/"
        },
        "id": "R6N2tN4byZ8D",
        "outputId": "5ed1fe54-2b46-4640-e329-3e53435c726a"
      },
      "execution_count": 25,
      "outputs": [
        {
          "output_type": "execute_result",
          "data": {
            "text/plain": [
              "<tf.Tensor: shape=(128, 1), dtype=int64, numpy=\n",
              "array([[17],\n",
              "       [ 6],\n",
              "       [16],\n",
              "       [16],\n",
              "       [26],\n",
              "       [ 3],\n",
              "       [ 0],\n",
              "       [ 3],\n",
              "       [11],\n",
              "       [ 0],\n",
              "       [ 3],\n",
              "       [20],\n",
              "       [20],\n",
              "       [ 0],\n",
              "       [ 8],\n",
              "       [ 5],\n",
              "       [ 6],\n",
              "       [10],\n",
              "       [ 5],\n",
              "       [ 2],\n",
              "       [22],\n",
              "       [ 7],\n",
              "       [27],\n",
              "       [ 5],\n",
              "       [22],\n",
              "       [ 1],\n",
              "       [11],\n",
              "       [ 9],\n",
              "       [ 5],\n",
              "       [ 0],\n",
              "       [14],\n",
              "       [21],\n",
              "       [29],\n",
              "       [29],\n",
              "       [19],\n",
              "       [14],\n",
              "       [14],\n",
              "       [ 8],\n",
              "       [ 6],\n",
              "       [15],\n",
              "       [27],\n",
              "       [12],\n",
              "       [31],\n",
              "       [18],\n",
              "       [ 7],\n",
              "       [21],\n",
              "       [31],\n",
              "       [14],\n",
              "       [ 0],\n",
              "       [31],\n",
              "       [30],\n",
              "       [11],\n",
              "       [ 8],\n",
              "       [29],\n",
              "       [ 6],\n",
              "       [30],\n",
              "       [15],\n",
              "       [ 0],\n",
              "       [11],\n",
              "       [21],\n",
              "       [21],\n",
              "       [ 2],\n",
              "       [31],\n",
              "       [ 6],\n",
              "       [28],\n",
              "       [12],\n",
              "       [28],\n",
              "       [27],\n",
              "       [12],\n",
              "       [ 8],\n",
              "       [ 6],\n",
              "       [ 6],\n",
              "       [17],\n",
              "       [ 4],\n",
              "       [27],\n",
              "       [20],\n",
              "       [ 5],\n",
              "       [ 7],\n",
              "       [25],\n",
              "       [ 3],\n",
              "       [14],\n",
              "       [14],\n",
              "       [31],\n",
              "       [ 5],\n",
              "       [26],\n",
              "       [13],\n",
              "       [31],\n",
              "       [11],\n",
              "       [ 0],\n",
              "       [10],\n",
              "       [ 4],\n",
              "       [16],\n",
              "       [ 2],\n",
              "       [13],\n",
              "       [19],\n",
              "       [ 0],\n",
              "       [ 4],\n",
              "       [30],\n",
              "       [26],\n",
              "       [25],\n",
              "       [29],\n",
              "       [ 0],\n",
              "       [23],\n",
              "       [28],\n",
              "       [29],\n",
              "       [23],\n",
              "       [ 0],\n",
              "       [ 6],\n",
              "       [ 0],\n",
              "       [16],\n",
              "       [23],\n",
              "       [17],\n",
              "       [ 1],\n",
              "       [18],\n",
              "       [ 0],\n",
              "       [30],\n",
              "       [11],\n",
              "       [22],\n",
              "       [ 8],\n",
              "       [31],\n",
              "       [28],\n",
              "       [16],\n",
              "       [10],\n",
              "       [ 2],\n",
              "       [12],\n",
              "       [15],\n",
              "       [ 0],\n",
              "       [ 4]])>"
            ]
          },
          "metadata": {},
          "execution_count": 25
        }
      ]
    },
    {
      "cell_type": "markdown",
      "source": [
        "membagikan column berdasarkan numeric atau categorical integer atau string"
      ],
      "metadata": {
        "id": "c19rHREvlsAr"
      }
    },
    {
      "cell_type": "code",
      "source": [
        "numeric_keys = [\"age\", \"balance\", \"duration\"]\n",
        "categorical_integer_keys = [\"age\"]\n",
        "categorical_string_keys = [\"job\", \"marital\", \"education\", \"housing\", \"loan\", \"month\"]\n",
        "all_inputs = []\n",
        "all_preprocessors = []"
      ],
      "metadata": {
        "id": "Hl5BaK0S9Xb1"
      },
      "execution_count": 26,
      "outputs": []
    },
    {
      "cell_type": "code",
      "source": [
        "for numeric in numeric_keys:\n",
        "  input = tf.keras.Input(shape=(1,), name=numeric, dtype=\"int64\")\n",
        "  num_layer = numeric_preprocessing(name=numeric, dataset=train_ds, num_bins=32)\n",
        "  num_preprocessor = num_layer(input)\n",
        "  all_inputs.append(input)\n",
        "  all_preprocessors.append(num_preprocessor)"
      ],
      "metadata": {
        "id": "n44nM94XQ4po"
      },
      "execution_count": 27,
      "outputs": []
    },
    {
      "cell_type": "code",
      "source": [
        "for categorical in categorical_string_keys:\n",
        "  input = tf.keras.Input(shape=(1,), name=categorical, dtype=\"string\")\n",
        "  cat_layer = categories_preprocessing(name=categorical, dataset=train_ds, dtype=\"string\")\n",
        "  cat_preprocessor = cat_layer(input)\n",
        "  all_inputs.append(input)\n",
        "  all_preprocessors.append(cat_preprocessor)"
      ],
      "metadata": {
        "id": "uZp_YEXgUlZc"
      },
      "execution_count": 28,
      "outputs": []
    },
    {
      "cell_type": "code",
      "source": [
        "all_inputs, all_preprocessors"
      ],
      "metadata": {
        "colab": {
          "base_uri": "https://localhost:8080/"
        },
        "id": "dBp7suJaVeg8",
        "outputId": "62fc2eb6-726f-4b5b-86ea-6e561877f81a"
      },
      "execution_count": 29,
      "outputs": [
        {
          "output_type": "execute_result",
          "data": {
            "text/plain": [
              "([<KerasTensor: shape=(None, 1) dtype=int64 (created by layer 'age')>,\n",
              "  <KerasTensor: shape=(None, 1) dtype=int64 (created by layer 'balance')>,\n",
              "  <KerasTensor: shape=(None, 1) dtype=int64 (created by layer 'duration')>,\n",
              "  <KerasTensor: shape=(None, 1) dtype=string (created by layer 'job')>,\n",
              "  <KerasTensor: shape=(None, 1) dtype=string (created by layer 'marital')>,\n",
              "  <KerasTensor: shape=(None, 1) dtype=string (created by layer 'education')>,\n",
              "  <KerasTensor: shape=(None, 1) dtype=string (created by layer 'housing')>,\n",
              "  <KerasTensor: shape=(None, 1) dtype=string (created by layer 'loan')>,\n",
              "  <KerasTensor: shape=(None, 1) dtype=string (created by layer 'month')>],\n",
              " [<KerasTensor: shape=(None, 1) dtype=int64 (created by layer 'discretization_1')>,\n",
              "  <KerasTensor: shape=(None, 1) dtype=int64 (created by layer 'discretization_2')>,\n",
              "  <KerasTensor: shape=(None, 1) dtype=int64 (created by layer 'discretization_3')>,\n",
              "  <KerasTensor: shape=(None, 1) dtype=int64 (created by layer 'string_lookup_1')>,\n",
              "  <KerasTensor: shape=(None, 1) dtype=int64 (created by layer 'string_lookup_2')>,\n",
              "  <KerasTensor: shape=(None, 1) dtype=int64 (created by layer 'string_lookup_3')>,\n",
              "  <KerasTensor: shape=(None, 1) dtype=int64 (created by layer 'string_lookup_4')>,\n",
              "  <KerasTensor: shape=(None, 1) dtype=int64 (created by layer 'string_lookup_5')>,\n",
              "  <KerasTensor: shape=(None, 1) dtype=int64 (created by layer 'string_lookup_6')>])"
            ]
          },
          "metadata": {},
          "execution_count": 29
        }
      ]
    },
    {
      "cell_type": "markdown",
      "source": [
        "##Model"
      ],
      "metadata": {
        "id": "0w9VerxWVw43"
      }
    },
    {
      "cell_type": "code",
      "source": [
        "all_features = tf.keras.layers.concatenate(all_preprocessors)\n",
        "# x = tf.keras.layers.Normalization()(all_features)\n",
        "# x = tf.keras.layers.Dense(128, activation=tf.keras.activations.relu)(x)\n",
        "# x = tf.keras.layers.Dropout(0.2)(x)\n",
        "# x = tf.keras.layers.Dense(64, activation=tf.keras.activations.relu)(x)\n",
        "# x = tf.keras.layers.Dropout(0.2)(x)\n",
        "# output = tf.keras.layers.Dense(1, activation=tf.keras.activations.sigmoid)(x)\n",
        "\n",
        "x = tf.keras.layers.Embedding(input_dim=128, output_dim=128)(all_features)\n",
        "x = tf.keras.layers.Conv1D(8, kernel_size=(3), padding=\"same\", activation=tf.keras.activations.relu)(x)\n",
        "x = tf.keras.layers.MaxPool1D()(x)\n",
        "x = tf.keras.layers.Conv1D(16,  kernel_size=(3), padding=\"same\" , activation=tf.keras.activations.relu)(x)\n",
        "x = tf.keras.layers.MaxPool1D()(x)\n",
        "x = tf.keras.layers.Conv1D(32,  kernel_size=(3), padding=\"same\", activation=tf.keras.activations.relu)(x)\n",
        "x = tf.keras.layers.MaxPool1D()(x)\n",
        "x = tf.keras.layers.Dropout(0.3)(x)\n",
        "x = tf.keras.layers.Flatten()(x)\n",
        "x = tf.keras.layers.Dense(128, activation=tf.keras.activations.relu)(x)\n",
        "x = tf.keras.layers.Dense(64, activation=tf.keras.activations.relu)(x)\n",
        "output = tf.keras.layers.Dense(1, activation=tf.keras.activations.sigmoid)(x)\n",
        "\n",
        "model = tf.keras.Model(all_inputs, output)"
      ],
      "metadata": {
        "id": "Kq0jZyrzVwJT"
      },
      "execution_count": 42,
      "outputs": []
    },
    {
      "cell_type": "code",
      "source": [
        "# Use `rankdir='LR'` to make the graph horizontal.\n",
        "tf.keras.utils.plot_model(model, show_shapes=True, rankdir=\"LR\")"
      ],
      "metadata": {
        "colab": {
          "base_uri": "https://localhost:8080/",
          "height": 427
        },
        "id": "yOHa8_s5d49g",
        "outputId": "c5f6168a-47b0-47bf-8929-adc3b05a01f2"
      },
      "execution_count": 43,
      "outputs": [
        {
          "output_type": "execute_result",
          "data": {
            "text/plain": [
              "<IPython.core.display.Image object>"
            ],
            "image/png": "[encoded data removed]"
          },
          "metadata": {},
          "execution_count": 43
        }
      ]
    },
    {
      "cell_type": "code",
      "source": [
        "model.compile(optimizer=tf.keras.optimizers.Adam(),\n",
        "              loss=tf.keras.losses.BinaryCrossentropy(),\n",
        "              metrics=['accuracy'])"
      ],
      "metadata": {
        "id": "8ohLUpvQdMsH"
      },
      "execution_count": 44,
      "outputs": []
    },
    {
      "cell_type": "code",
      "source": [
        "history = model.fit(train_ds, epochs=50, validation_data=val_ds)"
      ],
      "metadata": {
        "colab": {
          "base_uri": "https://localhost:8080/"
        },
        "id": "3XgJ1yhqeOMb",
        "outputId": "4c9e2516-fca2-4914-ee1b-7d26062654c3"
      },
      "execution_count": 45,
      "outputs": [
        {
          "output_type": "stream",
          "name": "stdout",
          "text": [
            "Epoch 1/50\n",
            "283/283 [==============================] - 11s 23ms/step - loss: 0.3146 - accuracy: 0.8807 - val_loss: 0.2590 - val_accuracy: 0.8875\n",
            "Epoch 2/50\n",
            "283/283 [==============================] - 6s 20ms/step - loss: 0.2547 - accuracy: 0.8876 - val_loss: 0.2489 - val_accuracy: 0.8927\n",
            "Epoch 3/50\n",
            "283/283 [==============================] - 3s 12ms/step - loss: 0.2471 - accuracy: 0.8901 - val_loss: 0.2466 - val_accuracy: 0.8929\n",
            "Epoch 4/50\n",
            "283/283 [==============================] - 3s 12ms/step - loss: 0.2443 - accuracy: 0.8921 - val_loss: 0.2491 - val_accuracy: 0.8927\n",
            "Epoch 5/50\n",
            "283/283 [==============================] - 3s 12ms/step - loss: 0.2420 - accuracy: 0.8926 - val_loss: 0.2470 - val_accuracy: 0.8934\n",
            "Epoch 6/50\n",
            "283/283 [==============================] - 3s 12ms/step - loss: 0.2406 - accuracy: 0.8937 - val_loss: 0.2454 - val_accuracy: 0.8937\n",
            "Epoch 7/50\n",
            "283/283 [==============================] - 3s 12ms/step - loss: 0.2389 - accuracy: 0.8949 - val_loss: 0.2469 - val_accuracy: 0.8946\n",
            "Epoch 8/50\n",
            "283/283 [==============================] - 3s 12ms/step - loss: 0.2365 - accuracy: 0.8949 - val_loss: 0.2444 - val_accuracy: 0.8963\n",
            "Epoch 9/50\n",
            "283/283 [==============================] - 3s 11ms/step - loss: 0.2365 - accuracy: 0.8959 - val_loss: 0.2444 - val_accuracy: 0.8970\n",
            "Epoch 10/50\n",
            "283/283 [==============================] - 3s 11ms/step - loss: 0.2356 - accuracy: 0.8957 - val_loss: 0.2478 - val_accuracy: 0.8960\n",
            "Epoch 11/50\n",
            "283/283 [==============================] - 3s 11ms/step - loss: 0.2342 - accuracy: 0.8963 - val_loss: 0.2474 - val_accuracy: 0.8954\n",
            "Epoch 12/50\n",
            "283/283 [==============================] - 3s 11ms/step - loss: 0.2332 - accuracy: 0.8957 - val_loss: 0.2468 - val_accuracy: 0.8960\n",
            "Epoch 13/50\n",
            "283/283 [==============================] - 3s 11ms/step - loss: 0.2332 - accuracy: 0.8962 - val_loss: 0.2479 - val_accuracy: 0.8959\n",
            "Epoch 14/50\n",
            "283/283 [==============================] - 3s 11ms/step - loss: 0.2326 - accuracy: 0.8965 - val_loss: 0.2478 - val_accuracy: 0.8963\n",
            "Epoch 15/50\n",
            "283/283 [==============================] - 3s 11ms/step - loss: 0.2315 - accuracy: 0.8963 - val_loss: 0.2491 - val_accuracy: 0.8939\n",
            "Epoch 16/50\n",
            "283/283 [==============================] - 3s 12ms/step - loss: 0.2305 - accuracy: 0.8975 - val_loss: 0.2495 - val_accuracy: 0.8964\n",
            "Epoch 17/50\n",
            "283/283 [==============================] - 3s 12ms/step - loss: 0.2302 - accuracy: 0.8975 - val_loss: 0.2505 - val_accuracy: 0.8947\n",
            "Epoch 18/50\n",
            "283/283 [==============================] - 3s 12ms/step - loss: 0.2287 - accuracy: 0.8981 - val_loss: 0.2514 - val_accuracy: 0.8922\n",
            "Epoch 19/50\n",
            "283/283 [==============================] - 3s 12ms/step - loss: 0.2287 - accuracy: 0.8963 - val_loss: 0.2488 - val_accuracy: 0.8943\n",
            "Epoch 20/50\n",
            "283/283 [==============================] - 3s 12ms/step - loss: 0.2279 - accuracy: 0.8981 - val_loss: 0.2503 - val_accuracy: 0.8958\n",
            "Epoch 21/50\n",
            "283/283 [==============================] - 3s 12ms/step - loss: 0.2274 - accuracy: 0.8974 - val_loss: 0.2512 - val_accuracy: 0.8950\n",
            "Epoch 22/50\n",
            "283/283 [==============================] - 3s 12ms/step - loss: 0.2268 - accuracy: 0.8982 - val_loss: 0.2505 - val_accuracy: 0.8943\n",
            "Epoch 23/50\n",
            "283/283 [==============================] - 4s 14ms/step - loss: 0.2259 - accuracy: 0.8989 - val_loss: 0.2479 - val_accuracy: 0.8943\n",
            "Epoch 24/50\n",
            "283/283 [==============================] - 3s 12ms/step - loss: 0.2257 - accuracy: 0.8987 - val_loss: 0.2499 - val_accuracy: 0.8947\n",
            "Epoch 25/50\n",
            "283/283 [==============================] - 3s 11ms/step - loss: 0.2252 - accuracy: 0.8986 - val_loss: 0.2479 - val_accuracy: 0.8921\n",
            "Epoch 26/50\n",
            "283/283 [==============================] - 3s 11ms/step - loss: 0.2238 - accuracy: 0.8999 - val_loss: 0.2496 - val_accuracy: 0.8938\n",
            "Epoch 27/50\n",
            "283/283 [==============================] - 3s 12ms/step - loss: 0.2245 - accuracy: 0.8983 - val_loss: 0.2519 - val_accuracy: 0.8943\n",
            "Epoch 28/50\n",
            "283/283 [==============================] - 3s 12ms/step - loss: 0.2231 - accuracy: 0.8995 - val_loss: 0.2490 - val_accuracy: 0.8939\n",
            "Epoch 29/50\n",
            "283/283 [==============================] - 3s 11ms/step - loss: 0.2227 - accuracy: 0.9007 - val_loss: 0.2503 - val_accuracy: 0.8941\n",
            "Epoch 30/50\n",
            "283/283 [==============================] - 3s 12ms/step - loss: 0.2229 - accuracy: 0.8998 - val_loss: 0.2504 - val_accuracy: 0.8953\n",
            "Epoch 31/50\n",
            "283/283 [==============================] - 3s 12ms/step - loss: 0.2226 - accuracy: 0.8986 - val_loss: 0.2522 - val_accuracy: 0.8948\n",
            "Epoch 32/50\n",
            "283/283 [==============================] - 3s 12ms/step - loss: 0.2222 - accuracy: 0.9002 - val_loss: 0.2525 - val_accuracy: 0.8957\n",
            "Epoch 33/50\n",
            "283/283 [==============================] - 3s 12ms/step - loss: 0.2219 - accuracy: 0.9000 - val_loss: 0.2516 - val_accuracy: 0.8936\n",
            "Epoch 34/50\n",
            "283/283 [==============================] - 3s 12ms/step - loss: 0.2214 - accuracy: 0.9005 - val_loss: 0.2519 - val_accuracy: 0.8960\n",
            "Epoch 35/50\n",
            "283/283 [==============================] - 4s 12ms/step - loss: 0.2213 - accuracy: 0.8997 - val_loss: 0.2494 - val_accuracy: 0.8964\n",
            "Epoch 36/50\n",
            "283/283 [==============================] - 3s 12ms/step - loss: 0.2198 - accuracy: 0.9004 - val_loss: 0.2537 - val_accuracy: 0.8948\n",
            "Epoch 37/50\n",
            "283/283 [==============================] - 3s 12ms/step - loss: 0.2195 - accuracy: 0.9018 - val_loss: 0.2515 - val_accuracy: 0.8957\n",
            "Epoch 38/50\n",
            "283/283 [==============================] - 3s 12ms/step - loss: 0.2202 - accuracy: 0.9002 - val_loss: 0.2532 - val_accuracy: 0.8938\n",
            "Epoch 39/50\n",
            "283/283 [==============================] - 3s 12ms/step - loss: 0.2202 - accuracy: 0.9004 - val_loss: 0.2541 - val_accuracy: 0.8933\n",
            "Epoch 40/50\n",
            "283/283 [==============================] - 4s 12ms/step - loss: 0.2191 - accuracy: 0.9006 - val_loss: 0.2524 - val_accuracy: 0.8948\n",
            "Epoch 41/50\n",
            "283/283 [==============================] - 4s 12ms/step - loss: 0.2190 - accuracy: 0.9016 - val_loss: 0.2502 - val_accuracy: 0.8957\n",
            "Epoch 42/50\n",
            "283/283 [==============================] - 3s 12ms/step - loss: 0.2180 - accuracy: 0.9016 - val_loss: 0.2543 - val_accuracy: 0.8938\n",
            "Epoch 43/50\n",
            "283/283 [==============================] - 3s 12ms/step - loss: 0.2174 - accuracy: 0.9015 - val_loss: 0.2531 - val_accuracy: 0.8946\n",
            "Epoch 44/50\n",
            "283/283 [==============================] - 3s 12ms/step - loss: 0.2177 - accuracy: 0.9023 - val_loss: 0.2506 - val_accuracy: 0.8955\n",
            "Epoch 45/50\n",
            "283/283 [==============================] - 3s 12ms/step - loss: 0.2164 - accuracy: 0.9029 - val_loss: 0.2535 - val_accuracy: 0.8943\n",
            "Epoch 46/50\n",
            "283/283 [==============================] - 3s 12ms/step - loss: 0.2166 - accuracy: 0.9030 - val_loss: 0.2521 - val_accuracy: 0.8948\n",
            "Epoch 47/50\n",
            "283/283 [==============================] - 3s 12ms/step - loss: 0.2164 - accuracy: 0.9020 - val_loss: 0.2539 - val_accuracy: 0.8945\n",
            "Epoch 48/50\n",
            "283/283 [==============================] - 4s 13ms/step - loss: 0.2153 - accuracy: 0.9032 - val_loss: 0.2534 - val_accuracy: 0.8943\n",
            "Epoch 49/50\n",
            "283/283 [==============================] - 3s 12ms/step - loss: 0.2160 - accuracy: 0.9027 - val_loss: 0.2550 - val_accuracy: 0.8939\n",
            "Epoch 50/50\n",
            "283/283 [==============================] - 4s 13ms/step - loss: 0.2146 - accuracy: 0.9039 - val_loss: 0.2552 - val_accuracy: 0.8943\n"
          ]
        }
      ]
    },
    {
      "cell_type": "code",
      "source": [
        "metric = ['loss', 'accuracy']\n",
        "plot_metric(2,1, history, metric)"
      ],
      "metadata": {
        "id": "Gs-9MpCvtnP9",
        "outputId": "826da421-c694-44d9-e63a-49ceac93940e",
        "colab": {
          "base_uri": "https://localhost:8080/",
          "height": 279
        }
      },
      "execution_count": 46,
      "outputs": [
        {
          "output_type": "display_data",
          "data": {
            "text/plain": [
              "<Figure size 432x288 with 2 Axes>"
            ],
            "image/png": "[encoded data removed]"
          },
          "metadata": {
            "needs_background": "light"
          }
        }
      ]
    },
    {
      "cell_type": "code",
      "source": [
        "loss, accuracy = model.evaluate(test_ds)\n",
        "print(\"Accuracy\", accuracy)\n",
        "print(\"Loss\", loss)"
      ],
      "metadata": {
        "id": "tl8vJBCmpgtJ",
        "colab": {
          "base_uri": "https://localhost:8080/"
        },
        "outputId": "da870702-2699-45b9-a3c7-9920b2b2de10"
      },
      "execution_count": 47,
      "outputs": [
        {
          "output_type": "stream",
          "name": "stdout",
          "text": [
            "36/36 [==============================] - 0s 5ms/step - loss: 0.2260 - accuracy: 0.9036\n",
            "Accuracy 0.9035611748695374\n",
            "Loss 0.22604332864284515\n"
          ]
        }
      ]
    },
    {
      "cell_type": "code",
      "source": [
        "dataset_test.sort_values(by=[\"target\"], ascending=False).head()"
      ],
      "metadata": {
        "id": "QImhllBHu2zd",
        "colab": {
          "base_uri": "https://localhost:8080/",
          "height": 206
        },
        "outputId": "5216afe5-a6bc-4020-af5c-d5ed6954b28e"
      },
      "execution_count": 48,
      "outputs": [
        {
          "output_type": "execute_result",
          "data": {
            "text/plain": [
              "      age          job   marital  education  balance housing loan month  \\\n",
              "3930   51      retired  divorced  secondary     1679      no   no   aug   \n",
              "702    32   management  divorced   tertiary      874      no   no   aug   \n",
              "1876   26  blue-collar    single    primary     -887     yes   no   may   \n",
              "2865   51    housemaid  divorced  secondary     9228      no   no   jul   \n",
              "1872   34       admin.   married  secondary      247      no   no   oct   \n",
              "\n",
              "      duration  target  \n",
              "3930       417       1  \n",
              "702       1282       1  \n",
              "1876       827       1  \n",
              "2865       655       1  \n",
              "1872       401       1  "
            ],
            "text/html": [
              "\n",
              "  <div id=\"df-0082fc4f-39f0-43a9-9e90-cc078ae163c4\">\n",
              "    <div class=\"colab-df-container\">\n",
              "      <div>\n",
              "<style scoped>\n",
              "    .dataframe tbody tr th:only-of-type {\n",
              "        vertical-align: middle;\n",
              "    }\n",
              "\n",
              "    .dataframe tbody tr th {\n",
              "        vertical-align: top;\n",
              "    }\n",
              "\n",
              "    .dataframe thead th {\n",
              "        text-align: right;\n",
              "    }\n",
              "</style>\n",
              "<table border=\"1\" class=\"dataframe\">\n",
              "  <thead>\n",
              "    <tr style=\"text-align: right;\">\n",
              "      <th></th>\n",
              "      <th>age</th>\n",
              "      <th>job</th>\n",
              "      <th>marital</th>\n",
              "      <th>education</th>\n",
              "      <th>balance</th>\n",
              "      <th>housing</th>\n",
              "      <th>loan</th>\n",
              "      <th>month</th>\n",
              "      <th>duration</th>\n",
              "      <th>target</th>\n",
              "    </tr>\n",
              "  </thead>\n",
              "  <tbody>\n",
              "    <tr>\n",
              "      <th>3930</th>\n",
              "      <td>51</td>\n",
              "      <td>retired</td>\n",
              "      <td>divorced</td>\n",
              "      <td>secondary</td>\n",
              "      <td>1679</td>\n",
              "      <td>no</td>\n",
              "      <td>no</td>\n",
              "      <td>aug</td>\n",
              "      <td>417</td>\n",
              "      <td>1</td>\n",
              "    </tr>\n",
              "    <tr>\n",
              "      <th>702</th>\n",
              "      <td>32</td>\n",
              "      <td>management</td>\n",
              "      <td>divorced</td>\n",
              "      <td>tertiary</td>\n",
              "      <td>874</td>\n",
              "      <td>no</td>\n",
              "      <td>no</td>\n",
              "      <td>aug</td>\n",
              "      <td>1282</td>\n",
              "      <td>1</td>\n",
              "    </tr>\n",
              "    <tr>\n",
              "      <th>1876</th>\n",
              "      <td>26</td>\n",
              "      <td>blue-collar</td>\n",
              "      <td>single</td>\n",
              "      <td>primary</td>\n",
              "      <td>-887</td>\n",
              "      <td>yes</td>\n",
              "      <td>no</td>\n",
              "      <td>may</td>\n",
              "      <td>827</td>\n",
              "      <td>1</td>\n",
              "    </tr>\n",
              "    <tr>\n",
              "      <th>2865</th>\n",
              "      <td>51</td>\n",
              "      <td>housemaid</td>\n",
              "      <td>divorced</td>\n",
              "      <td>secondary</td>\n",
              "      <td>9228</td>\n",
              "      <td>no</td>\n",
              "      <td>no</td>\n",
              "      <td>jul</td>\n",
              "      <td>655</td>\n",
              "      <td>1</td>\n",
              "    </tr>\n",
              "    <tr>\n",
              "      <th>1872</th>\n",
              "      <td>34</td>\n",
              "      <td>admin.</td>\n",
              "      <td>married</td>\n",
              "      <td>secondary</td>\n",
              "      <td>247</td>\n",
              "      <td>no</td>\n",
              "      <td>no</td>\n",
              "      <td>oct</td>\n",
              "      <td>401</td>\n",
              "      <td>1</td>\n",
              "    </tr>\n",
              "  </tbody>\n",
              "</table>\n",
              "</div>\n",
              "      <button class=\"colab-df-convert\" onclick=\"convertToInteractive('df-0082fc4f-39f0-43a9-9e90-cc078ae163c4')\"\n",
              "              title=\"Convert this dataframe to an interactive table.\"\n",
              "              style=\"display:none;\">\n",
              "        \n",
              "  <svg xmlns=\"http://www.w3.org/2000/svg\" height=\"24px\"viewBox=\"0 0 24 24\"\n",
              "       width=\"24px\">\n",
              "    <path d=\"M0 0h24v24H0V0z\" fill=\"none\"/>\n",
              "    <path d=\"M18.56 5.44l.94 2.06.94-2.06 2.06-.94-2.06-.94-.94-2.06-.94 2.06-2.06.94zm-11 1L8.5 8.5l.94-2.06 2.06-.94-2.06-.94L8.5 2.5l-.94 2.06-2.06.94zm10 10l.94 2.06.94-2.06 2.06-.94-2.06-.94-.94-2.06-.94 2.06-2.06.94z\"/><path d=\"M17.41 7.96l-1.37-1.37c-.4-.4-.92-.59-1.43-.59-.52 0-1.04.2-1.43.59L10.3 9.45l-7.72 7.72c-.78.78-.78 2.05 0 2.83L4 21.41c.39.39.9.59 1.41.59.51 0 1.02-.2 1.41-.59l7.78-7.78 2.81-2.81c.8-.78.8-2.07 0-2.86zM5.41 20L4 18.59l7.72-7.72 1.47 1.35L5.41 20z\"/>\n",
              "  </svg>\n",
              "      </button>\n",
              "      \n",
              "  <style>\n",
              "    .colab-df-container {\n",
              "      display:flex;\n",
              "      flex-wrap:wrap;\n",
              "      gap: 12px;\n",
              "    }\n",
              "\n",
              "    .colab-df-convert {\n",
              "      background-color: #E8F0FE;\n",
              "      border: none;\n",
              "      border-radius: 50%;\n",
              "      cursor: pointer;\n",
              "      display: none;\n",
              "      fill: #1967D2;\n",
              "      height: 32px;\n",
              "      padding: 0 0 0 0;\n",
              "      width: 32px;\n",
              "    }\n",
              "\n",
              "    .colab-df-convert:hover {\n",
              "      background-color: #E2EBFA;\n",
              "      box-shadow: 0px 1px 2px rgba(60, 64, 67, 0.3), 0px 1px 3px 1px rgba(60, 64, 67, 0.15);\n",
              "      fill: #174EA6;\n",
              "    }\n",
              "\n",
              "    [theme=dark] .colab-df-convert {\n",
              "      background-color: #3B4455;\n",
              "      fill: #D2E3FC;\n",
              "    }\n",
              "\n",
              "    [theme=dark] .colab-df-convert:hover {\n",
              "      background-color: #434B5C;\n",
              "      box-shadow: 0px 1px 3px 1px rgba(0, 0, 0, 0.15);\n",
              "      filter: drop-shadow(0px 1px 2px rgba(0, 0, 0, 0.3));\n",
              "      fill: #FFFFFF;\n",
              "    }\n",
              "  </style>\n",
              "\n",
              "      <script>\n",
              "        const buttonEl =\n",
              "          document.querySelector('#df-0082fc4f-39f0-43a9-9e90-cc078ae163c4 button.colab-df-convert');\n",
              "        buttonEl.style.display =\n",
              "          google.colab.kernel.accessAllowed ? 'block' : 'none';\n",
              "\n",
              "        async function convertToInteractive(key) {\n",
              "          const element = document.querySelector('#df-0082fc4f-39f0-43a9-9e90-cc078ae163c4');\n",
              "          const dataTable =\n",
              "            await google.colab.kernel.invokeFunction('convertToInteractive',\n",
              "                                                     [key], {});\n",
              "          if (!dataTable) return;\n",
              "\n",
              "          const docLinkHtml = 'Like what you see? Visit the ' +\n",
              "            '<a target=\"_blank\" href=https://colab.research.google.com/notebooks/data_table.ipynb>data table notebook</a>'\n",
              "            + ' to learn more about interactive tables.';\n",
              "          element.innerHTML = '';\n",
              "          dataTable['output_type'] = 'display_data';\n",
              "          await google.colab.output.renderOutput(dataTable, element);\n",
              "          const docLink = document.createElement('div');\n",
              "          docLink.innerHTML = docLinkHtml;\n",
              "          element.appendChild(docLink);\n",
              "        }\n",
              "      </script>\n",
              "    </div>\n",
              "  </div>\n",
              "  "
            ]
          },
          "metadata": {},
          "execution_count": 48
        }
      ]
    },
    {
      "cell_type": "code",
      "source": [
        "sample = {\n",
        "    'age': 51,\n",
        "    'job': 'retired',\n",
        "    'marital': 'divorced',\n",
        "    'education': 'secondary',\n",
        "    'balance': 1679,\n",
        "    'housing': 'no',\n",
        "    'loan': 'no',\n",
        "    'month': 'aug',\n",
        "    'duration': 417\n",
        "}\n",
        "\n",
        "input_dict = {name: tf.convert_to_tensor([value]) for name, value in sample.items()}\n",
        "predictions = model.predict(input_dict)\n",
        "prob = tf.nn.sigmoid(predictions[0])\n",
        "\n",
        "print(\n",
        "    \"Probabilitas untuk berlangganan deposito berjangka adalah \"\n",
        "    \"of getting adopted.\" % (100 * prob)\n",
        ")\n",
        "\n",
        "print(predictions, (100 * prob))"
      ],
      "metadata": {
        "id": "EZ8ZzX-X3PgX",
        "colab": {
          "base_uri": "https://localhost:8080/"
        },
        "outputId": "25ac7840-6f83-4a2a-b76d-3988ada3cadb"
      },
      "execution_count": 49,
      "outputs": [
        {
          "output_type": "stream",
          "name": "stdout",
          "text": [
            "Probabilitas untuk berlangganan deposito berjangka adalah of getting adopted.\n",
            "[[0.35049972]] tf.Tensor([58.673878], shape=(1,), dtype=float32)\n"
          ]
        }
      ]
    }
  ]
}