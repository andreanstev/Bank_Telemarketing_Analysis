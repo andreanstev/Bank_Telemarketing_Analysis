{
  "nbformat": 4,
  "nbformat_minor": 0,
  "metadata": {
    "colab": {
      "name": "#Demo day Fintech 8.ipynb",
      "provenance": [],
      "collapsed_sections": [
        "I8sLXLmJ0YHl",
        "xNDd-nsn0bqh",
        "8nLDorXUiwIG"
      ],
      "toc_visible": true
    },
    "kernelspec": {
      "name": "python3",
      "display_name": "Python 3"
    },
    "language_info": {
      "name": "python"
    },
    "gpuClass": "standard",
    "accelerator": "GPU"
  },
  "cells": [
    {
      "cell_type": "markdown",
      "source": [
        "#Demo day Fintech 8\n",
        "\n",
        "\"Data tersebut terkait dengan kampanye pemasaran langsung dari lembaga perbankan Portugis. Kampanye pemasaran didasarkan pada panggilan telepon. Seringkali, lebih dari satu kontak ke klien yang sama diperlukan, untuk mengakses apakah produk (deposito berjangka bank) akan ('ya') atau tidak ('tidak') dilanggan oleh pelanggan atau tidak. Folder data berisi dua kumpulan data: -\n",
        "\n",
        "     train.csv: 45.211 baris dan 18 kolom diurutkan berdasarkan tanggal (dari Mei 2008 hingga November 2010)\n",
        "     test.csv: 4521 baris dan 18 kolom dengan 10% contoh (4521), dipilih secara acak dari train.csv\""
      ],
      "metadata": {
        "id": "hDbYMQhe0P1A"
      }
    },
    {
      "cell_type": "markdown",
      "source": [
        "test pull and push"
      ],
      "metadata": {
        "id": "8Hg4ZuZM0DQa"
      }
    },
    {
      "cell_type": "markdown",
      "source": [
        "##Setup"
      ],
      "metadata": {
        "id": "FVjSsPfn0VTS"
      }
    },
    {
      "cell_type": "code",
      "source": [
        "import pathlib\n",
        "import tensorflow as tf\n",
        "import zipfile\n",
        "import os\n",
        "import matplotlib.pyplot as plt\n",
        "import pandas as pd\n",
        "import numpy as np\n",
        "import seaborn as sns\n",
        "from google.colab import drive\n",
        "from google.colab import data_table\n",
        "import tensorflow as tf\n",
        "from sklearn.metrics import confusion_matrix"
      ],
      "metadata": {
        "id": "XNyPcjlfy4QW"
      },
      "execution_count": 60,
      "outputs": []
    },
    {
      "cell_type": "markdown",
      "source": [
        "##Function"
      ],
      "metadata": {
        "id": "ppsowJyTjXhT"
      }
    },
    {
      "cell_type": "markdown",
      "source": [
        "function split data"
      ],
      "metadata": {
        "id": "RGZYYbArmE3y"
      }
    },
    {
      "cell_type": "code",
      "source": [
        "def dataframe_split(data, ratio= 0.2, shuffle= 0):\n",
        "  len_ = int(len(data) - (ratio*len(data)))\n",
        "  if shuffle == 0 :\n",
        "    part_  = data.iloc[:int(1 + len_)]\n",
        "    rest_part_ = data.drop(part_.index)\n",
        "  elif shuffle == 1:\n",
        "    part_ = data.sample(frac = 1.0 - ratio)\n",
        "    rest_part_ = data.drop(part_.index)\n",
        "  return (part_, rest_part_)"
      ],
      "metadata": {
        "id": "-yhTOXNX9zG_"
      },
      "execution_count": 61,
      "outputs": []
    },
    {
      "cell_type": "markdown",
      "source": [
        "fucntion membuat dataset"
      ],
      "metadata": {
        "id": "aES7xQuXmG_-"
      }
    },
    {
      "cell_type": "code",
      "source": [
        "def dataframe_to_dataset(data, batch_size=32):\n",
        "  df = data.copy()\n",
        "  labels = df.pop('target')\n",
        "  df = {key:  tf.expand_dims(value,axis=1) for key, value in df.items()}\n",
        "  ds = tf.data.Dataset.from_tensor_slices((df, labels))\n",
        "  ds = ds.batch(batch_size)\n",
        "  ds = ds.prefetch(tf.data.AUTOTUNE)\n",
        "  return ds"
      ],
      "metadata": {
        "id": "yUeMchRXKhcS"
      },
      "execution_count": 62,
      "outputs": []
    },
    {
      "cell_type": "code",
      "source": [
        "def dataframe_imbalance_to_dataset(data, batch_size=32):\n",
        "  df = data.copy()\n",
        "  labels = df.pop('target')\n",
        "  df = {key:  tf.expand_dims(value,axis=1) for key, value in df.items()}\n",
        "  data = tf.data.Dataset.from_tensor_slices((dict(df), labels)).batch(batch_size)\n",
        "\n",
        "  no_ds = (data\n",
        "          .unbatch()\n",
        "          .filter(lambda features, label: label==0)\n",
        "          .repeat())\n",
        "  yes_ds = (data\n",
        "            .unbatch()\n",
        "            .filter(lambda features, label: label==1)\n",
        "            .repeat())\n",
        "  \n",
        "  ds = tf.data.Dataset.sample_from_datasets([no_ds, yes_ds], weights=[0.5, 0.5], stop_on_empty_dataset=True)\n",
        "  ds = ds.batch(batch_size)\n",
        "  ds = ds.prefetch(tf.data.AUTOTUNE)\n",
        "  return ds"
      ],
      "metadata": {
        "id": "EcEnw-62cpnK"
      },
      "execution_count": 63,
      "outputs": []
    },
    {
      "cell_type": "markdown",
      "source": [
        "function preprocessing numeric"
      ],
      "metadata": {
        "id": "x3qXY5rvmJFq"
      }
    },
    {
      "cell_type": "code",
      "source": [
        "def numeric_preprocessing(name, dataset, step):\n",
        "  feature_dataset = dataset.map(lambda x,y: x[name])\n",
        "  layer = tf.keras.layers.Normalization()\n",
        "  layer.adapt(feature_dataset, steps=step)\n",
        "\n",
        "  return layer"
      ],
      "metadata": {
        "id": "jEXvg9csPJyb"
      },
      "execution_count": 64,
      "outputs": []
    },
    {
      "cell_type": "markdown",
      "source": [
        "fucntion preprocessing categories"
      ],
      "metadata": {
        "id": "LeSvhuKSmNTX"
      }
    },
    {
      "cell_type": "code",
      "source": [
        "def categories_preprocessing(name, dataset, dtype, step):\n",
        "  if(dtype == \"int64\"):\n",
        "    lookup = tf.keras.layers.IntegerLookup()\n",
        "  else:\n",
        "    lookup = tf.keras.layers.StringLookup()\n",
        "  feature_dataset = dataset.map(lambda x,y: x[name])\n",
        "  lookup.adapt(feature_dataset, steps=step)\n",
        "\n",
        "  # return lookup\n",
        "  category_encoding = tf.keras.layers.CategoryEncoding(num_tokens=lookup.vocabulary_size())\n",
        "  return lambda feature:  category_encoding(lookup(feature))"
      ],
      "metadata": {
        "id": "4Z9l9kcjV4Fy"
      },
      "execution_count": 65,
      "outputs": []
    },
    {
      "cell_type": "markdown",
      "source": [
        "plot metric"
      ],
      "metadata": {
        "id": "r7-sO-o2kxN2"
      }
    },
    {
      "cell_type": "code",
      "source": [
        "def plot_metric(x, y, history, metric):\n",
        "  fig, ax = plt.subplots(x, y, figsize=(15,10))\n",
        "  epochs = range(len(history.history[metric[0]]))\n",
        "  for metric, ax in zip(metric, ax.flatten()):\n",
        "    ax.plot(epochs, history.history[metric], 'r', label='train')\n",
        "    ax.plot(epochs, history.history['val_'+metric], 'b', ls=\"--\", label='val')\n",
        "    ax.set_ylabel(metric)\n",
        "    ax.set_xlabel('epoch')\n",
        "    ax.legend()  \n",
        "  plt.show()"
      ],
      "metadata": {
        "id": "hXtZMSKVkyav"
      },
      "execution_count": 66,
      "outputs": []
    },
    {
      "cell_type": "markdown",
      "source": [
        "plot confution matrix"
      ],
      "metadata": {
        "id": "WNz4kMtlJxPo"
      }
    },
    {
      "cell_type": "code",
      "source": [
        "def plot_confution_matrix(labels, predictions, p=0.5):\n",
        "  cm = confusion_matrix(labels, predictions > p)\n",
        "  plt.figure(figsize=(5,5))\n",
        "  sns.heatmap(cm, annot=True, fmt=\"d\")\n",
        "  plt.title('Confusion matrix @{:.2f}'.format(p))\n",
        "  plt.ylabel('Actual label')\n",
        "  plt.xlabel('Predicted label')\n",
        "\n",
        "  print('Legitimate Transactions Detected (True Negatives): ', cm[0][0])\n",
        "  print('Legitimate Transactions Incorrectly Detected (False Positives): ', cm[0][1])\n",
        "  print('Fraudulent Transactions Missed (False Negatives): ', cm[1][0])\n",
        "  print('Fraudulent Transactions Detected (True Positives): ', cm[1][1])\n",
        "  print('Total Fraudulent Transactions: ', np.sum(cm[1]))"
      ],
      "metadata": {
        "id": "q5w2FAIiJz--"
      },
      "execution_count": 67,
      "outputs": []
    },
    {
      "cell_type": "markdown",
      "source": [
        "## Mount Google Drive"
      ],
      "metadata": {
        "id": "I8sLXLmJ0YHl"
      }
    },
    {
      "cell_type": "code",
      "source": [
        "drive.mount('/content/drive')"
      ],
      "metadata": {
        "id": "CKxJs9K80a5q",
        "outputId": "29c12204-7d27-4983-b345-082da50667e3",
        "colab": {
          "base_uri": "https://localhost:8080/"
        }
      },
      "execution_count": 68,
      "outputs": [
        {
          "output_type": "stream",
          "name": "stdout",
          "text": [
            "Drive already mounted at /content/drive; to attempt to forcibly remount, call drive.mount(\"/content/drive\", force_remount=True).\n"
          ]
        }
      ]
    },
    {
      "cell_type": "markdown",
      "source": [
        "## Load Data"
      ],
      "metadata": {
        "id": "xNDd-nsn0bqh"
      }
    },
    {
      "cell_type": "code",
      "execution_count": 69,
      "metadata": {
        "id": "n12Gn5YyxmSE"
      },
      "outputs": [],
      "source": [
        "data_url = \"/content/drive/MyDrive/Kumpulan_dataset/fintech_banking_dataset.zip\"\n",
        "data_dir = zipfile.ZipFile(data_url, 'r')\n",
        "data_dir.extractall(\"demoday\")\n",
        "data_dir.close()"
      ]
    },
    {
      "cell_type": "code",
      "source": [
        "dataset_train=pd.read_csv('demoday/train.csv', delimiter=\";\")\n",
        "dataset_test=pd.read_csv('demoday/test.csv', delimiter=\";\")"
      ],
      "metadata": {
        "id": "bOWBr6d9Zwtn"
      },
      "execution_count": 70,
      "outputs": []
    },
    {
      "cell_type": "markdown",
      "source": [
        "##Deskripsi dataset\n",
        "###Input variables:\n",
        "bank client data:  \n",
        "1 - age : umur pelanggan (numeric)  \n",
        "2 - job : jenis pekerjaan (categorical: 'admin.','blue-collar','entrepreneur','housemaid','management','retired','self-employed','services','student','technician','unemployed','unknown')  \n",
        "3 - marital : status pernikahan (categorical: 'divorced','married','single','unknown'; note: 'divorced' berarti cerai atau janda)  \n",
        "4 - education : tingkat pendidikan(categorical: 'basic.4y','basic.6y','basic.9y','high.school','illiterate','professional.course','university.degree','unknown')  \n",
        "5 - default: apakah memiliki kredit yang gagal bayar? (categorical: 'no','yes','unknown')  \n",
        "6 - housing: apakah memiliki pinjaman untuk rumah? (categorical: 'no','yes','unknown')  \n",
        "7 - loan: apakah memiliki pinjaman untuk pribadi? (categorical: 'no','yes','unknown')  \n",
        "related with the last contact of the current campaign:  \n",
        "8 - contact: jenis komunikasi kontak (categorical: 'cellular','telephone')  \n",
        "9 - month: kontak terakhir bulan tahun (categorical: 'jan', 'feb', 'mar', ..., 'nov', 'dec')  \n",
        "10 - day_of_week: hari kontak terakhir dalam seminggu (categorical: 'mon','tue','wed','thu','fri')  \n",
        "11 - duration: durasi kontak terakhir, dalam detik (numeric)  \n",
        "other attributes:  \n",
        "12 - campaign: jumlah kontak yang dilakukan selama kampanye ini dan untuk klien ini (numeric, includes last contact)  \n",
        "13 - pdays: jumlah hari yang berlalu setelah klien terakhir dihubungi dari kampanye sebelumnya (numeric; 999 artinya klien sebelumnya tidak dihubungi)  \n",
        "14 - previous: jumlah kontak yang dilakukan sebelum kampanye ini dan untuk klien ini (numeric)  \n",
        "15 - poutcome: hasil dari kampanye pemasaran sebelumnya (categorical: 'failure','nonexistent','success')  \n",
        "\n",
        "###Output variable (desired target):\n",
        "21 - y - apakah klien telah berlangganan deposito berjangka?? (binary: 'yes','no')  \n",
        "Source: https://archive.ics.uci.edu/ml/datasets/Bank+Marketing  "
      ],
      "metadata": {
        "id": "hUfyeQyAGKLh"
      }
    },
    {
      "cell_type": "markdown",
      "source": [
        "##Data Explorer"
      ],
      "metadata": {
        "id": "ltfZLjmWJ4eY"
      }
    },
    {
      "cell_type": "code",
      "source": [
        "print(f\"jumlah data untuk train adalah {len(dataset_train)}\")\n",
        "print(f\"jumlah data untuk test adalah {len(dataset_test)}\")"
      ],
      "metadata": {
        "colab": {
          "base_uri": "https://localhost:8080/"
        },
        "id": "nh0ZVGm_FxZj",
        "outputId": "0efa3da1-1dfe-44ec-a83e-ff7ad3875394"
      },
      "execution_count": 71,
      "outputs": [
        {
          "output_type": "stream",
          "name": "stdout",
          "text": [
            "jumlah data untuk train adalah 45211\n",
            "jumlah data untuk test adalah 4521\n"
          ]
        }
      ]
    },
    {
      "cell_type": "code",
      "source": [
        "dataset_test.head()"
      ],
      "metadata": {
        "colab": {
          "base_uri": "https://localhost:8080/",
          "height": 206
        },
        "id": "o3331SCAmVGt",
        "outputId": "71f2f852-9fd9-4161-f7b0-c96b3b19bef7"
      },
      "execution_count": 72,
      "outputs": [
        {
          "output_type": "execute_result",
          "data": {
            "text/plain": [
              "   age          job  marital  education default  balance housing loan  \\\n",
              "0   30   unemployed  married    primary      no     1787      no   no   \n",
              "1   33     services  married  secondary      no     4789     yes  yes   \n",
              "2   35   management   single   tertiary      no     1350     yes   no   \n",
              "3   30   management  married   tertiary      no     1476     yes  yes   \n",
              "4   59  blue-collar  married  secondary      no        0     yes   no   \n",
              "\n",
              "    contact  day month  duration  campaign  pdays  previous poutcome   y  \n",
              "0  cellular   19   oct        79         1     -1         0  unknown  no  \n",
              "1  cellular   11   may       220         1    339         4  failure  no  \n",
              "2  cellular   16   apr       185         1    330         1  failure  no  \n",
              "3   unknown    3   jun       199         4     -1         0  unknown  no  \n",
              "4   unknown    5   may       226         1     -1         0  unknown  no  "
            ],
            "text/html": [
              "\n",
              "  <div id=\"df-ed6ebd83-c98a-4754-9de9-d7ca9fe52515\">\n",
              "    <div class=\"colab-df-container\">\n",
              "      <div>\n",
              "<style scoped>\n",
              "    .dataframe tbody tr th:only-of-type {\n",
              "        vertical-align: middle;\n",
              "    }\n",
              "\n",
              "    .dataframe tbody tr th {\n",
              "        vertical-align: top;\n",
              "    }\n",
              "\n",
              "    .dataframe thead th {\n",
              "        text-align: right;\n",
              "    }\n",
              "</style>\n",
              "<table border=\"1\" class=\"dataframe\">\n",
              "  <thead>\n",
              "    <tr style=\"text-align: right;\">\n",
              "      <th></th>\n",
              "      <th>age</th>\n",
              "      <th>job</th>\n",
              "      <th>marital</th>\n",
              "      <th>education</th>\n",
              "      <th>default</th>\n",
              "      <th>balance</th>\n",
              "      <th>housing</th>\n",
              "      <th>loan</th>\n",
              "      <th>contact</th>\n",
              "      <th>day</th>\n",
              "      <th>month</th>\n",
              "      <th>duration</th>\n",
              "      <th>campaign</th>\n",
              "      <th>pdays</th>\n",
              "      <th>previous</th>\n",
              "      <th>poutcome</th>\n",
              "      <th>y</th>\n",
              "    </tr>\n",
              "  </thead>\n",
              "  <tbody>\n",
              "    <tr>\n",
              "      <th>0</th>\n",
              "      <td>30</td>\n",
              "      <td>unemployed</td>\n",
              "      <td>married</td>\n",
              "      <td>primary</td>\n",
              "      <td>no</td>\n",
              "      <td>1787</td>\n",
              "      <td>no</td>\n",
              "      <td>no</td>\n",
              "      <td>cellular</td>\n",
              "      <td>19</td>\n",
              "      <td>oct</td>\n",
              "      <td>79</td>\n",
              "      <td>1</td>\n",
              "      <td>-1</td>\n",
              "      <td>0</td>\n",
              "      <td>unknown</td>\n",
              "      <td>no</td>\n",
              "    </tr>\n",
              "    <tr>\n",
              "      <th>1</th>\n",
              "      <td>33</td>\n",
              "      <td>services</td>\n",
              "      <td>married</td>\n",
              "      <td>secondary</td>\n",
              "      <td>no</td>\n",
              "      <td>4789</td>\n",
              "      <td>yes</td>\n",
              "      <td>yes</td>\n",
              "      <td>cellular</td>\n",
              "      <td>11</td>\n",
              "      <td>may</td>\n",
              "      <td>220</td>\n",
              "      <td>1</td>\n",
              "      <td>339</td>\n",
              "      <td>4</td>\n",
              "      <td>failure</td>\n",
              "      <td>no</td>\n",
              "    </tr>\n",
              "    <tr>\n",
              "      <th>2</th>\n",
              "      <td>35</td>\n",
              "      <td>management</td>\n",
              "      <td>single</td>\n",
              "      <td>tertiary</td>\n",
              "      <td>no</td>\n",
              "      <td>1350</td>\n",
              "      <td>yes</td>\n",
              "      <td>no</td>\n",
              "      <td>cellular</td>\n",
              "      <td>16</td>\n",
              "      <td>apr</td>\n",
              "      <td>185</td>\n",
              "      <td>1</td>\n",
              "      <td>330</td>\n",
              "      <td>1</td>\n",
              "      <td>failure</td>\n",
              "      <td>no</td>\n",
              "    </tr>\n",
              "    <tr>\n",
              "      <th>3</th>\n",
              "      <td>30</td>\n",
              "      <td>management</td>\n",
              "      <td>married</td>\n",
              "      <td>tertiary</td>\n",
              "      <td>no</td>\n",
              "      <td>1476</td>\n",
              "      <td>yes</td>\n",
              "      <td>yes</td>\n",
              "      <td>unknown</td>\n",
              "      <td>3</td>\n",
              "      <td>jun</td>\n",
              "      <td>199</td>\n",
              "      <td>4</td>\n",
              "      <td>-1</td>\n",
              "      <td>0</td>\n",
              "      <td>unknown</td>\n",
              "      <td>no</td>\n",
              "    </tr>\n",
              "    <tr>\n",
              "      <th>4</th>\n",
              "      <td>59</td>\n",
              "      <td>blue-collar</td>\n",
              "      <td>married</td>\n",
              "      <td>secondary</td>\n",
              "      <td>no</td>\n",
              "      <td>0</td>\n",
              "      <td>yes</td>\n",
              "      <td>no</td>\n",
              "      <td>unknown</td>\n",
              "      <td>5</td>\n",
              "      <td>may</td>\n",
              "      <td>226</td>\n",
              "      <td>1</td>\n",
              "      <td>-1</td>\n",
              "      <td>0</td>\n",
              "      <td>unknown</td>\n",
              "      <td>no</td>\n",
              "    </tr>\n",
              "  </tbody>\n",
              "</table>\n",
              "</div>\n",
              "      <button class=\"colab-df-convert\" onclick=\"convertToInteractive('df-ed6ebd83-c98a-4754-9de9-d7ca9fe52515')\"\n",
              "              title=\"Convert this dataframe to an interactive table.\"\n",
              "              style=\"display:none;\">\n",
              "        \n",
              "  <svg xmlns=\"http://www.w3.org/2000/svg\" height=\"24px\"viewBox=\"0 0 24 24\"\n",
              "       width=\"24px\">\n",
              "    <path d=\"M0 0h24v24H0V0z\" fill=\"none\"/>\n",
              "    <path d=\"M18.56 5.44l.94 2.06.94-2.06 2.06-.94-2.06-.94-.94-2.06-.94 2.06-2.06.94zm-11 1L8.5 8.5l.94-2.06 2.06-.94-2.06-.94L8.5 2.5l-.94 2.06-2.06.94zm10 10l.94 2.06.94-2.06 2.06-.94-2.06-.94-.94-2.06-.94 2.06-2.06.94z\"/><path d=\"M17.41 7.96l-1.37-1.37c-.4-.4-.92-.59-1.43-.59-.52 0-1.04.2-1.43.59L10.3 9.45l-7.72 7.72c-.78.78-.78 2.05 0 2.83L4 21.41c.39.39.9.59 1.41.59.51 0 1.02-.2 1.41-.59l7.78-7.78 2.81-2.81c.8-.78.8-2.07 0-2.86zM5.41 20L4 18.59l7.72-7.72 1.47 1.35L5.41 20z\"/>\n",
              "  </svg>\n",
              "      </button>\n",
              "      \n",
              "  <style>\n",
              "    .colab-df-container {\n",
              "      display:flex;\n",
              "      flex-wrap:wrap;\n",
              "      gap: 12px;\n",
              "    }\n",
              "\n",
              "    .colab-df-convert {\n",
              "      background-color: #E8F0FE;\n",
              "      border: none;\n",
              "      border-radius: 50%;\n",
              "      cursor: pointer;\n",
              "      display: none;\n",
              "      fill: #1967D2;\n",
              "      height: 32px;\n",
              "      padding: 0 0 0 0;\n",
              "      width: 32px;\n",
              "    }\n",
              "\n",
              "    .colab-df-convert:hover {\n",
              "      background-color: #E2EBFA;\n",
              "      box-shadow: 0px 1px 2px rgba(60, 64, 67, 0.3), 0px 1px 3px 1px rgba(60, 64, 67, 0.15);\n",
              "      fill: #174EA6;\n",
              "    }\n",
              "\n",
              "    [theme=dark] .colab-df-convert {\n",
              "      background-color: #3B4455;\n",
              "      fill: #D2E3FC;\n",
              "    }\n",
              "\n",
              "    [theme=dark] .colab-df-convert:hover {\n",
              "      background-color: #434B5C;\n",
              "      box-shadow: 0px 1px 3px 1px rgba(0, 0, 0, 0.15);\n",
              "      filter: drop-shadow(0px 1px 2px rgba(0, 0, 0, 0.3));\n",
              "      fill: #FFFFFF;\n",
              "    }\n",
              "  </style>\n",
              "\n",
              "      <script>\n",
              "        const buttonEl =\n",
              "          document.querySelector('#df-ed6ebd83-c98a-4754-9de9-d7ca9fe52515 button.colab-df-convert');\n",
              "        buttonEl.style.display =\n",
              "          google.colab.kernel.accessAllowed ? 'block' : 'none';\n",
              "\n",
              "        async function convertToInteractive(key) {\n",
              "          const element = document.querySelector('#df-ed6ebd83-c98a-4754-9de9-d7ca9fe52515');\n",
              "          const dataTable =\n",
              "            await google.colab.kernel.invokeFunction('convertToInteractive',\n",
              "                                                     [key], {});\n",
              "          if (!dataTable) return;\n",
              "\n",
              "          const docLinkHtml = 'Like what you see? Visit the ' +\n",
              "            '<a target=\"_blank\" href=https://colab.research.google.com/notebooks/data_table.ipynb>data table notebook</a>'\n",
              "            + ' to learn more about interactive tables.';\n",
              "          element.innerHTML = '';\n",
              "          dataTable['output_type'] = 'display_data';\n",
              "          await google.colab.output.renderOutput(dataTable, element);\n",
              "          const docLink = document.createElement('div');\n",
              "          docLink.innerHTML = docLinkHtml;\n",
              "          element.appendChild(docLink);\n",
              "        }\n",
              "      </script>\n",
              "    </div>\n",
              "  </div>\n",
              "  "
            ]
          },
          "metadata": {},
          "execution_count": 72
        }
      ]
    },
    {
      "cell_type": "code",
      "source": [
        "dataset_train.head()"
      ],
      "metadata": {
        "colab": {
          "base_uri": "https://localhost:8080/",
          "height": 206
        },
        "id": "Fkiy4n1UZ3hq",
        "outputId": "407ce006-3164-4d4a-b5f1-b4f350ca4c5e"
      },
      "execution_count": 73,
      "outputs": [
        {
          "output_type": "execute_result",
          "data": {
            "text/plain": [
              "   age           job  marital  education default  balance housing loan  \\\n",
              "0   58    management  married   tertiary      no     2143     yes   no   \n",
              "1   44    technician   single  secondary      no       29     yes   no   \n",
              "2   33  entrepreneur  married  secondary      no        2     yes  yes   \n",
              "3   47   blue-collar  married    unknown      no     1506     yes   no   \n",
              "4   33       unknown   single    unknown      no        1      no   no   \n",
              "\n",
              "   contact  day month  duration  campaign  pdays  previous poutcome   y  \n",
              "0  unknown    5   may       261         1     -1         0  unknown  no  \n",
              "1  unknown    5   may       151         1     -1         0  unknown  no  \n",
              "2  unknown    5   may        76         1     -1         0  unknown  no  \n",
              "3  unknown    5   may        92         1     -1         0  unknown  no  \n",
              "4  unknown    5   may       198         1     -1         0  unknown  no  "
            ],
            "text/html": [
              "\n",
              "  <div id=\"df-89ab1948-7276-4b07-adec-2cf33c450db8\">\n",
              "    <div class=\"colab-df-container\">\n",
              "      <div>\n",
              "<style scoped>\n",
              "    .dataframe tbody tr th:only-of-type {\n",
              "        vertical-align: middle;\n",
              "    }\n",
              "\n",
              "    .dataframe tbody tr th {\n",
              "        vertical-align: top;\n",
              "    }\n",
              "\n",
              "    .dataframe thead th {\n",
              "        text-align: right;\n",
              "    }\n",
              "</style>\n",
              "<table border=\"1\" class=\"dataframe\">\n",
              "  <thead>\n",
              "    <tr style=\"text-align: right;\">\n",
              "      <th></th>\n",
              "      <th>age</th>\n",
              "      <th>job</th>\n",
              "      <th>marital</th>\n",
              "      <th>education</th>\n",
              "      <th>default</th>\n",
              "      <th>balance</th>\n",
              "      <th>housing</th>\n",
              "      <th>loan</th>\n",
              "      <th>contact</th>\n",
              "      <th>day</th>\n",
              "      <th>month</th>\n",
              "      <th>duration</th>\n",
              "      <th>campaign</th>\n",
              "      <th>pdays</th>\n",
              "      <th>previous</th>\n",
              "      <th>poutcome</th>\n",
              "      <th>y</th>\n",
              "    </tr>\n",
              "  </thead>\n",
              "  <tbody>\n",
              "    <tr>\n",
              "      <th>0</th>\n",
              "      <td>58</td>\n",
              "      <td>management</td>\n",
              "      <td>married</td>\n",
              "      <td>tertiary</td>\n",
              "      <td>no</td>\n",
              "      <td>2143</td>\n",
              "      <td>yes</td>\n",
              "      <td>no</td>\n",
              "      <td>unknown</td>\n",
              "      <td>5</td>\n",
              "      <td>may</td>\n",
              "      <td>261</td>\n",
              "      <td>1</td>\n",
              "      <td>-1</td>\n",
              "      <td>0</td>\n",
              "      <td>unknown</td>\n",
              "      <td>no</td>\n",
              "    </tr>\n",
              "    <tr>\n",
              "      <th>1</th>\n",
              "      <td>44</td>\n",
              "      <td>technician</td>\n",
              "      <td>single</td>\n",
              "      <td>secondary</td>\n",
              "      <td>no</td>\n",
              "      <td>29</td>\n",
              "      <td>yes</td>\n",
              "      <td>no</td>\n",
              "      <td>unknown</td>\n",
              "      <td>5</td>\n",
              "      <td>may</td>\n",
              "      <td>151</td>\n",
              "      <td>1</td>\n",
              "      <td>-1</td>\n",
              "      <td>0</td>\n",
              "      <td>unknown</td>\n",
              "      <td>no</td>\n",
              "    </tr>\n",
              "    <tr>\n",
              "      <th>2</th>\n",
              "      <td>33</td>\n",
              "      <td>entrepreneur</td>\n",
              "      <td>married</td>\n",
              "      <td>secondary</td>\n",
              "      <td>no</td>\n",
              "      <td>2</td>\n",
              "      <td>yes</td>\n",
              "      <td>yes</td>\n",
              "      <td>unknown</td>\n",
              "      <td>5</td>\n",
              "      <td>may</td>\n",
              "      <td>76</td>\n",
              "      <td>1</td>\n",
              "      <td>-1</td>\n",
              "      <td>0</td>\n",
              "      <td>unknown</td>\n",
              "      <td>no</td>\n",
              "    </tr>\n",
              "    <tr>\n",
              "      <th>3</th>\n",
              "      <td>47</td>\n",
              "      <td>blue-collar</td>\n",
              "      <td>married</td>\n",
              "      <td>unknown</td>\n",
              "      <td>no</td>\n",
              "      <td>1506</td>\n",
              "      <td>yes</td>\n",
              "      <td>no</td>\n",
              "      <td>unknown</td>\n",
              "      <td>5</td>\n",
              "      <td>may</td>\n",
              "      <td>92</td>\n",
              "      <td>1</td>\n",
              "      <td>-1</td>\n",
              "      <td>0</td>\n",
              "      <td>unknown</td>\n",
              "      <td>no</td>\n",
              "    </tr>\n",
              "    <tr>\n",
              "      <th>4</th>\n",
              "      <td>33</td>\n",
              "      <td>unknown</td>\n",
              "      <td>single</td>\n",
              "      <td>unknown</td>\n",
              "      <td>no</td>\n",
              "      <td>1</td>\n",
              "      <td>no</td>\n",
              "      <td>no</td>\n",
              "      <td>unknown</td>\n",
              "      <td>5</td>\n",
              "      <td>may</td>\n",
              "      <td>198</td>\n",
              "      <td>1</td>\n",
              "      <td>-1</td>\n",
              "      <td>0</td>\n",
              "      <td>unknown</td>\n",
              "      <td>no</td>\n",
              "    </tr>\n",
              "  </tbody>\n",
              "</table>\n",
              "</div>\n",
              "      <button class=\"colab-df-convert\" onclick=\"convertToInteractive('df-89ab1948-7276-4b07-adec-2cf33c450db8')\"\n",
              "              title=\"Convert this dataframe to an interactive table.\"\n",
              "              style=\"display:none;\">\n",
              "        \n",
              "  <svg xmlns=\"http://www.w3.org/2000/svg\" height=\"24px\"viewBox=\"0 0 24 24\"\n",
              "       width=\"24px\">\n",
              "    <path d=\"M0 0h24v24H0V0z\" fill=\"none\"/>\n",
              "    <path d=\"M18.56 5.44l.94 2.06.94-2.06 2.06-.94-2.06-.94-.94-2.06-.94 2.06-2.06.94zm-11 1L8.5 8.5l.94-2.06 2.06-.94-2.06-.94L8.5 2.5l-.94 2.06-2.06.94zm10 10l.94 2.06.94-2.06 2.06-.94-2.06-.94-.94-2.06-.94 2.06-2.06.94z\"/><path d=\"M17.41 7.96l-1.37-1.37c-.4-.4-.92-.59-1.43-.59-.52 0-1.04.2-1.43.59L10.3 9.45l-7.72 7.72c-.78.78-.78 2.05 0 2.83L4 21.41c.39.39.9.59 1.41.59.51 0 1.02-.2 1.41-.59l7.78-7.78 2.81-2.81c.8-.78.8-2.07 0-2.86zM5.41 20L4 18.59l7.72-7.72 1.47 1.35L5.41 20z\"/>\n",
              "  </svg>\n",
              "      </button>\n",
              "      \n",
              "  <style>\n",
              "    .colab-df-container {\n",
              "      display:flex;\n",
              "      flex-wrap:wrap;\n",
              "      gap: 12px;\n",
              "    }\n",
              "\n",
              "    .colab-df-convert {\n",
              "      background-color: #E8F0FE;\n",
              "      border: none;\n",
              "      border-radius: 50%;\n",
              "      cursor: pointer;\n",
              "      display: none;\n",
              "      fill: #1967D2;\n",
              "      height: 32px;\n",
              "      padding: 0 0 0 0;\n",
              "      width: 32px;\n",
              "    }\n",
              "\n",
              "    .colab-df-convert:hover {\n",
              "      background-color: #E2EBFA;\n",
              "      box-shadow: 0px 1px 2px rgba(60, 64, 67, 0.3), 0px 1px 3px 1px rgba(60, 64, 67, 0.15);\n",
              "      fill: #174EA6;\n",
              "    }\n",
              "\n",
              "    [theme=dark] .colab-df-convert {\n",
              "      background-color: #3B4455;\n",
              "      fill: #D2E3FC;\n",
              "    }\n",
              "\n",
              "    [theme=dark] .colab-df-convert:hover {\n",
              "      background-color: #434B5C;\n",
              "      box-shadow: 0px 1px 3px 1px rgba(0, 0, 0, 0.15);\n",
              "      filter: drop-shadow(0px 1px 2px rgba(0, 0, 0, 0.3));\n",
              "      fill: #FFFFFF;\n",
              "    }\n",
              "  </style>\n",
              "\n",
              "      <script>\n",
              "        const buttonEl =\n",
              "          document.querySelector('#df-89ab1948-7276-4b07-adec-2cf33c450db8 button.colab-df-convert');\n",
              "        buttonEl.style.display =\n",
              "          google.colab.kernel.accessAllowed ? 'block' : 'none';\n",
              "\n",
              "        async function convertToInteractive(key) {\n",
              "          const element = document.querySelector('#df-89ab1948-7276-4b07-adec-2cf33c450db8');\n",
              "          const dataTable =\n",
              "            await google.colab.kernel.invokeFunction('convertToInteractive',\n",
              "                                                     [key], {});\n",
              "          if (!dataTable) return;\n",
              "\n",
              "          const docLinkHtml = 'Like what you see? Visit the ' +\n",
              "            '<a target=\"_blank\" href=https://colab.research.google.com/notebooks/data_table.ipynb>data table notebook</a>'\n",
              "            + ' to learn more about interactive tables.';\n",
              "          element.innerHTML = '';\n",
              "          dataTable['output_type'] = 'display_data';\n",
              "          await google.colab.output.renderOutput(dataTable, element);\n",
              "          const docLink = document.createElement('div');\n",
              "          docLink.innerHTML = docLinkHtml;\n",
              "          element.appendChild(docLink);\n",
              "        }\n",
              "      </script>\n",
              "    </div>\n",
              "  </div>\n",
              "  "
            ]
          },
          "metadata": {},
          "execution_count": 73
        }
      ]
    },
    {
      "cell_type": "markdown",
      "source": [
        "melihat type pada data set"
      ],
      "metadata": {
        "id": "OhBKv9Lbl-vb"
      }
    },
    {
      "cell_type": "code",
      "source": [
        "dataset_train.dtypes"
      ],
      "metadata": {
        "colab": {
          "base_uri": "https://localhost:8080/"
        },
        "id": "1EWLh51tNZ46",
        "outputId": "cf9b0a6a-bda7-4366-9572-206a83a851b4"
      },
      "execution_count": 74,
      "outputs": [
        {
          "output_type": "execute_result",
          "data": {
            "text/plain": [
              "age           int64\n",
              "job          object\n",
              "marital      object\n",
              "education    object\n",
              "default      object\n",
              "balance       int64\n",
              "housing      object\n",
              "loan         object\n",
              "contact      object\n",
              "day           int64\n",
              "month        object\n",
              "duration      int64\n",
              "campaign      int64\n",
              "pdays         int64\n",
              "previous      int64\n",
              "poutcome     object\n",
              "y            object\n",
              "dtype: object"
            ]
          },
          "metadata": {},
          "execution_count": 74
        }
      ]
    },
    {
      "cell_type": "code",
      "source": [
        "ax = dataset_train['y'].value_counts().plot.bar(color=['r','b'])\n",
        "plt.title(\"Jumlah data tiap label pada dataset train\")\n",
        "for p in ax.patches:\n",
        "    b = p.get_bbox()\n",
        "    ax.annotate(str(p.get_height()), ((b.x0 + b.x1)/2 - .1, p.get_height() * 1.),fontsize=12)"
      ],
      "metadata": {
        "colab": {
          "base_uri": "https://localhost:8080/",
          "height": 289
        },
        "id": "7kW4KB0Pniq2",
        "outputId": "b77eaf91-20ab-47ad-a695-33e89b0a85a9"
      },
      "execution_count": 75,
      "outputs": [
        {
          "output_type": "display_data",
          "data": {
            "text/plain": [
              "<Figure size 432x288 with 1 Axes>"
            ],
            "image/png": "[encoded data removed]"
          },
          "metadata": {
            "needs_background": "light"
          }
        }
      ]
    },
    {
      "cell_type": "code",
      "source": [
        "ax = dataset_test['y'].value_counts().plot.bar(color=['r','b'])\n",
        "plt.title(\"Jumlah data tiap label pada dataset test\")\n",
        "for p in ax.patches:\n",
        "    b = p.get_bbox()\n",
        "    ax.annotate(str(p.get_height()), ((b.x0 + b.x1)/2 - .1, p.get_height() * 1.),fontsize=12)"
      ],
      "metadata": {
        "colab": {
          "base_uri": "https://localhost:8080/",
          "height": 289
        },
        "id": "uuOyZoVEnlkq",
        "outputId": "1b18b4d9-4953-43d6-e962-162856a3ff61"
      },
      "execution_count": 76,
      "outputs": [
        {
          "output_type": "display_data",
          "data": {
            "text/plain": [
              "<Figure size 432x288 with 1 Axes>"
            ],
            "image/png": "[encoded data removed]"
          },
          "metadata": {
            "needs_background": "light"
          }
        }
      ]
    },
    {
      "cell_type": "code",
      "source": [
        "train_index = [i for i in dataset_train.drop(columns=['y']).columns]\n",
        "dataset_train.groupby(by=train_index)[\"y\"].value_counts().unstack().reset_index().sort_values(by=[\"no\"], ascending=True).head()"
      ],
      "metadata": {
        "colab": {
          "base_uri": "https://localhost:8080/",
          "height": 206
        },
        "id": "9LQxvn4Dp7vZ",
        "outputId": "8bfecfdd-6628-4073-9366-348ec282af71"
      },
      "execution_count": 77,
      "outputs": [
        {
          "output_type": "execute_result",
          "data": {
            "text/plain": [
              "y      age           job  marital  education default  balance housing loan  \\\n",
              "2       18       student   single    primary      no     1944      no   no   \n",
              "30043   45  entrepreneur  married    primary      no     1953     yes   no   \n",
              "30044   45  entrepreneur  married    primary      no     2418     yes   no   \n",
              "30045   45  entrepreneur  married    primary      no     5315     yes  yes   \n",
              "30046   45  entrepreneur  married  secondary      no     -479     yes   no   \n",
              "\n",
              "y        contact  day month  duration  campaign  pdays  previous poutcome  \\\n",
              "2      telephone   10   aug       122         3     -1         0  unknown   \n",
              "30043    unknown   15   may        95         3     -1         0  unknown   \n",
              "30044    unknown   14   may       120         1     -1         0  unknown   \n",
              "30045   cellular   15   may       262         2     -1         0  unknown   \n",
              "30046   cellular   30   jul       167         2     -1         0  unknown   \n",
              "\n",
              "y       no  yes  \n",
              "2      1.0  NaN  \n",
              "30043  1.0  NaN  \n",
              "30044  1.0  NaN  \n",
              "30045  1.0  NaN  \n",
              "30046  1.0  NaN  "
            ],
            "text/html": [
              "\n",
              "  <div id=\"df-0e3ff813-951f-4a50-a15e-6bc432e91c55\">\n",
              "    <div class=\"colab-df-container\">\n",
              "      <div>\n",
              "<style scoped>\n",
              "    .dataframe tbody tr th:only-of-type {\n",
              "        vertical-align: middle;\n",
              "    }\n",
              "\n",
              "    .dataframe tbody tr th {\n",
              "        vertical-align: top;\n",
              "    }\n",
              "\n",
              "    .dataframe thead th {\n",
              "        text-align: right;\n",
              "    }\n",
              "</style>\n",
              "<table border=\"1\" class=\"dataframe\">\n",
              "  <thead>\n",
              "    <tr style=\"text-align: right;\">\n",
              "      <th>y</th>\n",
              "      <th>age</th>\n",
              "      <th>job</th>\n",
              "      <th>marital</th>\n",
              "      <th>education</th>\n",
              "      <th>default</th>\n",
              "      <th>balance</th>\n",
              "      <th>housing</th>\n",
              "      <th>loan</th>\n",
              "      <th>contact</th>\n",
              "      <th>day</th>\n",
              "      <th>month</th>\n",
              "      <th>duration</th>\n",
              "      <th>campaign</th>\n",
              "      <th>pdays</th>\n",
              "      <th>previous</th>\n",
              "      <th>poutcome</th>\n",
              "      <th>no</th>\n",
              "      <th>yes</th>\n",
              "    </tr>\n",
              "  </thead>\n",
              "  <tbody>\n",
              "    <tr>\n",
              "      <th>2</th>\n",
              "      <td>18</td>\n",
              "      <td>student</td>\n",
              "      <td>single</td>\n",
              "      <td>primary</td>\n",
              "      <td>no</td>\n",
              "      <td>1944</td>\n",
              "      <td>no</td>\n",
              "      <td>no</td>\n",
              "      <td>telephone</td>\n",
              "      <td>10</td>\n",
              "      <td>aug</td>\n",
              "      <td>122</td>\n",
              "      <td>3</td>\n",
              "      <td>-1</td>\n",
              "      <td>0</td>\n",
              "      <td>unknown</td>\n",
              "      <td>1.0</td>\n",
              "      <td>NaN</td>\n",
              "    </tr>\n",
              "    <tr>\n",
              "      <th>30043</th>\n",
              "      <td>45</td>\n",
              "      <td>entrepreneur</td>\n",
              "      <td>married</td>\n",
              "      <td>primary</td>\n",
              "      <td>no</td>\n",
              "      <td>1953</td>\n",
              "      <td>yes</td>\n",
              "      <td>no</td>\n",
              "      <td>unknown</td>\n",
              "      <td>15</td>\n",
              "      <td>may</td>\n",
              "      <td>95</td>\n",
              "      <td>3</td>\n",
              "      <td>-1</td>\n",
              "      <td>0</td>\n",
              "      <td>unknown</td>\n",
              "      <td>1.0</td>\n",
              "      <td>NaN</td>\n",
              "    </tr>\n",
              "    <tr>\n",
              "      <th>30044</th>\n",
              "      <td>45</td>\n",
              "      <td>entrepreneur</td>\n",
              "      <td>married</td>\n",
              "      <td>primary</td>\n",
              "      <td>no</td>\n",
              "      <td>2418</td>\n",
              "      <td>yes</td>\n",
              "      <td>no</td>\n",
              "      <td>unknown</td>\n",
              "      <td>14</td>\n",
              "      <td>may</td>\n",
              "      <td>120</td>\n",
              "      <td>1</td>\n",
              "      <td>-1</td>\n",
              "      <td>0</td>\n",
              "      <td>unknown</td>\n",
              "      <td>1.0</td>\n",
              "      <td>NaN</td>\n",
              "    </tr>\n",
              "    <tr>\n",
              "      <th>30045</th>\n",
              "      <td>45</td>\n",
              "      <td>entrepreneur</td>\n",
              "      <td>married</td>\n",
              "      <td>primary</td>\n",
              "      <td>no</td>\n",
              "      <td>5315</td>\n",
              "      <td>yes</td>\n",
              "      <td>yes</td>\n",
              "      <td>cellular</td>\n",
              "      <td>15</td>\n",
              "      <td>may</td>\n",
              "      <td>262</td>\n",
              "      <td>2</td>\n",
              "      <td>-1</td>\n",
              "      <td>0</td>\n",
              "      <td>unknown</td>\n",
              "      <td>1.0</td>\n",
              "      <td>NaN</td>\n",
              "    </tr>\n",
              "    <tr>\n",
              "      <th>30046</th>\n",
              "      <td>45</td>\n",
              "      <td>entrepreneur</td>\n",
              "      <td>married</td>\n",
              "      <td>secondary</td>\n",
              "      <td>no</td>\n",
              "      <td>-479</td>\n",
              "      <td>yes</td>\n",
              "      <td>no</td>\n",
              "      <td>cellular</td>\n",
              "      <td>30</td>\n",
              "      <td>jul</td>\n",
              "      <td>167</td>\n",
              "      <td>2</td>\n",
              "      <td>-1</td>\n",
              "      <td>0</td>\n",
              "      <td>unknown</td>\n",
              "      <td>1.0</td>\n",
              "      <td>NaN</td>\n",
              "    </tr>\n",
              "  </tbody>\n",
              "</table>\n",
              "</div>\n",
              "      <button class=\"colab-df-convert\" onclick=\"convertToInteractive('df-0e3ff813-951f-4a50-a15e-6bc432e91c55')\"\n",
              "              title=\"Convert this dataframe to an interactive table.\"\n",
              "              style=\"display:none;\">\n",
              "        \n",
              "  <svg xmlns=\"http://www.w3.org/2000/svg\" height=\"24px\"viewBox=\"0 0 24 24\"\n",
              "       width=\"24px\">\n",
              "    <path d=\"M0 0h24v24H0V0z\" fill=\"none\"/>\n",
              "    <path d=\"M18.56 5.44l.94 2.06.94-2.06 2.06-.94-2.06-.94-.94-2.06-.94 2.06-2.06.94zm-11 1L8.5 8.5l.94-2.06 2.06-.94-2.06-.94L8.5 2.5l-.94 2.06-2.06.94zm10 10l.94 2.06.94-2.06 2.06-.94-2.06-.94-.94-2.06-.94 2.06-2.06.94z\"/><path d=\"M17.41 7.96l-1.37-1.37c-.4-.4-.92-.59-1.43-.59-.52 0-1.04.2-1.43.59L10.3 9.45l-7.72 7.72c-.78.78-.78 2.05 0 2.83L4 21.41c.39.39.9.59 1.41.59.51 0 1.02-.2 1.41-.59l7.78-7.78 2.81-2.81c.8-.78.8-2.07 0-2.86zM5.41 20L4 18.59l7.72-7.72 1.47 1.35L5.41 20z\"/>\n",
              "  </svg>\n",
              "      </button>\n",
              "      \n",
              "  <style>\n",
              "    .colab-df-container {\n",
              "      display:flex;\n",
              "      flex-wrap:wrap;\n",
              "      gap: 12px;\n",
              "    }\n",
              "\n",
              "    .colab-df-convert {\n",
              "      background-color: #E8F0FE;\n",
              "      border: none;\n",
              "      border-radius: 50%;\n",
              "      cursor: pointer;\n",
              "      display: none;\n",
              "      fill: #1967D2;\n",
              "      height: 32px;\n",
              "      padding: 0 0 0 0;\n",
              "      width: 32px;\n",
              "    }\n",
              "\n",
              "    .colab-df-convert:hover {\n",
              "      background-color: #E2EBFA;\n",
              "      box-shadow: 0px 1px 2px rgba(60, 64, 67, 0.3), 0px 1px 3px 1px rgba(60, 64, 67, 0.15);\n",
              "      fill: #174EA6;\n",
              "    }\n",
              "\n",
              "    [theme=dark] .colab-df-convert {\n",
              "      background-color: #3B4455;\n",
              "      fill: #D2E3FC;\n",
              "    }\n",
              "\n",
              "    [theme=dark] .colab-df-convert:hover {\n",
              "      background-color: #434B5C;\n",
              "      box-shadow: 0px 1px 3px 1px rgba(0, 0, 0, 0.15);\n",
              "      filter: drop-shadow(0px 1px 2px rgba(0, 0, 0, 0.3));\n",
              "      fill: #FFFFFF;\n",
              "    }\n",
              "  </style>\n",
              "\n",
              "      <script>\n",
              "        const buttonEl =\n",
              "          document.querySelector('#df-0e3ff813-951f-4a50-a15e-6bc432e91c55 button.colab-df-convert');\n",
              "        buttonEl.style.display =\n",
              "          google.colab.kernel.accessAllowed ? 'block' : 'none';\n",
              "\n",
              "        async function convertToInteractive(key) {\n",
              "          const element = document.querySelector('#df-0e3ff813-951f-4a50-a15e-6bc432e91c55');\n",
              "          const dataTable =\n",
              "            await google.colab.kernel.invokeFunction('convertToInteractive',\n",
              "                                                     [key], {});\n",
              "          if (!dataTable) return;\n",
              "\n",
              "          const docLinkHtml = 'Like what you see? Visit the ' +\n",
              "            '<a target=\"_blank\" href=https://colab.research.google.com/notebooks/data_table.ipynb>data table notebook</a>'\n",
              "            + ' to learn more about interactive tables.';\n",
              "          element.innerHTML = '';\n",
              "          dataTable['output_type'] = 'display_data';\n",
              "          await google.colab.output.renderOutput(dataTable, element);\n",
              "          const docLink = document.createElement('div');\n",
              "          docLink.innerHTML = docLinkHtml;\n",
              "          element.appendChild(docLink);\n",
              "        }\n",
              "      </script>\n",
              "    </div>\n",
              "  </div>\n",
              "  "
            ]
          },
          "metadata": {},
          "execution_count": 77
        }
      ]
    },
    {
      "cell_type": "code",
      "source": [
        "cek_no_yes_max = dataset_train.groupby(by=[\"age\", \"job\", \"marital\", \"education\", \"balance\", \"housing\", \"loan\", \"month\" , \"duration\"])[\"y\"].value_counts().unstack().reset_index()"
      ],
      "metadata": {
        "id": "DbOxilfog-4k"
      },
      "execution_count": 78,
      "outputs": []
    },
    {
      "cell_type": "code",
      "source": [
        "cek_no_yes_max.loc[cek_no_yes_max['no'].ge(1.0) &cek_no_yes_max['yes'].ge(1.0)]"
      ],
      "metadata": {
        "colab": {
          "base_uri": "https://localhost:8080/",
          "height": 50
        },
        "id": "h5207phn71DR",
        "outputId": "451ea566-2013-4e77-947b-691a84b67068"
      },
      "execution_count": 79,
      "outputs": [
        {
          "output_type": "execute_result",
          "data": {
            "text/plain": [
              "Empty DataFrame\n",
              "Columns: [age, job, marital, education, balance, housing, loan, month, duration, no, yes]\n",
              "Index: []"
            ],
            "text/html": [
              "\n",
              "  <div id=\"df-9b9f68bf-e19a-41fe-9a49-4d583d783572\">\n",
              "    <div class=\"colab-df-container\">\n",
              "      <div>\n",
              "<style scoped>\n",
              "    .dataframe tbody tr th:only-of-type {\n",
              "        vertical-align: middle;\n",
              "    }\n",
              "\n",
              "    .dataframe tbody tr th {\n",
              "        vertical-align: top;\n",
              "    }\n",
              "\n",
              "    .dataframe thead th {\n",
              "        text-align: right;\n",
              "    }\n",
              "</style>\n",
              "<table border=\"1\" class=\"dataframe\">\n",
              "  <thead>\n",
              "    <tr style=\"text-align: right;\">\n",
              "      <th>y</th>\n",
              "      <th>age</th>\n",
              "      <th>job</th>\n",
              "      <th>marital</th>\n",
              "      <th>education</th>\n",
              "      <th>balance</th>\n",
              "      <th>housing</th>\n",
              "      <th>loan</th>\n",
              "      <th>month</th>\n",
              "      <th>duration</th>\n",
              "      <th>no</th>\n",
              "      <th>yes</th>\n",
              "    </tr>\n",
              "  </thead>\n",
              "  <tbody>\n",
              "  </tbody>\n",
              "</table>\n",
              "</div>\n",
              "      <button class=\"colab-df-convert\" onclick=\"convertToInteractive('df-9b9f68bf-e19a-41fe-9a49-4d583d783572')\"\n",
              "              title=\"Convert this dataframe to an interactive table.\"\n",
              "              style=\"display:none;\">\n",
              "        \n",
              "  <svg xmlns=\"http://www.w3.org/2000/svg\" height=\"24px\"viewBox=\"0 0 24 24\"\n",
              "       width=\"24px\">\n",
              "    <path d=\"M0 0h24v24H0V0z\" fill=\"none\"/>\n",
              "    <path d=\"M18.56 5.44l.94 2.06.94-2.06 2.06-.94-2.06-.94-.94-2.06-.94 2.06-2.06.94zm-11 1L8.5 8.5l.94-2.06 2.06-.94-2.06-.94L8.5 2.5l-.94 2.06-2.06.94zm10 10l.94 2.06.94-2.06 2.06-.94-2.06-.94-.94-2.06-.94 2.06-2.06.94z\"/><path d=\"M17.41 7.96l-1.37-1.37c-.4-.4-.92-.59-1.43-.59-.52 0-1.04.2-1.43.59L10.3 9.45l-7.72 7.72c-.78.78-.78 2.05 0 2.83L4 21.41c.39.39.9.59 1.41.59.51 0 1.02-.2 1.41-.59l7.78-7.78 2.81-2.81c.8-.78.8-2.07 0-2.86zM5.41 20L4 18.59l7.72-7.72 1.47 1.35L5.41 20z\"/>\n",
              "  </svg>\n",
              "      </button>\n",
              "      \n",
              "  <style>\n",
              "    .colab-df-container {\n",
              "      display:flex;\n",
              "      flex-wrap:wrap;\n",
              "      gap: 12px;\n",
              "    }\n",
              "\n",
              "    .colab-df-convert {\n",
              "      background-color: #E8F0FE;\n",
              "      border: none;\n",
              "      border-radius: 50%;\n",
              "      cursor: pointer;\n",
              "      display: none;\n",
              "      fill: #1967D2;\n",
              "      height: 32px;\n",
              "      padding: 0 0 0 0;\n",
              "      width: 32px;\n",
              "    }\n",
              "\n",
              "    .colab-df-convert:hover {\n",
              "      background-color: #E2EBFA;\n",
              "      box-shadow: 0px 1px 2px rgba(60, 64, 67, 0.3), 0px 1px 3px 1px rgba(60, 64, 67, 0.15);\n",
              "      fill: #174EA6;\n",
              "    }\n",
              "\n",
              "    [theme=dark] .colab-df-convert {\n",
              "      background-color: #3B4455;\n",
              "      fill: #D2E3FC;\n",
              "    }\n",
              "\n",
              "    [theme=dark] .colab-df-convert:hover {\n",
              "      background-color: #434B5C;\n",
              "      box-shadow: 0px 1px 3px 1px rgba(0, 0, 0, 0.15);\n",
              "      filter: drop-shadow(0px 1px 2px rgba(0, 0, 0, 0.3));\n",
              "      fill: #FFFFFF;\n",
              "    }\n",
              "  </style>\n",
              "\n",
              "      <script>\n",
              "        const buttonEl =\n",
              "          document.querySelector('#df-9b9f68bf-e19a-41fe-9a49-4d583d783572 button.colab-df-convert');\n",
              "        buttonEl.style.display =\n",
              "          google.colab.kernel.accessAllowed ? 'block' : 'none';\n",
              "\n",
              "        async function convertToInteractive(key) {\n",
              "          const element = document.querySelector('#df-9b9f68bf-e19a-41fe-9a49-4d583d783572');\n",
              "          const dataTable =\n",
              "            await google.colab.kernel.invokeFunction('convertToInteractive',\n",
              "                                                     [key], {});\n",
              "          if (!dataTable) return;\n",
              "\n",
              "          const docLinkHtml = 'Like what you see? Visit the ' +\n",
              "            '<a target=\"_blank\" href=https://colab.research.google.com/notebooks/data_table.ipynb>data table notebook</a>'\n",
              "            + ' to learn more about interactive tables.';\n",
              "          element.innerHTML = '';\n",
              "          dataTable['output_type'] = 'display_data';\n",
              "          await google.colab.output.renderOutput(dataTable, element);\n",
              "          const docLink = document.createElement('div');\n",
              "          docLink.innerHTML = docLinkHtml;\n",
              "          element.appendChild(docLink);\n",
              "        }\n",
              "      </script>\n",
              "    </div>\n",
              "  </div>\n",
              "  "
            ]
          },
          "metadata": {},
          "execution_count": 79
        }
      ]
    },
    {
      "cell_type": "markdown",
      "source": [
        "##Data Preparation"
      ],
      "metadata": {
        "id": "p-QBTSuHBNk1"
      }
    },
    {
      "cell_type": "markdown",
      "source": [
        "mengubah column y, dengan nilai 0 menunjukan *NO* dan nilai 1 menunjukan *YES*"
      ],
      "metadata": {
        "id": "kQcO2hcxb3wL"
      }
    },
    {
      "cell_type": "code",
      "source": [
        "dataset_train['target'] = dataset_train.loc[:, 'y'].apply(lambda x : 0 if x == \"no\" else 1)\n",
        "\n",
        "dataset_train.drop(columns=[\"default\", \"contact\",\t\"day\", \"campaign\",\t\"pdays\",\t\"previous\", \"poutcome\", \"y\"], inplace=True)"
      ],
      "metadata": {
        "id": "ceeYHVHBbxnX"
      },
      "execution_count": 80,
      "outputs": []
    },
    {
      "cell_type": "code",
      "source": [
        "dataset_test['target'] = dataset_test.loc[:, 'y'].apply(lambda x : 0 if x == \"no\" else 1)\n",
        "\n",
        "dataset_test.drop(columns=[\"default\", \"contact\",\t\"day\", \"campaign\",\t\"pdays\",\t\"previous\", \"poutcome\", \"y\"], inplace=True)"
      ],
      "metadata": {
        "id": "Agv02-YRmL8O"
      },
      "execution_count": 81,
      "outputs": []
    },
    {
      "cell_type": "markdown",
      "source": [
        "dataset train ini merupakan dataframe pandas, split data train dengan ratio 80:20 . 20 % untuk validasi"
      ],
      "metadata": {
        "id": "-Vnal1UbHcZY"
      }
    },
    {
      "cell_type": "code",
      "source": [
        "train, val = dataframe_split(dataset_train, ratio = 0.2, shuffle=1)"
      ],
      "metadata": {
        "id": "rt2ZWTYzeWzv"
      },
      "execution_count": 82,
      "outputs": []
    },
    {
      "cell_type": "code",
      "source": [
        "print(len(train), 'training examples')\n",
        "print(len(val), 'validation examples')"
      ],
      "metadata": {
        "colab": {
          "base_uri": "https://localhost:8080/"
        },
        "id": "PVFwlMDWH8Dl",
        "outputId": "62f994a6-48ce-4e50-af69-e32e42c7393b"
      },
      "execution_count": 83,
      "outputs": [
        {
          "output_type": "stream",
          "name": "stdout",
          "text": [
            "36169 training examples\n",
            "9042 validation examples\n"
          ]
        }
      ]
    },
    {
      "cell_type": "markdown",
      "source": [
        "##Data Preprocessing"
      ],
      "metadata": {
        "id": "NYgTyz9Hh6Wn"
      }
    },
    {
      "cell_type": "markdown",
      "source": [
        "membuat dataset"
      ],
      "metadata": {
        "id": "0VcaVe4Olf3u"
      }
    },
    {
      "cell_type": "code",
      "source": [
        "batch_size = 1024\n",
        "step = 128\n",
        "\n",
        "train_ds = dataframe_imbalance_to_dataset(train, batch_size=batch_size)\n",
        "val_ds = dataframe_imbalance_to_dataset(val, batch_size=batch_size)\n",
        "test_ds = dataframe_to_dataset(dataset_test, batch_size=batch_size)"
      ],
      "metadata": {
        "id": "G2yhdthoLmol"
      },
      "execution_count": 84,
      "outputs": []
    },
    {
      "cell_type": "markdown",
      "source": [
        "cek data"
      ],
      "metadata": {
        "id": "Q6RnUThrljIL"
      }
    },
    {
      "cell_type": "code",
      "source": [
        "for features, labels in train_ds.take(1):\n",
        "  print(labels.numpy())"
      ],
      "metadata": {
        "colab": {
          "base_uri": "https://localhost:8080/"
        },
        "id": "VptefnlDM1VA",
        "outputId": "a44fc1a9-10e1-4610-df2d-d736f8de0cf7"
      },
      "execution_count": 85,
      "outputs": [
        {
          "output_type": "stream",
          "name": "stdout",
          "text": [
            "[1 0 1 ... 0 1 1]\n"
          ]
        }
      ]
    },
    {
      "cell_type": "code",
      "source": [
        "[(train_features, label_batch)] = train_ds.take(1)\n",
        "print('Every feature:', list(train_features.keys()))\n",
        "print('A batch of marital:', train_features['job'])\n",
        "print('A batch of targets:', label_batch )"
      ],
      "metadata": {
        "id": "ytOpB5E5prrn",
        "outputId": "b2ea618d-814e-4411-f48d-9fd002572559",
        "colab": {
          "base_uri": "https://localhost:8080/"
        }
      },
      "execution_count": 109,
      "outputs": [
        {
          "output_type": "stream",
          "name": "stdout",
          "text": [
            "Every feature: ['age', 'job', 'marital', 'education', 'balance', 'housing', 'loan', 'month', 'duration']\n",
            "A batch of marital: tf.Tensor(\n",
            "[[b'services']\n",
            " [b'management']\n",
            " [b'retired']\n",
            " ...\n",
            " [b'management']\n",
            " [b'admin.']\n",
            " [b'technician']], shape=(1024, 1), dtype=string)\n",
            "A batch of targets: tf.Tensor([0 1 0 ... 0 1 1], shape=(1024,), dtype=int64)\n"
          ]
        }
      ]
    },
    {
      "cell_type": "code",
      "source": [
        "test_job_col = train_features['job']\n",
        "test_job_layer = categories_preprocessing(name='job',\n",
        "                                        dataset=train_ds,\n",
        "                                        dtype='string',\n",
        "                                        step=step)\n",
        "test_job_layer(test_job_col).numpy()"
      ],
      "metadata": {
        "id": "GfP9pgIMpcHV",
        "outputId": "3a4f7a14-1d36-4ebb-9b32-6dbe474275d7",
        "colab": {
          "base_uri": "https://localhost:8080/"
        }
      },
      "execution_count": 111,
      "outputs": [
        {
          "output_type": "execute_result",
          "data": {
            "text/plain": [
              "array([[0., 0., 0., ..., 0., 0., 0.],\n",
              "       [0., 1., 0., ..., 0., 0., 0.],\n",
              "       [0., 0., 0., ..., 0., 0., 0.],\n",
              "       ...,\n",
              "       [0., 1., 0., ..., 0., 0., 0.],\n",
              "       [0., 0., 0., ..., 0., 0., 0.],\n",
              "       [0., 0., 0., ..., 0., 0., 0.]], dtype=float32)"
            ]
          },
          "metadata": {},
          "execution_count": 111
        }
      ]
    },
    {
      "cell_type": "code",
      "source": [
        "test_duration_col = train_features['duration']\n",
        "test_duration_layer = numeric_preprocessing(name='duration',\n",
        "                                            dataset=train_ds,\n",
        "                                            step=step)\n",
        "test_duration_layer(test_duration_col)"
      ],
      "metadata": {
        "id": "chjd0RQAp4m8",
        "outputId": "88a6cc6f-3af6-4c03-b5fb-e301ed8d2086",
        "colab": {
          "base_uri": "https://localhost:8080/"
        }
      },
      "execution_count": 112,
      "outputs": [
        {
          "output_type": "execute_result",
          "data": {
            "text/plain": [
              "<tf.Tensor: shape=(1024, 1), dtype=float32, numpy=\n",
              "array([[-0.27201688],\n",
              "       [-0.48858696],\n",
              "       [-0.60257125],\n",
              "       ...,\n",
              "       [-1.0271626 ],\n",
              "       [ 0.92766744],\n",
              "       [-0.42304602]], dtype=float32)>"
            ]
          },
          "metadata": {},
          "execution_count": 112
        }
      ]
    },
    {
      "cell_type": "markdown",
      "source": [
        "membagikan column berdasarkan numeric atau categorical integer atau string"
      ],
      "metadata": {
        "id": "c19rHREvlsAr"
      }
    },
    {
      "cell_type": "code",
      "source": [
        "numeric_keys = [\"balance\", \"duration\"]\n",
        "categorical_integer_keys = [\"age\"]\n",
        "categorical_string_keys = [\"job\", \"marital\", \"education\", \"housing\", \"loan\", \"month\"]\n",
        "all_inputs = []\n",
        "all_preprocessors = []"
      ],
      "metadata": {
        "id": "Hl5BaK0S9Xb1"
      },
      "execution_count": 86,
      "outputs": []
    },
    {
      "cell_type": "code",
      "source": [
        "for numeric in numeric_keys:\n",
        "  input = tf.keras.Input(shape=(1,), name=numeric, dtype=\"int64\")\n",
        "  num_layer = numeric_preprocessing(name=numeric, dataset=train_ds, step=step)\n",
        "  num_preprocessor = num_layer(input)\n",
        "  all_inputs.append(input)\n",
        "  all_preprocessors.append(num_preprocessor)"
      ],
      "metadata": {
        "id": "n44nM94XQ4po"
      },
      "execution_count": 87,
      "outputs": []
    },
    {
      "cell_type": "code",
      "source": [
        "for categorical in categorical_string_keys:\n",
        "  input = tf.keras.Input(shape=(1,), name=categorical, dtype=\"string\")\n",
        "  cat_layer = categories_preprocessing(name=categorical, dataset=train_ds, dtype=\"string\", step=step)\n",
        "  cat_preprocessor = cat_layer(input)\n",
        "  all_inputs.append(input)\n",
        "  all_preprocessors.append(cat_preprocessor)"
      ],
      "metadata": {
        "id": "uZp_YEXgUlZc"
      },
      "execution_count": 88,
      "outputs": []
    },
    {
      "cell_type": "code",
      "source": [
        "for categorical_int in categorical_integer_keys:\n",
        "  input = tf.keras.Input(shape=(1,), name=categorical_int, dtype=\"int64\")\n",
        "  cat_int_layer = categories_preprocessing(name=categorical_int, dataset=train_ds, dtype=\"int64\", step=step)\n",
        "  cat_int_preprocessor = cat_int_layer(input)\n",
        "  all_inputs.append(input)\n",
        "  all_preprocessors.append(cat_int_preprocessor)"
      ],
      "metadata": {
        "id": "LcPGORYKsIYB"
      },
      "execution_count": 89,
      "outputs": []
    },
    {
      "cell_type": "code",
      "source": [
        "all_inputs, all_preprocessors"
      ],
      "metadata": {
        "colab": {
          "base_uri": "https://localhost:8080/"
        },
        "id": "dBp7suJaVeg8",
        "outputId": "847354b1-f2a2-4d27-a7c5-d2ae2f7b406c"
      },
      "execution_count": 90,
      "outputs": [
        {
          "output_type": "execute_result",
          "data": {
            "text/plain": [
              "([<KerasTensor: shape=(None, 1) dtype=int64 (created by layer 'balance')>,\n",
              "  <KerasTensor: shape=(None, 1) dtype=int64 (created by layer 'duration')>,\n",
              "  <KerasTensor: shape=(None, 1) dtype=string (created by layer 'job')>,\n",
              "  <KerasTensor: shape=(None, 1) dtype=string (created by layer 'marital')>,\n",
              "  <KerasTensor: shape=(None, 1) dtype=string (created by layer 'education')>,\n",
              "  <KerasTensor: shape=(None, 1) dtype=string (created by layer 'housing')>,\n",
              "  <KerasTensor: shape=(None, 1) dtype=string (created by layer 'loan')>,\n",
              "  <KerasTensor: shape=(None, 1) dtype=string (created by layer 'month')>,\n",
              "  <KerasTensor: shape=(None, 1) dtype=int64 (created by layer 'age')>],\n",
              " [<KerasTensor: shape=(None, 1) dtype=float32 (created by layer 'normalization_4')>,\n",
              "  <KerasTensor: shape=(None, 1) dtype=float32 (created by layer 'normalization_5')>,\n",
              "  <KerasTensor: shape=(None, 13) dtype=float32 (created by layer 'category_encoding')>,\n",
              "  <KerasTensor: shape=(None, 4) dtype=float32 (created by layer 'category_encoding_1')>,\n",
              "  <KerasTensor: shape=(None, 5) dtype=float32 (created by layer 'category_encoding_2')>,\n",
              "  <KerasTensor: shape=(None, 3) dtype=float32 (created by layer 'category_encoding_3')>,\n",
              "  <KerasTensor: shape=(None, 3) dtype=float32 (created by layer 'category_encoding_4')>,\n",
              "  <KerasTensor: shape=(None, 13) dtype=float32 (created by layer 'category_encoding_5')>,\n",
              "  <KerasTensor: shape=(None, 77) dtype=float32 (created by layer 'category_encoding_6')>])"
            ]
          },
          "metadata": {},
          "execution_count": 90
        }
      ]
    },
    {
      "cell_type": "markdown",
      "source": [
        "##Model"
      ],
      "metadata": {
        "id": "0w9VerxWVw43"
      }
    },
    {
      "cell_type": "code",
      "source": [
        "all_features = tf.keras.layers.concatenate(all_preprocessors)\n",
        "x = tf.keras.layers.Dense(16, activation=tf.keras.activations.relu, kernel_regularizer=tf.keras.regularizers.L2(0.00000001))(all_features)\n",
        "x = tf.keras.layers.Dropout(0.5)(x)\n",
        "x = tf.keras.layers.Dense(16, activation=tf.keras.activations.relu, kernel_regularizer=tf.keras.regularizers.L2(0.00000001))(x)\n",
        "x = tf.keras.layers.Dropout(0.5)(x)\n",
        "x = tf.keras.layers.Dense(16, activation=tf.keras.activations.relu, kernel_regularizer=tf.keras.regularizers.L2(0.00000001))(x)\n",
        "x = tf.keras.layers.Dropout(0.5)(x)\n",
        "output = tf.keras.layers.Dense(1, activation=tf.keras.activations.sigmoid)(x)\n",
        "\n",
        "model = tf.keras.Model(all_inputs, output)"
      ],
      "metadata": {
        "id": "Kq0jZyrzVwJT"
      },
      "execution_count": 95,
      "outputs": []
    },
    {
      "cell_type": "code",
      "source": [
        "tf.keras.utils.plot_model(model, show_shapes=True, rankdir=\"LR\")"
      ],
      "metadata": {
        "colab": {
          "base_uri": "https://localhost:8080/",
          "height": 571
        },
        "id": "yOHa8_s5d49g",
        "outputId": "0659e7f8-7f33-4681-8d24-2423c3ca905c"
      },
      "execution_count": 96,
      "outputs": [
        {
          "output_type": "execute_result",
          "data": {
            "text/plain": [
              "<IPython.core.display.Image object>"
            ],
            "image/png": "[encoded data removed]"
          },
          "metadata": {},
          "execution_count": 96
        }
      ]
    },
    {
      "cell_type": "code",
      "source": [
        "METRICS = [\n",
        "      tf.keras.metrics.TruePositives(name='tp'),\n",
        "      tf.keras.metrics.FalsePositives(name='fp'),\n",
        "      tf.keras.metrics.TrueNegatives(name='tn'),\n",
        "      tf.keras.metrics.FalseNegatives(name='fn'), \n",
        "      tf.keras.metrics.BinaryAccuracy(name='accuracy'),\n",
        "      tf.keras.metrics.Precision(name='precision'),\n",
        "      tf.keras.metrics.Recall(name='recall'),\n",
        "]\n",
        "model.compile(optimizer=tf.keras.optimizers.Adam(),\n",
        "              loss=tf.keras.losses.BinaryCrossentropy(),\n",
        "              metrics=METRICS)"
      ],
      "metadata": {
        "id": "8ohLUpvQdMsH"
      },
      "execution_count": 97,
      "outputs": []
    },
    {
      "cell_type": "code",
      "source": [
        "loss = tf.keras.callbacks.EarlyStopping(monitor='loss', patience=5, restore_best_weights=True)\n",
        "val_loss = tf.keras.callbacks.EarlyStopping(monitor='val_loss', patience=5, restore_best_weights=True)\n",
        "history = model.fit(train_ds, epochs=100, validation_data=val_ds, validation_steps=32, callbacks=[loss, val_loss], steps_per_epoch=32)"
      ],
      "metadata": {
        "colab": {
          "base_uri": "https://localhost:8080/"
        },
        "id": "3XgJ1yhqeOMb",
        "outputId": "865eae6c-b645-4ab3-f683-fe784e9ec190"
      },
      "execution_count": 98,
      "outputs": [
        {
          "output_type": "stream",
          "name": "stdout",
          "text": [
            "Epoch 1/100\n",
            "32/32 [==============================] - 19s 420ms/step - loss: 0.7212 - tp: 7006.0000 - fp: 6936.0000 - tn: 9556.0000 - fn: 9270.0000 - accuracy: 0.5054 - precision: 0.5025 - recall: 0.4304 - val_loss: 0.6804 - val_tp: 14154.0000 - val_fp: 12193.0000 - val_tn: 4299.0000 - val_fn: 2122.0000 - val_accuracy: 0.5631 - val_precision: 0.5372 - val_recall: 0.8696\n",
            "Epoch 2/100\n",
            "32/32 [==============================] - 12s 400ms/step - loss: 0.6878 - tp: 10797.0000 - fp: 9777.0000 - tn: 6643.0000 - fn: 5551.0000 - accuracy: 0.5322 - precision: 0.5248 - recall: 0.6604 - val_loss: 0.6607 - val_tp: 13830.0000 - val_fp: 7746.0000 - val_tn: 8701.0000 - val_fn: 2491.0000 - val_accuracy: 0.6876 - val_precision: 0.6410 - val_recall: 0.8474\n",
            "Epoch 3/100\n",
            "32/32 [==============================] - 15s 468ms/step - loss: 0.6687 - tp: 10638.0000 - fp: 8155.0000 - tn: 8247.0000 - fn: 5728.0000 - accuracy: 0.5763 - precision: 0.5661 - recall: 0.6500 - val_loss: 0.6152 - val_tp: 12506.0000 - val_fp: 3769.0000 - val_tn: 12572.0000 - val_fn: 3921.0000 - val_accuracy: 0.7653 - val_precision: 0.7684 - val_recall: 0.7613\n",
            "Epoch 4/100\n",
            "32/32 [==============================] - 14s 465ms/step - loss: 0.6358 - tp: 11236.0000 - fp: 6788.0000 - tn: 9519.0000 - fn: 5225.0000 - accuracy: 0.6334 - precision: 0.6234 - recall: 0.6826 - val_loss: 0.5575 - val_tp: 13135.0000 - val_fp: 3516.0000 - val_tn: 12945.0000 - val_fn: 3172.0000 - val_accuracy: 0.7959 - val_precision: 0.7888 - val_recall: 0.8055\n",
            "Epoch 5/100\n",
            "32/32 [==============================] - 13s 422ms/step - loss: 0.6026 - tp: 11660.0000 - fp: 6070.0000 - tn: 10484.0000 - fn: 4554.0000 - accuracy: 0.6758 - precision: 0.6576 - recall: 0.7191 - val_loss: 0.5116 - val_tp: 13804.0000 - val_fp: 3770.0000 - val_tn: 12555.0000 - val_fn: 2639.0000 - val_accuracy: 0.8044 - val_precision: 0.7855 - val_recall: 0.8395\n",
            "Epoch 6/100\n",
            "32/32 [==============================] - 12s 382ms/step - loss: 0.5795 - tp: 12599.0000 - fp: 5685.0000 - tn: 10720.0000 - fn: 3764.0000 - accuracy: 0.7116 - precision: 0.6891 - recall: 0.7700 - val_loss: 0.4824 - val_tp: 13564.0000 - val_fp: 3416.0000 - val_tn: 12886.0000 - val_fn: 2902.0000 - val_accuracy: 0.8072 - val_precision: 0.7988 - val_recall: 0.8238\n",
            "Epoch 7/100\n",
            "32/32 [==============================] - 10s 336ms/step - loss: 0.5551 - tp: 12712.0000 - fp: 5074.0000 - tn: 11375.0000 - fn: 3607.0000 - accuracy: 0.7351 - precision: 0.7147 - recall: 0.7790 - val_loss: 0.4608 - val_tp: 13693.0000 - val_fp: 3481.0000 - val_tn: 12873.0000 - val_fn: 2721.0000 - val_accuracy: 0.8107 - val_precision: 0.7973 - val_recall: 0.8342\n",
            "Epoch 8/100\n",
            "32/32 [==============================] - 10s 328ms/step - loss: 0.5386 - tp: 12989.0000 - fp: 4939.0000 - tn: 11530.0000 - fn: 3310.0000 - accuracy: 0.7483 - precision: 0.7245 - recall: 0.7969 - val_loss: 0.4498 - val_tp: 13674.0000 - val_fp: 3425.0000 - val_tn: 12949.0000 - val_fn: 2720.0000 - val_accuracy: 0.8125 - val_precision: 0.7997 - val_recall: 0.8341\n",
            "Epoch 9/100\n",
            "32/32 [==============================] - 10s 321ms/step - loss: 0.5218 - tp: 13209.0000 - fp: 4634.0000 - tn: 11802.0000 - fn: 3123.0000 - accuracy: 0.7633 - precision: 0.7403 - recall: 0.8088 - val_loss: 0.4381 - val_tp: 14004.0000 - val_fp: 3730.0000 - val_tn: 12733.0000 - val_fn: 2301.0000 - val_accuracy: 0.8159 - val_precision: 0.7897 - val_recall: 0.8589\n",
            "Epoch 10/100\n",
            "32/32 [==============================] - 10s 324ms/step - loss: 0.5193 - tp: 13296.0000 - fp: 4611.0000 - tn: 11856.0000 - fn: 3005.0000 - accuracy: 0.7676 - precision: 0.7425 - recall: 0.8157 - val_loss: 0.4375 - val_tp: 14001.0000 - val_fp: 3763.0000 - val_tn: 12657.0000 - val_fn: 2347.0000 - val_accuracy: 0.8135 - val_precision: 0.7882 - val_recall: 0.8564\n",
            "Epoch 11/100\n",
            "32/32 [==============================] - 10s 326ms/step - loss: 0.5106 - tp: 13515.0000 - fp: 4567.0000 - tn: 11866.0000 - fn: 2820.0000 - accuracy: 0.7746 - precision: 0.7474 - recall: 0.8274 - val_loss: 0.4329 - val_tp: 14385.0000 - val_fp: 3912.0000 - val_tn: 12278.0000 - val_fn: 2193.0000 - val_accuracy: 0.8137 - val_precision: 0.7862 - val_recall: 0.8677\n",
            "Epoch 12/100\n",
            "32/32 [==============================] - 10s 329ms/step - loss: 0.4977 - tp: 13757.0000 - fp: 4482.0000 - tn: 11772.0000 - fn: 2757.0000 - accuracy: 0.7791 - precision: 0.7543 - recall: 0.8331 - val_loss: 0.4280 - val_tp: 14191.0000 - val_fp: 4021.0000 - val_tn: 12405.0000 - val_fn: 2151.0000 - val_accuracy: 0.8116 - val_precision: 0.7792 - val_recall: 0.8684\n",
            "Epoch 13/100\n",
            "32/32 [==============================] - 12s 400ms/step - loss: 0.4944 - tp: 13921.0000 - fp: 4518.0000 - tn: 11728.0000 - fn: 2601.0000 - accuracy: 0.7827 - precision: 0.7550 - recall: 0.8426 - val_loss: 0.4253 - val_tp: 14317.0000 - val_fp: 3706.0000 - val_tn: 12459.0000 - val_fn: 2286.0000 - val_accuracy: 0.8171 - val_precision: 0.7944 - val_recall: 0.8623\n",
            "Epoch 14/100\n",
            "32/32 [==============================] - 10s 331ms/step - loss: 0.4911 - tp: 13899.0000 - fp: 4436.0000 - tn: 11837.0000 - fn: 2596.0000 - accuracy: 0.7854 - precision: 0.7581 - recall: 0.8426 - val_loss: 0.4247 - val_tp: 14288.0000 - val_fp: 3931.0000 - val_tn: 12387.0000 - val_fn: 2162.0000 - val_accuracy: 0.8141 - val_precision: 0.7842 - val_recall: 0.8686\n",
            "Epoch 15/100\n",
            "32/32 [==============================] - 10s 335ms/step - loss: 0.4854 - tp: 13943.0000 - fp: 4319.0000 - tn: 11948.0000 - fn: 2558.0000 - accuracy: 0.7901 - precision: 0.7635 - recall: 0.8450 - val_loss: 0.4218 - val_tp: 14262.0000 - val_fp: 3903.0000 - val_tn: 12429.0000 - val_fn: 2174.0000 - val_accuracy: 0.8145 - val_precision: 0.7851 - val_recall: 0.8677\n",
            "Epoch 16/100\n",
            "32/32 [==============================] - 10s 330ms/step - loss: 0.4819 - tp: 13774.0000 - fp: 4264.0000 - tn: 12114.0000 - fn: 2616.0000 - accuracy: 0.7900 - precision: 0.7636 - recall: 0.8404 - val_loss: 0.4226 - val_tp: 14198.0000 - val_fp: 3934.0000 - val_tn: 12484.0000 - val_fn: 2152.0000 - val_accuracy: 0.8143 - val_precision: 0.7830 - val_recall: 0.8684\n",
            "Epoch 17/100\n",
            "32/32 [==============================] - 11s 339ms/step - loss: 0.4776 - tp: 13881.0000 - fp: 4176.0000 - tn: 12181.0000 - fn: 2530.0000 - accuracy: 0.7953 - precision: 0.7687 - recall: 0.8458 - val_loss: 0.4216 - val_tp: 14313.0000 - val_fp: 3854.0000 - val_tn: 12363.0000 - val_fn: 2238.0000 - val_accuracy: 0.8141 - val_precision: 0.7879 - val_recall: 0.8648\n",
            "Epoch 18/100\n",
            "32/32 [==============================] - 10s 336ms/step - loss: 0.4749 - tp: 13915.0000 - fp: 4193.0000 - tn: 12181.0000 - fn: 2479.0000 - accuracy: 0.7964 - precision: 0.7684 - recall: 0.8488 - val_loss: 0.4218 - val_tp: 14237.0000 - val_fp: 3803.0000 - val_tn: 12448.0000 - val_fn: 2280.0000 - val_accuracy: 0.8144 - val_precision: 0.7892 - val_recall: 0.8620\n",
            "Epoch 19/100\n",
            "32/32 [==============================] - 10s 326ms/step - loss: 0.4723 - tp: 13885.0000 - fp: 4187.0000 - tn: 12232.0000 - fn: 2464.0000 - accuracy: 0.7970 - precision: 0.7683 - recall: 0.8493 - val_loss: 0.4204 - val_tp: 14221.0000 - val_fp: 3780.0000 - val_tn: 12565.0000 - val_fn: 2202.0000 - val_accuracy: 0.8174 - val_precision: 0.7900 - val_recall: 0.8659\n",
            "Epoch 20/100\n",
            "32/32 [==============================] - 12s 379ms/step - loss: 0.4670 - tp: 13984.0000 - fp: 4058.0000 - tn: 12268.0000 - fn: 2458.0000 - accuracy: 0.8011 - precision: 0.7751 - recall: 0.8505 - val_loss: 0.4207 - val_tp: 14089.0000 - val_fp: 3880.0000 - val_tn: 12602.0000 - val_fn: 2197.0000 - val_accuracy: 0.8145 - val_precision: 0.7841 - val_recall: 0.8651\n",
            "Epoch 21/100\n",
            "32/32 [==============================] - 10s 333ms/step - loss: 0.4693 - tp: 13835.0000 - fp: 4171.0000 - tn: 12347.0000 - fn: 2415.0000 - accuracy: 0.7990 - precision: 0.7684 - recall: 0.8514 - val_loss: 0.4215 - val_tp: 14249.0000 - val_fp: 3855.0000 - val_tn: 12416.0000 - val_fn: 2248.0000 - val_accuracy: 0.8138 - val_precision: 0.7871 - val_recall: 0.8637\n",
            "Epoch 22/100\n",
            "32/32 [==============================] - 10s 333ms/step - loss: 0.4660 - tp: 14020.0000 - fp: 4113.0000 - tn: 12269.0000 - fn: 2366.0000 - accuracy: 0.8023 - precision: 0.7732 - recall: 0.8556 - val_loss: 0.4209 - val_tp: 14191.0000 - val_fp: 3803.0000 - val_tn: 12555.0000 - val_fn: 2219.0000 - val_accuracy: 0.8162 - val_precision: 0.7887 - val_recall: 0.8648\n",
            "Epoch 23/100\n",
            "32/32 [==============================] - 10s 330ms/step - loss: 0.4630 - tp: 14089.0000 - fp: 4113.0000 - tn: 12179.0000 - fn: 2387.0000 - accuracy: 0.8016 - precision: 0.7740 - recall: 0.8551 - val_loss: 0.4197 - val_tp: 13980.0000 - val_fp: 3829.0000 - val_tn: 12702.0000 - val_fn: 2257.0000 - val_accuracy: 0.8143 - val_precision: 0.7850 - val_recall: 0.8610\n",
            "Epoch 24/100\n",
            "32/32 [==============================] - 10s 328ms/step - loss: 0.4604 - tp: 13989.0000 - fp: 4099.0000 - tn: 12361.0000 - fn: 2319.0000 - accuracy: 0.8041 - precision: 0.7734 - recall: 0.8578 - val_loss: 0.4202 - val_tp: 14196.0000 - val_fp: 3789.0000 - val_tn: 12548.0000 - val_fn: 2235.0000 - val_accuracy: 0.8162 - val_precision: 0.7893 - val_recall: 0.8640\n",
            "Epoch 25/100\n",
            "32/32 [==============================] - 10s 331ms/step - loss: 0.4611 - tp: 14013.0000 - fp: 4036.0000 - tn: 12347.0000 - fn: 2372.0000 - accuracy: 0.8044 - precision: 0.7764 - recall: 0.8552 - val_loss: 0.4189 - val_tp: 14168.0000 - val_fp: 3831.0000 - val_tn: 12548.0000 - val_fn: 2221.0000 - val_accuracy: 0.8153 - val_precision: 0.7872 - val_recall: 0.8645\n",
            "Epoch 26/100\n",
            "32/32 [==============================] - 10s 328ms/step - loss: 0.4626 - tp: 13854.0000 - fp: 4091.0000 - tn: 12417.0000 - fn: 2406.0000 - accuracy: 0.8017 - precision: 0.7720 - recall: 0.8520 - val_loss: 0.4208 - val_tp: 13937.0000 - val_fp: 3696.0000 - val_tn: 12739.0000 - val_fn: 2396.0000 - val_accuracy: 0.8141 - val_precision: 0.7904 - val_recall: 0.8533\n",
            "Epoch 27/100\n",
            "32/32 [==============================] - 12s 390ms/step - loss: 0.4541 - tp: 13858.0000 - fp: 4046.0000 - tn: 12522.0000 - fn: 2342.0000 - accuracy: 0.8051 - precision: 0.7740 - recall: 0.8554 - val_loss: 0.4210 - val_tp: 13910.0000 - val_fp: 3467.0000 - val_tn: 12848.0000 - val_fn: 2543.0000 - val_accuracy: 0.8166 - val_precision: 0.8005 - val_recall: 0.8454\n",
            "Epoch 28/100\n",
            "32/32 [==============================] - 10s 336ms/step - loss: 0.4549 - tp: 14061.0000 - fp: 4052.0000 - tn: 12347.0000 - fn: 2308.0000 - accuracy: 0.8059 - precision: 0.7763 - recall: 0.8590 - val_loss: 0.4211 - val_tp: 14165.0000 - val_fp: 3790.0000 - val_tn: 12545.0000 - val_fn: 2268.0000 - val_accuracy: 0.8151 - val_precision: 0.7889 - val_recall: 0.8620\n",
            "Epoch 29/100\n",
            "32/32 [==============================] - 10s 335ms/step - loss: 0.4570 - tp: 14073.0000 - fp: 4054.0000 - tn: 12302.0000 - fn: 2339.0000 - accuracy: 0.8049 - precision: 0.7764 - recall: 0.8575 - val_loss: 0.4201 - val_tp: 14177.0000 - val_fp: 3690.0000 - val_tn: 12631.0000 - val_fn: 2270.0000 - val_accuracy: 0.8181 - val_precision: 0.7935 - val_recall: 0.8620\n",
            "Epoch 30/100\n",
            "32/32 [==============================] - 11s 339ms/step - loss: 0.4541 - tp: 14129.0000 - fp: 4106.0000 - tn: 12246.0000 - fn: 2287.0000 - accuracy: 0.8049 - precision: 0.7748 - recall: 0.8607 - val_loss: 0.4199 - val_tp: 14091.0000 - val_fp: 3607.0000 - val_tn: 12709.0000 - val_fn: 2361.0000 - val_accuracy: 0.8179 - val_precision: 0.7962 - val_recall: 0.8565\n"
          ]
        }
      ]
    },
    {
      "cell_type": "markdown",
      "source": [
        "##Model Evaluation"
      ],
      "metadata": {
        "id": "oR0g7AJPLiA1"
      }
    },
    {
      "cell_type": "code",
      "source": [
        "metric = ['loss', 'accuracy', 'precision', 'recall']\n",
        "plot_metric(2,2, history, metric)"
      ],
      "metadata": {
        "id": "Gs-9MpCvtnP9",
        "outputId": "0bb5ae89-19ab-4d03-8497-8b6f1b4f7c14",
        "colab": {
          "base_uri": "https://localhost:8080/",
          "height": 606
        }
      },
      "execution_count": 99,
      "outputs": [
        {
          "output_type": "display_data",
          "data": {
            "text/plain": [
              "<Figure size 1080x720 with 4 Axes>"
            ],
            "image/png": "[encoded data removed]"
          },
          "metadata": {
            "needs_background": "light"
          }
        }
      ]
    },
    {
      "cell_type": "code",
      "source": [
        "predict_test = model.predict(test_ds)\n",
        "test_ds_unbach = test_ds.unbatch()\n",
        "label_test = [i[1] for i in list(test_ds_unbach.as_numpy_iterator())]"
      ],
      "metadata": {
        "id": "KNNpYRY-o7wH"
      },
      "execution_count": 107,
      "outputs": []
    },
    {
      "cell_type": "code",
      "source": [
        "model_evaluate = model.evaluate(test_ds)\n",
        "for name_metric, value_evaluate in zip(model.metrics_names, model_evaluate):\n",
        "  print(name_metric, ': ', value_evaluate)\n",
        "\n",
        "plot_confution_matrix(label_test, predict_test)"
      ],
      "metadata": {
        "id": "tl8vJBCmpgtJ",
        "colab": {
          "base_uri": "https://localhost:8080/",
          "height": 613
        },
        "outputId": "831239e5-71b4-4a5d-e113-9bbc4bed688b"
      },
      "execution_count": 108,
      "outputs": [
        {
          "output_type": "stream",
          "name": "stdout",
          "text": [
            "5/5 [==============================] - 0s 11ms/step - loss: 0.4305 - tp: 460.0000 - fp: 947.0000 - tn: 3053.0000 - fn: 61.0000 - accuracy: 0.7770 - precision: 0.3269 - recall: 0.8829\n",
            "loss :  0.4305034875869751\n",
            "tp :  460.0\n",
            "fp :  947.0\n",
            "tn :  3053.0\n",
            "fn :  61.0\n",
            "accuracy :  0.7770404815673828\n",
            "precision :  0.3269367516040802\n",
            "recall :  0.8829174637794495\n",
            "Legitimate Transactions Detected (True Negatives):  3053\n",
            "Legitimate Transactions Incorrectly Detected (False Positives):  947\n",
            "Fraudulent Transactions Missed (False Negatives):  61\n",
            "Fraudulent Transactions Detected (True Positives):  460\n",
            "Total Fraudulent Transactions:  521\n"
          ]
        },
        {
          "output_type": "display_data",
          "data": {
            "text/plain": [
              "<Figure size 360x360 with 2 Axes>"
            ],
            "image/png": "[encoded data removed]"
          },
          "metadata": {
            "needs_background": "light"
          }
        }
      ]
    },
    {
      "cell_type": "code",
      "source": [
        "dataset_test.sort_values(by=[\"target\"], ascending=True).head()"
      ],
      "metadata": {
        "id": "QImhllBHu2zd",
        "colab": {
          "base_uri": "https://localhost:8080/",
          "height": 206
        },
        "outputId": "c1abbecd-3d80-427c-9413-d5e7f14cf1ed"
      },
      "execution_count": 103,
      "outputs": [
        {
          "output_type": "execute_result",
          "data": {
            "text/plain": [
              "      age         job  marital  education  balance housing loan month  \\\n",
              "0      30  unemployed  married    primary     1787      no   no   oct   \n",
              "2906   34  management   single   tertiary        0      no   no   aug   \n",
              "2907   44  technician  married   tertiary     1707      no   no   aug   \n",
              "2908   35  technician  married  secondary    13658     yes   no   dec   \n",
              "2909   39      admin.  married  secondary      406      no   no   jul   \n",
              "\n",
              "      duration  target  \n",
              "0           79       0  \n",
              "2906       191       0  \n",
              "2907       406       0  \n",
              "2908       220       0  \n",
              "2909       253       0  "
            ],
            "text/html": [
              "\n",
              "  <div id=\"df-5a290764-5274-43b8-ba0d-438466fccd77\">\n",
              "    <div class=\"colab-df-container\">\n",
              "      <div>\n",
              "<style scoped>\n",
              "    .dataframe tbody tr th:only-of-type {\n",
              "        vertical-align: middle;\n",
              "    }\n",
              "\n",
              "    .dataframe tbody tr th {\n",
              "        vertical-align: top;\n",
              "    }\n",
              "\n",
              "    .dataframe thead th {\n",
              "        text-align: right;\n",
              "    }\n",
              "</style>\n",
              "<table border=\"1\" class=\"dataframe\">\n",
              "  <thead>\n",
              "    <tr style=\"text-align: right;\">\n",
              "      <th></th>\n",
              "      <th>age</th>\n",
              "      <th>job</th>\n",
              "      <th>marital</th>\n",
              "      <th>education</th>\n",
              "      <th>balance</th>\n",
              "      <th>housing</th>\n",
              "      <th>loan</th>\n",
              "      <th>month</th>\n",
              "      <th>duration</th>\n",
              "      <th>target</th>\n",
              "    </tr>\n",
              "  </thead>\n",
              "  <tbody>\n",
              "    <tr>\n",
              "      <th>0</th>\n",
              "      <td>30</td>\n",
              "      <td>unemployed</td>\n",
              "      <td>married</td>\n",
              "      <td>primary</td>\n",
              "      <td>1787</td>\n",
              "      <td>no</td>\n",
              "      <td>no</td>\n",
              "      <td>oct</td>\n",
              "      <td>79</td>\n",
              "      <td>0</td>\n",
              "    </tr>\n",
              "    <tr>\n",
              "      <th>2906</th>\n",
              "      <td>34</td>\n",
              "      <td>management</td>\n",
              "      <td>single</td>\n",
              "      <td>tertiary</td>\n",
              "      <td>0</td>\n",
              "      <td>no</td>\n",
              "      <td>no</td>\n",
              "      <td>aug</td>\n",
              "      <td>191</td>\n",
              "      <td>0</td>\n",
              "    </tr>\n",
              "    <tr>\n",
              "      <th>2907</th>\n",
              "      <td>44</td>\n",
              "      <td>technician</td>\n",
              "      <td>married</td>\n",
              "      <td>tertiary</td>\n",
              "      <td>1707</td>\n",
              "      <td>no</td>\n",
              "      <td>no</td>\n",
              "      <td>aug</td>\n",
              "      <td>406</td>\n",
              "      <td>0</td>\n",
              "    </tr>\n",
              "    <tr>\n",
              "      <th>2908</th>\n",
              "      <td>35</td>\n",
              "      <td>technician</td>\n",
              "      <td>married</td>\n",
              "      <td>secondary</td>\n",
              "      <td>13658</td>\n",
              "      <td>yes</td>\n",
              "      <td>no</td>\n",
              "      <td>dec</td>\n",
              "      <td>220</td>\n",
              "      <td>0</td>\n",
              "    </tr>\n",
              "    <tr>\n",
              "      <th>2909</th>\n",
              "      <td>39</td>\n",
              "      <td>admin.</td>\n",
              "      <td>married</td>\n",
              "      <td>secondary</td>\n",
              "      <td>406</td>\n",
              "      <td>no</td>\n",
              "      <td>no</td>\n",
              "      <td>jul</td>\n",
              "      <td>253</td>\n",
              "      <td>0</td>\n",
              "    </tr>\n",
              "  </tbody>\n",
              "</table>\n",
              "</div>\n",
              "      <button class=\"colab-df-convert\" onclick=\"convertToInteractive('df-5a290764-5274-43b8-ba0d-438466fccd77')\"\n",
              "              title=\"Convert this dataframe to an interactive table.\"\n",
              "              style=\"display:none;\">\n",
              "        \n",
              "  <svg xmlns=\"http://www.w3.org/2000/svg\" height=\"24px\"viewBox=\"0 0 24 24\"\n",
              "       width=\"24px\">\n",
              "    <path d=\"M0 0h24v24H0V0z\" fill=\"none\"/>\n",
              "    <path d=\"M18.56 5.44l.94 2.06.94-2.06 2.06-.94-2.06-.94-.94-2.06-.94 2.06-2.06.94zm-11 1L8.5 8.5l.94-2.06 2.06-.94-2.06-.94L8.5 2.5l-.94 2.06-2.06.94zm10 10l.94 2.06.94-2.06 2.06-.94-2.06-.94-.94-2.06-.94 2.06-2.06.94z\"/><path d=\"M17.41 7.96l-1.37-1.37c-.4-.4-.92-.59-1.43-.59-.52 0-1.04.2-1.43.59L10.3 9.45l-7.72 7.72c-.78.78-.78 2.05 0 2.83L4 21.41c.39.39.9.59 1.41.59.51 0 1.02-.2 1.41-.59l7.78-7.78 2.81-2.81c.8-.78.8-2.07 0-2.86zM5.41 20L4 18.59l7.72-7.72 1.47 1.35L5.41 20z\"/>\n",
              "  </svg>\n",
              "      </button>\n",
              "      \n",
              "  <style>\n",
              "    .colab-df-container {\n",
              "      display:flex;\n",
              "      flex-wrap:wrap;\n",
              "      gap: 12px;\n",
              "    }\n",
              "\n",
              "    .colab-df-convert {\n",
              "      background-color: #E8F0FE;\n",
              "      border: none;\n",
              "      border-radius: 50%;\n",
              "      cursor: pointer;\n",
              "      display: none;\n",
              "      fill: #1967D2;\n",
              "      height: 32px;\n",
              "      padding: 0 0 0 0;\n",
              "      width: 32px;\n",
              "    }\n",
              "\n",
              "    .colab-df-convert:hover {\n",
              "      background-color: #E2EBFA;\n",
              "      box-shadow: 0px 1px 2px rgba(60, 64, 67, 0.3), 0px 1px 3px 1px rgba(60, 64, 67, 0.15);\n",
              "      fill: #174EA6;\n",
              "    }\n",
              "\n",
              "    [theme=dark] .colab-df-convert {\n",
              "      background-color: #3B4455;\n",
              "      fill: #D2E3FC;\n",
              "    }\n",
              "\n",
              "    [theme=dark] .colab-df-convert:hover {\n",
              "      background-color: #434B5C;\n",
              "      box-shadow: 0px 1px 3px 1px rgba(0, 0, 0, 0.15);\n",
              "      filter: drop-shadow(0px 1px 2px rgba(0, 0, 0, 0.3));\n",
              "      fill: #FFFFFF;\n",
              "    }\n",
              "  </style>\n",
              "\n",
              "      <script>\n",
              "        const buttonEl =\n",
              "          document.querySelector('#df-5a290764-5274-43b8-ba0d-438466fccd77 button.colab-df-convert');\n",
              "        buttonEl.style.display =\n",
              "          google.colab.kernel.accessAllowed ? 'block' : 'none';\n",
              "\n",
              "        async function convertToInteractive(key) {\n",
              "          const element = document.querySelector('#df-5a290764-5274-43b8-ba0d-438466fccd77');\n",
              "          const dataTable =\n",
              "            await google.colab.kernel.invokeFunction('convertToInteractive',\n",
              "                                                     [key], {});\n",
              "          if (!dataTable) return;\n",
              "\n",
              "          const docLinkHtml = 'Like what you see? Visit the ' +\n",
              "            '<a target=\"_blank\" href=https://colab.research.google.com/notebooks/data_table.ipynb>data table notebook</a>'\n",
              "            + ' to learn more about interactive tables.';\n",
              "          element.innerHTML = '';\n",
              "          dataTable['output_type'] = 'display_data';\n",
              "          await google.colab.output.renderOutput(dataTable, element);\n",
              "          const docLink = document.createElement('div');\n",
              "          docLink.innerHTML = docLinkHtml;\n",
              "          element.appendChild(docLink);\n",
              "        }\n",
              "      </script>\n",
              "    </div>\n",
              "  </div>\n",
              "  "
            ]
          },
          "metadata": {},
          "execution_count": 103
        }
      ]
    },
    {
      "cell_type": "markdown",
      "source": [
        "##Simulation"
      ],
      "metadata": {
        "id": "JnbZWUunLtWa"
      }
    },
    {
      "cell_type": "code",
      "source": [
        "sample = {\n",
        "    'age': 35,\n",
        "    'job': 'technician',\n",
        "    'marital': 'married',\n",
        "    'education': 'secondary',\n",
        "    'balance': 13658,\n",
        "    'housing': 'yes',\n",
        "    'loan': 'no',\n",
        "    'month': 'dec',\n",
        "    'duration': 220\n",
        "}\n",
        "\n",
        "input_dict = {name: tf.convert_to_tensor([value]) for name, value in sample.items()}\n",
        "predictions = model.predict(input_dict)\n",
        "\n",
        "print(\n",
        "    f\"Probabilitas untuk berlangganan deposito berjangka adalah {round(100 * predictions[0][0], 2)} % \"\n",
        "    f\"untuk setuju\"\n",
        ")"
      ],
      "metadata": {
        "id": "EZ8ZzX-X3PgX",
        "colab": {
          "base_uri": "https://localhost:8080/"
        },
        "outputId": "a464915b-4cca-46d4-fc33-b2fe23e6e6d4"
      },
      "execution_count": 106,
      "outputs": [
        {
          "output_type": "stream",
          "name": "stdout",
          "text": [
            "Probabilitas untuk berlangganan deposito berjangka adalah 74.58 % untuk setuju\n"
          ]
        }
      ]
    }
  ]
}