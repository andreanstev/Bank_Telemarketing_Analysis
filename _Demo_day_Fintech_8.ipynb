{
  "cells": [
    {
      "cell_type": "markdown",
      "metadata": {
        "id": "view-in-github"
      },
      "source": [
        "<a href=\"https://colab.research.google.com/github/iongie/demo-day-fin-8/blob/Gigih-Santoso/_Demo_day_Fintech_8.ipynb\" target=\"_parent\"><img src=\"https://colab.research.google.com/assets/colab-badge.svg\" alt=\"Open In Colab\"/></a>"
      ]
    },
    {
      "cell_type": "markdown",
      "metadata": {
        "id": "hDbYMQhe0P1A"
      },
      "source": [
        "#Demo day Fintech 8\n",
        "\n",
        "\"Data tersebut terkait dengan kampanye pemasaran langsung dari lembaga perbankan Portugis. Kampanye pemasaran didasarkan pada panggilan telepon. Seringkali, lebih dari satu kontak ke klien yang sama diperlukan, untuk mengakses apakah produk (deposito berjangka bank) akan ('ya') atau tidak ('tidak') dilanggan oleh pelanggan atau tidak. Folder data berisi dua kumpulan data: -\n",
        "\n",
        "     train.csv: 45.211 baris dan 18 kolom diurutkan berdasarkan tanggal (dari Mei 2008 hingga November 2010)\n",
        "     test.csv: 4521 baris dan 18 kolom dengan 10% contoh (4521), dipilih secara acak dari train.csv\""
      ]
    },
    {
      "cell_type": "markdown",
      "metadata": {
        "id": "8Hg4ZuZM0DQa"
      },
      "source": [
        "test pull and push"
      ]
    },
    {
      "cell_type": "markdown",
      "metadata": {
        "id": "FVjSsPfn0VTS"
      },
      "source": [
        "##Setup"
      ]
    },
    {
      "cell_type": "code",
      "execution_count": 1,
      "metadata": {
        "id": "XNyPcjlfy4QW"
      },
      "outputs": [],
      "source": [
        "import pathlib\n",
        "import tensorflow as tf\n",
        "import zipfile\n",
        "import os\n",
        "import matplotlib.pyplot as plt\n",
        "import pandas as pd\n",
        "import numpy as np\n",
        "import seaborn as sns\n",
        "from google.colab import drive\n",
        "from google.colab import data_table\n",
        "import tensorflow as tf\n",
        "from sklearn.metrics import confusion_matrix"
      ]
    },
    {
      "cell_type": "markdown",
      "metadata": {
        "id": "ppsowJyTjXhT"
      },
      "source": [
        "##Function"
      ]
    },
    {
      "cell_type": "markdown",
      "metadata": {
        "id": "RGZYYbArmE3y"
      },
      "source": [
        "function split data"
      ]
    },
    {
      "cell_type": "code",
      "execution_count": 2,
      "metadata": {
        "id": "-yhTOXNX9zG_"
      },
      "outputs": [],
      "source": [
        "def dataframe_split(data, ratio= 0.2, shuffle= 0):\n",
        "  len_ = int(len(data) - (ratio*len(data)))\n",
        "  if shuffle == 0 :\n",
        "    part_  = data.iloc[:int(1 + len_)]\n",
        "    rest_part_ = data.drop(part_.index)\n",
        "  elif shuffle == 1:\n",
        "    part_ = data.sample(frac = 1.0 - ratio)\n",
        "    rest_part_ = data.drop(part_.index)\n",
        "  return (part_, rest_part_)"
      ]
    },
    {
      "cell_type": "markdown",
      "metadata": {
        "id": "aES7xQuXmG_-"
      },
      "source": [
        "function membuat dataset"
      ]
    },
    {
      "cell_type": "code",
      "execution_count": 3,
      "metadata": {
        "id": "yUeMchRXKhcS"
      },
      "outputs": [],
      "source": [
        "def dataframe_to_dataset(data, batch_size=32):\n",
        "  df = data.copy()\n",
        "  labels = df.pop('target')\n",
        "  df = {key:  tf.expand_dims(value,axis=1) for key, value in df.items()}\n",
        "  ds = tf.data.Dataset.from_tensor_slices((dict(df), labels))\n",
        "  ds = ds.batch(batch_size)\n",
        "  ds = ds.prefetch(tf.data.AUTOTUNE)\n",
        "  return ds"
      ]
    },
    {
      "cell_type": "code",
      "execution_count": 4,
      "metadata": {
        "id": "EcEnw-62cpnK"
      },
      "outputs": [],
      "source": [
        "def dataframe_imbalanced_to_dataset(data, batch_size=32):\n",
        "  no_df = data.loc[data['target'].eq(0)].copy()\n",
        "  yes_df = data.loc[data['target'].eq(1)].copy()\n",
        "  no_labels = no_df.pop('target')\n",
        "  yes_labels = yes_df.pop('target')\n",
        "  len_no_labels = len(no_labels)\n",
        "  len_yes_labels = len(yes_labels)\n",
        "  if len_no_labels > len_yes_labels:\n",
        "    oversampling = int(round(len_no_labels/len_yes_labels, 0))\n",
        "  else:\n",
        "    oversampling = int(round(len_yes_labels/len_no_labels, 0))\n",
        "\n",
        "  no_df = {key:  tf.expand_dims(value,axis=1) for key, value in no_df.items()}\n",
        "  no_ds = tf.data.Dataset.from_tensor_slices((dict(no_df), no_labels))\n",
        "\n",
        "  yes_df = {key:  tf.expand_dims(value,axis=1) for key, value in yes_df.items()}\n",
        "  yes_ds = tf.data.Dataset.from_tensor_slices((dict(yes_df), yes_labels))\n",
        "  yes_ds = yes_ds.repeat(oversampling)\n",
        "\n",
        "  ds = tf.data.Dataset.sample_from_datasets([no_ds, yes_ds])\n",
        "  ds = ds.batch(batch_size)\n",
        "  ds = ds.prefetch(tf.data.AUTOTUNE)\n",
        "  return ds"
      ]
    },
    {
      "cell_type": "markdown",
      "metadata": {
        "id": "x3qXY5rvmJFq"
      },
      "source": [
        "function preprocessing numeric"
      ]
    },
    {
      "cell_type": "code",
      "execution_count": 5,
      "metadata": {
        "id": "jEXvg9csPJyb"
      },
      "outputs": [],
      "source": [
        "def numeric_preprocessing(name, dataset, num_bins):\n",
        "  feature_dataset = dataset.map(lambda x,y: x[name])\n",
        "  # layer = tf.keras.layers.Discretization(num_bins=num_bins, epsilon=0.01)\n",
        "  layer = tf.keras.layers.Normalization()\n",
        "  layer.adapt(feature_dataset)\n",
        "\n",
        "  return layer"
      ]
    },
    {
      "cell_type": "markdown",
      "metadata": {
        "id": "LeSvhuKSmNTX"
      },
      "source": [
        "fucntion preprocessing categories"
      ]
    },
    {
      "cell_type": "code",
      "execution_count": 6,
      "metadata": {
        "id": "4Z9l9kcjV4Fy"
      },
      "outputs": [],
      "source": [
        "def categories_preprocessing(name, dataset, dtype):\n",
        "  if(dtype == \"int64\"):\n",
        "    lookup = tf.keras.layers.IntegerLookup()\n",
        "  else:\n",
        "    lookup = tf.keras.layers.StringLookup()\n",
        "  feature_dataset = dataset.map(lambda x,y: x[name])\n",
        "  lookup.adapt(feature_dataset)\n",
        "\n",
        "  # return lookup\n",
        "  category_encoding = tf.keras.layers.CategoryEncoding(num_tokens=lookup.vocabulary_size())\n",
        "  return lambda feature:  category_encoding(lookup(feature))"
      ]
    },
    {
      "cell_type": "markdown",
      "metadata": {
        "id": "r7-sO-o2kxN2"
      },
      "source": [
        "plot metric"
      ]
    },
    {
      "cell_type": "code",
      "execution_count": 7,
      "metadata": {
        "id": "hXtZMSKVkyav"
      },
      "outputs": [],
      "source": [
        "def plot_metric(x, y, history, metric):\n",
        "  fig, ax = plt.subplots(x, y, figsize=(15,10))\n",
        "  epochs = range(len(history.history[metric[0]]))\n",
        "  for metric, ax in zip(metric, ax.flatten()):\n",
        "    ax.plot(epochs, history.history[metric], 'r', label='train')\n",
        "    ax.plot(epochs, history.history['val_'+metric], 'b', ls=\"--\", label='val')\n",
        "    ax.set_ylabel(metric)\n",
        "    ax.set_xlabel('epoch')\n",
        "    ax.legend()  \n",
        "  plt.show()"
      ]
    },
    {
      "cell_type": "markdown",
      "metadata": {
        "id": "WNz4kMtlJxPo"
      },
      "source": [
        "plot confution matrix"
      ]
    },
    {
      "cell_type": "code",
      "execution_count": 8,
      "metadata": {
        "id": "q5w2FAIiJz--"
      },
      "outputs": [],
      "source": [
        "def plot_confution_matrix(labels, predictions, p=0.5):\n",
        "  cm = confusion_matrix(labels, predictions > p)\n",
        "  plt.figure(figsize=(5,5))\n",
        "  sns.heatmap(cm, annot=True, fmt=\"d\")\n",
        "  plt.title('Confusion matrix @{:.2f}'.format(p))\n",
        "  plt.ylabel('Actual label')\n",
        "  plt.xlabel('Predicted label')\n",
        "\n",
        "  print('Legitimate Transactions Detected (True Negatives): ', cm[0][0])\n",
        "  print('Legitimate Transactions Incorrectly Detected (False Positives): ', cm[0][1])\n",
        "  print('Fraudulent Transactions Missed (False Negatives): ', cm[1][0])\n",
        "  print('Fraudulent Transactions Detected (True Positives): ', cm[1][1])\n",
        "  print('Total Fraudulent Transactions: ', np.sum(cm[1]))"
      ]
    },
    {
      "cell_type": "markdown",
      "metadata": {
        "id": "I8sLXLmJ0YHl"
      },
      "source": [
        "## Mount Google Drive"
      ]
    },
    {
      "cell_type": "code",
      "execution_count": null,
      "metadata": {
        "colab": {
          "base_uri": "https://localhost:8080/"
        },
        "id": "CKxJs9K80a5q",
        "outputId": "fc8ac0f0-a8f8-4187-dca2-2c84f522244b"
      },
      "outputs": [
        {
          "name": "stdout",
          "output_type": "stream",
          "text": [
            "Drive already mounted at /content/drive; to attempt to forcibly remount, call drive.mount(\"/content/drive\", force_remount=True).\n"
          ]
        }
      ],
      "source": [
        "drive.mount('/content/drive')"
      ]
    },
    {
      "cell_type": "markdown",
      "metadata": {
        "id": "xNDd-nsn0bqh"
      },
      "source": [
        "## Load Data"
      ]
    },
    {
      "cell_type": "code",
      "execution_count": null,
      "metadata": {
        "id": "n12Gn5YyxmSE"
      },
      "outputs": [],
      "source": [
        "data_url = \"/content/drive/MyDrive/Kumpulan_dataset/fintech_banking_dataset.zip\"\n",
        "data_dir = zipfile.ZipFile(data_url, 'r')\n",
        "data_dir.extractall(\"demoday\")\n",
        "data_dir.close()"
      ]
    },
    {
      "cell_type": "code",
      "execution_count": null,
      "metadata": {
        "id": "bOWBr6d9Zwtn"
      },
      "outputs": [],
      "source": [
        "dataset_train=pd.read_csv('demoday/train.csv', delimiter=\";\")\n",
        "dataset_test=pd.read_csv('demoday/test.csv', delimiter=\";\")"
      ]
    },
    {
      "cell_type": "markdown",
      "metadata": {
        "id": "8nLDorXUiwIG"
      },
      "source": [
        "##Data Explorer"
      ]
    },
    {
      "cell_type": "code",
      "execution_count": 13,
      "metadata": {
        "colab": {
          "base_uri": "https://localhost:8080/"
        },
        "id": "nh0ZVGm_FxZj",
        "outputId": "16f81a2c-7e14-468e-8eb8-9220f7efcad6"
      },
      "outputs": [
        {
          "output_type": "stream",
          "name": "stdout",
          "text": [
            "jumlah data untuk train adalah 45211\n",
            "jumlah data untuk test adalah 4521\n"
          ]
        }
      ],
      "source": [
        "print(f\"jumlah data untuk train adalah {len(dataset_train)}\")\n",
        "print(f\"jumlah data untuk test adalah {len(dataset_test)}\")"
      ]
    },
    {
      "cell_type": "code",
      "execution_count": 14,
      "metadata": {
        "colab": {
          "base_uri": "https://localhost:8080/",
          "height": 270
        },
        "id": "o3331SCAmVGt",
        "outputId": "fa022c59-c8ca-40e9-8aaf-d866f58b2ec8"
      },
      "outputs": [
        {
          "output_type": "execute_result",
          "data": {
            "text/plain": [
              "   age          job  marital  education default  balance housing loan  \\\n",
              "0   30   unemployed  married    primary      no     1787      no   no   \n",
              "1   33     services  married  secondary      no     4789     yes  yes   \n",
              "2   35   management   single   tertiary      no     1350     yes   no   \n",
              "3   30   management  married   tertiary      no     1476     yes  yes   \n",
              "4   59  blue-collar  married  secondary      no        0     yes   no   \n",
              "\n",
              "    contact  day month  duration  campaign  pdays  previous poutcome   y  \n",
              "0  cellular   19   oct        79         1     -1         0  unknown  no  \n",
              "1  cellular   11   may       220         1    339         4  failure  no  \n",
              "2  cellular   16   apr       185         1    330         1  failure  no  \n",
              "3   unknown    3   jun       199         4     -1         0  unknown  no  \n",
              "4   unknown    5   may       226         1     -1         0  unknown  no  "
            ],
            "text/html": [
              "\n",
              "  <div id=\"df-9c851882-1d36-4637-92d2-fede1991a45c\">\n",
              "    <div class=\"colab-df-container\">\n",
              "      <div>\n",
              "<style scoped>\n",
              "    .dataframe tbody tr th:only-of-type {\n",
              "        vertical-align: middle;\n",
              "    }\n",
              "\n",
              "    .dataframe tbody tr th {\n",
              "        vertical-align: top;\n",
              "    }\n",
              "\n",
              "    .dataframe thead th {\n",
              "        text-align: right;\n",
              "    }\n",
              "</style>\n",
              "<table border=\"1\" class=\"dataframe\">\n",
              "  <thead>\n",
              "    <tr style=\"text-align: right;\">\n",
              "      <th></th>\n",
              "      <th>age</th>\n",
              "      <th>job</th>\n",
              "      <th>marital</th>\n",
              "      <th>education</th>\n",
              "      <th>default</th>\n",
              "      <th>balance</th>\n",
              "      <th>housing</th>\n",
              "      <th>loan</th>\n",
              "      <th>contact</th>\n",
              "      <th>day</th>\n",
              "      <th>month</th>\n",
              "      <th>duration</th>\n",
              "      <th>campaign</th>\n",
              "      <th>pdays</th>\n",
              "      <th>previous</th>\n",
              "      <th>poutcome</th>\n",
              "      <th>y</th>\n",
              "    </tr>\n",
              "  </thead>\n",
              "  <tbody>\n",
              "    <tr>\n",
              "      <th>0</th>\n",
              "      <td>30</td>\n",
              "      <td>unemployed</td>\n",
              "      <td>married</td>\n",
              "      <td>primary</td>\n",
              "      <td>no</td>\n",
              "      <td>1787</td>\n",
              "      <td>no</td>\n",
              "      <td>no</td>\n",
              "      <td>cellular</td>\n",
              "      <td>19</td>\n",
              "      <td>oct</td>\n",
              "      <td>79</td>\n",
              "      <td>1</td>\n",
              "      <td>-1</td>\n",
              "      <td>0</td>\n",
              "      <td>unknown</td>\n",
              "      <td>no</td>\n",
              "    </tr>\n",
              "    <tr>\n",
              "      <th>1</th>\n",
              "      <td>33</td>\n",
              "      <td>services</td>\n",
              "      <td>married</td>\n",
              "      <td>secondary</td>\n",
              "      <td>no</td>\n",
              "      <td>4789</td>\n",
              "      <td>yes</td>\n",
              "      <td>yes</td>\n",
              "      <td>cellular</td>\n",
              "      <td>11</td>\n",
              "      <td>may</td>\n",
              "      <td>220</td>\n",
              "      <td>1</td>\n",
              "      <td>339</td>\n",
              "      <td>4</td>\n",
              "      <td>failure</td>\n",
              "      <td>no</td>\n",
              "    </tr>\n",
              "    <tr>\n",
              "      <th>2</th>\n",
              "      <td>35</td>\n",
              "      <td>management</td>\n",
              "      <td>single</td>\n",
              "      <td>tertiary</td>\n",
              "      <td>no</td>\n",
              "      <td>1350</td>\n",
              "      <td>yes</td>\n",
              "      <td>no</td>\n",
              "      <td>cellular</td>\n",
              "      <td>16</td>\n",
              "      <td>apr</td>\n",
              "      <td>185</td>\n",
              "      <td>1</td>\n",
              "      <td>330</td>\n",
              "      <td>1</td>\n",
              "      <td>failure</td>\n",
              "      <td>no</td>\n",
              "    </tr>\n",
              "    <tr>\n",
              "      <th>3</th>\n",
              "      <td>30</td>\n",
              "      <td>management</td>\n",
              "      <td>married</td>\n",
              "      <td>tertiary</td>\n",
              "      <td>no</td>\n",
              "      <td>1476</td>\n",
              "      <td>yes</td>\n",
              "      <td>yes</td>\n",
              "      <td>unknown</td>\n",
              "      <td>3</td>\n",
              "      <td>jun</td>\n",
              "      <td>199</td>\n",
              "      <td>4</td>\n",
              "      <td>-1</td>\n",
              "      <td>0</td>\n",
              "      <td>unknown</td>\n",
              "      <td>no</td>\n",
              "    </tr>\n",
              "    <tr>\n",
              "      <th>4</th>\n",
              "      <td>59</td>\n",
              "      <td>blue-collar</td>\n",
              "      <td>married</td>\n",
              "      <td>secondary</td>\n",
              "      <td>no</td>\n",
              "      <td>0</td>\n",
              "      <td>yes</td>\n",
              "      <td>no</td>\n",
              "      <td>unknown</td>\n",
              "      <td>5</td>\n",
              "      <td>may</td>\n",
              "      <td>226</td>\n",
              "      <td>1</td>\n",
              "      <td>-1</td>\n",
              "      <td>0</td>\n",
              "      <td>unknown</td>\n",
              "      <td>no</td>\n",
              "    </tr>\n",
              "  </tbody>\n",
              "</table>\n",
              "</div>\n",
              "      <button class=\"colab-df-convert\" onclick=\"convertToInteractive('df-9c851882-1d36-4637-92d2-fede1991a45c')\"\n",
              "              title=\"Convert this dataframe to an interactive table.\"\n",
              "              style=\"display:none;\">\n",
              "        \n",
              "  <svg xmlns=\"http://www.w3.org/2000/svg\" height=\"24px\"viewBox=\"0 0 24 24\"\n",
              "       width=\"24px\">\n",
              "    <path d=\"M0 0h24v24H0V0z\" fill=\"none\"/>\n",
              "    <path d=\"M18.56 5.44l.94 2.06.94-2.06 2.06-.94-2.06-.94-.94-2.06-.94 2.06-2.06.94zm-11 1L8.5 8.5l.94-2.06 2.06-.94-2.06-.94L8.5 2.5l-.94 2.06-2.06.94zm10 10l.94 2.06.94-2.06 2.06-.94-2.06-.94-.94-2.06-.94 2.06-2.06.94z\"/><path d=\"M17.41 7.96l-1.37-1.37c-.4-.4-.92-.59-1.43-.59-.52 0-1.04.2-1.43.59L10.3 9.45l-7.72 7.72c-.78.78-.78 2.05 0 2.83L4 21.41c.39.39.9.59 1.41.59.51 0 1.02-.2 1.41-.59l7.78-7.78 2.81-2.81c.8-.78.8-2.07 0-2.86zM5.41 20L4 18.59l7.72-7.72 1.47 1.35L5.41 20z\"/>\n",
              "  </svg>\n",
              "      </button>\n",
              "      \n",
              "  <style>\n",
              "    .colab-df-container {\n",
              "      display:flex;\n",
              "      flex-wrap:wrap;\n",
              "      gap: 12px;\n",
              "    }\n",
              "\n",
              "    .colab-df-convert {\n",
              "      background-color: #E8F0FE;\n",
              "      border: none;\n",
              "      border-radius: 50%;\n",
              "      cursor: pointer;\n",
              "      display: none;\n",
              "      fill: #1967D2;\n",
              "      height: 32px;\n",
              "      padding: 0 0 0 0;\n",
              "      width: 32px;\n",
              "    }\n",
              "\n",
              "    .colab-df-convert:hover {\n",
              "      background-color: #E2EBFA;\n",
              "      box-shadow: 0px 1px 2px rgba(60, 64, 67, 0.3), 0px 1px 3px 1px rgba(60, 64, 67, 0.15);\n",
              "      fill: #174EA6;\n",
              "    }\n",
              "\n",
              "    [theme=dark] .colab-df-convert {\n",
              "      background-color: #3B4455;\n",
              "      fill: #D2E3FC;\n",
              "    }\n",
              "\n",
              "    [theme=dark] .colab-df-convert:hover {\n",
              "      background-color: #434B5C;\n",
              "      box-shadow: 0px 1px 3px 1px rgba(0, 0, 0, 0.15);\n",
              "      filter: drop-shadow(0px 1px 2px rgba(0, 0, 0, 0.3));\n",
              "      fill: #FFFFFF;\n",
              "    }\n",
              "  </style>\n",
              "\n",
              "      <script>\n",
              "        const buttonEl =\n",
              "          document.querySelector('#df-9c851882-1d36-4637-92d2-fede1991a45c button.colab-df-convert');\n",
              "        buttonEl.style.display =\n",
              "          google.colab.kernel.accessAllowed ? 'block' : 'none';\n",
              "\n",
              "        async function convertToInteractive(key) {\n",
              "          const element = document.querySelector('#df-9c851882-1d36-4637-92d2-fede1991a45c');\n",
              "          const dataTable =\n",
              "            await google.colab.kernel.invokeFunction('convertToInteractive',\n",
              "                                                     [key], {});\n",
              "          if (!dataTable) return;\n",
              "\n",
              "          const docLinkHtml = 'Like what you see? Visit the ' +\n",
              "            '<a target=\"_blank\" href=https://colab.research.google.com/notebooks/data_table.ipynb>data table notebook</a>'\n",
              "            + ' to learn more about interactive tables.';\n",
              "          element.innerHTML = '';\n",
              "          dataTable['output_type'] = 'display_data';\n",
              "          await google.colab.output.renderOutput(dataTable, element);\n",
              "          const docLink = document.createElement('div');\n",
              "          docLink.innerHTML = docLinkHtml;\n",
              "          element.appendChild(docLink);\n",
              "        }\n",
              "      </script>\n",
              "    </div>\n",
              "  </div>\n",
              "  "
            ]
          },
          "metadata": {},
          "execution_count": 14
        }
      ],
      "source": [
        "dataset_test.head()"
      ]
    },
    {
      "cell_type": "code",
      "execution_count": 15,
      "metadata": {
        "colab": {
          "base_uri": "https://localhost:8080/",
          "height": 270
        },
        "id": "Fkiy4n1UZ3hq",
        "outputId": "12f9e121-7df9-4140-9a08-45e688cec87c"
      },
      "outputs": [
        {
          "output_type": "execute_result",
          "data": {
            "text/plain": [
              "   age           job  marital  education default  balance housing loan  \\\n",
              "0   58    management  married   tertiary      no     2143     yes   no   \n",
              "1   44    technician   single  secondary      no       29     yes   no   \n",
              "2   33  entrepreneur  married  secondary      no        2     yes  yes   \n",
              "3   47   blue-collar  married    unknown      no     1506     yes   no   \n",
              "4   33       unknown   single    unknown      no        1      no   no   \n",
              "\n",
              "   contact  day month  duration  campaign  pdays  previous poutcome   y  \n",
              "0  unknown    5   may       261         1     -1         0  unknown  no  \n",
              "1  unknown    5   may       151         1     -1         0  unknown  no  \n",
              "2  unknown    5   may        76         1     -1         0  unknown  no  \n",
              "3  unknown    5   may        92         1     -1         0  unknown  no  \n",
              "4  unknown    5   may       198         1     -1         0  unknown  no  "
            ],
            "text/html": [
              "\n",
              "  <div id=\"df-480b3096-2e52-4a0e-9c60-2ac5e2cb4052\">\n",
              "    <div class=\"colab-df-container\">\n",
              "      <div>\n",
              "<style scoped>\n",
              "    .dataframe tbody tr th:only-of-type {\n",
              "        vertical-align: middle;\n",
              "    }\n",
              "\n",
              "    .dataframe tbody tr th {\n",
              "        vertical-align: top;\n",
              "    }\n",
              "\n",
              "    .dataframe thead th {\n",
              "        text-align: right;\n",
              "    }\n",
              "</style>\n",
              "<table border=\"1\" class=\"dataframe\">\n",
              "  <thead>\n",
              "    <tr style=\"text-align: right;\">\n",
              "      <th></th>\n",
              "      <th>age</th>\n",
              "      <th>job</th>\n",
              "      <th>marital</th>\n",
              "      <th>education</th>\n",
              "      <th>default</th>\n",
              "      <th>balance</th>\n",
              "      <th>housing</th>\n",
              "      <th>loan</th>\n",
              "      <th>contact</th>\n",
              "      <th>day</th>\n",
              "      <th>month</th>\n",
              "      <th>duration</th>\n",
              "      <th>campaign</th>\n",
              "      <th>pdays</th>\n",
              "      <th>previous</th>\n",
              "      <th>poutcome</th>\n",
              "      <th>y</th>\n",
              "    </tr>\n",
              "  </thead>\n",
              "  <tbody>\n",
              "    <tr>\n",
              "      <th>0</th>\n",
              "      <td>58</td>\n",
              "      <td>management</td>\n",
              "      <td>married</td>\n",
              "      <td>tertiary</td>\n",
              "      <td>no</td>\n",
              "      <td>2143</td>\n",
              "      <td>yes</td>\n",
              "      <td>no</td>\n",
              "      <td>unknown</td>\n",
              "      <td>5</td>\n",
              "      <td>may</td>\n",
              "      <td>261</td>\n",
              "      <td>1</td>\n",
              "      <td>-1</td>\n",
              "      <td>0</td>\n",
              "      <td>unknown</td>\n",
              "      <td>no</td>\n",
              "    </tr>\n",
              "    <tr>\n",
              "      <th>1</th>\n",
              "      <td>44</td>\n",
              "      <td>technician</td>\n",
              "      <td>single</td>\n",
              "      <td>secondary</td>\n",
              "      <td>no</td>\n",
              "      <td>29</td>\n",
              "      <td>yes</td>\n",
              "      <td>no</td>\n",
              "      <td>unknown</td>\n",
              "      <td>5</td>\n",
              "      <td>may</td>\n",
              "      <td>151</td>\n",
              "      <td>1</td>\n",
              "      <td>-1</td>\n",
              "      <td>0</td>\n",
              "      <td>unknown</td>\n",
              "      <td>no</td>\n",
              "    </tr>\n",
              "    <tr>\n",
              "      <th>2</th>\n",
              "      <td>33</td>\n",
              "      <td>entrepreneur</td>\n",
              "      <td>married</td>\n",
              "      <td>secondary</td>\n",
              "      <td>no</td>\n",
              "      <td>2</td>\n",
              "      <td>yes</td>\n",
              "      <td>yes</td>\n",
              "      <td>unknown</td>\n",
              "      <td>5</td>\n",
              "      <td>may</td>\n",
              "      <td>76</td>\n",
              "      <td>1</td>\n",
              "      <td>-1</td>\n",
              "      <td>0</td>\n",
              "      <td>unknown</td>\n",
              "      <td>no</td>\n",
              "    </tr>\n",
              "    <tr>\n",
              "      <th>3</th>\n",
              "      <td>47</td>\n",
              "      <td>blue-collar</td>\n",
              "      <td>married</td>\n",
              "      <td>unknown</td>\n",
              "      <td>no</td>\n",
              "      <td>1506</td>\n",
              "      <td>yes</td>\n",
              "      <td>no</td>\n",
              "      <td>unknown</td>\n",
              "      <td>5</td>\n",
              "      <td>may</td>\n",
              "      <td>92</td>\n",
              "      <td>1</td>\n",
              "      <td>-1</td>\n",
              "      <td>0</td>\n",
              "      <td>unknown</td>\n",
              "      <td>no</td>\n",
              "    </tr>\n",
              "    <tr>\n",
              "      <th>4</th>\n",
              "      <td>33</td>\n",
              "      <td>unknown</td>\n",
              "      <td>single</td>\n",
              "      <td>unknown</td>\n",
              "      <td>no</td>\n",
              "      <td>1</td>\n",
              "      <td>no</td>\n",
              "      <td>no</td>\n",
              "      <td>unknown</td>\n",
              "      <td>5</td>\n",
              "      <td>may</td>\n",
              "      <td>198</td>\n",
              "      <td>1</td>\n",
              "      <td>-1</td>\n",
              "      <td>0</td>\n",
              "      <td>unknown</td>\n",
              "      <td>no</td>\n",
              "    </tr>\n",
              "  </tbody>\n",
              "</table>\n",
              "</div>\n",
              "      <button class=\"colab-df-convert\" onclick=\"convertToInteractive('df-480b3096-2e52-4a0e-9c60-2ac5e2cb4052')\"\n",
              "              title=\"Convert this dataframe to an interactive table.\"\n",
              "              style=\"display:none;\">\n",
              "        \n",
              "  <svg xmlns=\"http://www.w3.org/2000/svg\" height=\"24px\"viewBox=\"0 0 24 24\"\n",
              "       width=\"24px\">\n",
              "    <path d=\"M0 0h24v24H0V0z\" fill=\"none\"/>\n",
              "    <path d=\"M18.56 5.44l.94 2.06.94-2.06 2.06-.94-2.06-.94-.94-2.06-.94 2.06-2.06.94zm-11 1L8.5 8.5l.94-2.06 2.06-.94-2.06-.94L8.5 2.5l-.94 2.06-2.06.94zm10 10l.94 2.06.94-2.06 2.06-.94-2.06-.94-.94-2.06-.94 2.06-2.06.94z\"/><path d=\"M17.41 7.96l-1.37-1.37c-.4-.4-.92-.59-1.43-.59-.52 0-1.04.2-1.43.59L10.3 9.45l-7.72 7.72c-.78.78-.78 2.05 0 2.83L4 21.41c.39.39.9.59 1.41.59.51 0 1.02-.2 1.41-.59l7.78-7.78 2.81-2.81c.8-.78.8-2.07 0-2.86zM5.41 20L4 18.59l7.72-7.72 1.47 1.35L5.41 20z\"/>\n",
              "  </svg>\n",
              "      </button>\n",
              "      \n",
              "  <style>\n",
              "    .colab-df-container {\n",
              "      display:flex;\n",
              "      flex-wrap:wrap;\n",
              "      gap: 12px;\n",
              "    }\n",
              "\n",
              "    .colab-df-convert {\n",
              "      background-color: #E8F0FE;\n",
              "      border: none;\n",
              "      border-radius: 50%;\n",
              "      cursor: pointer;\n",
              "      display: none;\n",
              "      fill: #1967D2;\n",
              "      height: 32px;\n",
              "      padding: 0 0 0 0;\n",
              "      width: 32px;\n",
              "    }\n",
              "\n",
              "    .colab-df-convert:hover {\n",
              "      background-color: #E2EBFA;\n",
              "      box-shadow: 0px 1px 2px rgba(60, 64, 67, 0.3), 0px 1px 3px 1px rgba(60, 64, 67, 0.15);\n",
              "      fill: #174EA6;\n",
              "    }\n",
              "\n",
              "    [theme=dark] .colab-df-convert {\n",
              "      background-color: #3B4455;\n",
              "      fill: #D2E3FC;\n",
              "    }\n",
              "\n",
              "    [theme=dark] .colab-df-convert:hover {\n",
              "      background-color: #434B5C;\n",
              "      box-shadow: 0px 1px 3px 1px rgba(0, 0, 0, 0.15);\n",
              "      filter: drop-shadow(0px 1px 2px rgba(0, 0, 0, 0.3));\n",
              "      fill: #FFFFFF;\n",
              "    }\n",
              "  </style>\n",
              "\n",
              "      <script>\n",
              "        const buttonEl =\n",
              "          document.querySelector('#df-480b3096-2e52-4a0e-9c60-2ac5e2cb4052 button.colab-df-convert');\n",
              "        buttonEl.style.display =\n",
              "          google.colab.kernel.accessAllowed ? 'block' : 'none';\n",
              "\n",
              "        async function convertToInteractive(key) {\n",
              "          const element = document.querySelector('#df-480b3096-2e52-4a0e-9c60-2ac5e2cb4052');\n",
              "          const dataTable =\n",
              "            await google.colab.kernel.invokeFunction('convertToInteractive',\n",
              "                                                     [key], {});\n",
              "          if (!dataTable) return;\n",
              "\n",
              "          const docLinkHtml = 'Like what you see? Visit the ' +\n",
              "            '<a target=\"_blank\" href=https://colab.research.google.com/notebooks/data_table.ipynb>data table notebook</a>'\n",
              "            + ' to learn more about interactive tables.';\n",
              "          element.innerHTML = '';\n",
              "          dataTable['output_type'] = 'display_data';\n",
              "          await google.colab.output.renderOutput(dataTable, element);\n",
              "          const docLink = document.createElement('div');\n",
              "          docLink.innerHTML = docLinkHtml;\n",
              "          element.appendChild(docLink);\n",
              "        }\n",
              "      </script>\n",
              "    </div>\n",
              "  </div>\n",
              "  "
            ]
          },
          "metadata": {},
          "execution_count": 15
        }
      ],
      "source": [
        "dataset_train.head()"
      ]
    },
    {
      "cell_type": "markdown",
      "metadata": {
        "id": "OhBKv9Lbl-vb"
      },
      "source": [
        "melihat type pada data set"
      ]
    },
    {
      "cell_type": "code",
      "execution_count": 16,
      "metadata": {
        "colab": {
          "base_uri": "https://localhost:8080/"
        },
        "id": "1EWLh51tNZ46",
        "outputId": "d70781c3-64b9-40c5-85b6-2be4666d6133"
      },
      "outputs": [
        {
          "output_type": "execute_result",
          "data": {
            "text/plain": [
              "age           int64\n",
              "job          object\n",
              "marital      object\n",
              "education    object\n",
              "default      object\n",
              "balance       int64\n",
              "housing      object\n",
              "loan         object\n",
              "contact      object\n",
              "day           int64\n",
              "month        object\n",
              "duration      int64\n",
              "campaign      int64\n",
              "pdays         int64\n",
              "previous      int64\n",
              "poutcome     object\n",
              "y            object\n",
              "dtype: object"
            ]
          },
          "metadata": {},
          "execution_count": 16
        }
      ],
      "source": [
        "dataset_train.dtypes"
      ]
    },
    {
      "cell_type": "code",
      "source": [
        "ax = dataset_train['y'].value_counts().plot.bar(color=['r','b'])\n",
        "plt.title(\"Jumlah data tiap label pada dataset train\")\n",
        "for p in ax.patches:\n",
        "    b = p.get_bbox()\n",
        "    ax.annotate(str(p.get_height()), ((b.x0 + b.x1)/2 - .1, p.get_height() * 1.),fontsize=12)"
      ],
      "metadata": {
        "colab": {
          "base_uri": "https://localhost:8080/",
          "height": 289
        },
        "id": "nZe9Vv8-0Q9L",
        "outputId": "0a38cb90-fb16-480e-a426-f020c62065b0"
      },
      "execution_count": 54,
      "outputs": [
        {
          "output_type": "display_data",
          "data": {
            "text/plain": [
              "<Figure size 432x288 with 1 Axes>"
            ],
            "image/png": "[encoded data removed]"
          },
          "metadata": {
            "needs_background": "light"
          }
        }
      ]
    },
    {
      "cell_type": "code",
      "source": [
        "ax = dataset_test['y'].value_counts().plot.bar(color=['r','b'])\n",
        "plt.title(\"Jumlah data tiap label pada dataset test\")\n",
        "for p in ax.patches:\n",
        "    b = p.get_bbox()\n",
        "    ax.annotate(str(p.get_height()), ((b.x0 + b.x1)/2 - .1, p.get_height() * 1.),fontsize=12)"
      ],
      "metadata": {
        "colab": {
          "base_uri": "https://localhost:8080/",
          "height": 289
        },
        "id": "qHoBJJgq0Xs5",
        "outputId": "9f5c2b01-82e6-424d-fe56-2896f4a6d6f3"
      },
      "execution_count": 55,
      "outputs": [
        {
          "output_type": "display_data",
          "data": {
            "text/plain": [
              "<Figure size 432x288 with 1 Axes>"
            ],
            "image/png": "[encoded data removed]"
          },
          "metadata": {
            "needs_background": "light"
          }
        }
      ]
    },
    {
      "cell_type": "code",
      "execution_count": null,
      "metadata": {
        "colab": {
          "base_uri": "https://localhost:8080/"
        },
        "id": "9LQxvn4Dp7vZ",
        "outputId": "8d407ab2-6ddc-42f1-d353-aaa5bd413920"
      },
      "outputs": [
        {
          "data": {
            "text/html": [
              "\n",
              "  <div id=\"df-baea4f7d-2b2a-468d-b3f8-9b72e6e99ed9\">\n",
              "    <div class=\"colab-df-container\">\n",
              "      <div>\n",
              "<style scoped>\n",
              "    .dataframe tbody tr th:only-of-type {\n",
              "        vertical-align: middle;\n",
              "    }\n",
              "\n",
              "    .dataframe tbody tr th {\n",
              "        vertical-align: top;\n",
              "    }\n",
              "\n",
              "    .dataframe thead th {\n",
              "        text-align: right;\n",
              "    }\n",
              "</style>\n",
              "<table border=\"1\" class=\"dataframe\">\n",
              "  <thead>\n",
              "    <tr style=\"text-align: right;\">\n",
              "      <th>y</th>\n",
              "      <th>age</th>\n",
              "      <th>job</th>\n",
              "      <th>marital</th>\n",
              "      <th>education</th>\n",
              "      <th>default</th>\n",
              "      <th>balance</th>\n",
              "      <th>housing</th>\n",
              "      <th>loan</th>\n",
              "      <th>contact</th>\n",
              "      <th>day</th>\n",
              "      <th>month</th>\n",
              "      <th>duration</th>\n",
              "      <th>campaign</th>\n",
              "      <th>pdays</th>\n",
              "      <th>previous</th>\n",
              "      <th>poutcome</th>\n",
              "      <th>no</th>\n",
              "      <th>yes</th>\n",
              "    </tr>\n",
              "  </thead>\n",
              "  <tbody>\n",
              "    <tr>\n",
              "      <th>2</th>\n",
              "      <td>18</td>\n",
              "      <td>student</td>\n",
              "      <td>single</td>\n",
              "      <td>primary</td>\n",
              "      <td>no</td>\n",
              "      <td>1944</td>\n",
              "      <td>no</td>\n",
              "      <td>no</td>\n",
              "      <td>telephone</td>\n",
              "      <td>10</td>\n",
              "      <td>aug</td>\n",
              "      <td>122</td>\n",
              "      <td>3</td>\n",
              "      <td>-1</td>\n",
              "      <td>0</td>\n",
              "      <td>unknown</td>\n",
              "      <td>1.0</td>\n",
              "      <td>NaN</td>\n",
              "    </tr>\n",
              "    <tr>\n",
              "      <th>30043</th>\n",
              "      <td>45</td>\n",
              "      <td>entrepreneur</td>\n",
              "      <td>married</td>\n",
              "      <td>primary</td>\n",
              "      <td>no</td>\n",
              "      <td>1953</td>\n",
              "      <td>yes</td>\n",
              "      <td>no</td>\n",
              "      <td>unknown</td>\n",
              "      <td>15</td>\n",
              "      <td>may</td>\n",
              "      <td>95</td>\n",
              "      <td>3</td>\n",
              "      <td>-1</td>\n",
              "      <td>0</td>\n",
              "      <td>unknown</td>\n",
              "      <td>1.0</td>\n",
              "      <td>NaN</td>\n",
              "    </tr>\n",
              "    <tr>\n",
              "      <th>30044</th>\n",
              "      <td>45</td>\n",
              "      <td>entrepreneur</td>\n",
              "      <td>married</td>\n",
              "      <td>primary</td>\n",
              "      <td>no</td>\n",
              "      <td>2418</td>\n",
              "      <td>yes</td>\n",
              "      <td>no</td>\n",
              "      <td>unknown</td>\n",
              "      <td>14</td>\n",
              "      <td>may</td>\n",
              "      <td>120</td>\n",
              "      <td>1</td>\n",
              "      <td>-1</td>\n",
              "      <td>0</td>\n",
              "      <td>unknown</td>\n",
              "      <td>1.0</td>\n",
              "      <td>NaN</td>\n",
              "    </tr>\n",
              "    <tr>\n",
              "      <th>30045</th>\n",
              "      <td>45</td>\n",
              "      <td>entrepreneur</td>\n",
              "      <td>married</td>\n",
              "      <td>primary</td>\n",
              "      <td>no</td>\n",
              "      <td>5315</td>\n",
              "      <td>yes</td>\n",
              "      <td>yes</td>\n",
              "      <td>cellular</td>\n",
              "      <td>15</td>\n",
              "      <td>may</td>\n",
              "      <td>262</td>\n",
              "      <td>2</td>\n",
              "      <td>-1</td>\n",
              "      <td>0</td>\n",
              "      <td>unknown</td>\n",
              "      <td>1.0</td>\n",
              "      <td>NaN</td>\n",
              "    </tr>\n",
              "    <tr>\n",
              "      <th>30046</th>\n",
              "      <td>45</td>\n",
              "      <td>entrepreneur</td>\n",
              "      <td>married</td>\n",
              "      <td>secondary</td>\n",
              "      <td>no</td>\n",
              "      <td>-479</td>\n",
              "      <td>yes</td>\n",
              "      <td>no</td>\n",
              "      <td>cellular</td>\n",
              "      <td>30</td>\n",
              "      <td>jul</td>\n",
              "      <td>167</td>\n",
              "      <td>2</td>\n",
              "      <td>-1</td>\n",
              "      <td>0</td>\n",
              "      <td>unknown</td>\n",
              "      <td>1.0</td>\n",
              "      <td>NaN</td>\n",
              "    </tr>\n",
              "  </tbody>\n",
              "</table>\n",
              "</div>\n",
              "      <button class=\"colab-df-convert\" onclick=\"convertToInteractive('df-baea4f7d-2b2a-468d-b3f8-9b72e6e99ed9')\"\n",
              "              title=\"Convert this dataframe to an interactive table.\"\n",
              "              style=\"display:none;\">\n",
              "        \n",
              "  <svg xmlns=\"http://www.w3.org/2000/svg\" height=\"24px\"viewBox=\"0 0 24 24\"\n",
              "       width=\"24px\">\n",
              "    <path d=\"M0 0h24v24H0V0z\" fill=\"none\"/>\n",
              "    <path d=\"M18.56 5.44l.94 2.06.94-2.06 2.06-.94-2.06-.94-.94-2.06-.94 2.06-2.06.94zm-11 1L8.5 8.5l.94-2.06 2.06-.94-2.06-.94L8.5 2.5l-.94 2.06-2.06.94zm10 10l.94 2.06.94-2.06 2.06-.94-2.06-.94-.94-2.06-.94 2.06-2.06.94z\"/><path d=\"M17.41 7.96l-1.37-1.37c-.4-.4-.92-.59-1.43-.59-.52 0-1.04.2-1.43.59L10.3 9.45l-7.72 7.72c-.78.78-.78 2.05 0 2.83L4 21.41c.39.39.9.59 1.41.59.51 0 1.02-.2 1.41-.59l7.78-7.78 2.81-2.81c.8-.78.8-2.07 0-2.86zM5.41 20L4 18.59l7.72-7.72 1.47 1.35L5.41 20z\"/>\n",
              "  </svg>\n",
              "      </button>\n",
              "      \n",
              "  <style>\n",
              "    .colab-df-container {\n",
              "      display:flex;\n",
              "      flex-wrap:wrap;\n",
              "      gap: 12px;\n",
              "    }\n",
              "\n",
              "    .colab-df-convert {\n",
              "      background-color: #E8F0FE;\n",
              "      border: none;\n",
              "      border-radius: 50%;\n",
              "      cursor: pointer;\n",
              "      display: none;\n",
              "      fill: #1967D2;\n",
              "      height: 32px;\n",
              "      padding: 0 0 0 0;\n",
              "      width: 32px;\n",
              "    }\n",
              "\n",
              "    .colab-df-convert:hover {\n",
              "      background-color: #E2EBFA;\n",
              "      box-shadow: 0px 1px 2px rgba(60, 64, 67, 0.3), 0px 1px 3px 1px rgba(60, 64, 67, 0.15);\n",
              "      fill: #174EA6;\n",
              "    }\n",
              "\n",
              "    [theme=dark] .colab-df-convert {\n",
              "      background-color: #3B4455;\n",
              "      fill: #D2E3FC;\n",
              "    }\n",
              "\n",
              "    [theme=dark] .colab-df-convert:hover {\n",
              "      background-color: #434B5C;\n",
              "      box-shadow: 0px 1px 3px 1px rgba(0, 0, 0, 0.15);\n",
              "      filter: drop-shadow(0px 1px 2px rgba(0, 0, 0, 0.3));\n",
              "      fill: #FFFFFF;\n",
              "    }\n",
              "  </style>\n",
              "\n",
              "      <script>\n",
              "        const buttonEl =\n",
              "          document.querySelector('#df-baea4f7d-2b2a-468d-b3f8-9b72e6e99ed9 button.colab-df-convert');\n",
              "        buttonEl.style.display =\n",
              "          google.colab.kernel.accessAllowed ? 'block' : 'none';\n",
              "\n",
              "        async function convertToInteractive(key) {\n",
              "          const element = document.querySelector('#df-baea4f7d-2b2a-468d-b3f8-9b72e6e99ed9');\n",
              "          const dataTable =\n",
              "            await google.colab.kernel.invokeFunction('convertToInteractive',\n",
              "                                                     [key], {});\n",
              "          if (!dataTable) return;\n",
              "\n",
              "          const docLinkHtml = 'Like what you see? Visit the ' +\n",
              "            '<a target=\"_blank\" href=https://colab.research.google.com/notebooks/data_table.ipynb>data table notebook</a>'\n",
              "            + ' to learn more about interactive tables.';\n",
              "          element.innerHTML = '';\n",
              "          dataTable['output_type'] = 'display_data';\n",
              "          await google.colab.output.renderOutput(dataTable, element);\n",
              "          const docLink = document.createElement('div');\n",
              "          docLink.innerHTML = docLinkHtml;\n",
              "          element.appendChild(docLink);\n",
              "        }\n",
              "      </script>\n",
              "    </div>\n",
              "  </div>\n",
              "  "
            ],
            "text/plain": [
              "y      age           job  marital  education default  balance housing loan  \\\n",
              "2       18       student   single    primary      no     1944      no   no   \n",
              "30043   45  entrepreneur  married    primary      no     1953     yes   no   \n",
              "30044   45  entrepreneur  married    primary      no     2418     yes   no   \n",
              "30045   45  entrepreneur  married    primary      no     5315     yes  yes   \n",
              "30046   45  entrepreneur  married  secondary      no     -479     yes   no   \n",
              "\n",
              "y        contact  day month  duration  campaign  pdays  previous poutcome  \\\n",
              "2      telephone   10   aug       122         3     -1         0  unknown   \n",
              "30043    unknown   15   may        95         3     -1         0  unknown   \n",
              "30044    unknown   14   may       120         1     -1         0  unknown   \n",
              "30045   cellular   15   may       262         2     -1         0  unknown   \n",
              "30046   cellular   30   jul       167         2     -1         0  unknown   \n",
              "\n",
              "y       no  yes  \n",
              "2      1.0  NaN  \n",
              "30043  1.0  NaN  \n",
              "30044  1.0  NaN  \n",
              "30045  1.0  NaN  \n",
              "30046  1.0  NaN  "
            ]
          },
          "execution_count": 170,
          "metadata": {},
          "output_type": "execute_result"
        }
      ],
      "source": [
        "train_index = [i for i in dataset_train.drop(columns=['y']).columns]\n",
        "dataset_train.groupby(by=train_index)[\"y\"].value_counts().unstack().reset_index().sort_values(by=[\"no\"], ascending=True).head()"
      ]
    },
    {
      "cell_type": "code",
      "execution_count": null,
      "metadata": {
        "id": "DbOxilfog-4k"
      },
      "outputs": [],
      "source": [
        "cek_no_yes_max = dataset_train.groupby(by=[\"age\", \"job\", \"marital\", \"education\", \"balance\", \"housing\", \"loan\", \"month\" , \"duration\"])[\"y\"].value_counts().unstack().reset_index()"
      ]
    },
    {
      "cell_type": "code",
      "execution_count": null,
      "metadata": {
        "colab": {
          "base_uri": "https://localhost:8080/"
        },
        "id": "h5207phn71DR",
        "outputId": "02471141-361a-4cf9-e69f-bbddfe9438e4"
      },
      "outputs": [
        {
          "data": {
            "text/html": [
              "\n",
              "  <div id=\"df-01a14d81-04af-4315-b56f-e6c24c51a790\">\n",
              "    <div class=\"colab-df-container\">\n",
              "      <div>\n",
              "<style scoped>\n",
              "    .dataframe tbody tr th:only-of-type {\n",
              "        vertical-align: middle;\n",
              "    }\n",
              "\n",
              "    .dataframe tbody tr th {\n",
              "        vertical-align: top;\n",
              "    }\n",
              "\n",
              "    .dataframe thead th {\n",
              "        text-align: right;\n",
              "    }\n",
              "</style>\n",
              "<table border=\"1\" class=\"dataframe\">\n",
              "  <thead>\n",
              "    <tr style=\"text-align: right;\">\n",
              "      <th>y</th>\n",
              "      <th>age</th>\n",
              "      <th>job</th>\n",
              "      <th>marital</th>\n",
              "      <th>education</th>\n",
              "      <th>balance</th>\n",
              "      <th>housing</th>\n",
              "      <th>loan</th>\n",
              "      <th>month</th>\n",
              "      <th>duration</th>\n",
              "      <th>no</th>\n",
              "      <th>yes</th>\n",
              "    </tr>\n",
              "  </thead>\n",
              "  <tbody>\n",
              "  </tbody>\n",
              "</table>\n",
              "</div>\n",
              "      <button class=\"colab-df-convert\" onclick=\"convertToInteractive('df-01a14d81-04af-4315-b56f-e6c24c51a790')\"\n",
              "              title=\"Convert this dataframe to an interactive table.\"\n",
              "              style=\"display:none;\">\n",
              "        \n",
              "  <svg xmlns=\"http://www.w3.org/2000/svg\" height=\"24px\"viewBox=\"0 0 24 24\"\n",
              "       width=\"24px\">\n",
              "    <path d=\"M0 0h24v24H0V0z\" fill=\"none\"/>\n",
              "    <path d=\"M18.56 5.44l.94 2.06.94-2.06 2.06-.94-2.06-.94-.94-2.06-.94 2.06-2.06.94zm-11 1L8.5 8.5l.94-2.06 2.06-.94-2.06-.94L8.5 2.5l-.94 2.06-2.06.94zm10 10l.94 2.06.94-2.06 2.06-.94-2.06-.94-.94-2.06-.94 2.06-2.06.94z\"/><path d=\"M17.41 7.96l-1.37-1.37c-.4-.4-.92-.59-1.43-.59-.52 0-1.04.2-1.43.59L10.3 9.45l-7.72 7.72c-.78.78-.78 2.05 0 2.83L4 21.41c.39.39.9.59 1.41.59.51 0 1.02-.2 1.41-.59l7.78-7.78 2.81-2.81c.8-.78.8-2.07 0-2.86zM5.41 20L4 18.59l7.72-7.72 1.47 1.35L5.41 20z\"/>\n",
              "  </svg>\n",
              "      </button>\n",
              "      \n",
              "  <style>\n",
              "    .colab-df-container {\n",
              "      display:flex;\n",
              "      flex-wrap:wrap;\n",
              "      gap: 12px;\n",
              "    }\n",
              "\n",
              "    .colab-df-convert {\n",
              "      background-color: #E8F0FE;\n",
              "      border: none;\n",
              "      border-radius: 50%;\n",
              "      cursor: pointer;\n",
              "      display: none;\n",
              "      fill: #1967D2;\n",
              "      height: 32px;\n",
              "      padding: 0 0 0 0;\n",
              "      width: 32px;\n",
              "    }\n",
              "\n",
              "    .colab-df-convert:hover {\n",
              "      background-color: #E2EBFA;\n",
              "      box-shadow: 0px 1px 2px rgba(60, 64, 67, 0.3), 0px 1px 3px 1px rgba(60, 64, 67, 0.15);\n",
              "      fill: #174EA6;\n",
              "    }\n",
              "\n",
              "    [theme=dark] .colab-df-convert {\n",
              "      background-color: #3B4455;\n",
              "      fill: #D2E3FC;\n",
              "    }\n",
              "\n",
              "    [theme=dark] .colab-df-convert:hover {\n",
              "      background-color: #434B5C;\n",
              "      box-shadow: 0px 1px 3px 1px rgba(0, 0, 0, 0.15);\n",
              "      filter: drop-shadow(0px 1px 2px rgba(0, 0, 0, 0.3));\n",
              "      fill: #FFFFFF;\n",
              "    }\n",
              "  </style>\n",
              "\n",
              "      <script>\n",
              "        const buttonEl =\n",
              "          document.querySelector('#df-01a14d81-04af-4315-b56f-e6c24c51a790 button.colab-df-convert');\n",
              "        buttonEl.style.display =\n",
              "          google.colab.kernel.accessAllowed ? 'block' : 'none';\n",
              "\n",
              "        async function convertToInteractive(key) {\n",
              "          const element = document.querySelector('#df-01a14d81-04af-4315-b56f-e6c24c51a790');\n",
              "          const dataTable =\n",
              "            await google.colab.kernel.invokeFunction('convertToInteractive',\n",
              "                                                     [key], {});\n",
              "          if (!dataTable) return;\n",
              "\n",
              "          const docLinkHtml = 'Like what you see? Visit the ' +\n",
              "            '<a target=\"_blank\" href=https://colab.research.google.com/notebooks/data_table.ipynb>data table notebook</a>'\n",
              "            + ' to learn more about interactive tables.';\n",
              "          element.innerHTML = '';\n",
              "          dataTable['output_type'] = 'display_data';\n",
              "          await google.colab.output.renderOutput(dataTable, element);\n",
              "          const docLink = document.createElement('div');\n",
              "          docLink.innerHTML = docLinkHtml;\n",
              "          element.appendChild(docLink);\n",
              "        }\n",
              "      </script>\n",
              "    </div>\n",
              "  </div>\n",
              "  "
            ],
            "text/plain": [
              "Empty DataFrame\n",
              "Columns: [age, job, marital, education, balance, housing, loan, month, duration, no, yes]\n",
              "Index: []"
            ]
          },
          "execution_count": 172,
          "metadata": {},
          "output_type": "execute_result"
        }
      ],
      "source": [
        "cek_no_yes_max.loc[cek_no_yes_max['no'].ge(1.0) &cek_no_yes_max['yes'].ge(1.0)]"
      ]
    },
    {
      "cell_type": "markdown",
      "metadata": {
        "id": "p-QBTSuHBNk1"
      },
      "source": [
        "##Data Preprocessing"
      ]
    },
    {
      "cell_type": "markdown",
      "metadata": {
        "id": "kQcO2hcxb3wL"
      },
      "source": [
        "mengubah column y, dengan nilai 0 menunjukan *NO* dan nilai 1 menunjukan *YES*"
      ]
    },
    {
      "cell_type": "code",
      "execution_count": 10,
      "metadata": {
        "id": "ceeYHVHBbxnX"
      },
      "outputs": [],
      "source": [
        "dataset_train['target'] = dataset_train.loc[:, 'y'].apply(lambda x : 0 if x == \"no\" else 1)\n",
        "\n",
        "dataset_train.drop(columns=[\"default\", \"contact\",\t\"day\", \"campaign\",\t\"pdays\",\t\"previous\", \"poutcome\", \"y\"], inplace=True)"
      ]
    },
    {
      "cell_type": "code",
      "execution_count": 11,
      "metadata": {
        "id": "Agv02-YRmL8O"
      },
      "outputs": [],
      "source": [
        "dataset_test['target'] = dataset_test.loc[:, 'y'].apply(lambda x : 0 if x == \"no\" else 1)\n",
        "\n",
        "dataset_test.drop(columns=[\"default\", \"contact\",\t\"day\", \"campaign\",\t\"pdays\",\t\"previous\", \"poutcome\", \"y\"], inplace=True)"
      ]
    },
    {
      "cell_type": "markdown",
      "metadata": {
        "id": "-Vnal1UbHcZY"
      },
      "source": [
        "dataset train ini merupakan dataframe pandas, split data train dengan ratio 80:20 . 20 % untuk validasi"
      ]
    },
    {
      "cell_type": "code",
      "execution_count": null,
      "metadata": {
        "id": "rt2ZWTYzeWzv"
      },
      "outputs": [],
      "source": [
        "train, val = dataframe_split(dataset_train, ratio = 0.2, shuffle=1)"
      ]
    },
    {
      "cell_type": "code",
      "execution_count": null,
      "metadata": {
        "colab": {
          "base_uri": "https://localhost:8080/"
        },
        "id": "PVFwlMDWH8Dl",
        "outputId": "e3b3f375-f84f-433b-dc43-d2991b197ec0"
      },
      "outputs": [
        {
          "name": "stdout",
          "output_type": "stream",
          "text": [
            "36169 training examples\n",
            "9042 validation examples\n"
          ]
        }
      ],
      "source": [
        "print(len(train), 'training examples')\n",
        "print(len(val), 'validation examples')"
      ]
    },
    {
      "cell_type": "markdown",
      "metadata": {
        "id": "0VcaVe4Olf3u"
      },
      "source": [
        "membuat dataset"
      ]
    },
    {
      "cell_type": "code",
      "execution_count": null,
      "metadata": {
        "id": "G2yhdthoLmol"
      },
      "outputs": [],
      "source": [
        "batch_size = 128\n",
        "\n",
        "train_ds = dataframe_imbalanced_to_dataset(train, batch_size=batch_size)\n",
        "val_ds = dataframe_to_dataset(val, batch_size=batch_size)\n",
        "test_ds = dataframe_to_dataset(dataset_test, batch_size=batch_size)"
      ]
    },
    {
      "cell_type": "markdown",
      "metadata": {
        "id": "Q6RnUThrljIL"
      },
      "source": [
        "cek data"
      ]
    },
    {
      "cell_type": "code",
      "execution_count": null,
      "metadata": {
        "colab": {
          "base_uri": "https://localhost:8080/"
        },
        "id": "VptefnlDM1VA",
        "outputId": "14b8a2b2-f9ac-40a9-c6ca-15d77f9dea73"
      },
      "outputs": [
        {
          "name": "stdout",
          "output_type": "stream",
          "text": [
            "Every feature: ['age', 'job', 'marital', 'education', 'balance', 'housing', 'loan', 'month', 'duration']\n",
            "A batch of marital: tf.Tensor(\n",
            "[[b'self-employed']\n",
            " [b'management']\n",
            " [b'technician']\n",
            " [b'technician']\n",
            " [b'technician']\n",
            " [b'management']\n",
            " [b'services']\n",
            " [b'management']\n",
            " [b'blue-collar']\n",
            " [b'blue-collar']\n",
            " [b'technician']\n",
            " [b'blue-collar']\n",
            " [b'unemployed']\n",
            " [b'housemaid']\n",
            " [b'retired']\n",
            " [b'admin.']\n",
            " [b'blue-collar']\n",
            " [b'entrepreneur']\n",
            " [b'self-employed']\n",
            " [b'blue-collar']\n",
            " [b'management']\n",
            " [b'entrepreneur']\n",
            " [b'admin.']\n",
            " [b'technician']\n",
            " [b'services']\n",
            " [b'admin.']\n",
            " [b'management']\n",
            " [b'admin.']\n",
            " [b'services']\n",
            " [b'management']\n",
            " [b'technician']\n",
            " [b'management']\n",
            " [b'management']\n",
            " [b'management']\n",
            " [b'management']\n",
            " [b'blue-collar']\n",
            " [b'technician']\n",
            " [b'services']\n",
            " [b'technician']\n",
            " [b'services']\n",
            " [b'services']\n",
            " [b'admin.']\n",
            " [b'retired']\n",
            " [b'retired']\n",
            " [b'services']\n",
            " [b'blue-collar']\n",
            " [b'blue-collar']\n",
            " [b'student']\n",
            " [b'technician']\n",
            " [b'services']\n",
            " [b'technician']\n",
            " [b'student']\n",
            " [b'admin.']\n",
            " [b'management']\n",
            " [b'self-employed']\n",
            " [b'management']\n",
            " [b'admin.']\n",
            " [b'management']\n",
            " [b'management']\n",
            " [b'retired']\n",
            " [b'blue-collar']\n",
            " [b'blue-collar']\n",
            " [b'technician']\n",
            " [b'unemployed']\n",
            " [b'blue-collar']\n",
            " [b'admin.']\n",
            " [b'technician']\n",
            " [b'management']\n",
            " [b'services']\n",
            " [b'blue-collar']\n",
            " [b'blue-collar']\n",
            " [b'student']\n",
            " [b'services']\n",
            " [b'services']\n",
            " [b'blue-collar']\n",
            " [b'student']\n",
            " [b'unemployed']\n",
            " [b'unemployed']\n",
            " [b'retired']\n",
            " [b'technician']\n",
            " [b'management']\n",
            " [b'student']\n",
            " [b'services']\n",
            " [b'admin.']\n",
            " [b'admin.']\n",
            " [b'admin.']\n",
            " [b'management']\n",
            " [b'unemployed']\n",
            " [b'entrepreneur']\n",
            " [b'services']\n",
            " [b'blue-collar']\n",
            " [b'blue-collar']\n",
            " [b'management']\n",
            " [b'student']\n",
            " [b'management']\n",
            " [b'blue-collar']\n",
            " [b'technician']\n",
            " [b'unemployed']\n",
            " [b'admin.']\n",
            " [b'management']\n",
            " [b'services']\n",
            " [b'technician']\n",
            " [b'self-employed']\n",
            " [b'management']\n",
            " [b'technician']\n",
            " [b'services']\n",
            " [b'management']\n",
            " [b'blue-collar']\n",
            " [b'entrepreneur']\n",
            " [b'blue-collar']\n",
            " [b'services']\n",
            " [b'blue-collar']\n",
            " [b'blue-collar']\n",
            " [b'technician']\n",
            " [b'services']\n",
            " [b'blue-collar']\n",
            " [b'housemaid']\n",
            " [b'admin.']\n",
            " [b'retired']\n",
            " [b'services']\n",
            " [b'technician']\n",
            " [b'self-employed']\n",
            " [b'admin.']\n",
            " [b'technician']\n",
            " [b'blue-collar']\n",
            " [b'technician']\n",
            " [b'blue-collar']\n",
            " [b'technician']], shape=(128, 1), dtype=string)\n",
            "A batch of targets: tf.Tensor(\n",
            "[1 1 1 0 1 0 1 1 0 0 0 0 1 1 1 0 1 0 0 0 0 1 1 0 0 1 1 1 1 0 1 1 1 1 0 0 1\n",
            " 0 1 0 0 0 1 0 0 0 0 1 0 1 1 1 0 0 0 1 1 1 1 1 0 0 1 0 0 0 1 1 0 0 0 0 1 1\n",
            " 0 1 1 0 1 1 0 0 1 1 0 0 1 0 0 0 0 0 1 1 0 0 1 0 0 0 0 1 0 1 1 0 0 0 0 1 0\n",
            " 0 0 0 0 0 0 1 1 0 0 0 0 1 0 0 1 0], shape=(128,), dtype=int64)\n"
          ]
        }
      ],
      "source": [
        "[(train_features, label_batch)] = train_ds.take(1)\n",
        "print('Every feature:', list(train_features.keys()))\n",
        "print('A batch of marital:', train_features['job'])\n",
        "print('A batch of targets:', label_batch )"
      ]
    },
    {
      "cell_type": "markdown",
      "metadata": {
        "id": "2moUUtUQyEj5"
      },
      "source": [
        "test preprocessing"
      ]
    },
    {
      "cell_type": "code",
      "execution_count": null,
      "metadata": {
        "colab": {
          "base_uri": "https://localhost:8080/"
        },
        "id": "6C16yd6jyJVY",
        "outputId": "f8297130-458a-4425-f219-e432794369f3"
      },
      "outputs": [
        {
          "data": {
            "text/plain": [
              "array([[0., 0., 0., ..., 0., 0., 0.],\n",
              "       [0., 1., 0., ..., 0., 0., 0.],\n",
              "       [0., 0., 0., ..., 0., 0., 0.],\n",
              "       ...,\n",
              "       [0., 0., 0., ..., 0., 0., 0.],\n",
              "       [0., 0., 1., ..., 0., 0., 0.],\n",
              "       [0., 0., 0., ..., 0., 0., 0.]], dtype=float32)"
            ]
          },
          "execution_count": 179,
          "metadata": {},
          "output_type": "execute_result"
        }
      ],
      "source": [
        "test_job_col = train_features['job']\n",
        "test_job_layer = categories_preprocessing(name='job',\n",
        "                                        dataset=train_ds,\n",
        "                                        dtype='string')\n",
        "test_job_layer(test_job_col).numpy()"
      ]
    },
    {
      "cell_type": "code",
      "execution_count": null,
      "metadata": {
        "colab": {
          "base_uri": "https://localhost:8080/"
        },
        "id": "R6N2tN4byZ8D",
        "outputId": "71147684-4c4d-473f-bf6a-dd6d8807640f"
      },
      "outputs": [
        {
          "data": {
            "text/plain": [
              "<tf.Tensor: shape=(128, 1), dtype=float32, numpy=\n",
              "array([[ 3.2660656e-03],\n",
              "       [ 1.8076040e+00],\n",
              "       [ 2.2636454e+00],\n",
              "       [-8.4543146e-02],\n",
              "       [-7.1620297e-01],\n",
              "       [-7.3319834e-01],\n",
              "       [ 1.6999668e+00],\n",
              "       [-2.4033369e-01],\n",
              "       [-5.5191475e-01],\n",
              "       [-1.0391144e+00],\n",
              "       [-6.9354254e-01],\n",
              "       [ 1.1391207e+00],\n",
              "       [ 9.3517679e-01],\n",
              "       [-2.6582670e-01],\n",
              "       [ 7.4539554e-01],\n",
              "       [-7.1337044e-01],\n",
              "       [-6.2556124e-01],\n",
              "       [ 4.7630280e-01],\n",
              "       [ 5.4252062e-02],\n",
              "       [-4.6127301e-01],\n",
              "       [-3.0831501e-01],\n",
              "       [ 6.6325146e-01],\n",
              "       [ 5.0179583e-01],\n",
              "       [-4.3011490e-01],\n",
              "       [ 4.7063771e-01],\n",
              "       [-5.5757987e-01],\n",
              "       [ 3.2051226e-01],\n",
              "       [-3.4797078e-01],\n",
              "       [ 2.5865567e+00],\n",
              "       [-4.0178934e-01],\n",
              "       [ 8.6719543e-01],\n",
              "       [-5.6324500e-01],\n",
              "       [ 8.0204666e-01],\n",
              "       [ 9.9749297e-01],\n",
              "       [-3.8762656e-01],\n",
              "       [-6.7547821e-02],\n",
              "       [ 1.7038684e-01],\n",
              "       [ 3.1484714e-01],\n",
              "       [ 4.8196793e-01],\n",
              "       [-9.1164929e-01],\n",
              "       [ 2.3093954e-02],\n",
              "       [-5.0376135e-01],\n",
              "       [-4.3011490e-01],\n",
              "       [-3.0548248e-01],\n",
              "       [-1.0896711e-02],\n",
              "       [-5.5474734e-01],\n",
              "       [-6.1423099e-01],\n",
              "       [ 6.2076312e-01],\n",
              "       [-8.2100755e-01],\n",
              "       [-1.0437103e-01],\n",
              "       [-3.5080335e-01],\n",
              "       [ 1.9237387e+00],\n",
              "       [-7.6718897e-01],\n",
              "       [-3.9612424e-01],\n",
              "       [-5.2642179e-01],\n",
              "       [-4.3578002e-01],\n",
              "       [-3.7346378e-01],\n",
              "       [ 1.9587983e-01],\n",
              "       [-2.5449646e-01],\n",
              "       [ 3.3750761e-01],\n",
              "       [-9.1731441e-01],\n",
              "       [-3.4797078e-01],\n",
              "       [ 1.2779160e+00],\n",
              "       [-4.4994280e-01],\n",
              "       [-7.2470063e-01],\n",
              "       [-5.0092876e-01],\n",
              "       [ 8.8702333e-01],\n",
              "       [ 9.5217210e-01],\n",
              "       [-6.1882708e-02],\n",
              "       [-8.2667267e-01],\n",
              "       [ 1.4489383e-01],\n",
              "       [-7.2753322e-01],\n",
              "       [-2.8848714e-01],\n",
              "       [ 2.9349608e+00],\n",
              "       [-4.9243110e-01],\n",
              "       [-7.2470063e-01],\n",
              "       [-2.5059488e-02],\n",
              "       [-2.2617091e-01],\n",
              "       [-3.4230569e-01],\n",
              "       [ 2.8935415e-01],\n",
              "       [-6.8221235e-01],\n",
              "       [-4.3578002e-01],\n",
              "       [-3.6496612e-01],\n",
              "       [-1.7518492e-01],\n",
              "       [ 9.3907833e-02],\n",
              "       [-4.6977067e-01],\n",
              "       [-8.0967730e-01],\n",
              "       [ 5.2162367e-01],\n",
              "       [-5.8873802e-01],\n",
              "       [-3.7912890e-01],\n",
              "       [-8.8049120e-01],\n",
              "       [ 2.7519137e-01],\n",
              "       [-4.4711024e-01],\n",
              "       [-5.9157056e-01],\n",
              "       [-3.8479403e-01],\n",
              "       [-6.6521698e-01],\n",
              "       [ 4.2814937e-01],\n",
              "       [-8.7765867e-01],\n",
              "       [-8.5499817e-01],\n",
              "       [-7.1337044e-01],\n",
              "       [ 1.9304727e-01],\n",
              "       [ 3.1332397e+00],\n",
              "       [-5.0092876e-01],\n",
              "       [ 5.5125861e+00],\n",
              "       [ 1.1957718e+00],\n",
              "       [-6.0006821e-01],\n",
              "       [-1.0277841e+00],\n",
              "       [-8.3517033e-01],\n",
              "       [-9.2864466e-01],\n",
              "       [ 8.8419080e-01],\n",
              "       [-5.2642179e-01],\n",
              "       [-5.6324500e-01],\n",
              "       [-7.3886341e-01],\n",
              "       [-9.6546787e-01],\n",
              "       [-7.3036575e-01],\n",
              "       [-9.9379343e-01],\n",
              "       [-7.1053785e-01],\n",
              "       [-8.4543146e-02],\n",
              "       [-5.0552487e-02],\n",
              "       [-6.3972402e-01],\n",
              "       [ 8.8702333e-01],\n",
              "       [ 4.7063771e-01],\n",
              "       [-8.7375708e-02],\n",
              "       [-3.7629634e-01],\n",
              "       [-5.0659388e-01],\n",
              "       [-7.1337044e-01],\n",
              "       [ 1.2789850e-01],\n",
              "       [ 1.1589487e+00]], dtype=float32)>"
            ]
          },
          "execution_count": 180,
          "metadata": {},
          "output_type": "execute_result"
        }
      ],
      "source": [
        "test_duration_col = train_features['duration']\n",
        "test_duration_layer = numeric_preprocessing(name='duration',\n",
        "                                            dataset=train_ds,\n",
        "                                            num_bins=32)\n",
        "test_duration_layer(test_duration_col)"
      ]
    },
    {
      "cell_type": "markdown",
      "metadata": {
        "id": "c19rHREvlsAr"
      },
      "source": [
        "membagikan column berdasarkan numeric atau categorical integer atau string"
      ]
    },
    {
      "cell_type": "code",
      "execution_count": null,
      "metadata": {
        "id": "Hl5BaK0S9Xb1"
      },
      "outputs": [],
      "source": [
        "numeric_keys = [\"age\", \"balance\", \"duration\"]\n",
        "categorical_integer_keys = [\"age\"]\n",
        "categorical_string_keys = [\"job\", \"marital\", \"education\", \"housing\", \"loan\", \"month\"]\n",
        "all_inputs = []\n",
        "all_preprocessors = []"
      ]
    },
    {
      "cell_type": "code",
      "execution_count": null,
      "metadata": {
        "id": "n44nM94XQ4po"
      },
      "outputs": [],
      "source": [
        "for numeric in numeric_keys:\n",
        "  input = tf.keras.Input(shape=(1,), name=numeric, dtype=\"int64\")\n",
        "  num_layer = numeric_preprocessing(name=numeric, dataset=train_ds, num_bins=32)\n",
        "  num_preprocessor = num_layer(input)\n",
        "  all_inputs.append(input)\n",
        "  all_preprocessors.append(num_preprocessor)"
      ]
    },
    {
      "cell_type": "code",
      "execution_count": null,
      "metadata": {
        "id": "uZp_YEXgUlZc"
      },
      "outputs": [],
      "source": [
        "for categorical in categorical_string_keys:\n",
        "  input = tf.keras.Input(shape=(1,), name=categorical, dtype=\"string\")\n",
        "  cat_layer = categories_preprocessing(name=categorical, dataset=train_ds, dtype=\"string\")\n",
        "  cat_preprocessor = cat_layer(input)\n",
        "  all_inputs.append(input)\n",
        "  all_preprocessors.append(cat_preprocessor)"
      ]
    },
    {
      "cell_type": "code",
      "execution_count": null,
      "metadata": {
        "colab": {
          "base_uri": "https://localhost:8080/"
        },
        "id": "dBp7suJaVeg8",
        "outputId": "bd4d1832-26d8-4b32-c1b6-d6483fb2721d"
      },
      "outputs": [
        {
          "data": {
            "text/plain": [
              "([<KerasTensor: shape=(None, 1) dtype=int64 (created by layer 'age')>,\n",
              "  <KerasTensor: shape=(None, 1) dtype=int64 (created by layer 'balance')>,\n",
              "  <KerasTensor: shape=(None, 1) dtype=int64 (created by layer 'duration')>,\n",
              "  <KerasTensor: shape=(None, 1) dtype=string (created by layer 'job')>,\n",
              "  <KerasTensor: shape=(None, 1) dtype=string (created by layer 'marital')>,\n",
              "  <KerasTensor: shape=(None, 1) dtype=string (created by layer 'education')>,\n",
              "  <KerasTensor: shape=(None, 1) dtype=string (created by layer 'housing')>,\n",
              "  <KerasTensor: shape=(None, 1) dtype=string (created by layer 'loan')>,\n",
              "  <KerasTensor: shape=(None, 1) dtype=string (created by layer 'month')>],\n",
              " [<KerasTensor: shape=(None, 1) dtype=float32 (created by layer 'normalization_5')>,\n",
              "  <KerasTensor: shape=(None, 1) dtype=float32 (created by layer 'normalization_6')>,\n",
              "  <KerasTensor: shape=(None, 1) dtype=float32 (created by layer 'normalization_7')>,\n",
              "  <KerasTensor: shape=(None, 13) dtype=float32 (created by layer 'category_encoding_8')>,\n",
              "  <KerasTensor: shape=(None, 4) dtype=float32 (created by layer 'category_encoding_9')>,\n",
              "  <KerasTensor: shape=(None, 5) dtype=float32 (created by layer 'category_encoding_10')>,\n",
              "  <KerasTensor: shape=(None, 3) dtype=float32 (created by layer 'category_encoding_11')>,\n",
              "  <KerasTensor: shape=(None, 3) dtype=float32 (created by layer 'category_encoding_12')>,\n",
              "  <KerasTensor: shape=(None, 13) dtype=float32 (created by layer 'category_encoding_13')>])"
            ]
          },
          "execution_count": 184,
          "metadata": {},
          "output_type": "execute_result"
        }
      ],
      "source": [
        "all_inputs, all_preprocessors"
      ]
    },
    {
      "cell_type": "markdown",
      "metadata": {
        "id": "0w9VerxWVw43"
      },
      "source": [
        "##Model"
      ]
    },
    {
      "cell_type": "code",
      "execution_count": null,
      "metadata": {
        "id": "Kq0jZyrzVwJT"
      },
      "outputs": [],
      "source": [
        "all_features = tf.keras.layers.concatenate(all_preprocessors)\n",
        "x = tf.keras.layers.Dense(16, activation=tf.keras.activations.relu, kernel_regularizer=\"l2\")(all_features)\n",
        "x = tf.keras.layers.Dropout(0.2)(x)\n",
        "output = tf.keras.layers.Dense(1, activation=tf.keras.activations.sigmoid)(x)\n",
        "\n",
        "model = tf.keras.Model(all_inputs, output)"
      ]
    },
    {
      "cell_type": "code",
      "execution_count": null,
      "metadata": {
        "colab": {
          "base_uri": "https://localhost:8080/",
          "height": 777
        },
        "id": "yOHa8_s5d49g",
        "outputId": "f9d0ac5c-d6b2-4c4f-d124-64b1278f8cd5"
      },
      "outputs": [
        {
          "data": {
            "image/png": "[encoded data removed]",
            "text/plain": [
              "<IPython.core.display.Image object>"
            ]
          },
          "execution_count": 186,
          "metadata": {},
          "output_type": "execute_result"
        }
      ],
      "source": [
        "tf.keras.utils.plot_model(model, show_shapes=True, rankdir=\"LR\")"
      ]
    },
    {
      "cell_type": "code",
      "execution_count": null,
      "metadata": {
        "id": "18JYIn_ozx6p"
      },
      "outputs": [],
      "source": [
        "early_stop = tf.keras.callbacks.EarlyStopping(monitor='val_loss',patience=10)\n",
        "epochs = 50"
      ]
    },
    {
      "cell_type": "code",
      "execution_count": null,
      "metadata": {
        "id": "8ohLUpvQdMsH"
      },
      "outputs": [],
      "source": [
        "METRICS = [\n",
        "      tf.keras.metrics.TruePositives(name='tp'),\n",
        "      tf.keras.metrics.FalsePositives(name='fp'),\n",
        "      tf.keras.metrics.TrueNegatives(name='tn'),\n",
        "      tf.keras.metrics.FalseNegatives(name='fn'), \n",
        "      tf.keras.metrics.BinaryAccuracy(name='accuracy'),\n",
        "      tf.keras.metrics.Precision(name='precision'),\n",
        "      tf.keras.metrics.Recall(name='recall'),\n",
        "      tf.keras.metrics.AUC(name='auc'),\n",
        "      tf.keras.metrics.AUC(name='prc', curve='PR'), # precision-recall curve\n",
        "]\n",
        "model.compile(optimizer=tf.keras.optimizers.Adam(learning_rate = 0.001),\n",
        "              loss=tf.keras.losses.BinaryCrossentropy(),\n",
        "              metrics=METRICS)"
      ]
    },
    {
      "cell_type": "code",
      "execution_count": null,
      "metadata": {
        "colab": {
          "base_uri": "https://localhost:8080/"
        },
        "id": "3XgJ1yhqeOMb",
        "outputId": "5741464c-080f-482b-be85-81237da4bccb"
      },
      "outputs": [
        {
          "name": "stdout",
          "output_type": "stream",
          "text": [
            "Epoch 1/50\n",
            "514/514 [==============================] - 14s 17ms/step - loss: 0.6161 - tp: 24685.0000 - fp: 8882.0000 - tn: 23072.0000 - fn: 9035.0000 - accuracy: 0.7272 - precision: 0.7354 - recall: 0.7321 - auc: 0.8117 - prc: 0.8080 - val_loss: 0.9080 - val_tp: 1043.0000 - val_fp: 4362.0000 - val_tn: 3606.0000 - val_fn: 31.0000 - val_accuracy: 0.5142 - val_precision: 0.1930 - val_recall: 0.9711 - val_auc: 0.8696 - val_prc: 0.4630\n",
            "Epoch 2/50\n",
            "514/514 [==============================] - 5s 10ms/step - loss: 0.4833 - tp: 27593.0000 - fp: 6981.0000 - tn: 24973.0000 - fn: 6127.0000 - accuracy: 0.8004 - precision: 0.7981 - recall: 0.8183 - auc: 0.8710 - prc: 0.8514 - val_loss: 0.9114 - val_tp: 1045.0000 - val_fp: 4316.0000 - val_tn: 3652.0000 - val_fn: 29.0000 - val_accuracy: 0.5195 - val_precision: 0.1949 - val_recall: 0.9730 - val_auc: 0.8712 - val_prc: 0.4670\n",
            "Epoch 3/50\n",
            "514/514 [==============================] - 5s 10ms/step - loss: 0.4731 - tp: 27943.0000 - fp: 7126.0000 - tn: 24828.0000 - fn: 5777.0000 - accuracy: 0.8035 - precision: 0.7968 - recall: 0.8287 - auc: 0.8725 - prc: 0.8532 - val_loss: 0.9740 - val_tp: 1052.0000 - val_fp: 4673.0000 - val_tn: 3295.0000 - val_fn: 22.0000 - val_accuracy: 0.4808 - val_precision: 0.1838 - val_recall: 0.9795 - val_auc: 0.8721 - val_prc: 0.4703\n",
            "Epoch 4/50\n",
            "514/514 [==============================] - 5s 10ms/step - loss: 0.4648 - tp: 28148.0000 - fp: 7212.0000 - tn: 24742.0000 - fn: 5572.0000 - accuracy: 0.8053 - precision: 0.7960 - recall: 0.8348 - auc: 0.8753 - prc: 0.8565 - val_loss: 1.2493 - val_tp: 1068.0000 - val_fp: 5948.0000 - val_tn: 2020.0000 - val_fn: 6.0000 - val_accuracy: 0.3415 - val_precision: 0.1522 - val_recall: 0.9944 - val_auc: 0.8719 - val_prc: 0.4696\n",
            "Epoch 5/50\n",
            "514/514 [==============================] - 5s 10ms/step - loss: 0.4655 - tp: 28285.0000 - fp: 7426.0000 - tn: 24528.0000 - fn: 5435.0000 - accuracy: 0.8042 - precision: 0.7921 - recall: 0.8388 - auc: 0.8732 - prc: 0.8519 - val_loss: 1.0809 - val_tp: 1060.0000 - val_fp: 5171.0000 - val_tn: 2797.0000 - val_fn: 14.0000 - val_accuracy: 0.4266 - val_precision: 0.1701 - val_recall: 0.9870 - val_auc: 0.8733 - val_prc: 0.4742\n",
            "Epoch 6/50\n",
            "514/514 [==============================] - 5s 10ms/step - loss: 0.4608 - tp: 28380.0000 - fp: 7440.0000 - tn: 24514.0000 - fn: 5340.0000 - accuracy: 0.8054 - precision: 0.7923 - recall: 0.8416 - auc: 0.8750 - prc: 0.8550 - val_loss: 0.9272 - val_tp: 1049.0000 - val_fp: 4364.0000 - val_tn: 3604.0000 - val_fn: 25.0000 - val_accuracy: 0.5146 - val_precision: 0.1938 - val_recall: 0.9767 - val_auc: 0.8739 - val_prc: 0.4751\n",
            "Epoch 7/50\n",
            "514/514 [==============================] - 5s 10ms/step - loss: 0.4537 - tp: 28452.0000 - fp: 7295.0000 - tn: 24659.0000 - fn: 5268.0000 - accuracy: 0.8087 - precision: 0.7959 - recall: 0.8438 - auc: 0.8787 - prc: 0.8593 - val_loss: 1.2516 - val_tp: 1068.0000 - val_fp: 5851.0000 - val_tn: 2117.0000 - val_fn: 6.0000 - val_accuracy: 0.3522 - val_precision: 0.1544 - val_recall: 0.9944 - val_auc: 0.8722 - val_prc: 0.4728\n",
            "Epoch 8/50\n",
            "514/514 [==============================] - 5s 10ms/step - loss: 0.4563 - tp: 28537.0000 - fp: 7470.0000 - tn: 24484.0000 - fn: 5183.0000 - accuracy: 0.8073 - precision: 0.7925 - recall: 0.8463 - auc: 0.8761 - prc: 0.8554 - val_loss: 1.1358 - val_tp: 1064.0000 - val_fp: 5375.0000 - val_tn: 2593.0000 - val_fn: 10.0000 - val_accuracy: 0.4044 - val_precision: 0.1652 - val_recall: 0.9907 - val_auc: 0.8737 - val_prc: 0.4757\n",
            "Epoch 9/50\n",
            "514/514 [==============================] - 5s 10ms/step - loss: 0.4533 - tp: 28618.0000 - fp: 7496.0000 - tn: 24458.0000 - fn: 5102.0000 - accuracy: 0.8082 - precision: 0.7924 - recall: 0.8487 - auc: 0.8774 - prc: 0.8569 - val_loss: 1.1592 - val_tp: 1065.0000 - val_fp: 5498.0000 - val_tn: 2470.0000 - val_fn: 9.0000 - val_accuracy: 0.3910 - val_precision: 0.1623 - val_recall: 0.9916 - val_auc: 0.8740 - val_prc: 0.4751\n",
            "Epoch 10/50\n",
            "514/514 [==============================] - 5s 10ms/step - loss: 0.4538 - tp: 28643.0000 - fp: 7596.0000 - tn: 24358.0000 - fn: 5077.0000 - accuracy: 0.8070 - precision: 0.7904 - recall: 0.8494 - auc: 0.8770 - prc: 0.8557 - val_loss: 1.0329 - val_tp: 1056.0000 - val_fp: 4941.0000 - val_tn: 3027.0000 - val_fn: 18.0000 - val_accuracy: 0.4516 - val_precision: 0.1761 - val_recall: 0.9832 - val_auc: 0.8757 - val_prc: 0.4781\n",
            "Epoch 11/50\n",
            "514/514 [==============================] - 5s 10ms/step - loss: 0.4506 - tp: 28700.0000 - fp: 7563.0000 - tn: 24391.0000 - fn: 5020.0000 - accuracy: 0.8084 - precision: 0.7914 - recall: 0.8511 - auc: 0.8784 - prc: 0.8576 - val_loss: 1.0220 - val_tp: 1056.0000 - val_fp: 4902.0000 - val_tn: 3066.0000 - val_fn: 18.0000 - val_accuracy: 0.4559 - val_precision: 0.1772 - val_recall: 0.9832 - val_auc: 0.8767 - val_prc: 0.4810\n",
            "Epoch 12/50\n",
            "514/514 [==============================] - 5s 10ms/step - loss: 0.4485 - tp: 28718.0000 - fp: 7508.0000 - tn: 24446.0000 - fn: 5002.0000 - accuracy: 0.8095 - precision: 0.7927 - recall: 0.8517 - auc: 0.8794 - prc: 0.8591 - val_loss: 1.1899 - val_tp: 1068.0000 - val_fp: 5683.0000 - val_tn: 2285.0000 - val_fn: 6.0000 - val_accuracy: 0.3708 - val_precision: 0.1582 - val_recall: 0.9944 - val_auc: 0.8760 - val_prc: 0.4796\n",
            "Epoch 13/50\n",
            "514/514 [==============================] - 5s 10ms/step - loss: 0.4467 - tp: 28785.0000 - fp: 7501.0000 - tn: 24453.0000 - fn: 4935.0000 - accuracy: 0.8106 - precision: 0.7933 - recall: 0.8536 - auc: 0.8801 - prc: 0.8599 - val_loss: 1.2605 - val_tp: 1070.0000 - val_fp: 5932.0000 - val_tn: 2036.0000 - val_fn: 4.0000 - val_accuracy: 0.3435 - val_precision: 0.1528 - val_recall: 0.9963 - val_auc: 0.8753 - val_prc: 0.4778\n",
            "Epoch 14/50\n",
            "514/514 [==============================] - 6s 13ms/step - loss: 0.4497 - tp: 28815.0000 - fp: 7661.0000 - tn: 24293.0000 - fn: 4905.0000 - accuracy: 0.8087 - precision: 0.7900 - recall: 0.8545 - auc: 0.8783 - prc: 0.8559 - val_loss: 1.0646 - val_tp: 1063.0000 - val_fp: 5130.0000 - val_tn: 2838.0000 - val_fn: 11.0000 - val_accuracy: 0.4314 - val_precision: 0.1716 - val_recall: 0.9898 - val_auc: 0.8773 - val_prc: 0.4804\n",
            "Epoch 15/50\n",
            "514/514 [==============================] - 5s 10ms/step - loss: 0.4454 - tp: 28889.0000 - fp: 7628.0000 - tn: 24326.0000 - fn: 4831.0000 - accuracy: 0.8103 - precision: 0.7911 - recall: 0.8567 - auc: 0.8808 - prc: 0.8602 - val_loss: 1.1030 - val_tp: 1064.0000 - val_fp: 5303.0000 - val_tn: 2665.0000 - val_fn: 10.0000 - val_accuracy: 0.4124 - val_precision: 0.1671 - val_recall: 0.9907 - val_auc: 0.8785 - val_prc: 0.4835\n",
            "Epoch 16/50\n",
            "514/514 [==============================] - 5s 10ms/step - loss: 0.4451 - tp: 28881.0000 - fp: 7612.0000 - tn: 24342.0000 - fn: 4839.0000 - accuracy: 0.8104 - precision: 0.7914 - recall: 0.8565 - auc: 0.8809 - prc: 0.8597 - val_loss: 1.2293 - val_tp: 1071.0000 - val_fp: 5859.0000 - val_tn: 2109.0000 - val_fn: 3.0000 - val_accuracy: 0.3517 - val_precision: 0.1545 - val_recall: 0.9972 - val_auc: 0.8763 - val_prc: 0.4795\n",
            "Epoch 17/50\n",
            "514/514 [==============================] - 5s 11ms/step - loss: 0.4463 - tp: 28901.0000 - fp: 7684.0000 - tn: 24270.0000 - fn: 4819.0000 - accuracy: 0.8096 - precision: 0.7900 - recall: 0.8571 - auc: 0.8796 - prc: 0.8583 - val_loss: 1.0109 - val_tp: 1059.0000 - val_fp: 4934.0000 - val_tn: 3034.0000 - val_fn: 15.0000 - val_accuracy: 0.4527 - val_precision: 0.1767 - val_recall: 0.9860 - val_auc: 0.8788 - val_prc: 0.4849\n",
            "Epoch 18/50\n",
            "514/514 [==============================] - 5s 11ms/step - loss: 0.4417 - tp: 28912.0000 - fp: 7560.0000 - tn: 24394.0000 - fn: 4808.0000 - accuracy: 0.8117 - precision: 0.7927 - recall: 0.8574 - auc: 0.8826 - prc: 0.8624 - val_loss: 1.2196 - val_tp: 1070.0000 - val_fp: 5830.0000 - val_tn: 2138.0000 - val_fn: 4.0000 - val_accuracy: 0.3548 - val_precision: 0.1551 - val_recall: 0.9963 - val_auc: 0.8771 - val_prc: 0.4818\n",
            "Epoch 19/50\n",
            "514/514 [==============================] - 5s 11ms/step - loss: 0.4421 - tp: 28880.0000 - fp: 7577.0000 - tn: 24377.0000 - fn: 4840.0000 - accuracy: 0.8109 - precision: 0.7922 - recall: 0.8565 - auc: 0.8820 - prc: 0.8606 - val_loss: 1.3140 - val_tp: 1072.0000 - val_fp: 6157.0000 - val_tn: 1811.0000 - val_fn: 2.0000 - val_accuracy: 0.3188 - val_precision: 0.1483 - val_recall: 0.9981 - val_auc: 0.8770 - val_prc: 0.4821\n",
            "Epoch 20/50\n",
            "514/514 [==============================] - 5s 11ms/step - loss: 0.4439 - tp: 28946.0000 - fp: 7656.0000 - tn: 24298.0000 - fn: 4774.0000 - accuracy: 0.8107 - precision: 0.7908 - recall: 0.8584 - auc: 0.8807 - prc: 0.8578 - val_loss: 1.1652 - val_tp: 1068.0000 - val_fp: 5599.0000 - val_tn: 2369.0000 - val_fn: 6.0000 - val_accuracy: 0.3801 - val_precision: 0.1602 - val_recall: 0.9944 - val_auc: 0.8784 - val_prc: 0.4836\n",
            "Epoch 21/50\n",
            "514/514 [==============================] - 5s 10ms/step - loss: 0.4430 - tp: 28978.0000 - fp: 7653.0000 - tn: 24301.0000 - fn: 4742.0000 - accuracy: 0.8113 - precision: 0.7911 - recall: 0.8594 - auc: 0.8815 - prc: 0.8603 - val_loss: 0.9765 - val_tp: 1054.0000 - val_fp: 4723.0000 - val_tn: 3245.0000 - val_fn: 20.0000 - val_accuracy: 0.4754 - val_precision: 0.1824 - val_recall: 0.9814 - val_auc: 0.8801 - val_prc: 0.4864\n",
            "Epoch 22/50\n",
            "514/514 [==============================] - 5s 11ms/step - loss: 0.4391 - tp: 29025.0000 - fp: 7619.0000 - tn: 24335.0000 - fn: 4695.0000 - accuracy: 0.8125 - precision: 0.7921 - recall: 0.8608 - auc: 0.8838 - prc: 0.8635 - val_loss: 1.3531 - val_tp: 1072.0000 - val_fp: 6212.0000 - val_tn: 1756.0000 - val_fn: 2.0000 - val_accuracy: 0.3128 - val_precision: 0.1472 - val_recall: 0.9981 - val_auc: 0.8761 - val_prc: 0.4769\n",
            "Epoch 23/50\n",
            "514/514 [==============================] - 5s 10ms/step - loss: 0.4410 - tp: 29040.0000 - fp: 7709.0000 - tn: 24245.0000 - fn: 4680.0000 - accuracy: 0.8114 - precision: 0.7902 - recall: 0.8612 - auc: 0.8826 - prc: 0.8611 - val_loss: 1.3326 - val_tp: 1072.0000 - val_fp: 6181.0000 - val_tn: 1787.0000 - val_fn: 2.0000 - val_accuracy: 0.3162 - val_precision: 0.1478 - val_recall: 0.9981 - val_auc: 0.8763 - val_prc: 0.4798\n",
            "Epoch 24/50\n",
            "514/514 [==============================] - 5s 10ms/step - loss: 0.4424 - tp: 29034.0000 - fp: 7687.0000 - tn: 24267.0000 - fn: 4686.0000 - accuracy: 0.8116 - precision: 0.7907 - recall: 0.8610 - auc: 0.8815 - prc: 0.8592 - val_loss: 1.0503 - val_tp: 1062.0000 - val_fp: 5135.0000 - val_tn: 2833.0000 - val_fn: 12.0000 - val_accuracy: 0.4308 - val_precision: 0.1714 - val_recall: 0.9888 - val_auc: 0.8795 - val_prc: 0.4857\n",
            "Epoch 25/50\n",
            "514/514 [==============================] - 5s 10ms/step - loss: 0.4383 - tp: 28979.0000 - fp: 7628.0000 - tn: 24326.0000 - fn: 4741.0000 - accuracy: 0.8117 - precision: 0.7916 - recall: 0.8594 - auc: 0.8840 - prc: 0.8629 - val_loss: 1.0514 - val_tp: 1062.0000 - val_fp: 5095.0000 - val_tn: 2873.0000 - val_fn: 12.0000 - val_accuracy: 0.4352 - val_precision: 0.1725 - val_recall: 0.9888 - val_auc: 0.8806 - val_prc: 0.4864\n",
            "Epoch 26/50\n",
            "514/514 [==============================] - 5s 10ms/step - loss: 0.4383 - tp: 29027.0000 - fp: 7589.0000 - tn: 24365.0000 - fn: 4693.0000 - accuracy: 0.8130 - precision: 0.7927 - recall: 0.8608 - auc: 0.8840 - prc: 0.8625 - val_loss: 1.1189 - val_tp: 1068.0000 - val_fp: 5445.0000 - val_tn: 2523.0000 - val_fn: 6.0000 - val_accuracy: 0.3971 - val_precision: 0.1640 - val_recall: 0.9944 - val_auc: 0.8797 - val_prc: 0.4856\n",
            "Epoch 27/50\n",
            "514/514 [==============================] - 5s 10ms/step - loss: 0.4377 - tp: 29046.0000 - fp: 7650.0000 - tn: 24304.0000 - fn: 4674.0000 - accuracy: 0.8123 - precision: 0.7915 - recall: 0.8614 - auc: 0.8842 - prc: 0.8636 - val_loss: 1.1074 - val_tp: 1064.0000 - val_fp: 5328.0000 - val_tn: 2640.0000 - val_fn: 10.0000 - val_accuracy: 0.4096 - val_precision: 0.1665 - val_recall: 0.9907 - val_auc: 0.8793 - val_prc: 0.4855\n",
            "Epoch 28/50\n",
            "514/514 [==============================] - 5s 11ms/step - loss: 0.4358 - tp: 29045.0000 - fp: 7618.0000 - tn: 24336.0000 - fn: 4675.0000 - accuracy: 0.8128 - precision: 0.7922 - recall: 0.8614 - auc: 0.8854 - prc: 0.8648 - val_loss: 1.4789 - val_tp: 1073.0000 - val_fp: 6648.0000 - val_tn: 1320.0000 - val_fn: 1.0000 - val_accuracy: 0.2647 - val_precision: 0.1390 - val_recall: 0.9991 - val_auc: 0.8751 - val_prc: 0.4801\n",
            "Epoch 29/50\n",
            "514/514 [==============================] - 6s 11ms/step - loss: 0.4413 - tp: 29078.0000 - fp: 7699.0000 - tn: 24255.0000 - fn: 4642.0000 - accuracy: 0.8121 - precision: 0.7907 - recall: 0.8623 - auc: 0.8818 - prc: 0.8584 - val_loss: 1.1601 - val_tp: 1068.0000 - val_fp: 5580.0000 - val_tn: 2388.0000 - val_fn: 6.0000 - val_accuracy: 0.3822 - val_precision: 0.1606 - val_recall: 0.9944 - val_auc: 0.8801 - val_prc: 0.4873\n",
            "Epoch 30/50\n",
            "514/514 [==============================] - 6s 11ms/step - loss: 0.4378 - tp: 29200.0000 - fp: 7698.0000 - tn: 24256.0000 - fn: 4520.0000 - accuracy: 0.8140 - precision: 0.7914 - recall: 0.8660 - auc: 0.8843 - prc: 0.8626 - val_loss: 1.1762 - val_tp: 1069.0000 - val_fp: 5642.0000 - val_tn: 2326.0000 - val_fn: 5.0000 - val_accuracy: 0.3755 - val_precision: 0.1593 - val_recall: 0.9953 - val_auc: 0.8795 - val_prc: 0.4852\n",
            "Epoch 31/50\n",
            "514/514 [==============================] - 5s 11ms/step - loss: 0.4367 - tp: 29143.0000 - fp: 7768.0000 - tn: 24186.0000 - fn: 4577.0000 - accuracy: 0.8120 - precision: 0.7895 - recall: 0.8643 - auc: 0.8848 - prc: 0.8632 - val_loss: 1.1848 - val_tp: 1069.0000 - val_fp: 5688.0000 - val_tn: 2280.0000 - val_fn: 5.0000 - val_accuracy: 0.3704 - val_precision: 0.1582 - val_recall: 0.9953 - val_auc: 0.8788 - val_prc: 0.4844\n",
            "Epoch 32/50\n",
            "514/514 [==============================] - 6s 11ms/step - loss: 0.4358 - tp: 29195.0000 - fp: 7661.0000 - tn: 24293.0000 - fn: 4525.0000 - accuracy: 0.8144 - precision: 0.7921 - recall: 0.8658 - auc: 0.8852 - prc: 0.8643 - val_loss: 1.2751 - val_tp: 1071.0000 - val_fp: 5975.0000 - val_tn: 1993.0000 - val_fn: 3.0000 - val_accuracy: 0.3389 - val_precision: 0.1520 - val_recall: 0.9972 - val_auc: 0.8781 - val_prc: 0.4836\n",
            "Epoch 33/50\n",
            "514/514 [==============================] - 5s 10ms/step - loss: 0.4365 - tp: 29219.0000 - fp: 7742.0000 - tn: 24212.0000 - fn: 4501.0000 - accuracy: 0.8136 - precision: 0.7905 - recall: 0.8665 - auc: 0.8846 - prc: 0.8621 - val_loss: 1.0697 - val_tp: 1064.0000 - val_fp: 5168.0000 - val_tn: 2800.0000 - val_fn: 10.0000 - val_accuracy: 0.4273 - val_precision: 0.1707 - val_recall: 0.9907 - val_auc: 0.8803 - val_prc: 0.4842\n",
            "Epoch 34/50\n",
            "514/514 [==============================] - 5s 10ms/step - loss: 0.4351 - tp: 29199.0000 - fp: 7644.0000 - tn: 24310.0000 - fn: 4521.0000 - accuracy: 0.8148 - precision: 0.7925 - recall: 0.8659 - auc: 0.8854 - prc: 0.8641 - val_loss: 1.0861 - val_tp: 1065.0000 - val_fp: 5201.0000 - val_tn: 2767.0000 - val_fn: 9.0000 - val_accuracy: 0.4238 - val_precision: 0.1700 - val_recall: 0.9916 - val_auc: 0.8805 - val_prc: 0.4864\n",
            "Epoch 35/50\n",
            "514/514 [==============================] - 5s 10ms/step - loss: 0.4329 - tp: 29169.0000 - fp: 7602.0000 - tn: 24352.0000 - fn: 4551.0000 - accuracy: 0.8149 - precision: 0.7933 - recall: 0.8650 - auc: 0.8869 - prc: 0.8666 - val_loss: 1.4593 - val_tp: 1073.0000 - val_fp: 6575.0000 - val_tn: 1393.0000 - val_fn: 1.0000 - val_accuracy: 0.2727 - val_precision: 0.1403 - val_recall: 0.9991 - val_auc: 0.8754 - val_prc: 0.4787\n",
            "Epoch 36/50\n",
            "514/514 [==============================] - 5s 10ms/step - loss: 0.4361 - tp: 29205.0000 - fp: 7719.0000 - tn: 24235.0000 - fn: 4515.0000 - accuracy: 0.8137 - precision: 0.7909 - recall: 0.8661 - auc: 0.8849 - prc: 0.8628 - val_loss: 1.3231 - val_tp: 1072.0000 - val_fp: 6067.0000 - val_tn: 1901.0000 - val_fn: 2.0000 - val_accuracy: 0.3288 - val_precision: 0.1502 - val_recall: 0.9981 - val_auc: 0.8772 - val_prc: 0.4797\n",
            "Epoch 37/50\n",
            "514/514 [==============================] - 5s 10ms/step - loss: 0.4360 - tp: 29207.0000 - fp: 7706.0000 - tn: 24248.0000 - fn: 4513.0000 - accuracy: 0.8139 - precision: 0.7912 - recall: 0.8662 - auc: 0.8848 - prc: 0.8627 - val_loss: 1.0911 - val_tp: 1066.0000 - val_fp: 5271.0000 - val_tn: 2697.0000 - val_fn: 8.0000 - val_accuracy: 0.4162 - val_precision: 0.1682 - val_recall: 0.9926 - val_auc: 0.8818 - val_prc: 0.4905\n",
            "Epoch 38/50\n",
            "514/514 [==============================] - 5s 10ms/step - loss: 0.4353 - tp: 29227.0000 - fp: 7709.0000 - tn: 24245.0000 - fn: 4493.0000 - accuracy: 0.8142 - precision: 0.7913 - recall: 0.8668 - auc: 0.8854 - prc: 0.8633 - val_loss: 1.0525 - val_tp: 1064.0000 - val_fp: 5064.0000 - val_tn: 2904.0000 - val_fn: 10.0000 - val_accuracy: 0.4388 - val_precision: 0.1736 - val_recall: 0.9907 - val_auc: 0.8813 - val_prc: 0.4875\n",
            "Epoch 39/50\n",
            "514/514 [==============================] - 5s 10ms/step - loss: 0.4319 - tp: 29227.0000 - fp: 7653.0000 - tn: 24301.0000 - fn: 4493.0000 - accuracy: 0.8151 - precision: 0.7925 - recall: 0.8668 - auc: 0.8871 - prc: 0.8666 - val_loss: 1.1713 - val_tp: 1068.0000 - val_fp: 5598.0000 - val_tn: 2370.0000 - val_fn: 6.0000 - val_accuracy: 0.3802 - val_precision: 0.1602 - val_recall: 0.9944 - val_auc: 0.8798 - val_prc: 0.4834\n",
            "Epoch 40/50\n",
            "514/514 [==============================] - 5s 10ms/step - loss: 0.4339 - tp: 29252.0000 - fp: 7671.0000 - tn: 24283.0000 - fn: 4468.0000 - accuracy: 0.8152 - precision: 0.7922 - recall: 0.8675 - auc: 0.8860 - prc: 0.8645 - val_loss: 1.1949 - val_tp: 1068.0000 - val_fp: 5628.0000 - val_tn: 2340.0000 - val_fn: 6.0000 - val_accuracy: 0.3769 - val_precision: 0.1595 - val_recall: 0.9944 - val_auc: 0.8785 - val_prc: 0.4797\n",
            "Epoch 41/50\n",
            "514/514 [==============================] - 5s 11ms/step - loss: 0.4332 - tp: 29274.0000 - fp: 7692.0000 - tn: 24262.0000 - fn: 4446.0000 - accuracy: 0.8152 - precision: 0.7919 - recall: 0.8681 - auc: 0.8862 - prc: 0.8640 - val_loss: 1.0820 - val_tp: 1067.0000 - val_fp: 5172.0000 - val_tn: 2796.0000 - val_fn: 7.0000 - val_accuracy: 0.4272 - val_precision: 0.1710 - val_recall: 0.9935 - val_auc: 0.8812 - val_prc: 0.4869\n",
            "Epoch 42/50\n",
            "514/514 [==============================] - 5s 10ms/step - loss: 0.4291 - tp: 29225.0000 - fp: 7554.0000 - tn: 24400.0000 - fn: 4495.0000 - accuracy: 0.8165 - precision: 0.7946 - recall: 0.8667 - auc: 0.8890 - prc: 0.8691 - val_loss: 1.5886 - val_tp: 1073.0000 - val_fp: 6769.0000 - val_tn: 1199.0000 - val_fn: 1.0000 - val_accuracy: 0.2513 - val_precision: 0.1368 - val_recall: 0.9991 - val_auc: 0.8723 - val_prc: 0.4726\n",
            "Epoch 43/50\n",
            "514/514 [==============================] - 5s 10ms/step - loss: 0.4361 - tp: 29243.0000 - fp: 7728.0000 - tn: 24226.0000 - fn: 4477.0000 - accuracy: 0.8142 - precision: 0.7910 - recall: 0.8672 - auc: 0.8846 - prc: 0.8617 - val_loss: 1.0744 - val_tp: 1063.0000 - val_fp: 5148.0000 - val_tn: 2820.0000 - val_fn: 11.0000 - val_accuracy: 0.4294 - val_precision: 0.1711 - val_recall: 0.9898 - val_auc: 0.8812 - val_prc: 0.4849\n",
            "Epoch 44/50\n",
            "514/514 [==============================] - 5s 10ms/step - loss: 0.4306 - tp: 29282.0000 - fp: 7656.0000 - tn: 24298.0000 - fn: 4438.0000 - accuracy: 0.8158 - precision: 0.7927 - recall: 0.8684 - auc: 0.8879 - prc: 0.8676 - val_loss: 1.3975 - val_tp: 1073.0000 - val_fp: 6307.0000 - val_tn: 1661.0000 - val_fn: 1.0000 - val_accuracy: 0.3024 - val_precision: 0.1454 - val_recall: 0.9991 - val_auc: 0.8763 - val_prc: 0.4797\n",
            "Epoch 45/50\n",
            "514/514 [==============================] - 5s 10ms/step - loss: 0.4335 - tp: 29307.0000 - fp: 7694.0000 - tn: 24260.0000 - fn: 4413.0000 - accuracy: 0.8157 - precision: 0.7921 - recall: 0.8691 - auc: 0.8859 - prc: 0.8626 - val_loss: 1.0965 - val_tp: 1067.0000 - val_fp: 5208.0000 - val_tn: 2760.0000 - val_fn: 7.0000 - val_accuracy: 0.4232 - val_precision: 0.1700 - val_recall: 0.9935 - val_auc: 0.8815 - val_prc: 0.4847\n",
            "Epoch 46/50\n",
            "514/514 [==============================] - 5s 10ms/step - loss: 0.4302 - tp: 29314.0000 - fp: 7691.0000 - tn: 24263.0000 - fn: 4406.0000 - accuracy: 0.8158 - precision: 0.7922 - recall: 0.8693 - auc: 0.8881 - prc: 0.8681 - val_loss: 1.4423 - val_tp: 1073.0000 - val_fp: 6473.0000 - val_tn: 1495.0000 - val_fn: 1.0000 - val_accuracy: 0.2840 - val_precision: 0.1422 - val_recall: 0.9991 - val_auc: 0.8740 - val_prc: 0.4714\n",
            "Epoch 47/50\n",
            "514/514 [==============================] - 5s 10ms/step - loss: 0.4339 - tp: 29328.0000 - fp: 7761.0000 - tn: 24193.0000 - fn: 4392.0000 - accuracy: 0.8149 - precision: 0.7907 - recall: 0.8698 - auc: 0.8860 - prc: 0.8631 - val_loss: 1.1961 - val_tp: 1069.0000 - val_fp: 5665.0000 - val_tn: 2303.0000 - val_fn: 5.0000 - val_accuracy: 0.3729 - val_precision: 0.1587 - val_recall: 0.9953 - val_auc: 0.8787 - val_prc: 0.4797\n",
            "Epoch 48/50\n",
            "514/514 [==============================] - 5s 10ms/step - loss: 0.4293 - tp: 29311.0000 - fp: 7623.0000 - tn: 24331.0000 - fn: 4409.0000 - accuracy: 0.8168 - precision: 0.7936 - recall: 0.8692 - auc: 0.8885 - prc: 0.8674 - val_loss: 1.4275 - val_tp: 1073.0000 - val_fp: 6444.0000 - val_tn: 1524.0000 - val_fn: 1.0000 - val_accuracy: 0.2872 - val_precision: 0.1427 - val_recall: 0.9991 - val_auc: 0.8754 - val_prc: 0.4782\n",
            "Epoch 49/50\n",
            "514/514 [==============================] - 5s 10ms/step - loss: 0.4337 - tp: 29294.0000 - fp: 7698.0000 - tn: 24256.0000 - fn: 4426.0000 - accuracy: 0.8154 - precision: 0.7919 - recall: 0.8687 - auc: 0.8860 - prc: 0.8627 - val_loss: 1.1793 - val_tp: 1069.0000 - val_fp: 5579.0000 - val_tn: 2389.0000 - val_fn: 5.0000 - val_accuracy: 0.3824 - val_precision: 0.1608 - val_recall: 0.9953 - val_auc: 0.8801 - val_prc: 0.4819\n",
            "Epoch 50/50\n",
            "514/514 [==============================] - 5s 10ms/step - loss: 0.4300 - tp: 29334.0000 - fp: 7680.0000 - tn: 24274.0000 - fn: 4386.0000 - accuracy: 0.8163 - precision: 0.7925 - recall: 0.8699 - auc: 0.8881 - prc: 0.8671 - val_loss: 1.4087 - val_tp: 1073.0000 - val_fp: 6301.0000 - val_tn: 1667.0000 - val_fn: 1.0000 - val_accuracy: 0.3030 - val_precision: 0.1455 - val_recall: 0.9991 - val_auc: 0.8744 - val_prc: 0.4765\n"
          ]
        }
      ],
      "source": [
        "history = model.fit(train_ds, epochs=epochs, validation_data=val_ds, callbacks=[early_stop], verbose=1)"
      ]
    },
    {
      "cell_type": "code",
      "execution_count": null,
      "metadata": {
        "colab": {
          "base_uri": "https://localhost:8080/",
          "height": 606
        },
        "id": "Gs-9MpCvtnP9",
        "outputId": "8669a60a-4597-425a-b05c-3b8863688b06"
      },
      "outputs": [
        {
          "data": {
            "image/png": "[encoded data removed]",
            "text/plain": [
              "<Figure size 1080x720 with 6 Axes>"
            ]
          },
          "metadata": {
            "needs_background": "light"
          },
          "output_type": "display_data"
        }
      ],
      "source": [
        "metric = ['loss', 'accuracy', 'prc', 'precision', 'recall']\n",
        "plot_metric(3,2, history, metric)"
      ]
    },
    {
      "cell_type": "code",
      "execution_count": null,
      "metadata": {
        "id": "PvuHBMGFwg6T"
      },
      "outputs": [],
      "source": [
        "predict_test = model.predict(test_ds)\n",
        "test_ds_unbach = test_ds.unbatch()\n",
        "label_test = [i[1] for i in list(test_ds_unbach.as_numpy_iterator())]\n"
      ]
    },
    {
      "cell_type": "code",
      "execution_count": null,
      "metadata": {
        "colab": {
          "base_uri": "https://localhost:8080/",
          "height": 648
        },
        "id": "tl8vJBCmpgtJ",
        "outputId": "fed05fa6-c339-4400-dd95-3ae59949a119"
      },
      "outputs": [
        {
          "name": "stdout",
          "output_type": "stream",
          "text": [
            "36/36 [==============================] - 0s 4ms/step - loss: 1.4331 - tp: 520.0000 - fp: 3186.0000 - tn: 814.0000 - fn: 1.0000 - accuracy: 0.2951 - precision: 0.1403 - recall: 0.9981 - auc: 0.8663 - prc: 0.4417\n",
            "loss :  1.433125376701355\n",
            "tp :  520.0\n",
            "fp :  3186.0\n",
            "tn :  814.0\n",
            "fn :  1.0\n",
            "accuracy :  0.2950674593448639\n",
            "precision :  0.14031299948692322\n",
            "recall :  0.9980806112289429\n",
            "auc :  0.8662794828414917\n",
            "prc :  0.44170767068862915\n",
            "Legitimate Transactions Detected (True Negatives):  814\n",
            "Legitimate Transactions Incorrectly Detected (False Positives):  3186\n",
            "Fraudulent Transactions Missed (False Negatives):  1\n",
            "Fraudulent Transactions Detected (True Positives):  520\n",
            "Total Fraudulent Transactions:  521\n"
          ]
        },
        {
          "data": {
            "image/png": "[encoded data removed]",
            "text/plain": [
              "<Figure size 360x360 with 2 Axes>"
            ]
          },
          "metadata": {
            "needs_background": "light"
          },
          "output_type": "display_data"
        }
      ],
      "source": [
        "model_evaluate = model.evaluate(test_ds)\n",
        "for name_metric, value_evaluate in zip(model.metrics_names, model_evaluate):\n",
        "  print(name_metric, ': ', value_evaluate)\n",
        "\n",
        "plot_confution_matrix(label_test, predict_test)"
      ]
    },
    {
      "cell_type": "code",
      "execution_count": null,
      "metadata": {
        "colab": {
          "base_uri": "https://localhost:8080/",
          "height": 206
        },
        "id": "QImhllBHu2zd",
        "outputId": "a9548e29-b260-4ba4-b254-2519d61a4ea3"
      },
      "outputs": [
        {
          "data": {
            "text/html": [
              "\n",
              "  <div id=\"df-c07f63fb-ed03-41cb-8e93-76c9764ff1af\">\n",
              "    <div class=\"colab-df-container\">\n",
              "      <div>\n",
              "<style scoped>\n",
              "    .dataframe tbody tr th:only-of-type {\n",
              "        vertical-align: middle;\n",
              "    }\n",
              "\n",
              "    .dataframe tbody tr th {\n",
              "        vertical-align: top;\n",
              "    }\n",
              "\n",
              "    .dataframe thead th {\n",
              "        text-align: right;\n",
              "    }\n",
              "</style>\n",
              "<table border=\"1\" class=\"dataframe\">\n",
              "  <thead>\n",
              "    <tr style=\"text-align: right;\">\n",
              "      <th></th>\n",
              "      <th>age</th>\n",
              "      <th>job</th>\n",
              "      <th>marital</th>\n",
              "      <th>education</th>\n",
              "      <th>balance</th>\n",
              "      <th>housing</th>\n",
              "      <th>loan</th>\n",
              "      <th>month</th>\n",
              "      <th>duration</th>\n",
              "      <th>target</th>\n",
              "    </tr>\n",
              "  </thead>\n",
              "  <tbody>\n",
              "    <tr>\n",
              "      <th>3930</th>\n",
              "      <td>51</td>\n",
              "      <td>retired</td>\n",
              "      <td>divorced</td>\n",
              "      <td>secondary</td>\n",
              "      <td>1679</td>\n",
              "      <td>no</td>\n",
              "      <td>no</td>\n",
              "      <td>aug</td>\n",
              "      <td>417</td>\n",
              "      <td>1</td>\n",
              "    </tr>\n",
              "    <tr>\n",
              "      <th>702</th>\n",
              "      <td>32</td>\n",
              "      <td>management</td>\n",
              "      <td>divorced</td>\n",
              "      <td>tertiary</td>\n",
              "      <td>874</td>\n",
              "      <td>no</td>\n",
              "      <td>no</td>\n",
              "      <td>aug</td>\n",
              "      <td>1282</td>\n",
              "      <td>1</td>\n",
              "    </tr>\n",
              "    <tr>\n",
              "      <th>1876</th>\n",
              "      <td>26</td>\n",
              "      <td>blue-collar</td>\n",
              "      <td>single</td>\n",
              "      <td>primary</td>\n",
              "      <td>-887</td>\n",
              "      <td>yes</td>\n",
              "      <td>no</td>\n",
              "      <td>may</td>\n",
              "      <td>827</td>\n",
              "      <td>1</td>\n",
              "    </tr>\n",
              "    <tr>\n",
              "      <th>2865</th>\n",
              "      <td>51</td>\n",
              "      <td>housemaid</td>\n",
              "      <td>divorced</td>\n",
              "      <td>secondary</td>\n",
              "      <td>9228</td>\n",
              "      <td>no</td>\n",
              "      <td>no</td>\n",
              "      <td>jul</td>\n",
              "      <td>655</td>\n",
              "      <td>1</td>\n",
              "    </tr>\n",
              "    <tr>\n",
              "      <th>1872</th>\n",
              "      <td>34</td>\n",
              "      <td>admin.</td>\n",
              "      <td>married</td>\n",
              "      <td>secondary</td>\n",
              "      <td>247</td>\n",
              "      <td>no</td>\n",
              "      <td>no</td>\n",
              "      <td>oct</td>\n",
              "      <td>401</td>\n",
              "      <td>1</td>\n",
              "    </tr>\n",
              "  </tbody>\n",
              "</table>\n",
              "</div>\n",
              "      <button class=\"colab-df-convert\" onclick=\"convertToInteractive('df-c07f63fb-ed03-41cb-8e93-76c9764ff1af')\"\n",
              "              title=\"Convert this dataframe to an interactive table.\"\n",
              "              style=\"display:none;\">\n",
              "        \n",
              "  <svg xmlns=\"http://www.w3.org/2000/svg\" height=\"24px\"viewBox=\"0 0 24 24\"\n",
              "       width=\"24px\">\n",
              "    <path d=\"M0 0h24v24H0V0z\" fill=\"none\"/>\n",
              "    <path d=\"M18.56 5.44l.94 2.06.94-2.06 2.06-.94-2.06-.94-.94-2.06-.94 2.06-2.06.94zm-11 1L8.5 8.5l.94-2.06 2.06-.94-2.06-.94L8.5 2.5l-.94 2.06-2.06.94zm10 10l.94 2.06.94-2.06 2.06-.94-2.06-.94-.94-2.06-.94 2.06-2.06.94z\"/><path d=\"M17.41 7.96l-1.37-1.37c-.4-.4-.92-.59-1.43-.59-.52 0-1.04.2-1.43.59L10.3 9.45l-7.72 7.72c-.78.78-.78 2.05 0 2.83L4 21.41c.39.39.9.59 1.41.59.51 0 1.02-.2 1.41-.59l7.78-7.78 2.81-2.81c.8-.78.8-2.07 0-2.86zM5.41 20L4 18.59l7.72-7.72 1.47 1.35L5.41 20z\"/>\n",
              "  </svg>\n",
              "      </button>\n",
              "      \n",
              "  <style>\n",
              "    .colab-df-container {\n",
              "      display:flex;\n",
              "      flex-wrap:wrap;\n",
              "      gap: 12px;\n",
              "    }\n",
              "\n",
              "    .colab-df-convert {\n",
              "      background-color: #E8F0FE;\n",
              "      border: none;\n",
              "      border-radius: 50%;\n",
              "      cursor: pointer;\n",
              "      display: none;\n",
              "      fill: #1967D2;\n",
              "      height: 32px;\n",
              "      padding: 0 0 0 0;\n",
              "      width: 32px;\n",
              "    }\n",
              "\n",
              "    .colab-df-convert:hover {\n",
              "      background-color: #E2EBFA;\n",
              "      box-shadow: 0px 1px 2px rgba(60, 64, 67, 0.3), 0px 1px 3px 1px rgba(60, 64, 67, 0.15);\n",
              "      fill: #174EA6;\n",
              "    }\n",
              "\n",
              "    [theme=dark] .colab-df-convert {\n",
              "      background-color: #3B4455;\n",
              "      fill: #D2E3FC;\n",
              "    }\n",
              "\n",
              "    [theme=dark] .colab-df-convert:hover {\n",
              "      background-color: #434B5C;\n",
              "      box-shadow: 0px 1px 3px 1px rgba(0, 0, 0, 0.15);\n",
              "      filter: drop-shadow(0px 1px 2px rgba(0, 0, 0, 0.3));\n",
              "      fill: #FFFFFF;\n",
              "    }\n",
              "  </style>\n",
              "\n",
              "      <script>\n",
              "        const buttonEl =\n",
              "          document.querySelector('#df-c07f63fb-ed03-41cb-8e93-76c9764ff1af button.colab-df-convert');\n",
              "        buttonEl.style.display =\n",
              "          google.colab.kernel.accessAllowed ? 'block' : 'none';\n",
              "\n",
              "        async function convertToInteractive(key) {\n",
              "          const element = document.querySelector('#df-c07f63fb-ed03-41cb-8e93-76c9764ff1af');\n",
              "          const dataTable =\n",
              "            await google.colab.kernel.invokeFunction('convertToInteractive',\n",
              "                                                     [key], {});\n",
              "          if (!dataTable) return;\n",
              "\n",
              "          const docLinkHtml = 'Like what you see? Visit the ' +\n",
              "            '<a target=\"_blank\" href=https://colab.research.google.com/notebooks/data_table.ipynb>data table notebook</a>'\n",
              "            + ' to learn more about interactive tables.';\n",
              "          element.innerHTML = '';\n",
              "          dataTable['output_type'] = 'display_data';\n",
              "          await google.colab.output.renderOutput(dataTable, element);\n",
              "          const docLink = document.createElement('div');\n",
              "          docLink.innerHTML = docLinkHtml;\n",
              "          element.appendChild(docLink);\n",
              "        }\n",
              "      </script>\n",
              "    </div>\n",
              "  </div>\n",
              "  "
            ],
            "text/plain": [
              "      age          job   marital  education  balance housing loan month  \\\n",
              "3930   51      retired  divorced  secondary     1679      no   no   aug   \n",
              "702    32   management  divorced   tertiary      874      no   no   aug   \n",
              "1876   26  blue-collar    single    primary     -887     yes   no   may   \n",
              "2865   51    housemaid  divorced  secondary     9228      no   no   jul   \n",
              "1872   34       admin.   married  secondary      247      no   no   oct   \n",
              "\n",
              "      duration  target  \n",
              "3930       417       1  \n",
              "702       1282       1  \n",
              "1876       827       1  \n",
              "2865       655       1  \n",
              "1872       401       1  "
            ]
          },
          "execution_count": 192,
          "metadata": {},
          "output_type": "execute_result"
        }
      ],
      "source": [
        "dataset_test.sort_values(by=[\"target\"], ascending=False).head()"
      ]
    },
    {
      "cell_type": "code",
      "execution_count": null,
      "metadata": {
        "colab": {
          "base_uri": "https://localhost:8080/"
        },
        "id": "EZ8ZzX-X3PgX",
        "outputId": "dd257f1d-d999-4445-a55a-4bbf6aba14c0"
      },
      "outputs": [
        {
          "name": "stdout",
          "output_type": "stream",
          "text": [
            "Probabilitas untuk berlangganan deposito berjangka adalah 91.26 % untuk setuju\n"
          ]
        }
      ],
      "source": [
        "sample = {\n",
        "    'age': 51,\n",
        "    'job': 'retired',\n",
        "    'marital': 'divorced',\n",
        "    'education': 'secondary',\n",
        "    'balance': 1679,\n",
        "    'housing': 'no',\n",
        "    'loan': 'no',\n",
        "    'month': 'aug',\n",
        "    'duration': 417\n",
        "}\n",
        "\n",
        "input_dict = {name: tf.convert_to_tensor([value]) for name, value in sample.items()}\n",
        "predictions = model.predict(input_dict)\n",
        "prob = tf.nn.sigmoid(predictions[0])\n",
        "\n",
        "print(\n",
        "    f\"Probabilitas untuk berlangganan deposito berjangka adalah {round(100 * predictions[0][0], 2)} % \"\n",
        "    f\"untuk setuju\"\n",
        ")"
      ]
    }
  ],
  "metadata": {
    "colab": {
      "collapsed_sections": [
        "I8sLXLmJ0YHl",
        "xNDd-nsn0bqh",
        "8nLDorXUiwIG"
      ],
      "name": "_Demo_day_Fintech_8.ipynb",
      "provenance": []
    },
    "gpuClass": "standard",
    "kernelspec": {
      "display_name": "Python 3",
      "name": "python3"
    },
    "language_info": {
      "name": "python"
    }
  },
  "nbformat": 4,
  "nbformat_minor": 0
}