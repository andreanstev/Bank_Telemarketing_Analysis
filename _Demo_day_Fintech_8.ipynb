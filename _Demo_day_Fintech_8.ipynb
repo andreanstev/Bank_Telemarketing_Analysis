{
  "nbformat": 4,
  "nbformat_minor": 0,
  "metadata": {
    "colab": {
      "name": "#Demo day Fintech 8.ipynb",
      "provenance": [],
      "collapsed_sections": [
        "I8sLXLmJ0YHl",
        "xNDd-nsn0bqh",
        "8nLDorXUiwIG"
      ],
      "toc_visible": true,
      "include_colab_link": true
    },
    "kernelspec": {
      "name": "python3",
      "display_name": "Python 3"
    },
    "language_info": {
      "name": "python"
    },
    "gpuClass": "standard",
    "accelerator": "GPU"
  },
  "cells": [
    {
      "cell_type": "markdown",
      "metadata": {
        "id": "view-in-github",
        "colab_type": "text"
      },
      "source": [
        "<a href=\"https://colab.research.google.com/github/iongie/demo-day-fin-8/blob/main/_Demo_day_Fintech_8.ipynb\" target=\"_parent\"><img src=\"https://colab.research.google.com/assets/colab-badge.svg\" alt=\"Open In Colab\"/></a>"
      ]
    },
    {
      "cell_type": "markdown",
      "source": [
        "#Demo day Fintech 8\n",
        "\n",
        "\"Data tersebut terkait dengan kampanye pemasaran langsung dari lembaga perbankan Portugis. Kampanye pemasaran didasarkan pada panggilan telepon. Seringkali, lebih dari satu kontak ke klien yang sama diperlukan, untuk mengakses apakah produk (deposito berjangka bank) akan ('ya') atau tidak ('tidak') dilanggan oleh pelanggan atau tidak. Folder data berisi dua kumpulan data: -\n",
        "\n",
        "     train.csv: 45.211 baris dan 18 kolom diurutkan berdasarkan tanggal (dari Mei 2008 hingga November 2010)\n",
        "     test.csv: 4521 baris dan 18 kolom dengan 10% contoh (4521), dipilih secara acak dari train.csv\""
      ],
      "metadata": {
        "id": "hDbYMQhe0P1A"
      }
    },
    {
      "cell_type": "markdown",
      "source": [
        "test pull and push"
      ],
      "metadata": {
        "id": "8Hg4ZuZM0DQa"
      }
    },
    {
      "cell_type": "markdown",
      "source": [
        "##Setup"
      ],
      "metadata": {
        "id": "FVjSsPfn0VTS"
      }
    },
    {
      "cell_type": "code",
      "source": [
        "import pathlib\n",
        "import tensorflow as tf\n",
        "import zipfile\n",
        "import os\n",
        "import matplotlib.pyplot as plt\n",
        "import pandas as pd\n",
        "import numpy as np\n",
        "import seaborn as sns\n",
        "from google.colab import drive\n",
        "from google.colab import data_table\n",
        "import tensorflow as tf\n",
        "from sklearn.metrics import confusion_matrix"
      ],
      "metadata": {
        "id": "XNyPcjlfy4QW"
      },
      "execution_count": null,
      "outputs": []
    },
    {
      "cell_type": "markdown",
      "source": [
        "##Function"
      ],
      "metadata": {
        "id": "ppsowJyTjXhT"
      }
    },
    {
      "cell_type": "markdown",
      "source": [
        "function split data"
      ],
      "metadata": {
        "id": "RGZYYbArmE3y"
      }
    },
    {
      "cell_type": "code",
      "source": [
        "def dataframe_split(data, ratio= 0.2, shuffle= 0):\n",
        "  len_ = int(len(data) - (ratio*len(data)))\n",
        "  if shuffle == 0 :\n",
        "    part_  = data.iloc[:int(1 + len_)]\n",
        "    rest_part_ = data.drop(part_.index)\n",
        "  elif shuffle == 1:\n",
        "    part_ = data.sample(frac = 1.0 - ratio)\n",
        "    rest_part_ = data.drop(part_.index)\n",
        "  return (part_, rest_part_)"
      ],
      "metadata": {
        "id": "-yhTOXNX9zG_"
      },
      "execution_count": null,
      "outputs": []
    },
    {
      "cell_type": "markdown",
      "source": [
        "fucntion membuat dataset"
      ],
      "metadata": {
        "id": "aES7xQuXmG_-"
      }
    },
    {
      "cell_type": "code",
      "source": [
        "def dataframe_to_dataset(data, batch_size=32):\n",
        "  df = data.copy()\n",
        "  labels = df.pop('target')\n",
        "  df = {key:  tf.expand_dims(value,axis=1) for key, value in df.items()}\n",
        "  ds = tf.data.Dataset.from_tensor_slices((dict(df), labels))\n",
        "  ds = ds.batch(batch_size)\n",
        "  ds = ds.prefetch(tf.data.AUTOTUNE)\n",
        "  return ds"
      ],
      "metadata": {
        "id": "yUeMchRXKhcS"
      },
      "execution_count": null,
      "outputs": []
    },
    {
      "cell_type": "code",
      "source": [
        "def dataframe_imbalanced_to_dataset(data, batch_size=32, repeat=1):\n",
        "  no_df = data.loc[data['target'].eq(0)].copy()\n",
        "  yes_df = data.loc[data['target'].eq(1)].copy()\n",
        "  no_labels = no_df.pop('target')\n",
        "  yes_labels = yes_df.pop('target')\n",
        "  len_no_labels = len(no_labels)\n",
        "  len_yes_labels = len(yes_labels)\n",
        "  if len_no_labels > len_yes_labels:\n",
        "    oversampling = int(round(len_no_labels/len_yes_labels, 0))\n",
        "  else:\n",
        "    oversampling = int(round(len_yes_labels/len_no_labels, 0))\n",
        "\n",
        "  no_df = {key:  tf.expand_dims(value,axis=1) for key, value in no_df.items()}\n",
        "  no_ds = tf.data.Dataset.from_tensor_slices((dict(no_df), no_labels))\n",
        "  no_ds = no_ds.shuffle(batch_size).repeat(repeat)\n",
        "\n",
        "  yes_df = {key:  tf.expand_dims(value,axis=1) for key, value in yes_df.items()}\n",
        "  yes_ds = tf.data.Dataset.from_tensor_slices((dict(yes_df), yes_labels))\n",
        "  yes_ds = yes_ds.shuffle(batch_size).repeat(int(oversampling*repeat))\n",
        "\n",
        "  ds = tf.data.Dataset.sample_from_datasets([no_ds, yes_ds])\n",
        "  ds = ds.batch(batch_size)\n",
        "  ds = ds.prefetch(tf.data.AUTOTUNE)\n",
        "  return ds"
      ],
      "metadata": {
        "id": "EcEnw-62cpnK"
      },
      "execution_count": null,
      "outputs": []
    },
    {
      "cell_type": "markdown",
      "source": [
        "function preprocessing numeric"
      ],
      "metadata": {
        "id": "x3qXY5rvmJFq"
      }
    },
    {
      "cell_type": "code",
      "source": [
        "def numeric_preprocessing(name, dataset, num_bins):\n",
        "  feature_dataset = dataset.map(lambda x,y: x[name])\n",
        "  # layer = tf.keras.layers.Discretization(num_bins=num_bins, epsilon=0.01)\n",
        "  layer = tf.keras.layers.Normalization()\n",
        "  layer.adapt(feature_dataset)\n",
        "\n",
        "  return layer"
      ],
      "metadata": {
        "id": "jEXvg9csPJyb"
      },
      "execution_count": null,
      "outputs": []
    },
    {
      "cell_type": "markdown",
      "source": [
        "fucntion preprocessing categories"
      ],
      "metadata": {
        "id": "LeSvhuKSmNTX"
      }
    },
    {
      "cell_type": "code",
      "source": [
        "def categories_preprocessing(name, dataset, dtype):\n",
        "  if(dtype == \"int64\"):\n",
        "    lookup = tf.keras.layers.IntegerLookup()\n",
        "  else:\n",
        "    lookup = tf.keras.layers.StringLookup()\n",
        "  feature_dataset = dataset.map(lambda x,y: x[name])\n",
        "  lookup.adapt(feature_dataset)\n",
        "\n",
        "  # return lookup\n",
        "  category_encoding = tf.keras.layers.CategoryEncoding(num_tokens=lookup.vocabulary_size())\n",
        "  return lambda feature:  category_encoding(lookup(feature))"
      ],
      "metadata": {
        "id": "4Z9l9kcjV4Fy"
      },
      "execution_count": null,
      "outputs": []
    },
    {
      "cell_type": "markdown",
      "source": [
        "plot metric"
      ],
      "metadata": {
        "id": "r7-sO-o2kxN2"
      }
    },
    {
      "cell_type": "code",
      "source": [
        "def plot_metric(x, y, history, metric):\n",
        "  fig, ax = plt.subplots(x, y, figsize=(15,10))\n",
        "  epochs = range(len(history.history[metric[0]]))\n",
        "  for metric, ax in zip(metric, ax.flatten()):\n",
        "    ax.plot(epochs, history.history[metric], 'r', label='train')\n",
        "    ax.plot(epochs, history.history['val_'+metric], 'b', ls=\"--\", label='val')\n",
        "    ax.set_ylabel(metric)\n",
        "    ax.set_xlabel('epoch')\n",
        "    ax.legend()  \n",
        "  plt.show()"
      ],
      "metadata": {
        "id": "hXtZMSKVkyav"
      },
      "execution_count": null,
      "outputs": []
    },
    {
      "cell_type": "markdown",
      "source": [
        "plot confution matrix"
      ],
      "metadata": {
        "id": "WNz4kMtlJxPo"
      }
    },
    {
      "cell_type": "code",
      "source": [
        "def plot_confution_matrix(labels, predictions, p=0.5):\n",
        "  cm = confusion_matrix(labels, predictions > p)\n",
        "  plt.figure(figsize=(5,5))\n",
        "  sns.heatmap(cm, annot=True, fmt=\"d\")\n",
        "  plt.title('Confusion matrix @{:.2f}'.format(p))\n",
        "  plt.ylabel('Actual label')\n",
        "  plt.xlabel('Predicted label')\n",
        "\n",
        "  print('Legitimate Transactions Detected (True Negatives): ', cm[0][0])\n",
        "  print('Legitimate Transactions Incorrectly Detected (False Positives): ', cm[0][1])\n",
        "  print('Fraudulent Transactions Missed (False Negatives): ', cm[1][0])\n",
        "  print('Fraudulent Transactions Detected (True Positives): ', cm[1][1])\n",
        "  print('Total Fraudulent Transactions: ', np.sum(cm[1]))"
      ],
      "metadata": {
        "id": "q5w2FAIiJz--"
      },
      "execution_count": null,
      "outputs": []
    },
    {
      "cell_type": "markdown",
      "source": [
        "## Mount Google Drive"
      ],
      "metadata": {
        "id": "I8sLXLmJ0YHl"
      }
    },
    {
      "cell_type": "code",
      "source": [
        "drive.mount('/content/drive')"
      ],
      "metadata": {
        "colab": {
          "base_uri": "https://localhost:8080/"
        },
        "id": "CKxJs9K80a5q",
        "outputId": "053041c2-732f-421b-ee53-4d35c9b54b85"
      },
      "execution_count": null,
      "outputs": [
        {
          "output_type": "stream",
          "name": "stdout",
          "text": [
            "Drive already mounted at /content/drive; to attempt to forcibly remount, call drive.mount(\"/content/drive\", force_remount=True).\n"
          ]
        }
      ]
    },
    {
      "cell_type": "markdown",
      "source": [
        "## Load Data"
      ],
      "metadata": {
        "id": "xNDd-nsn0bqh"
      }
    },
    {
      "cell_type": "code",
      "execution_count": null,
      "metadata": {
        "id": "n12Gn5YyxmSE"
      },
      "outputs": [],
      "source": [
        "data_url = \"/content/drive/MyDrive/Kumpulan_dataset/fintech_banking_dataset.zip\"\n",
        "data_dir = zipfile.ZipFile(data_url, 'r')\n",
        "data_dir.extractall(\"demoday\")\n",
        "data_dir.close()"
      ]
    },
    {
      "cell_type": "code",
      "source": [
        "dataset_train=pd.read_csv('demoday/train.csv', delimiter=\";\")\n",
        "dataset_test=pd.read_csv('demoday/test.csv', delimiter=\";\")"
      ],
      "metadata": {
        "id": "bOWBr6d9Zwtn"
      },
      "execution_count": null,
      "outputs": []
    },
    {
      "cell_type": "markdown",
      "source": [
        "##Deskripsi dataset\n",
        "###Input variables:\n",
        "bank client data:  \n",
        "1 - age : umur pelanggan (numeric)  \n",
        "2 - job : jenis pekerjaan (categorical: 'admin.','blue-collar','entrepreneur','housemaid','management','retired','self-employed','services','student','technician','unemployed','unknown')  \n",
        "3 - marital : status pernikahan (categorical: 'divorced','married','single','unknown'; note: 'divorced' means divorced or widowed)  \n",
        "4 - education : tingkat pendidikan(categorical: 'basic.4y','basic.6y','basic.9y','high.school','illiterate','professional.course','university.degree','unknown')  \n",
        "5 - default: apakah memiliki kredit yang gagal bayar? (categorical: 'no','yes','unknown')  \n",
        "6 - housing: apakah memiliki pinjaman untuk rumah? (categorical: 'no','yes','unknown')  \n",
        "7 - loan: apakah memiliki pinjaman untuk pribadi? (categorical: 'no','yes','unknown')  \n",
        "related with the last contact of the current campaign:  \n",
        "8 - contact: jenis komunikasi kontak (categorical: 'cellular','telephone')  \n",
        "9 - month: kontak terakhir bulan tahun (categorical: 'jan', 'feb', 'mar', ..., 'nov', 'dec')  \n",
        "10 - day_of_week: hari kontak terakhir dalam seminggu (categorical: 'mon','tue','wed','thu','fri')  \n",
        "11 - duration: durasi kontak terakhir, dalam detik (numeric). Important note: this attribute highly affects the output target (e.g., if duration=0 then y='no'). Yet, the duration is not known before a call is performed. Also, after the end of the call y is obviously known. Thus, this input should only be included for benchmark purposes and should be discarded if the intention is to have a realistic predictive model.  \n",
        "other attributes:  \n",
        "12 - campaign: jumlah kontak yang dilakukan selama kampanye ini dan untuk klien ini (numeric, includes last contact)  \n",
        "13 - pdays: jumlah hari yang berlalu setelah klien terakhir dihubungi dari kampanye sebelumnya (numeric; 999 artinya klien sebelumnya tidak dihubungi)  \n",
        "14 - previous: jumlah kontak yang dilakukan sebelum kampanye ini dan untuk klien ini (numeric)  \n",
        "15 - poutcome: hasil dari kampanye pemasaran sebelumnya (categorical: 'failure','nonexistent','success')  \n",
        "\n",
        "###Output variable (desired target):\n",
        "21 - y - has the client subscribed a term deposit? (binary: 'yes','no')  \n",
        "Source: https://archive.ics.uci.edu/ml/datasets/Bank+Marketing  "
      ],
      "metadata": {
        "id": "hUfyeQyAGKLh"
      }
    },
    {
      "cell_type": "markdown",
      "source": [
        "##Data Explorer"
      ],
      "metadata": {
        "id": "ltfZLjmWJ4eY"
      }
    },
    {
      "cell_type": "code",
      "source": [
        "print(f\"jumlah data untuk train adalah {len(dataset_train)}\")\n",
        "print(f\"jumlah data untuk test adalah {len(dataset_test)}\")"
      ],
      "metadata": {
        "colab": {
          "base_uri": "https://localhost:8080/"
        },
        "id": "nh0ZVGm_FxZj",
        "outputId": "cc7a966f-c83e-44ba-a8d7-7ffc42a8b8c3"
      },
      "execution_count": null,
      "outputs": [
        {
          "output_type": "stream",
          "name": "stdout",
          "text": [
            "jumlah data untuk train adalah 45211\n",
            "jumlah data untuk test adalah 4521\n"
          ]
        }
      ]
    },
    {
      "cell_type": "code",
      "source": [
        "dataset_test.head()"
      ],
      "metadata": {
        "colab": {
          "base_uri": "https://localhost:8080/",
          "height": 206
        },
        "id": "o3331SCAmVGt",
        "outputId": "ea62ba36-1e72-48aa-c6c6-dc073667a24e"
      },
      "execution_count": null,
      "outputs": [
        {
          "output_type": "execute_result",
          "data": {
            "text/plain": [
              "   age          job  marital  education default  balance housing loan  \\\n",
              "0   30   unemployed  married    primary      no     1787      no   no   \n",
              "1   33     services  married  secondary      no     4789     yes  yes   \n",
              "2   35   management   single   tertiary      no     1350     yes   no   \n",
              "3   30   management  married   tertiary      no     1476     yes  yes   \n",
              "4   59  blue-collar  married  secondary      no        0     yes   no   \n",
              "\n",
              "    contact  day month  duration  campaign  pdays  previous poutcome   y  \n",
              "0  cellular   19   oct        79         1     -1         0  unknown  no  \n",
              "1  cellular   11   may       220         1    339         4  failure  no  \n",
              "2  cellular   16   apr       185         1    330         1  failure  no  \n",
              "3   unknown    3   jun       199         4     -1         0  unknown  no  \n",
              "4   unknown    5   may       226         1     -1         0  unknown  no  "
            ],
            "text/html": [
              "\n",
              "  <div id=\"df-c7dfe146-58fc-467a-b657-c0a7f2e0d8a8\">\n",
              "    <div class=\"colab-df-container\">\n",
              "      <div>\n",
              "<style scoped>\n",
              "    .dataframe tbody tr th:only-of-type {\n",
              "        vertical-align: middle;\n",
              "    }\n",
              "\n",
              "    .dataframe tbody tr th {\n",
              "        vertical-align: top;\n",
              "    }\n",
              "\n",
              "    .dataframe thead th {\n",
              "        text-align: right;\n",
              "    }\n",
              "</style>\n",
              "<table border=\"1\" class=\"dataframe\">\n",
              "  <thead>\n",
              "    <tr style=\"text-align: right;\">\n",
              "      <th></th>\n",
              "      <th>age</th>\n",
              "      <th>job</th>\n",
              "      <th>marital</th>\n",
              "      <th>education</th>\n",
              "      <th>default</th>\n",
              "      <th>balance</th>\n",
              "      <th>housing</th>\n",
              "      <th>loan</th>\n",
              "      <th>contact</th>\n",
              "      <th>day</th>\n",
              "      <th>month</th>\n",
              "      <th>duration</th>\n",
              "      <th>campaign</th>\n",
              "      <th>pdays</th>\n",
              "      <th>previous</th>\n",
              "      <th>poutcome</th>\n",
              "      <th>y</th>\n",
              "    </tr>\n",
              "  </thead>\n",
              "  <tbody>\n",
              "    <tr>\n",
              "      <th>0</th>\n",
              "      <td>30</td>\n",
              "      <td>unemployed</td>\n",
              "      <td>married</td>\n",
              "      <td>primary</td>\n",
              "      <td>no</td>\n",
              "      <td>1787</td>\n",
              "      <td>no</td>\n",
              "      <td>no</td>\n",
              "      <td>cellular</td>\n",
              "      <td>19</td>\n",
              "      <td>oct</td>\n",
              "      <td>79</td>\n",
              "      <td>1</td>\n",
              "      <td>-1</td>\n",
              "      <td>0</td>\n",
              "      <td>unknown</td>\n",
              "      <td>no</td>\n",
              "    </tr>\n",
              "    <tr>\n",
              "      <th>1</th>\n",
              "      <td>33</td>\n",
              "      <td>services</td>\n",
              "      <td>married</td>\n",
              "      <td>secondary</td>\n",
              "      <td>no</td>\n",
              "      <td>4789</td>\n",
              "      <td>yes</td>\n",
              "      <td>yes</td>\n",
              "      <td>cellular</td>\n",
              "      <td>11</td>\n",
              "      <td>may</td>\n",
              "      <td>220</td>\n",
              "      <td>1</td>\n",
              "      <td>339</td>\n",
              "      <td>4</td>\n",
              "      <td>failure</td>\n",
              "      <td>no</td>\n",
              "    </tr>\n",
              "    <tr>\n",
              "      <th>2</th>\n",
              "      <td>35</td>\n",
              "      <td>management</td>\n",
              "      <td>single</td>\n",
              "      <td>tertiary</td>\n",
              "      <td>no</td>\n",
              "      <td>1350</td>\n",
              "      <td>yes</td>\n",
              "      <td>no</td>\n",
              "      <td>cellular</td>\n",
              "      <td>16</td>\n",
              "      <td>apr</td>\n",
              "      <td>185</td>\n",
              "      <td>1</td>\n",
              "      <td>330</td>\n",
              "      <td>1</td>\n",
              "      <td>failure</td>\n",
              "      <td>no</td>\n",
              "    </tr>\n",
              "    <tr>\n",
              "      <th>3</th>\n",
              "      <td>30</td>\n",
              "      <td>management</td>\n",
              "      <td>married</td>\n",
              "      <td>tertiary</td>\n",
              "      <td>no</td>\n",
              "      <td>1476</td>\n",
              "      <td>yes</td>\n",
              "      <td>yes</td>\n",
              "      <td>unknown</td>\n",
              "      <td>3</td>\n",
              "      <td>jun</td>\n",
              "      <td>199</td>\n",
              "      <td>4</td>\n",
              "      <td>-1</td>\n",
              "      <td>0</td>\n",
              "      <td>unknown</td>\n",
              "      <td>no</td>\n",
              "    </tr>\n",
              "    <tr>\n",
              "      <th>4</th>\n",
              "      <td>59</td>\n",
              "      <td>blue-collar</td>\n",
              "      <td>married</td>\n",
              "      <td>secondary</td>\n",
              "      <td>no</td>\n",
              "      <td>0</td>\n",
              "      <td>yes</td>\n",
              "      <td>no</td>\n",
              "      <td>unknown</td>\n",
              "      <td>5</td>\n",
              "      <td>may</td>\n",
              "      <td>226</td>\n",
              "      <td>1</td>\n",
              "      <td>-1</td>\n",
              "      <td>0</td>\n",
              "      <td>unknown</td>\n",
              "      <td>no</td>\n",
              "    </tr>\n",
              "  </tbody>\n",
              "</table>\n",
              "</div>\n",
              "      <button class=\"colab-df-convert\" onclick=\"convertToInteractive('df-c7dfe146-58fc-467a-b657-c0a7f2e0d8a8')\"\n",
              "              title=\"Convert this dataframe to an interactive table.\"\n",
              "              style=\"display:none;\">\n",
              "        \n",
              "  <svg xmlns=\"http://www.w3.org/2000/svg\" height=\"24px\"viewBox=\"0 0 24 24\"\n",
              "       width=\"24px\">\n",
              "    <path d=\"M0 0h24v24H0V0z\" fill=\"none\"/>\n",
              "    <path d=\"M18.56 5.44l.94 2.06.94-2.06 2.06-.94-2.06-.94-.94-2.06-.94 2.06-2.06.94zm-11 1L8.5 8.5l.94-2.06 2.06-.94-2.06-.94L8.5 2.5l-.94 2.06-2.06.94zm10 10l.94 2.06.94-2.06 2.06-.94-2.06-.94-.94-2.06-.94 2.06-2.06.94z\"/><path d=\"M17.41 7.96l-1.37-1.37c-.4-.4-.92-.59-1.43-.59-.52 0-1.04.2-1.43.59L10.3 9.45l-7.72 7.72c-.78.78-.78 2.05 0 2.83L4 21.41c.39.39.9.59 1.41.59.51 0 1.02-.2 1.41-.59l7.78-7.78 2.81-2.81c.8-.78.8-2.07 0-2.86zM5.41 20L4 18.59l7.72-7.72 1.47 1.35L5.41 20z\"/>\n",
              "  </svg>\n",
              "      </button>\n",
              "      \n",
              "  <style>\n",
              "    .colab-df-container {\n",
              "      display:flex;\n",
              "      flex-wrap:wrap;\n",
              "      gap: 12px;\n",
              "    }\n",
              "\n",
              "    .colab-df-convert {\n",
              "      background-color: #E8F0FE;\n",
              "      border: none;\n",
              "      border-radius: 50%;\n",
              "      cursor: pointer;\n",
              "      display: none;\n",
              "      fill: #1967D2;\n",
              "      height: 32px;\n",
              "      padding: 0 0 0 0;\n",
              "      width: 32px;\n",
              "    }\n",
              "\n",
              "    .colab-df-convert:hover {\n",
              "      background-color: #E2EBFA;\n",
              "      box-shadow: 0px 1px 2px rgba(60, 64, 67, 0.3), 0px 1px 3px 1px rgba(60, 64, 67, 0.15);\n",
              "      fill: #174EA6;\n",
              "    }\n",
              "\n",
              "    [theme=dark] .colab-df-convert {\n",
              "      background-color: #3B4455;\n",
              "      fill: #D2E3FC;\n",
              "    }\n",
              "\n",
              "    [theme=dark] .colab-df-convert:hover {\n",
              "      background-color: #434B5C;\n",
              "      box-shadow: 0px 1px 3px 1px rgba(0, 0, 0, 0.15);\n",
              "      filter: drop-shadow(0px 1px 2px rgba(0, 0, 0, 0.3));\n",
              "      fill: #FFFFFF;\n",
              "    }\n",
              "  </style>\n",
              "\n",
              "      <script>\n",
              "        const buttonEl =\n",
              "          document.querySelector('#df-c7dfe146-58fc-467a-b657-c0a7f2e0d8a8 button.colab-df-convert');\n",
              "        buttonEl.style.display =\n",
              "          google.colab.kernel.accessAllowed ? 'block' : 'none';\n",
              "\n",
              "        async function convertToInteractive(key) {\n",
              "          const element = document.querySelector('#df-c7dfe146-58fc-467a-b657-c0a7f2e0d8a8');\n",
              "          const dataTable =\n",
              "            await google.colab.kernel.invokeFunction('convertToInteractive',\n",
              "                                                     [key], {});\n",
              "          if (!dataTable) return;\n",
              "\n",
              "          const docLinkHtml = 'Like what you see? Visit the ' +\n",
              "            '<a target=\"_blank\" href=https://colab.research.google.com/notebooks/data_table.ipynb>data table notebook</a>'\n",
              "            + ' to learn more about interactive tables.';\n",
              "          element.innerHTML = '';\n",
              "          dataTable['output_type'] = 'display_data';\n",
              "          await google.colab.output.renderOutput(dataTable, element);\n",
              "          const docLink = document.createElement('div');\n",
              "          docLink.innerHTML = docLinkHtml;\n",
              "          element.appendChild(docLink);\n",
              "        }\n",
              "      </script>\n",
              "    </div>\n",
              "  </div>\n",
              "  "
            ]
          },
          "metadata": {},
          "execution_count": 106
        }
      ]
    },
    {
      "cell_type": "code",
      "source": [
        "dataset_train.head()"
      ],
      "metadata": {
        "colab": {
          "base_uri": "https://localhost:8080/",
          "height": 206
        },
        "id": "Fkiy4n1UZ3hq",
        "outputId": "ab9e7b8b-af0e-4f89-c168-9f40e092b3ad"
      },
      "execution_count": null,
      "outputs": [
        {
          "output_type": "execute_result",
          "data": {
            "text/plain": [
              "   age           job  marital  education default  balance housing loan  \\\n",
              "0   58    management  married   tertiary      no     2143     yes   no   \n",
              "1   44    technician   single  secondary      no       29     yes   no   \n",
              "2   33  entrepreneur  married  secondary      no        2     yes  yes   \n",
              "3   47   blue-collar  married    unknown      no     1506     yes   no   \n",
              "4   33       unknown   single    unknown      no        1      no   no   \n",
              "\n",
              "   contact  day month  duration  campaign  pdays  previous poutcome   y  \n",
              "0  unknown    5   may       261         1     -1         0  unknown  no  \n",
              "1  unknown    5   may       151         1     -1         0  unknown  no  \n",
              "2  unknown    5   may        76         1     -1         0  unknown  no  \n",
              "3  unknown    5   may        92         1     -1         0  unknown  no  \n",
              "4  unknown    5   may       198         1     -1         0  unknown  no  "
            ],
            "text/html": [
              "\n",
              "  <div id=\"df-e0740cfe-c748-44d9-b853-95a32904289c\">\n",
              "    <div class=\"colab-df-container\">\n",
              "      <div>\n",
              "<style scoped>\n",
              "    .dataframe tbody tr th:only-of-type {\n",
              "        vertical-align: middle;\n",
              "    }\n",
              "\n",
              "    .dataframe tbody tr th {\n",
              "        vertical-align: top;\n",
              "    }\n",
              "\n",
              "    .dataframe thead th {\n",
              "        text-align: right;\n",
              "    }\n",
              "</style>\n",
              "<table border=\"1\" class=\"dataframe\">\n",
              "  <thead>\n",
              "    <tr style=\"text-align: right;\">\n",
              "      <th></th>\n",
              "      <th>age</th>\n",
              "      <th>job</th>\n",
              "      <th>marital</th>\n",
              "      <th>education</th>\n",
              "      <th>default</th>\n",
              "      <th>balance</th>\n",
              "      <th>housing</th>\n",
              "      <th>loan</th>\n",
              "      <th>contact</th>\n",
              "      <th>day</th>\n",
              "      <th>month</th>\n",
              "      <th>duration</th>\n",
              "      <th>campaign</th>\n",
              "      <th>pdays</th>\n",
              "      <th>previous</th>\n",
              "      <th>poutcome</th>\n",
              "      <th>y</th>\n",
              "    </tr>\n",
              "  </thead>\n",
              "  <tbody>\n",
              "    <tr>\n",
              "      <th>0</th>\n",
              "      <td>58</td>\n",
              "      <td>management</td>\n",
              "      <td>married</td>\n",
              "      <td>tertiary</td>\n",
              "      <td>no</td>\n",
              "      <td>2143</td>\n",
              "      <td>yes</td>\n",
              "      <td>no</td>\n",
              "      <td>unknown</td>\n",
              "      <td>5</td>\n",
              "      <td>may</td>\n",
              "      <td>261</td>\n",
              "      <td>1</td>\n",
              "      <td>-1</td>\n",
              "      <td>0</td>\n",
              "      <td>unknown</td>\n",
              "      <td>no</td>\n",
              "    </tr>\n",
              "    <tr>\n",
              "      <th>1</th>\n",
              "      <td>44</td>\n",
              "      <td>technician</td>\n",
              "      <td>single</td>\n",
              "      <td>secondary</td>\n",
              "      <td>no</td>\n",
              "      <td>29</td>\n",
              "      <td>yes</td>\n",
              "      <td>no</td>\n",
              "      <td>unknown</td>\n",
              "      <td>5</td>\n",
              "      <td>may</td>\n",
              "      <td>151</td>\n",
              "      <td>1</td>\n",
              "      <td>-1</td>\n",
              "      <td>0</td>\n",
              "      <td>unknown</td>\n",
              "      <td>no</td>\n",
              "    </tr>\n",
              "    <tr>\n",
              "      <th>2</th>\n",
              "      <td>33</td>\n",
              "      <td>entrepreneur</td>\n",
              "      <td>married</td>\n",
              "      <td>secondary</td>\n",
              "      <td>no</td>\n",
              "      <td>2</td>\n",
              "      <td>yes</td>\n",
              "      <td>yes</td>\n",
              "      <td>unknown</td>\n",
              "      <td>5</td>\n",
              "      <td>may</td>\n",
              "      <td>76</td>\n",
              "      <td>1</td>\n",
              "      <td>-1</td>\n",
              "      <td>0</td>\n",
              "      <td>unknown</td>\n",
              "      <td>no</td>\n",
              "    </tr>\n",
              "    <tr>\n",
              "      <th>3</th>\n",
              "      <td>47</td>\n",
              "      <td>blue-collar</td>\n",
              "      <td>married</td>\n",
              "      <td>unknown</td>\n",
              "      <td>no</td>\n",
              "      <td>1506</td>\n",
              "      <td>yes</td>\n",
              "      <td>no</td>\n",
              "      <td>unknown</td>\n",
              "      <td>5</td>\n",
              "      <td>may</td>\n",
              "      <td>92</td>\n",
              "      <td>1</td>\n",
              "      <td>-1</td>\n",
              "      <td>0</td>\n",
              "      <td>unknown</td>\n",
              "      <td>no</td>\n",
              "    </tr>\n",
              "    <tr>\n",
              "      <th>4</th>\n",
              "      <td>33</td>\n",
              "      <td>unknown</td>\n",
              "      <td>single</td>\n",
              "      <td>unknown</td>\n",
              "      <td>no</td>\n",
              "      <td>1</td>\n",
              "      <td>no</td>\n",
              "      <td>no</td>\n",
              "      <td>unknown</td>\n",
              "      <td>5</td>\n",
              "      <td>may</td>\n",
              "      <td>198</td>\n",
              "      <td>1</td>\n",
              "      <td>-1</td>\n",
              "      <td>0</td>\n",
              "      <td>unknown</td>\n",
              "      <td>no</td>\n",
              "    </tr>\n",
              "  </tbody>\n",
              "</table>\n",
              "</div>\n",
              "      <button class=\"colab-df-convert\" onclick=\"convertToInteractive('df-e0740cfe-c748-44d9-b853-95a32904289c')\"\n",
              "              title=\"Convert this dataframe to an interactive table.\"\n",
              "              style=\"display:none;\">\n",
              "        \n",
              "  <svg xmlns=\"http://www.w3.org/2000/svg\" height=\"24px\"viewBox=\"0 0 24 24\"\n",
              "       width=\"24px\">\n",
              "    <path d=\"M0 0h24v24H0V0z\" fill=\"none\"/>\n",
              "    <path d=\"M18.56 5.44l.94 2.06.94-2.06 2.06-.94-2.06-.94-.94-2.06-.94 2.06-2.06.94zm-11 1L8.5 8.5l.94-2.06 2.06-.94-2.06-.94L8.5 2.5l-.94 2.06-2.06.94zm10 10l.94 2.06.94-2.06 2.06-.94-2.06-.94-.94-2.06-.94 2.06-2.06.94z\"/><path d=\"M17.41 7.96l-1.37-1.37c-.4-.4-.92-.59-1.43-.59-.52 0-1.04.2-1.43.59L10.3 9.45l-7.72 7.72c-.78.78-.78 2.05 0 2.83L4 21.41c.39.39.9.59 1.41.59.51 0 1.02-.2 1.41-.59l7.78-7.78 2.81-2.81c.8-.78.8-2.07 0-2.86zM5.41 20L4 18.59l7.72-7.72 1.47 1.35L5.41 20z\"/>\n",
              "  </svg>\n",
              "      </button>\n",
              "      \n",
              "  <style>\n",
              "    .colab-df-container {\n",
              "      display:flex;\n",
              "      flex-wrap:wrap;\n",
              "      gap: 12px;\n",
              "    }\n",
              "\n",
              "    .colab-df-convert {\n",
              "      background-color: #E8F0FE;\n",
              "      border: none;\n",
              "      border-radius: 50%;\n",
              "      cursor: pointer;\n",
              "      display: none;\n",
              "      fill: #1967D2;\n",
              "      height: 32px;\n",
              "      padding: 0 0 0 0;\n",
              "      width: 32px;\n",
              "    }\n",
              "\n",
              "    .colab-df-convert:hover {\n",
              "      background-color: #E2EBFA;\n",
              "      box-shadow: 0px 1px 2px rgba(60, 64, 67, 0.3), 0px 1px 3px 1px rgba(60, 64, 67, 0.15);\n",
              "      fill: #174EA6;\n",
              "    }\n",
              "\n",
              "    [theme=dark] .colab-df-convert {\n",
              "      background-color: #3B4455;\n",
              "      fill: #D2E3FC;\n",
              "    }\n",
              "\n",
              "    [theme=dark] .colab-df-convert:hover {\n",
              "      background-color: #434B5C;\n",
              "      box-shadow: 0px 1px 3px 1px rgba(0, 0, 0, 0.15);\n",
              "      filter: drop-shadow(0px 1px 2px rgba(0, 0, 0, 0.3));\n",
              "      fill: #FFFFFF;\n",
              "    }\n",
              "  </style>\n",
              "\n",
              "      <script>\n",
              "        const buttonEl =\n",
              "          document.querySelector('#df-e0740cfe-c748-44d9-b853-95a32904289c button.colab-df-convert');\n",
              "        buttonEl.style.display =\n",
              "          google.colab.kernel.accessAllowed ? 'block' : 'none';\n",
              "\n",
              "        async function convertToInteractive(key) {\n",
              "          const element = document.querySelector('#df-e0740cfe-c748-44d9-b853-95a32904289c');\n",
              "          const dataTable =\n",
              "            await google.colab.kernel.invokeFunction('convertToInteractive',\n",
              "                                                     [key], {});\n",
              "          if (!dataTable) return;\n",
              "\n",
              "          const docLinkHtml = 'Like what you see? Visit the ' +\n",
              "            '<a target=\"_blank\" href=https://colab.research.google.com/notebooks/data_table.ipynb>data table notebook</a>'\n",
              "            + ' to learn more about interactive tables.';\n",
              "          element.innerHTML = '';\n",
              "          dataTable['output_type'] = 'display_data';\n",
              "          await google.colab.output.renderOutput(dataTable, element);\n",
              "          const docLink = document.createElement('div');\n",
              "          docLink.innerHTML = docLinkHtml;\n",
              "          element.appendChild(docLink);\n",
              "        }\n",
              "      </script>\n",
              "    </div>\n",
              "  </div>\n",
              "  "
            ]
          },
          "metadata": {},
          "execution_count": 107
        }
      ]
    },
    {
      "cell_type": "markdown",
      "source": [
        "melihat type pada data set"
      ],
      "metadata": {
        "id": "OhBKv9Lbl-vb"
      }
    },
    {
      "cell_type": "code",
      "source": [
        "dataset_train.dtypes"
      ],
      "metadata": {
        "colab": {
          "base_uri": "https://localhost:8080/"
        },
        "id": "1EWLh51tNZ46",
        "outputId": "d1d7f114-b7a3-4649-9ded-5d8ac8bc00a7"
      },
      "execution_count": null,
      "outputs": [
        {
          "output_type": "execute_result",
          "data": {
            "text/plain": [
              "age           int64\n",
              "job          object\n",
              "marital      object\n",
              "education    object\n",
              "default      object\n",
              "balance       int64\n",
              "housing      object\n",
              "loan         object\n",
              "contact      object\n",
              "day           int64\n",
              "month        object\n",
              "duration      int64\n",
              "campaign      int64\n",
              "pdays         int64\n",
              "previous      int64\n",
              "poutcome     object\n",
              "y            object\n",
              "dtype: object"
            ]
          },
          "metadata": {},
          "execution_count": 108
        }
      ]
    },
    {
      "cell_type": "code",
      "source": [
        "ax = dataset_train['y'].value_counts().plot.bar(color=['r','b'])\n",
        "plt.title(\"Jumlah data tiap label pada dataset train\")\n",
        "for p in ax.patches:\n",
        "    b = p.get_bbox()\n",
        "    ax.annotate(str(p.get_height()), ((b.x0 + b.x1)/2 - .1, p.get_height() * 1.),fontsize=12)"
      ],
      "metadata": {
        "colab": {
          "base_uri": "https://localhost:8080/",
          "height": 289
        },
        "id": "7kW4KB0Pniq2",
        "outputId": "cc5c4265-1a26-42e8-87ae-5df89d981fcf"
      },
      "execution_count": null,
      "outputs": [
        {
          "output_type": "display_data",
          "data": {
            "text/plain": [
              "<Figure size 432x288 with 1 Axes>"
            ],
            "image/png": "[encoded data removed]"
          },
          "metadata": {
            "needs_background": "light"
          }
        }
      ]
    },
    {
      "cell_type": "code",
      "source": [
        "ax = dataset_test['y'].value_counts().plot.bar(color=['r','b'])\n",
        "plt.title(\"Jumlah data tiap label pada dataset test\")\n",
        "for p in ax.patches:\n",
        "    b = p.get_bbox()\n",
        "    ax.annotate(str(p.get_height()), ((b.x0 + b.x1)/2 - .1, p.get_height() * 1.),fontsize=12)"
      ],
      "metadata": {
        "colab": {
          "base_uri": "https://localhost:8080/",
          "height": 289
        },
        "id": "uuOyZoVEnlkq",
        "outputId": "403f08b2-2217-4092-99ba-920a1f8c4f8f"
      },
      "execution_count": null,
      "outputs": [
        {
          "output_type": "display_data",
          "data": {
            "text/plain": [
              "<Figure size 432x288 with 1 Axes>"
            ],
            "image/png": "[encoded data removed]"
          },
          "metadata": {
            "needs_background": "light"
          }
        }
      ]
    },
    {
      "cell_type": "code",
      "source": [
        "train_index = [i for i in dataset_train.drop(columns=['y']).columns]\n",
        "dataset_train.groupby(by=train_index)[\"y\"].value_counts().unstack().reset_index().sort_values(by=[\"no\"], ascending=True).head()"
      ],
      "metadata": {
        "colab": {
          "base_uri": "https://localhost:8080/",
          "height": 206
        },
        "id": "9LQxvn4Dp7vZ",
        "outputId": "5aa88fa0-528d-4d26-99e2-3bff2984f304"
      },
      "execution_count": null,
      "outputs": [
        {
          "output_type": "execute_result",
          "data": {
            "text/plain": [
              "y      age           job  marital  education default  balance housing loan  \\\n",
              "2       18       student   single    primary      no     1944      no   no   \n",
              "30043   45  entrepreneur  married    primary      no     1953     yes   no   \n",
              "30044   45  entrepreneur  married    primary      no     2418     yes   no   \n",
              "30045   45  entrepreneur  married    primary      no     5315     yes  yes   \n",
              "30046   45  entrepreneur  married  secondary      no     -479     yes   no   \n",
              "\n",
              "y        contact  day month  duration  campaign  pdays  previous poutcome  \\\n",
              "2      telephone   10   aug       122         3     -1         0  unknown   \n",
              "30043    unknown   15   may        95         3     -1         0  unknown   \n",
              "30044    unknown   14   may       120         1     -1         0  unknown   \n",
              "30045   cellular   15   may       262         2     -1         0  unknown   \n",
              "30046   cellular   30   jul       167         2     -1         0  unknown   \n",
              "\n",
              "y       no  yes  \n",
              "2      1.0  NaN  \n",
              "30043  1.0  NaN  \n",
              "30044  1.0  NaN  \n",
              "30045  1.0  NaN  \n",
              "30046  1.0  NaN  "
            ],
            "text/html": [
              "\n",
              "  <div id=\"df-57671130-7f71-452a-ae7b-6aca912ccbc6\">\n",
              "    <div class=\"colab-df-container\">\n",
              "      <div>\n",
              "<style scoped>\n",
              "    .dataframe tbody tr th:only-of-type {\n",
              "        vertical-align: middle;\n",
              "    }\n",
              "\n",
              "    .dataframe tbody tr th {\n",
              "        vertical-align: top;\n",
              "    }\n",
              "\n",
              "    .dataframe thead th {\n",
              "        text-align: right;\n",
              "    }\n",
              "</style>\n",
              "<table border=\"1\" class=\"dataframe\">\n",
              "  <thead>\n",
              "    <tr style=\"text-align: right;\">\n",
              "      <th>y</th>\n",
              "      <th>age</th>\n",
              "      <th>job</th>\n",
              "      <th>marital</th>\n",
              "      <th>education</th>\n",
              "      <th>default</th>\n",
              "      <th>balance</th>\n",
              "      <th>housing</th>\n",
              "      <th>loan</th>\n",
              "      <th>contact</th>\n",
              "      <th>day</th>\n",
              "      <th>month</th>\n",
              "      <th>duration</th>\n",
              "      <th>campaign</th>\n",
              "      <th>pdays</th>\n",
              "      <th>previous</th>\n",
              "      <th>poutcome</th>\n",
              "      <th>no</th>\n",
              "      <th>yes</th>\n",
              "    </tr>\n",
              "  </thead>\n",
              "  <tbody>\n",
              "    <tr>\n",
              "      <th>2</th>\n",
              "      <td>18</td>\n",
              "      <td>student</td>\n",
              "      <td>single</td>\n",
              "      <td>primary</td>\n",
              "      <td>no</td>\n",
              "      <td>1944</td>\n",
              "      <td>no</td>\n",
              "      <td>no</td>\n",
              "      <td>telephone</td>\n",
              "      <td>10</td>\n",
              "      <td>aug</td>\n",
              "      <td>122</td>\n",
              "      <td>3</td>\n",
              "      <td>-1</td>\n",
              "      <td>0</td>\n",
              "      <td>unknown</td>\n",
              "      <td>1.0</td>\n",
              "      <td>NaN</td>\n",
              "    </tr>\n",
              "    <tr>\n",
              "      <th>30043</th>\n",
              "      <td>45</td>\n",
              "      <td>entrepreneur</td>\n",
              "      <td>married</td>\n",
              "      <td>primary</td>\n",
              "      <td>no</td>\n",
              "      <td>1953</td>\n",
              "      <td>yes</td>\n",
              "      <td>no</td>\n",
              "      <td>unknown</td>\n",
              "      <td>15</td>\n",
              "      <td>may</td>\n",
              "      <td>95</td>\n",
              "      <td>3</td>\n",
              "      <td>-1</td>\n",
              "      <td>0</td>\n",
              "      <td>unknown</td>\n",
              "      <td>1.0</td>\n",
              "      <td>NaN</td>\n",
              "    </tr>\n",
              "    <tr>\n",
              "      <th>30044</th>\n",
              "      <td>45</td>\n",
              "      <td>entrepreneur</td>\n",
              "      <td>married</td>\n",
              "      <td>primary</td>\n",
              "      <td>no</td>\n",
              "      <td>2418</td>\n",
              "      <td>yes</td>\n",
              "      <td>no</td>\n",
              "      <td>unknown</td>\n",
              "      <td>14</td>\n",
              "      <td>may</td>\n",
              "      <td>120</td>\n",
              "      <td>1</td>\n",
              "      <td>-1</td>\n",
              "      <td>0</td>\n",
              "      <td>unknown</td>\n",
              "      <td>1.0</td>\n",
              "      <td>NaN</td>\n",
              "    </tr>\n",
              "    <tr>\n",
              "      <th>30045</th>\n",
              "      <td>45</td>\n",
              "      <td>entrepreneur</td>\n",
              "      <td>married</td>\n",
              "      <td>primary</td>\n",
              "      <td>no</td>\n",
              "      <td>5315</td>\n",
              "      <td>yes</td>\n",
              "      <td>yes</td>\n",
              "      <td>cellular</td>\n",
              "      <td>15</td>\n",
              "      <td>may</td>\n",
              "      <td>262</td>\n",
              "      <td>2</td>\n",
              "      <td>-1</td>\n",
              "      <td>0</td>\n",
              "      <td>unknown</td>\n",
              "      <td>1.0</td>\n",
              "      <td>NaN</td>\n",
              "    </tr>\n",
              "    <tr>\n",
              "      <th>30046</th>\n",
              "      <td>45</td>\n",
              "      <td>entrepreneur</td>\n",
              "      <td>married</td>\n",
              "      <td>secondary</td>\n",
              "      <td>no</td>\n",
              "      <td>-479</td>\n",
              "      <td>yes</td>\n",
              "      <td>no</td>\n",
              "      <td>cellular</td>\n",
              "      <td>30</td>\n",
              "      <td>jul</td>\n",
              "      <td>167</td>\n",
              "      <td>2</td>\n",
              "      <td>-1</td>\n",
              "      <td>0</td>\n",
              "      <td>unknown</td>\n",
              "      <td>1.0</td>\n",
              "      <td>NaN</td>\n",
              "    </tr>\n",
              "  </tbody>\n",
              "</table>\n",
              "</div>\n",
              "      <button class=\"colab-df-convert\" onclick=\"convertToInteractive('df-57671130-7f71-452a-ae7b-6aca912ccbc6')\"\n",
              "              title=\"Convert this dataframe to an interactive table.\"\n",
              "              style=\"display:none;\">\n",
              "        \n",
              "  <svg xmlns=\"http://www.w3.org/2000/svg\" height=\"24px\"viewBox=\"0 0 24 24\"\n",
              "       width=\"24px\">\n",
              "    <path d=\"M0 0h24v24H0V0z\" fill=\"none\"/>\n",
              "    <path d=\"M18.56 5.44l.94 2.06.94-2.06 2.06-.94-2.06-.94-.94-2.06-.94 2.06-2.06.94zm-11 1L8.5 8.5l.94-2.06 2.06-.94-2.06-.94L8.5 2.5l-.94 2.06-2.06.94zm10 10l.94 2.06.94-2.06 2.06-.94-2.06-.94-.94-2.06-.94 2.06-2.06.94z\"/><path d=\"M17.41 7.96l-1.37-1.37c-.4-.4-.92-.59-1.43-.59-.52 0-1.04.2-1.43.59L10.3 9.45l-7.72 7.72c-.78.78-.78 2.05 0 2.83L4 21.41c.39.39.9.59 1.41.59.51 0 1.02-.2 1.41-.59l7.78-7.78 2.81-2.81c.8-.78.8-2.07 0-2.86zM5.41 20L4 18.59l7.72-7.72 1.47 1.35L5.41 20z\"/>\n",
              "  </svg>\n",
              "      </button>\n",
              "      \n",
              "  <style>\n",
              "    .colab-df-container {\n",
              "      display:flex;\n",
              "      flex-wrap:wrap;\n",
              "      gap: 12px;\n",
              "    }\n",
              "\n",
              "    .colab-df-convert {\n",
              "      background-color: #E8F0FE;\n",
              "      border: none;\n",
              "      border-radius: 50%;\n",
              "      cursor: pointer;\n",
              "      display: none;\n",
              "      fill: #1967D2;\n",
              "      height: 32px;\n",
              "      padding: 0 0 0 0;\n",
              "      width: 32px;\n",
              "    }\n",
              "\n",
              "    .colab-df-convert:hover {\n",
              "      background-color: #E2EBFA;\n",
              "      box-shadow: 0px 1px 2px rgba(60, 64, 67, 0.3), 0px 1px 3px 1px rgba(60, 64, 67, 0.15);\n",
              "      fill: #174EA6;\n",
              "    }\n",
              "\n",
              "    [theme=dark] .colab-df-convert {\n",
              "      background-color: #3B4455;\n",
              "      fill: #D2E3FC;\n",
              "    }\n",
              "\n",
              "    [theme=dark] .colab-df-convert:hover {\n",
              "      background-color: #434B5C;\n",
              "      box-shadow: 0px 1px 3px 1px rgba(0, 0, 0, 0.15);\n",
              "      filter: drop-shadow(0px 1px 2px rgba(0, 0, 0, 0.3));\n",
              "      fill: #FFFFFF;\n",
              "    }\n",
              "  </style>\n",
              "\n",
              "      <script>\n",
              "        const buttonEl =\n",
              "          document.querySelector('#df-57671130-7f71-452a-ae7b-6aca912ccbc6 button.colab-df-convert');\n",
              "        buttonEl.style.display =\n",
              "          google.colab.kernel.accessAllowed ? 'block' : 'none';\n",
              "\n",
              "        async function convertToInteractive(key) {\n",
              "          const element = document.querySelector('#df-57671130-7f71-452a-ae7b-6aca912ccbc6');\n",
              "          const dataTable =\n",
              "            await google.colab.kernel.invokeFunction('convertToInteractive',\n",
              "                                                     [key], {});\n",
              "          if (!dataTable) return;\n",
              "\n",
              "          const docLinkHtml = 'Like what you see? Visit the ' +\n",
              "            '<a target=\"_blank\" href=https://colab.research.google.com/notebooks/data_table.ipynb>data table notebook</a>'\n",
              "            + ' to learn more about interactive tables.';\n",
              "          element.innerHTML = '';\n",
              "          dataTable['output_type'] = 'display_data';\n",
              "          await google.colab.output.renderOutput(dataTable, element);\n",
              "          const docLink = document.createElement('div');\n",
              "          docLink.innerHTML = docLinkHtml;\n",
              "          element.appendChild(docLink);\n",
              "        }\n",
              "      </script>\n",
              "    </div>\n",
              "  </div>\n",
              "  "
            ]
          },
          "metadata": {},
          "execution_count": 111
        }
      ]
    },
    {
      "cell_type": "code",
      "source": [
        "cek_no_yes_max = dataset_train.groupby(by=[\"age\", \"job\", \"marital\", \"education\", \"balance\", \"housing\", \"loan\", \"month\" , \"duration\"])[\"y\"].value_counts().unstack().reset_index()"
      ],
      "metadata": {
        "id": "DbOxilfog-4k"
      },
      "execution_count": null,
      "outputs": []
    },
    {
      "cell_type": "code",
      "source": [
        "cek_no_yes_max.loc[cek_no_yes_max['no'].ge(1.0) &cek_no_yes_max['yes'].ge(1.0)]"
      ],
      "metadata": {
        "colab": {
          "base_uri": "https://localhost:8080/",
          "height": 50
        },
        "id": "h5207phn71DR",
        "outputId": "d59dd76b-b276-4695-b520-31640a3f76c8"
      },
      "execution_count": null,
      "outputs": [
        {
          "output_type": "execute_result",
          "data": {
            "text/plain": [
              "Empty DataFrame\n",
              "Columns: [age, job, marital, education, balance, housing, loan, month, duration, no, yes]\n",
              "Index: []"
            ],
            "text/html": [
              "\n",
              "  <div id=\"df-e20c3618-691a-4e74-90ff-f7b4ce4fb177\">\n",
              "    <div class=\"colab-df-container\">\n",
              "      <div>\n",
              "<style scoped>\n",
              "    .dataframe tbody tr th:only-of-type {\n",
              "        vertical-align: middle;\n",
              "    }\n",
              "\n",
              "    .dataframe tbody tr th {\n",
              "        vertical-align: top;\n",
              "    }\n",
              "\n",
              "    .dataframe thead th {\n",
              "        text-align: right;\n",
              "    }\n",
              "</style>\n",
              "<table border=\"1\" class=\"dataframe\">\n",
              "  <thead>\n",
              "    <tr style=\"text-align: right;\">\n",
              "      <th>y</th>\n",
              "      <th>age</th>\n",
              "      <th>job</th>\n",
              "      <th>marital</th>\n",
              "      <th>education</th>\n",
              "      <th>balance</th>\n",
              "      <th>housing</th>\n",
              "      <th>loan</th>\n",
              "      <th>month</th>\n",
              "      <th>duration</th>\n",
              "      <th>no</th>\n",
              "      <th>yes</th>\n",
              "    </tr>\n",
              "  </thead>\n",
              "  <tbody>\n",
              "  </tbody>\n",
              "</table>\n",
              "</div>\n",
              "      <button class=\"colab-df-convert\" onclick=\"convertToInteractive('df-e20c3618-691a-4e74-90ff-f7b4ce4fb177')\"\n",
              "              title=\"Convert this dataframe to an interactive table.\"\n",
              "              style=\"display:none;\">\n",
              "        \n",
              "  <svg xmlns=\"http://www.w3.org/2000/svg\" height=\"24px\"viewBox=\"0 0 24 24\"\n",
              "       width=\"24px\">\n",
              "    <path d=\"M0 0h24v24H0V0z\" fill=\"none\"/>\n",
              "    <path d=\"M18.56 5.44l.94 2.06.94-2.06 2.06-.94-2.06-.94-.94-2.06-.94 2.06-2.06.94zm-11 1L8.5 8.5l.94-2.06 2.06-.94-2.06-.94L8.5 2.5l-.94 2.06-2.06.94zm10 10l.94 2.06.94-2.06 2.06-.94-2.06-.94-.94-2.06-.94 2.06-2.06.94z\"/><path d=\"M17.41 7.96l-1.37-1.37c-.4-.4-.92-.59-1.43-.59-.52 0-1.04.2-1.43.59L10.3 9.45l-7.72 7.72c-.78.78-.78 2.05 0 2.83L4 21.41c.39.39.9.59 1.41.59.51 0 1.02-.2 1.41-.59l7.78-7.78 2.81-2.81c.8-.78.8-2.07 0-2.86zM5.41 20L4 18.59l7.72-7.72 1.47 1.35L5.41 20z\"/>\n",
              "  </svg>\n",
              "      </button>\n",
              "      \n",
              "  <style>\n",
              "    .colab-df-container {\n",
              "      display:flex;\n",
              "      flex-wrap:wrap;\n",
              "      gap: 12px;\n",
              "    }\n",
              "\n",
              "    .colab-df-convert {\n",
              "      background-color: #E8F0FE;\n",
              "      border: none;\n",
              "      border-radius: 50%;\n",
              "      cursor: pointer;\n",
              "      display: none;\n",
              "      fill: #1967D2;\n",
              "      height: 32px;\n",
              "      padding: 0 0 0 0;\n",
              "      width: 32px;\n",
              "    }\n",
              "\n",
              "    .colab-df-convert:hover {\n",
              "      background-color: #E2EBFA;\n",
              "      box-shadow: 0px 1px 2px rgba(60, 64, 67, 0.3), 0px 1px 3px 1px rgba(60, 64, 67, 0.15);\n",
              "      fill: #174EA6;\n",
              "    }\n",
              "\n",
              "    [theme=dark] .colab-df-convert {\n",
              "      background-color: #3B4455;\n",
              "      fill: #D2E3FC;\n",
              "    }\n",
              "\n",
              "    [theme=dark] .colab-df-convert:hover {\n",
              "      background-color: #434B5C;\n",
              "      box-shadow: 0px 1px 3px 1px rgba(0, 0, 0, 0.15);\n",
              "      filter: drop-shadow(0px 1px 2px rgba(0, 0, 0, 0.3));\n",
              "      fill: #FFFFFF;\n",
              "    }\n",
              "  </style>\n",
              "\n",
              "      <script>\n",
              "        const buttonEl =\n",
              "          document.querySelector('#df-e20c3618-691a-4e74-90ff-f7b4ce4fb177 button.colab-df-convert');\n",
              "        buttonEl.style.display =\n",
              "          google.colab.kernel.accessAllowed ? 'block' : 'none';\n",
              "\n",
              "        async function convertToInteractive(key) {\n",
              "          const element = document.querySelector('#df-e20c3618-691a-4e74-90ff-f7b4ce4fb177');\n",
              "          const dataTable =\n",
              "            await google.colab.kernel.invokeFunction('convertToInteractive',\n",
              "                                                     [key], {});\n",
              "          if (!dataTable) return;\n",
              "\n",
              "          const docLinkHtml = 'Like what you see? Visit the ' +\n",
              "            '<a target=\"_blank\" href=https://colab.research.google.com/notebooks/data_table.ipynb>data table notebook</a>'\n",
              "            + ' to learn more about interactive tables.';\n",
              "          element.innerHTML = '';\n",
              "          dataTable['output_type'] = 'display_data';\n",
              "          await google.colab.output.renderOutput(dataTable, element);\n",
              "          const docLink = document.createElement('div');\n",
              "          docLink.innerHTML = docLinkHtml;\n",
              "          element.appendChild(docLink);\n",
              "        }\n",
              "      </script>\n",
              "    </div>\n",
              "  </div>\n",
              "  "
            ]
          },
          "metadata": {},
          "execution_count": 113
        }
      ]
    },
    {
      "cell_type": "markdown",
      "source": [
        "##Data Preprocessing"
      ],
      "metadata": {
        "id": "p-QBTSuHBNk1"
      }
    },
    {
      "cell_type": "markdown",
      "source": [
        "mengubah column y, dengan nilai 0 menunjukan *NO* dan nilai 1 menunjukan *YES*"
      ],
      "metadata": {
        "id": "kQcO2hcxb3wL"
      }
    },
    {
      "cell_type": "code",
      "source": [
        "dataset_train['target'] = dataset_train.loc[:, 'y'].apply(lambda x : 0 if x == \"no\" else 1)\n",
        "\n",
        "dataset_train.drop(columns=[\"default\", \"contact\",\t\"day\", \"campaign\",\t\"pdays\",\t\"previous\", \"poutcome\", \"y\"], inplace=True)"
      ],
      "metadata": {
        "id": "ceeYHVHBbxnX"
      },
      "execution_count": null,
      "outputs": []
    },
    {
      "cell_type": "code",
      "source": [
        "dataset_test['target'] = dataset_test.loc[:, 'y'].apply(lambda x : 0 if x == \"no\" else 1)\n",
        "\n",
        "dataset_test.drop(columns=[\"default\", \"contact\",\t\"day\", \"campaign\",\t\"pdays\",\t\"previous\", \"poutcome\", \"y\"], inplace=True)"
      ],
      "metadata": {
        "id": "Agv02-YRmL8O"
      },
      "execution_count": null,
      "outputs": []
    },
    {
      "cell_type": "markdown",
      "source": [
        "dataset train ini merupakan dataframe pandas, split data train dengan ratio 80:20 . 20 % untuk validasi"
      ],
      "metadata": {
        "id": "-Vnal1UbHcZY"
      }
    },
    {
      "cell_type": "code",
      "source": [
        "train, val = dataframe_split(dataset_train, ratio = 0.2, shuffle=1)"
      ],
      "metadata": {
        "id": "rt2ZWTYzeWzv"
      },
      "execution_count": null,
      "outputs": []
    },
    {
      "cell_type": "code",
      "source": [
        "print(len(train), 'training examples')\n",
        "print(len(val), 'validation examples')"
      ],
      "metadata": {
        "colab": {
          "base_uri": "https://localhost:8080/"
        },
        "id": "PVFwlMDWH8Dl",
        "outputId": "ea92bd26-29fd-48dd-bbe8-a20fd635ec39"
      },
      "execution_count": null,
      "outputs": [
        {
          "output_type": "stream",
          "name": "stdout",
          "text": [
            "36169 training examples\n",
            "9042 validation examples\n"
          ]
        }
      ]
    },
    {
      "cell_type": "markdown",
      "source": [
        "membuat dataset"
      ],
      "metadata": {
        "id": "0VcaVe4Olf3u"
      }
    },
    {
      "cell_type": "code",
      "source": [
        "batch_size = 128\n",
        "\n",
        "train_ds = dataframe_imbalanced_to_dataset(train, batch_size=batch_size, repeat=5)\n",
        "val_ds = dataframe_imbalanced_to_dataset(val, batch_size=batch_size, repeat=6)\n",
        "test_ds = dataframe_to_dataset(dataset_test, batch_size=batch_size)"
      ],
      "metadata": {
        "id": "G2yhdthoLmol"
      },
      "execution_count": null,
      "outputs": []
    },
    {
      "cell_type": "markdown",
      "source": [
        "cek data"
      ],
      "metadata": {
        "id": "Q6RnUThrljIL"
      }
    },
    {
      "cell_type": "code",
      "source": [
        "[(train_features, label_batch)] = train_ds.take(1)\n",
        "print('Every feature:', list(train_features.keys()))\n",
        "print('A batch of marital:', train_features['job'])\n",
        "print('A batch of targets:', label_batch )"
      ],
      "metadata": {
        "colab": {
          "base_uri": "https://localhost:8080/"
        },
        "id": "VptefnlDM1VA",
        "outputId": "7ab973a7-de8a-4a8c-be2a-6c807eae3bf1"
      },
      "execution_count": null,
      "outputs": [
        {
          "output_type": "stream",
          "name": "stdout",
          "text": [
            "Every feature: ['age', 'job', 'marital', 'education', 'balance', 'housing', 'loan', 'month', 'duration']\n",
            "A batch of marital: tf.Tensor(\n",
            "[[b'blue-collar']\n",
            " [b'blue-collar']\n",
            " [b'management']\n",
            " [b'management']\n",
            " [b'management']\n",
            " [b'management']\n",
            " [b'technician']\n",
            " [b'technician']\n",
            " [b'technician']\n",
            " [b'technician']\n",
            " [b'blue-collar']\n",
            " [b'management']\n",
            " [b'housemaid']\n",
            " [b'management']\n",
            " [b'services']\n",
            " [b'blue-collar']\n",
            " [b'retired']\n",
            " [b'housemaid']\n",
            " [b'management']\n",
            " [b'admin.']\n",
            " [b'self-employed']\n",
            " [b'admin.']\n",
            " [b'self-employed']\n",
            " [b'management']\n",
            " [b'management']\n",
            " [b'student']\n",
            " [b'blue-collar']\n",
            " [b'services']\n",
            " [b'technician']\n",
            " [b'services']\n",
            " [b'management']\n",
            " [b'blue-collar']\n",
            " [b'services']\n",
            " [b'services']\n",
            " [b'student']\n",
            " [b'management']\n",
            " [b'management']\n",
            " [b'retired']\n",
            " [b'blue-collar']\n",
            " [b'unemployed']\n",
            " [b'services']\n",
            " [b'management']\n",
            " [b'services']\n",
            " [b'retired']\n",
            " [b'services']\n",
            " [b'management']\n",
            " [b'management']\n",
            " [b'management']\n",
            " [b'blue-collar']\n",
            " [b'management']\n",
            " [b'admin.']\n",
            " [b'self-employed']\n",
            " [b'technician']\n",
            " [b'admin.']\n",
            " [b'technician']\n",
            " [b'services']\n",
            " [b'management']\n",
            " [b'management']\n",
            " [b'management']\n",
            " [b'management']\n",
            " [b'management']\n",
            " [b'management']\n",
            " [b'admin.']\n",
            " [b'admin.']\n",
            " [b'management']\n",
            " [b'blue-collar']\n",
            " [b'technician']\n",
            " [b'blue-collar']\n",
            " [b'self-employed']\n",
            " [b'management']\n",
            " [b'self-employed']\n",
            " [b'management']\n",
            " [b'retired']\n",
            " [b'management']\n",
            " [b'unemployed']\n",
            " [b'blue-collar']\n",
            " [b'blue-collar']\n",
            " [b'blue-collar']\n",
            " [b'admin.']\n",
            " [b'blue-collar']\n",
            " [b'student']\n",
            " [b'entrepreneur']\n",
            " [b'management']\n",
            " [b'technician']\n",
            " [b'admin.']\n",
            " [b'entrepreneur']\n",
            " [b'admin.']\n",
            " [b'technician']\n",
            " [b'management']\n",
            " [b'student']\n",
            " [b'blue-collar']\n",
            " [b'services']\n",
            " [b'retired']\n",
            " [b'blue-collar']\n",
            " [b'management']\n",
            " [b'services']\n",
            " [b'technician']\n",
            " [b'services']\n",
            " [b'admin.']\n",
            " [b'retired']\n",
            " [b'technician']\n",
            " [b'management']\n",
            " [b'management']\n",
            " [b'blue-collar']\n",
            " [b'management']\n",
            " [b'technician']\n",
            " [b'management']\n",
            " [b'student']\n",
            " [b'blue-collar']\n",
            " [b'management']\n",
            " [b'blue-collar']\n",
            " [b'blue-collar']\n",
            " [b'blue-collar']\n",
            " [b'management']\n",
            " [b'technician']\n",
            " [b'management']\n",
            " [b'technician']\n",
            " [b'self-employed']\n",
            " [b'blue-collar']\n",
            " [b'student']\n",
            " [b'blue-collar']\n",
            " [b'retired']\n",
            " [b'technician']\n",
            " [b'services']\n",
            " [b'technician']\n",
            " [b'technician']\n",
            " [b'technician']\n",
            " [b'blue-collar']], shape=(128, 1), dtype=string)\n",
            "A batch of targets: tf.Tensor(\n",
            "[0 1 1 1 1 0 0 1 0 0 1 1 0 1 1 0 1 0 1 1 1 0 0 0 1 1 0 0 1 0 0 1 0 0 0 0 1\n",
            " 0 0 1 0 1 0 0 1 1 1 0 1 0 0 1 1 1 1 0 1 1 0 1 1 0 1 0 1 1 0 1 0 1 1 0 1 1\n",
            " 0 1 1 1 0 0 1 0 1 1 1 0 0 0 0 1 1 0 1 0 1 0 0 1 1 1 0 1 1 0 0 1 1 1 0 1 0\n",
            " 0 1 0 1 1 1 0 1 1 0 0 0 0 1 1 1 0], shape=(128,), dtype=int64)\n"
          ]
        }
      ]
    },
    {
      "cell_type": "markdown",
      "source": [
        "test preprocessing"
      ],
      "metadata": {
        "id": "2moUUtUQyEj5"
      }
    },
    {
      "cell_type": "code",
      "source": [
        "test_job_col = train_features['job']\n",
        "test_job_layer = categories_preprocessing(name='job',\n",
        "                                        dataset=train_ds,\n",
        "                                        dtype='string')\n",
        "test_job_layer(test_job_col).numpy()"
      ],
      "metadata": {
        "colab": {
          "base_uri": "https://localhost:8080/"
        },
        "id": "6C16yd6jyJVY",
        "outputId": "d03fb2b7-9e4d-4b9a-831d-90a51a4765f8"
      },
      "execution_count": null,
      "outputs": [
        {
          "output_type": "execute_result",
          "data": {
            "text/plain": [
              "array([[0., 0., 1., ..., 0., 0., 0.],\n",
              "       [0., 0., 1., ..., 0., 0., 0.],\n",
              "       [0., 1., 0., ..., 0., 0., 0.],\n",
              "       ...,\n",
              "       [0., 0., 0., ..., 0., 0., 0.],\n",
              "       [0., 0., 0., ..., 0., 0., 0.],\n",
              "       [0., 0., 1., ..., 0., 0., 0.]], dtype=float32)"
            ]
          },
          "metadata": {},
          "execution_count": 120
        }
      ]
    },
    {
      "cell_type": "code",
      "source": [
        "test_duration_col = train_features['duration']\n",
        "test_duration_layer = numeric_preprocessing(name='duration',\n",
        "                                            dataset=train_ds,\n",
        "                                            num_bins=32)\n",
        "test_duration_layer(test_duration_col)"
      ],
      "metadata": {
        "colab": {
          "base_uri": "https://localhost:8080/"
        },
        "id": "R6N2tN4byZ8D",
        "outputId": "e7dc520b-3576-44fa-afff-2b0d916fba07"
      },
      "execution_count": null,
      "outputs": [
        {
          "output_type": "execute_result",
          "data": {
            "text/plain": [
              "<tf.Tensor: shape=(128, 1), dtype=float32, numpy=\n",
              "array([[ 8.62059772e-01],\n",
              "       [-3.72958839e-01],\n",
              "       [ 4.45600033e-01],\n",
              "       [ 4.19750780e-01],\n",
              "       [ 3.38092351e+00],\n",
              "       [-8.55477750e-01],\n",
              "       [-7.23359466e-01],\n",
              "       [ 1.56860542e+00],\n",
              "       [-9.81851757e-01],\n",
              "       [ 1.22107685e+00],\n",
              "       [ 7.24197268e-01],\n",
              "       [ 1.41925430e+00],\n",
              "       [-6.05601907e-01],\n",
              "       [ 3.39241195e+00],\n",
              "       [ 7.70151436e-01],\n",
              "       [ 2.99121052e-01],\n",
              "       [-1.96860731e-02],\n",
              "       [ 3.96773696e-01],\n",
              "       [ 3.96773696e-01],\n",
              "       [-3.81575257e-01],\n",
              "       [-5.98959811e-02],\n",
              "       [-1.28827259e-01],\n",
              "       [-2.92539030e-01],\n",
              "       [-7.57825136e-01],\n",
              "       [-4.90716428e-01],\n",
              "       [-4.04552341e-01],\n",
              "       [-4.53378677e-01],\n",
              "       [-6.08474016e-01],\n",
              "       [ 1.03815794e-01],\n",
              "       [-6.22834682e-01],\n",
              "       [-7.42566660e-02],\n",
              "       [ 1.82135344e+00],\n",
              "       [-5.68264127e-01],\n",
              "       [ 3.59435916e-01],\n",
              "       [-8.98559809e-01],\n",
              "       [ 3.16353887e-01],\n",
              "       [ 3.91029418e-01],\n",
              "       [-3.29876810e-01],\n",
              "       [ 6.43777430e-01],\n",
              "       [ 1.43648708e+00],\n",
              "       [-6.34323239e-01],\n",
              "       [ 1.99655378e+00],\n",
              "       [-8.18139970e-01],\n",
              "       [ 7.04092324e-01],\n",
              "       [-7.46336579e-01],\n",
              "       [-3.35621059e-01],\n",
              "       [ 8.07489216e-01],\n",
              "       [-8.09523582e-01],\n",
              "       [ 7.50046492e-01],\n",
              "       [-3.61470312e-01],\n",
              "       [-2.43712708e-01],\n",
              "       [-4.47634399e-01],\n",
              "       [ 1.39914930e+00],\n",
              "       [ 5.31764090e-01],\n",
              "       [-6.57300353e-01],\n",
              "       [-1.74781442e-01],\n",
              "       [-4.53378677e-01],\n",
              "       [-6.85123876e-02],\n",
              "       [-4.36145842e-01],\n",
              "       [ 2.23494101e+00],\n",
              "       [-4.27529424e-01],\n",
              "       [-8.29628527e-01],\n",
              "       [ 1.70934010e+00],\n",
              "       [-2.49456987e-01],\n",
              "       [ 2.44550481e-01],\n",
              "       [-7.89418638e-01],\n",
              "       [ 2.33959742e-02],\n",
              "       [ 4.68577117e-01],\n",
              "       [-7.40592301e-01],\n",
              "       [ 4.36983615e-01],\n",
              "       [ 1.46233630e+00],\n",
              "       [-1.05850160e-01],\n",
              "       [-1.68139357e-02],\n",
              "       [ 5.92078984e-01],\n",
              "       [-1.04503870e+00],\n",
              "       [-5.62519848e-01],\n",
              "       [ 9.10886109e-01],\n",
              "       [ 1.03151584e+00],\n",
              "       [ 4.25495058e-01],\n",
              "       [-9.24409032e-01],\n",
              "       [-6.08474016e-01],\n",
              "       [-3.95935923e-01],\n",
              "       [ 2.03389144e+00],\n",
              "       [-2.66689807e-01],\n",
              "       [ 4.11619043e+00],\n",
              "       [-1.17338710e-01],\n",
              "       [ 1.72747061e-01],\n",
              "       [-3.35621059e-01],\n",
              "       [-8.64094138e-01],\n",
              "       [-5.39542735e-01],\n",
              "       [-4.27529424e-01],\n",
              "       [-7.95162916e-01],\n",
              "       [-3.98808062e-01],\n",
              "       [-8.12395692e-01],\n",
              "       [-5.07949233e-01],\n",
              "       [-6.48683965e-01],\n",
              "       [-8.69838417e-01],\n",
              "       [-2.26479888e-01],\n",
              "       [ 1.18176475e-01],\n",
              "       [-4.13168758e-01],\n",
              "       [ 1.19074276e-02],\n",
              "       [ 7.58662879e-01],\n",
              "       [-2.89666891e-01],\n",
              "       [-1.34571522e-01],\n",
              "       [-8.12395692e-01],\n",
              "       [-6.17090464e-01],\n",
              "       [ 3.85285169e-01],\n",
              "       [-5.85496962e-01],\n",
              "       [-6.97510242e-01],\n",
              "       [-6.65916741e-01],\n",
              "       [-4.70611483e-01],\n",
              "       [-7.63569415e-01],\n",
              "       [ 1.02002728e+00],\n",
              "       [-7.63569415e-01],\n",
              "       [ 1.84433055e+00],\n",
              "       [-1.00105889e-01],\n",
              "       [-7.11870968e-01],\n",
              "       [-5.94113350e-01],\n",
              "       [ 3.29101877e-03],\n",
              "       [-6.88893855e-01],\n",
              "       [-5.68264127e-01],\n",
              "       [-9.01431918e-01],\n",
              "       [ 3.45075250e-01],\n",
              "       [ 9.82689500e-01],\n",
              "       [-4.36145842e-01],\n",
              "       [ 5.57613313e-01],\n",
              "       [ 7.44302213e-01],\n",
              "       [-4.61995065e-01]], dtype=float32)>"
            ]
          },
          "metadata": {},
          "execution_count": 121
        }
      ]
    },
    {
      "cell_type": "markdown",
      "source": [
        "membagikan column berdasarkan numeric atau categorical integer atau string"
      ],
      "metadata": {
        "id": "c19rHREvlsAr"
      }
    },
    {
      "cell_type": "code",
      "source": [
        "numeric_keys = [\"balance\", \"duration\"]\n",
        "categorical_integer_keys = [\"age\"]\n",
        "categorical_string_keys = [\"job\", \"marital\", \"education\", \"housing\", \"loan\", \"month\"]\n",
        "all_inputs = []\n",
        "all_preprocessors = []"
      ],
      "metadata": {
        "id": "Hl5BaK0S9Xb1"
      },
      "execution_count": null,
      "outputs": []
    },
    {
      "cell_type": "code",
      "source": [
        "for numeric in numeric_keys:\n",
        "  input = tf.keras.Input(shape=(1,), name=numeric, dtype=\"int64\")\n",
        "  num_layer = numeric_preprocessing(name=numeric, dataset=train_ds, num_bins=32)\n",
        "  num_preprocessor = num_layer(input)\n",
        "  all_inputs.append(input)\n",
        "  all_preprocessors.append(num_preprocessor)"
      ],
      "metadata": {
        "id": "n44nM94XQ4po"
      },
      "execution_count": null,
      "outputs": []
    },
    {
      "cell_type": "code",
      "source": [
        "for categorical in categorical_string_keys:\n",
        "  input = tf.keras.Input(shape=(1,), name=categorical, dtype=\"string\")\n",
        "  cat_layer = categories_preprocessing(name=categorical, dataset=train_ds, dtype=\"string\")\n",
        "  cat_preprocessor = cat_layer(input)\n",
        "  all_inputs.append(input)\n",
        "  all_preprocessors.append(cat_preprocessor)"
      ],
      "metadata": {
        "id": "uZp_YEXgUlZc"
      },
      "execution_count": null,
      "outputs": []
    },
    {
      "cell_type": "code",
      "source": [
        "for categorical_int in categorical_integer_keys:\n",
        "  input = tf.keras.Input(shape=(1,), name=categorical_int, dtype=\"int64\")\n",
        "  cat_int_layer = categories_preprocessing(name=categorical_int, dataset=train_ds, dtype=\"int64\")\n",
        "  cat_int_preprocessor = cat_int_layer(input)\n",
        "  all_inputs.append(input)\n",
        "  all_preprocessors.append(cat_int_preprocessor)"
      ],
      "metadata": {
        "id": "LcPGORYKsIYB"
      },
      "execution_count": null,
      "outputs": []
    },
    {
      "cell_type": "code",
      "source": [
        "all_inputs, all_preprocessors"
      ],
      "metadata": {
        "colab": {
          "base_uri": "https://localhost:8080/"
        },
        "id": "dBp7suJaVeg8",
        "outputId": "319b0db3-4cf3-4ec5-af6e-47f0594ed465"
      },
      "execution_count": null,
      "outputs": [
        {
          "output_type": "execute_result",
          "data": {
            "text/plain": [
              "([<KerasTensor: shape=(None, 1) dtype=int64 (created by layer 'balance')>,\n",
              "  <KerasTensor: shape=(None, 1) dtype=int64 (created by layer 'duration')>,\n",
              "  <KerasTensor: shape=(None, 1) dtype=string (created by layer 'job')>,\n",
              "  <KerasTensor: shape=(None, 1) dtype=string (created by layer 'marital')>,\n",
              "  <KerasTensor: shape=(None, 1) dtype=string (created by layer 'education')>,\n",
              "  <KerasTensor: shape=(None, 1) dtype=string (created by layer 'housing')>,\n",
              "  <KerasTensor: shape=(None, 1) dtype=string (created by layer 'loan')>,\n",
              "  <KerasTensor: shape=(None, 1) dtype=string (created by layer 'month')>,\n",
              "  <KerasTensor: shape=(None, 1) dtype=int64 (created by layer 'age')>],\n",
              " [<KerasTensor: shape=(None, 1) dtype=float32 (created by layer 'normalization_7')>,\n",
              "  <KerasTensor: shape=(None, 1) dtype=float32 (created by layer 'normalization_8')>,\n",
              "  <KerasTensor: shape=(None, 13) dtype=float32 (created by layer 'category_encoding_17')>,\n",
              "  <KerasTensor: shape=(None, 4) dtype=float32 (created by layer 'category_encoding_18')>,\n",
              "  <KerasTensor: shape=(None, 5) dtype=float32 (created by layer 'category_encoding_19')>,\n",
              "  <KerasTensor: shape=(None, 3) dtype=float32 (created by layer 'category_encoding_20')>,\n",
              "  <KerasTensor: shape=(None, 3) dtype=float32 (created by layer 'category_encoding_21')>,\n",
              "  <KerasTensor: shape=(None, 13) dtype=float32 (created by layer 'category_encoding_22')>,\n",
              "  <KerasTensor: shape=(None, 77) dtype=float32 (created by layer 'category_encoding_23')>])"
            ]
          },
          "metadata": {},
          "execution_count": 126
        }
      ]
    },
    {
      "cell_type": "markdown",
      "source": [
        "##Model"
      ],
      "metadata": {
        "id": "0w9VerxWVw43"
      }
    },
    {
      "cell_type": "code",
      "source": [
        "all_features = tf.keras.layers.concatenate(all_preprocessors)\n",
        "x = tf.keras.layers.Dense(16, activation=tf.keras.activations.relu, kernel_regularizer=tf.keras.regularizers.L2(0.0001))(all_features)\n",
        "x = tf.keras.layers.Dropout(0.5)(x)\n",
        "x = tf.keras.layers.Dense(16, activation=tf.keras.activations.relu, kernel_regularizer=tf.keras.regularizers.L2(0.0001))(x)\n",
        "x = tf.keras.layers.Dropout(0.5)(x)\n",
        "x = tf.keras.layers.Dense(16, activation=tf.keras.activations.relu, kernel_regularizer=tf.keras.regularizers.L2(0.0001))(x)\n",
        "x = tf.keras.layers.Dropout(0.5)(x)\n",
        "output = tf.keras.layers.Dense(1, activation=tf.keras.activations.sigmoid)(x)\n",
        "\n",
        "model = tf.keras.Model(all_inputs, output)"
      ],
      "metadata": {
        "id": "Kq0jZyrzVwJT"
      },
      "execution_count": null,
      "outputs": []
    },
    {
      "cell_type": "code",
      "source": [
        "tf.keras.utils.plot_model(model, show_shapes=True, rankdir=\"LR\")"
      ],
      "metadata": {
        "colab": {
          "base_uri": "https://localhost:8080/",
          "height": 558
        },
        "id": "yOHa8_s5d49g",
        "outputId": "7a506c85-bb83-46fe-961f-01ff3b314364"
      },
      "execution_count": null,
      "outputs": [
        {
          "output_type": "execute_result",
          "data": {
            "text/plain": [
              "<IPython.core.display.Image object>"
            ],
            "image/png": "[encoded data removed]"
          },
          "metadata": {},
          "execution_count": 128
        }
      ]
    },
    {
      "cell_type": "code",
      "source": [
        "METRICS = [\n",
        "      tf.keras.metrics.TruePositives(name='tp'),\n",
        "      tf.keras.metrics.FalsePositives(name='fp'),\n",
        "      tf.keras.metrics.TrueNegatives(name='tn'),\n",
        "      tf.keras.metrics.FalseNegatives(name='fn'), \n",
        "      tf.keras.metrics.BinaryAccuracy(name='accuracy'),\n",
        "      tf.keras.metrics.Precision(name='precision'),\n",
        "      tf.keras.metrics.Recall(name='recall'),\n",
        "      tf.keras.metrics.AUC(name='auc'),\n",
        "      tf.keras.metrics.AUC(name='prc', curve='PR'), # precision-recall curve\n",
        "]\n",
        "model.compile(optimizer=tf.keras.optimizers.Adam(),\n",
        "              loss=tf.keras.losses.BinaryCrossentropy(),\n",
        "              metrics=METRICS)"
      ],
      "metadata": {
        "id": "8ohLUpvQdMsH"
      },
      "execution_count": null,
      "outputs": []
    },
    {
      "cell_type": "code",
      "source": [
        "es_loss = tf.keras.callbacks.EarlyStopping(monitor='loss', patience=5)\n",
        "es_val_loss = tf.keras.callbacks.EarlyStopping(monitor='val_loss', patience=5)\n",
        "history = model.fit(train_ds, epochs=100, validation_data=val_ds, callbacks=[es_loss, es_val_loss])"
      ],
      "metadata": {
        "colab": {
          "base_uri": "https://localhost:8080/"
        },
        "id": "3XgJ1yhqeOMb",
        "outputId": "87b0c103-acec-4d5d-f96e-412738b6283f"
      },
      "execution_count": null,
      "outputs": [
        {
          "output_type": "stream",
          "name": "stdout",
          "text": [
            "Epoch 1/100\n",
            "2414/2414 [==============================] - 31s 12ms/step - loss: 0.4976 - tp: 120258.0000 - fp: 40833.0000 - tn: 118657.0000 - fn: 29227.0000 - accuracy: 0.7733 - precision: 0.7465 - recall: 0.8045 - auc: 0.8488 - prc: 0.8143 - val_loss: 1.7442 - val_tp: 4560.0000 - val_fp: 330.0000 - val_tn: 47814.0000 - val_fn: 44304.0000 - val_accuracy: 0.5399 - val_precision: 0.9325 - val_recall: 0.0933 - val_auc: 0.8338 - val_prc: 0.8421\n",
            "Epoch 2/100\n",
            "2414/2414 [==============================] - 27s 11ms/step - loss: 0.4539 - tp: 129512.0000 - fp: 39168.0000 - tn: 120322.0000 - fn: 19973.0000 - accuracy: 0.8086 - precision: 0.7678 - recall: 0.8664 - auc: 0.8755 - prc: 0.8386 - val_loss: 1.3669 - val_tp: 11760.0000 - val_fp: 900.0000 - val_tn: 47244.0000 - val_fn: 37104.0000 - val_accuracy: 0.6082 - val_precision: 0.9289 - val_recall: 0.2407 - val_auc: 0.8493 - val_prc: 0.8497\n",
            "Epoch 3/100\n",
            "2414/2414 [==============================] - 28s 11ms/step - loss: 0.4443 - tp: 130637.0000 - fp: 38874.0000 - tn: 120616.0000 - fn: 18848.0000 - accuracy: 0.8132 - precision: 0.7707 - recall: 0.8739 - auc: 0.8798 - prc: 0.8424 - val_loss: 1.2864 - val_tp: 15024.0000 - val_fp: 1302.0000 - val_tn: 46842.0000 - val_fn: 33840.0000 - val_accuracy: 0.6377 - val_precision: 0.9202 - val_recall: 0.3075 - val_auc: 0.8593 - val_prc: 0.8550\n",
            "Epoch 4/100\n",
            "2414/2414 [==============================] - 27s 11ms/step - loss: 0.4431 - tp: 131206.0000 - fp: 39040.0000 - tn: 120450.0000 - fn: 18279.0000 - accuracy: 0.8145 - precision: 0.7707 - recall: 0.8777 - auc: 0.8801 - prc: 0.8425 - val_loss: 1.2371 - val_tp: 14112.0000 - val_fp: 1182.0000 - val_tn: 46962.0000 - val_fn: 34752.0000 - val_accuracy: 0.6296 - val_precision: 0.9227 - val_recall: 0.2888 - val_auc: 0.8605 - val_prc: 0.8561\n",
            "Epoch 5/100\n",
            "2414/2414 [==============================] - 28s 11ms/step - loss: 0.4399 - tp: 131732.0000 - fp: 38869.0000 - tn: 120621.0000 - fn: 17753.0000 - accuracy: 0.8167 - precision: 0.7722 - recall: 0.8812 - auc: 0.8812 - prc: 0.8433 - val_loss: 1.2292 - val_tp: 17088.0000 - val_fp: 1530.0000 - val_tn: 46614.0000 - val_fn: 31776.0000 - val_accuracy: 0.6567 - val_precision: 0.9178 - val_recall: 0.3497 - val_auc: 0.8620 - val_prc: 0.8569\n",
            "Epoch 6/100\n",
            "2414/2414 [==============================] - 28s 12ms/step - loss: 0.4383 - tp: 132119.0000 - fp: 38975.0000 - tn: 120515.0000 - fn: 17366.0000 - accuracy: 0.8177 - precision: 0.7722 - recall: 0.8838 - auc: 0.8823 - prc: 0.8451 - val_loss: 1.2019 - val_tp: 14112.0000 - val_fp: 1224.0000 - val_tn: 46920.0000 - val_fn: 34752.0000 - val_accuracy: 0.6291 - val_precision: 0.9202 - val_recall: 0.2888 - val_auc: 0.8659 - val_prc: 0.8584\n",
            "Epoch 7/100\n",
            "2414/2414 [==============================] - 28s 12ms/step - loss: 0.4369 - tp: 132070.0000 - fp: 38623.0000 - tn: 120867.0000 - fn: 17415.0000 - accuracy: 0.8186 - precision: 0.7737 - recall: 0.8835 - auc: 0.8822 - prc: 0.8436 - val_loss: 1.2228 - val_tp: 16416.0000 - val_fp: 1392.0000 - val_tn: 46752.0000 - val_fn: 32448.0000 - val_accuracy: 0.6512 - val_precision: 0.9218 - val_recall: 0.3360 - val_auc: 0.8627 - val_prc: 0.8565\n",
            "Epoch 8/100\n",
            "2414/2414 [==============================] - 28s 12ms/step - loss: 0.4369 - tp: 132317.0000 - fp: 38992.0000 - tn: 120498.0000 - fn: 17168.0000 - accuracy: 0.8182 - precision: 0.7724 - recall: 0.8852 - auc: 0.8823 - prc: 0.8434 - val_loss: 1.1881 - val_tp: 14208.0000 - val_fp: 1206.0000 - val_tn: 46938.0000 - val_fn: 34656.0000 - val_accuracy: 0.6303 - val_precision: 0.9218 - val_recall: 0.2908 - val_auc: 0.8662 - val_prc: 0.8591\n",
            "Epoch 9/100\n",
            "2414/2414 [==============================] - 28s 12ms/step - loss: 0.4357 - tp: 132210.0000 - fp: 38637.0000 - tn: 120853.0000 - fn: 17275.0000 - accuracy: 0.8190 - precision: 0.7739 - recall: 0.8844 - auc: 0.8825 - prc: 0.8436 - val_loss: 1.2141 - val_tp: 11040.0000 - val_fp: 858.0000 - val_tn: 47286.0000 - val_fn: 37824.0000 - val_accuracy: 0.6012 - val_precision: 0.9279 - val_recall: 0.2259 - val_auc: 0.8658 - val_prc: 0.8596\n",
            "Epoch 10/100\n",
            "2414/2414 [==============================] - 28s 12ms/step - loss: 0.4338 - tp: 132368.0000 - fp: 38504.0000 - tn: 120986.0000 - fn: 17117.0000 - accuracy: 0.8200 - precision: 0.7747 - recall: 0.8855 - auc: 0.8842 - prc: 0.8456 - val_loss: 1.2536 - val_tp: 8160.0000 - val_fp: 588.0000 - val_tn: 47556.0000 - val_fn: 40704.0000 - val_accuracy: 0.5743 - val_precision: 0.9328 - val_recall: 0.1670 - val_auc: 0.8679 - val_prc: 0.8605\n",
            "Epoch 11/100\n",
            "2414/2414 [==============================] - 29s 12ms/step - loss: 0.4355 - tp: 132254.0000 - fp: 38697.0000 - tn: 120793.0000 - fn: 17231.0000 - accuracy: 0.8190 - precision: 0.7736 - recall: 0.8847 - auc: 0.8826 - prc: 0.8438 - val_loss: 1.2662 - val_tp: 12816.0000 - val_fp: 1026.0000 - val_tn: 47118.0000 - val_fn: 36048.0000 - val_accuracy: 0.6178 - val_precision: 0.9259 - val_recall: 0.2623 - val_auc: 0.8625 - val_prc: 0.8578\n",
            "Epoch 12/100\n",
            "2414/2414 [==============================] - 29s 12ms/step - loss: 0.4340 - tp: 132474.0000 - fp: 38720.0000 - tn: 120770.0000 - fn: 17011.0000 - accuracy: 0.8196 - precision: 0.7738 - recall: 0.8862 - auc: 0.8836 - prc: 0.8450 - val_loss: 1.2742 - val_tp: 10800.0000 - val_fp: 834.0000 - val_tn: 47310.0000 - val_fn: 38064.0000 - val_accuracy: 0.5990 - val_precision: 0.9283 - val_recall: 0.2210 - val_auc: 0.8660 - val_prc: 0.8599\n",
            "Epoch 13/100\n",
            "2414/2414 [==============================] - 28s 12ms/step - loss: 0.4338 - tp: 132384.0000 - fp: 38436.0000 - tn: 121054.0000 - fn: 17101.0000 - accuracy: 0.8203 - precision: 0.7750 - recall: 0.8856 - auc: 0.8842 - prc: 0.8465 - val_loss: 1.2215 - val_tp: 11664.0000 - val_fp: 918.0000 - val_tn: 47226.0000 - val_fn: 37200.0000 - val_accuracy: 0.6071 - val_precision: 0.9270 - val_recall: 0.2387 - val_auc: 0.8691 - val_prc: 0.8611\n"
          ]
        }
      ]
    },
    {
      "cell_type": "code",
      "source": [
        "metric = ['loss', 'accuracy', 'prc', 'precision', 'recall']\n",
        "plot_metric(3,2, history, metric)"
      ],
      "metadata": {
        "id": "Gs-9MpCvtnP9",
        "outputId": "5fd5c1ec-b3bf-4ad6-8d7a-2445bc722dbc",
        "colab": {
          "base_uri": "https://localhost:8080/",
          "height": 606
        }
      },
      "execution_count": null,
      "outputs": [
        {
          "output_type": "display_data",
          "data": {
            "text/plain": [
              "<Figure size 1080x720 with 6 Axes>"
            ],
            "image/png": "[encoded data removed]"
          },
          "metadata": {
            "needs_background": "light"
          }
        }
      ]
    },
    {
      "cell_type": "code",
      "source": [
        "predict_test = model.predict(test_ds)\n",
        "test_ds_unbach = test_ds.unbatch()\n",
        "label_test = [i[1] for i in list(test_ds_unbach.as_numpy_iterator())]\n"
      ],
      "metadata": {
        "id": "PvuHBMGFwg6T"
      },
      "execution_count": null,
      "outputs": []
    },
    {
      "cell_type": "code",
      "source": [
        "model_evaluate = model.evaluate(test_ds)\n",
        "for name_metric, value_evaluate in zip(model.metrics_names, model_evaluate):\n",
        "  print(name_metric, ': ', value_evaluate)\n",
        "\n",
        "plot_confution_matrix(label_test, predict_test)"
      ],
      "metadata": {
        "id": "tl8vJBCmpgtJ",
        "colab": {
          "base_uri": "https://localhost:8080/",
          "height": 648
        },
        "outputId": "ae92421b-9e34-46b1-8b2d-fa2cde5d0563"
      },
      "execution_count": null,
      "outputs": [
        {
          "output_type": "stream",
          "name": "stdout",
          "text": [
            "36/36 [==============================] - 0s 3ms/step - loss: 0.3141 - tp: 112.0000 - fp: 79.0000 - tn: 3921.0000 - fn: 409.0000 - accuracy: 0.8921 - precision: 0.5864 - recall: 0.2150 - auc: 0.8716 - prc: 0.4649\n",
            "loss :  0.3141096532344818\n",
            "tp :  112.0\n",
            "fp :  79.0\n",
            "tn :  3921.0\n",
            "fn :  409.0\n",
            "accuracy :  0.8920592665672302\n",
            "precision :  0.5863874554634094\n",
            "recall :  0.21497121453285217\n",
            "auc :  0.8716341257095337\n",
            "prc :  0.4648677706718445\n",
            "Legitimate Transactions Detected (True Negatives):  3921\n",
            "Legitimate Transactions Incorrectly Detected (False Positives):  79\n",
            "Fraudulent Transactions Missed (False Negatives):  409\n",
            "Fraudulent Transactions Detected (True Positives):  112\n",
            "Total Fraudulent Transactions:  521\n"
          ]
        },
        {
          "output_type": "display_data",
          "data": {
            "text/plain": [
              "<Figure size 360x360 with 2 Axes>"
            ],
            "image/png": "[encoded data removed]"
          },
          "metadata": {
            "needs_background": "light"
          }
        }
      ]
    },
    {
      "cell_type": "code",
      "source": [
        "dataset_test.sort_values(by=[\"target\"], ascending=True).head()"
      ],
      "metadata": {
        "id": "QImhllBHu2zd",
        "colab": {
          "base_uri": "https://localhost:8080/",
          "height": 206
        },
        "outputId": "bb3a76ca-9785-4c1f-8feb-cd41d0fac9e5"
      },
      "execution_count": null,
      "outputs": [
        {
          "output_type": "execute_result",
          "data": {
            "text/plain": [
              "      age         job  marital  education  balance housing loan month  \\\n",
              "0      30  unemployed  married    primary     1787      no   no   oct   \n",
              "2906   34  management   single   tertiary        0      no   no   aug   \n",
              "2907   44  technician  married   tertiary     1707      no   no   aug   \n",
              "2908   35  technician  married  secondary    13658     yes   no   dec   \n",
              "2909   39      admin.  married  secondary      406      no   no   jul   \n",
              "\n",
              "      duration  target  \n",
              "0           79       0  \n",
              "2906       191       0  \n",
              "2907       406       0  \n",
              "2908       220       0  \n",
              "2909       253       0  "
            ],
            "text/html": [
              "\n",
              "  <div id=\"df-3206690d-adf0-42d3-8a48-efaa93e73c30\">\n",
              "    <div class=\"colab-df-container\">\n",
              "      <div>\n",
              "<style scoped>\n",
              "    .dataframe tbody tr th:only-of-type {\n",
              "        vertical-align: middle;\n",
              "    }\n",
              "\n",
              "    .dataframe tbody tr th {\n",
              "        vertical-align: top;\n",
              "    }\n",
              "\n",
              "    .dataframe thead th {\n",
              "        text-align: right;\n",
              "    }\n",
              "</style>\n",
              "<table border=\"1\" class=\"dataframe\">\n",
              "  <thead>\n",
              "    <tr style=\"text-align: right;\">\n",
              "      <th></th>\n",
              "      <th>age</th>\n",
              "      <th>job</th>\n",
              "      <th>marital</th>\n",
              "      <th>education</th>\n",
              "      <th>balance</th>\n",
              "      <th>housing</th>\n",
              "      <th>loan</th>\n",
              "      <th>month</th>\n",
              "      <th>duration</th>\n",
              "      <th>target</th>\n",
              "    </tr>\n",
              "  </thead>\n",
              "  <tbody>\n",
              "    <tr>\n",
              "      <th>0</th>\n",
              "      <td>30</td>\n",
              "      <td>unemployed</td>\n",
              "      <td>married</td>\n",
              "      <td>primary</td>\n",
              "      <td>1787</td>\n",
              "      <td>no</td>\n",
              "      <td>no</td>\n",
              "      <td>oct</td>\n",
              "      <td>79</td>\n",
              "      <td>0</td>\n",
              "    </tr>\n",
              "    <tr>\n",
              "      <th>2906</th>\n",
              "      <td>34</td>\n",
              "      <td>management</td>\n",
              "      <td>single</td>\n",
              "      <td>tertiary</td>\n",
              "      <td>0</td>\n",
              "      <td>no</td>\n",
              "      <td>no</td>\n",
              "      <td>aug</td>\n",
              "      <td>191</td>\n",
              "      <td>0</td>\n",
              "    </tr>\n",
              "    <tr>\n",
              "      <th>2907</th>\n",
              "      <td>44</td>\n",
              "      <td>technician</td>\n",
              "      <td>married</td>\n",
              "      <td>tertiary</td>\n",
              "      <td>1707</td>\n",
              "      <td>no</td>\n",
              "      <td>no</td>\n",
              "      <td>aug</td>\n",
              "      <td>406</td>\n",
              "      <td>0</td>\n",
              "    </tr>\n",
              "    <tr>\n",
              "      <th>2908</th>\n",
              "      <td>35</td>\n",
              "      <td>technician</td>\n",
              "      <td>married</td>\n",
              "      <td>secondary</td>\n",
              "      <td>13658</td>\n",
              "      <td>yes</td>\n",
              "      <td>no</td>\n",
              "      <td>dec</td>\n",
              "      <td>220</td>\n",
              "      <td>0</td>\n",
              "    </tr>\n",
              "    <tr>\n",
              "      <th>2909</th>\n",
              "      <td>39</td>\n",
              "      <td>admin.</td>\n",
              "      <td>married</td>\n",
              "      <td>secondary</td>\n",
              "      <td>406</td>\n",
              "      <td>no</td>\n",
              "      <td>no</td>\n",
              "      <td>jul</td>\n",
              "      <td>253</td>\n",
              "      <td>0</td>\n",
              "    </tr>\n",
              "  </tbody>\n",
              "</table>\n",
              "</div>\n",
              "      <button class=\"colab-df-convert\" onclick=\"convertToInteractive('df-3206690d-adf0-42d3-8a48-efaa93e73c30')\"\n",
              "              title=\"Convert this dataframe to an interactive table.\"\n",
              "              style=\"display:none;\">\n",
              "        \n",
              "  <svg xmlns=\"http://www.w3.org/2000/svg\" height=\"24px\"viewBox=\"0 0 24 24\"\n",
              "       width=\"24px\">\n",
              "    <path d=\"M0 0h24v24H0V0z\" fill=\"none\"/>\n",
              "    <path d=\"M18.56 5.44l.94 2.06.94-2.06 2.06-.94-2.06-.94-.94-2.06-.94 2.06-2.06.94zm-11 1L8.5 8.5l.94-2.06 2.06-.94-2.06-.94L8.5 2.5l-.94 2.06-2.06.94zm10 10l.94 2.06.94-2.06 2.06-.94-2.06-.94-.94-2.06-.94 2.06-2.06.94z\"/><path d=\"M17.41 7.96l-1.37-1.37c-.4-.4-.92-.59-1.43-.59-.52 0-1.04.2-1.43.59L10.3 9.45l-7.72 7.72c-.78.78-.78 2.05 0 2.83L4 21.41c.39.39.9.59 1.41.59.51 0 1.02-.2 1.41-.59l7.78-7.78 2.81-2.81c.8-.78.8-2.07 0-2.86zM5.41 20L4 18.59l7.72-7.72 1.47 1.35L5.41 20z\"/>\n",
              "  </svg>\n",
              "      </button>\n",
              "      \n",
              "  <style>\n",
              "    .colab-df-container {\n",
              "      display:flex;\n",
              "      flex-wrap:wrap;\n",
              "      gap: 12px;\n",
              "    }\n",
              "\n",
              "    .colab-df-convert {\n",
              "      background-color: #E8F0FE;\n",
              "      border: none;\n",
              "      border-radius: 50%;\n",
              "      cursor: pointer;\n",
              "      display: none;\n",
              "      fill: #1967D2;\n",
              "      height: 32px;\n",
              "      padding: 0 0 0 0;\n",
              "      width: 32px;\n",
              "    }\n",
              "\n",
              "    .colab-df-convert:hover {\n",
              "      background-color: #E2EBFA;\n",
              "      box-shadow: 0px 1px 2px rgba(60, 64, 67, 0.3), 0px 1px 3px 1px rgba(60, 64, 67, 0.15);\n",
              "      fill: #174EA6;\n",
              "    }\n",
              "\n",
              "    [theme=dark] .colab-df-convert {\n",
              "      background-color: #3B4455;\n",
              "      fill: #D2E3FC;\n",
              "    }\n",
              "\n",
              "    [theme=dark] .colab-df-convert:hover {\n",
              "      background-color: #434B5C;\n",
              "      box-shadow: 0px 1px 3px 1px rgba(0, 0, 0, 0.15);\n",
              "      filter: drop-shadow(0px 1px 2px rgba(0, 0, 0, 0.3));\n",
              "      fill: #FFFFFF;\n",
              "    }\n",
              "  </style>\n",
              "\n",
              "      <script>\n",
              "        const buttonEl =\n",
              "          document.querySelector('#df-3206690d-adf0-42d3-8a48-efaa93e73c30 button.colab-df-convert');\n",
              "        buttonEl.style.display =\n",
              "          google.colab.kernel.accessAllowed ? 'block' : 'none';\n",
              "\n",
              "        async function convertToInteractive(key) {\n",
              "          const element = document.querySelector('#df-3206690d-adf0-42d3-8a48-efaa93e73c30');\n",
              "          const dataTable =\n",
              "            await google.colab.kernel.invokeFunction('convertToInteractive',\n",
              "                                                     [key], {});\n",
              "          if (!dataTable) return;\n",
              "\n",
              "          const docLinkHtml = 'Like what you see? Visit the ' +\n",
              "            '<a target=\"_blank\" href=https://colab.research.google.com/notebooks/data_table.ipynb>data table notebook</a>'\n",
              "            + ' to learn more about interactive tables.';\n",
              "          element.innerHTML = '';\n",
              "          dataTable['output_type'] = 'display_data';\n",
              "          await google.colab.output.renderOutput(dataTable, element);\n",
              "          const docLink = document.createElement('div');\n",
              "          docLink.innerHTML = docLinkHtml;\n",
              "          element.appendChild(docLink);\n",
              "        }\n",
              "      </script>\n",
              "    </div>\n",
              "  </div>\n",
              "  "
            ]
          },
          "metadata": {},
          "execution_count": 134
        }
      ]
    },
    {
      "cell_type": "code",
      "source": [
        "sample = {\n",
        "    'age': 35,\n",
        "    'job': 'technician',\n",
        "    'marital': 'married',\n",
        "    'education': 'tertiary',\n",
        "    'balance': 1707,\n",
        "    'housing': 'no',\n",
        "    'loan': 'no',\n",
        "    'month': 'aug',\n",
        "    'duration': 406\n",
        "}\n",
        "\n",
        "input_dict = {name: tf.convert_to_tensor([value]) for name, value in sample.items()}\n",
        "predictions = model.predict(input_dict)\n",
        "\n",
        "print(\n",
        "    f\"Probabilitas untuk berlangganan deposito berjangka adalah {round(100 * predictions[0][0], 2)} % \"\n",
        "    f\"untuk setuju\"\n",
        ")"
      ],
      "metadata": {
        "id": "EZ8ZzX-X3PgX",
        "colab": {
          "base_uri": "https://localhost:8080/"
        },
        "outputId": "8edb6952-2568-4129-e54f-00bf74531aba"
      },
      "execution_count": null,
      "outputs": [
        {
          "output_type": "stream",
          "name": "stdout",
          "text": [
            "Probabilitas untuk berlangganan deposito berjangka adalah 9.57 % untuk setuju\n"
          ]
        }
      ]
    },
    {
      "cell_type": "markdown",
      "source": [
        "##Data Explorer"
      ],
      "metadata": {
        "id": "8nLDorXUiwIG"
      }
    }
  ]
}