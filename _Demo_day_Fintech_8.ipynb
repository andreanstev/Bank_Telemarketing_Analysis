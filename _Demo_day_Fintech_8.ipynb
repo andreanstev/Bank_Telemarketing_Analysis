{
  "nbformat": 4,
  "nbformat_minor": 0,
  "metadata": {
    "colab": {
      "name": "#Demo day Fintech 8.ipynb",
      "provenance": [],
      "collapsed_sections": [
        "I8sLXLmJ0YHl",
        "xNDd-nsn0bqh",
        "8nLDorXUiwIG"
      ]
    },
    "kernelspec": {
      "name": "python3",
      "display_name": "Python 3"
    },
    "language_info": {
      "name": "python"
    },
    "gpuClass": "standard",
    "accelerator": "GPU"
  },
  "cells": [
    {
      "cell_type": "markdown",
      "source": [
        "#Demo day Fintech 8\n",
        "\n",
        "\"Data tersebut terkait dengan kampanye pemasaran langsung dari lembaga perbankan Portugis. Kampanye pemasaran didasarkan pada panggilan telepon. Seringkali, lebih dari satu kontak ke klien yang sama diperlukan, untuk mengakses apakah produk (deposito berjangka bank) akan ('ya') atau tidak ('tidak') dilanggan oleh pelanggan atau tidak. Folder data berisi dua kumpulan data: -\n",
        "\n",
        "     train.csv: 45.211 baris dan 18 kolom diurutkan berdasarkan tanggal (dari Mei 2008 hingga November 2010)\n",
        "     test.csv: 4521 baris dan 18 kolom dengan 10% contoh (4521), dipilih secara acak dari train.csv\""
      ],
      "metadata": {
        "id": "hDbYMQhe0P1A"
      }
    },
    {
      "cell_type": "markdown",
      "source": [
        "test pull and push"
      ],
      "metadata": {
        "id": "8Hg4ZuZM0DQa"
      }
    },
    {
      "cell_type": "markdown",
      "source": [
        "##Setup"
      ],
      "metadata": {
        "id": "FVjSsPfn0VTS"
      }
    },
    {
      "cell_type": "code",
      "source": [
        "import pathlib\n",
        "import tensorflow as tf\n",
        "import zipfile\n",
        "import os\n",
        "import matplotlib.pyplot as plt\n",
        "import pandas as pd\n",
        "import numpy as np\n",
        "import seaborn as sns\n",
        "from google.colab import drive\n",
        "from google.colab import data_table\n",
        "import tensorflow as tf\n",
        "from sklearn.metrics import confusion_matrix"
      ],
      "metadata": {
        "id": "XNyPcjlfy4QW"
      },
      "execution_count": 1,
      "outputs": []
    },
    {
      "cell_type": "markdown",
      "source": [
        "##Function"
      ],
      "metadata": {
        "id": "ppsowJyTjXhT"
      }
    },
    {
      "cell_type": "markdown",
      "source": [
        "function split data"
      ],
      "metadata": {
        "id": "RGZYYbArmE3y"
      }
    },
    {
      "cell_type": "code",
      "source": [
        "def dataframe_split(data, ratio= 0.2, shuffle= 0):\n",
        "  len_ = int(len(data) - (ratio*len(data)))\n",
        "  if shuffle == 0 :\n",
        "    part_  = data.iloc[:int(1 + len_)]\n",
        "    rest_part_ = data.drop(part_.index)\n",
        "  elif shuffle == 1:\n",
        "    part_ = data.sample(frac = 1.0 - ratio)\n",
        "    rest_part_ = data.drop(part_.index)\n",
        "  return (part_, rest_part_)"
      ],
      "metadata": {
        "id": "-yhTOXNX9zG_"
      },
      "execution_count": 2,
      "outputs": []
    },
    {
      "cell_type": "markdown",
      "source": [
        "fucntion membuat dataset"
      ],
      "metadata": {
        "id": "aES7xQuXmG_-"
      }
    },
    {
      "cell_type": "code",
      "source": [
        "def dataframe_to_dataset(data, batch_size=32):\n",
        "  df = data.copy()\n",
        "  labels = df.pop('target')\n",
        "  df = {key:  tf.expand_dims(value,axis=1) for key, value in df.items()}\n",
        "  ds = tf.data.Dataset.from_tensor_slices((dict(df), labels))\n",
        "  ds = ds.batch(batch_size)\n",
        "  ds = ds.prefetch(tf.data.AUTOTUNE)\n",
        "  return ds"
      ],
      "metadata": {
        "id": "yUeMchRXKhcS"
      },
      "execution_count": 3,
      "outputs": []
    },
    {
      "cell_type": "code",
      "source": [
        "def dataframe_imbalanced_to_dataset(data, batch_size=32, repeat=1):\n",
        "  no_df = data.loc[data['target'].eq(0)].copy()\n",
        "  yes_df = data.loc[data['target'].eq(1)].copy()\n",
        "  no_labels = no_df.pop('target')\n",
        "  yes_labels = yes_df.pop('target')\n",
        "  len_no_labels = len(no_labels)\n",
        "  len_yes_labels = len(yes_labels)\n",
        "  if len_no_labels > len_yes_labels:\n",
        "    oversampling = int(round(len_no_labels/len_yes_labels, 0))\n",
        "  else:\n",
        "    oversampling = int(round(len_yes_labels/len_no_labels, 0))\n",
        "\n",
        "  no_df = {key:  tf.expand_dims(value,axis=1) for key, value in no_df.items()}\n",
        "  no_ds = tf.data.Dataset.from_tensor_slices((dict(no_df), no_labels))\n",
        "  no_ds = no_ds.shuffle(batch_size).repeat(repeat)\n",
        "\n",
        "  yes_df = {key:  tf.expand_dims(value,axis=1) for key, value in yes_df.items()}\n",
        "  yes_ds = tf.data.Dataset.from_tensor_slices((dict(yes_df), yes_labels))\n",
        "  yes_ds = yes_ds.shuffle(batch_size).repeat(int(oversampling*repeat))\n",
        "\n",
        "  ds = tf.data.Dataset.sample_from_datasets([no_ds, yes_ds])\n",
        "  ds = ds.batch(batch_size)\n",
        "  ds = ds.prefetch(tf.data.AUTOTUNE)\n",
        "  return ds"
      ],
      "metadata": {
        "id": "EcEnw-62cpnK"
      },
      "execution_count": 4,
      "outputs": []
    },
    {
      "cell_type": "markdown",
      "source": [
        "function preprocessing numeric"
      ],
      "metadata": {
        "id": "x3qXY5rvmJFq"
      }
    },
    {
      "cell_type": "code",
      "source": [
        "def numeric_preprocessing(name, dataset, num_bins):\n",
        "  feature_dataset = dataset.map(lambda x,y: x[name])\n",
        "  # layer = tf.keras.layers.Discretization(num_bins=num_bins, epsilon=0.01)\n",
        "  layer = tf.keras.layers.Normalization()\n",
        "  layer.adapt(feature_dataset)\n",
        "\n",
        "  return layer"
      ],
      "metadata": {
        "id": "jEXvg9csPJyb"
      },
      "execution_count": 5,
      "outputs": []
    },
    {
      "cell_type": "markdown",
      "source": [
        "fucntion preprocessing categories"
      ],
      "metadata": {
        "id": "LeSvhuKSmNTX"
      }
    },
    {
      "cell_type": "code",
      "source": [
        "def categories_preprocessing(name, dataset, dtype):\n",
        "  if(dtype == \"int64\"):\n",
        "    lookup = tf.keras.layers.IntegerLookup()\n",
        "  else:\n",
        "    lookup = tf.keras.layers.StringLookup()\n",
        "  feature_dataset = dataset.map(lambda x,y: x[name])\n",
        "  lookup.adapt(feature_dataset)\n",
        "\n",
        "  # return lookup\n",
        "  category_encoding = tf.keras.layers.CategoryEncoding(num_tokens=lookup.vocabulary_size())\n",
        "  return lambda feature:  category_encoding(lookup(feature))"
      ],
      "metadata": {
        "id": "4Z9l9kcjV4Fy"
      },
      "execution_count": 6,
      "outputs": []
    },
    {
      "cell_type": "markdown",
      "source": [
        "plot metric"
      ],
      "metadata": {
        "id": "r7-sO-o2kxN2"
      }
    },
    {
      "cell_type": "code",
      "source": [
        "def plot_metric(x, y, history, metric):\n",
        "  fig, ax = plt.subplots(x, y, figsize=(15,10))\n",
        "  epochs = range(len(history.history[metric[0]]))\n",
        "  for metric, ax in zip(metric, ax.flatten()):\n",
        "    ax.plot(epochs, history.history[metric], 'r', label='train')\n",
        "    ax.plot(epochs, history.history['val_'+metric], 'b', ls=\"--\", label='val')\n",
        "    ax.set_ylabel(metric)\n",
        "    ax.set_xlabel('epoch')\n",
        "    ax.legend()  \n",
        "  plt.show()"
      ],
      "metadata": {
        "id": "hXtZMSKVkyav"
      },
      "execution_count": 7,
      "outputs": []
    },
    {
      "cell_type": "markdown",
      "source": [
        "plot confution matrix"
      ],
      "metadata": {
        "id": "WNz4kMtlJxPo"
      }
    },
    {
      "cell_type": "code",
      "source": [
        "def plot_confution_matrix(labels, predictions, p=0.5):\n",
        "  cm = confusion_matrix(labels, predictions > p)\n",
        "  plt.figure(figsize=(5,5))\n",
        "  sns.heatmap(cm, annot=True, fmt=\"d\")\n",
        "  plt.title('Confusion matrix @{:.2f}'.format(p))\n",
        "  plt.ylabel('Actual label')\n",
        "  plt.xlabel('Predicted label')\n",
        "\n",
        "  print('Legitimate Transactions Detected (True Negatives): ', cm[0][0])\n",
        "  print('Legitimate Transactions Incorrectly Detected (False Positives): ', cm[0][1])\n",
        "  print('Fraudulent Transactions Missed (False Negatives): ', cm[1][0])\n",
        "  print('Fraudulent Transactions Detected (True Positives): ', cm[1][1])\n",
        "  print('Total Fraudulent Transactions: ', np.sum(cm[1]))"
      ],
      "metadata": {
        "id": "q5w2FAIiJz--"
      },
      "execution_count": 8,
      "outputs": []
    },
    {
      "cell_type": "markdown",
      "source": [
        "## Mount Google Drive"
      ],
      "metadata": {
        "id": "I8sLXLmJ0YHl"
      }
    },
    {
      "cell_type": "code",
      "source": [
        "drive.mount('/content/drive')"
      ],
      "metadata": {
        "id": "CKxJs9K80a5q"
      },
      "execution_count": null,
      "outputs": []
    },
    {
      "cell_type": "markdown",
      "source": [
        "## Load Data"
      ],
      "metadata": {
        "id": "xNDd-nsn0bqh"
      }
    },
    {
      "cell_type": "code",
      "execution_count": null,
      "metadata": {
        "id": "n12Gn5YyxmSE"
      },
      "outputs": [],
      "source": [
        "data_url = \"/content/drive/MyDrive/Kumpulan_dataset/fintech_banking_dataset.zip\"\n",
        "data_dir = zipfile.ZipFile(data_url, 'r')\n",
        "data_dir.extractall(\"demoday\")\n",
        "data_dir.close()"
      ]
    },
    {
      "cell_type": "code",
      "source": [
        "dataset_train=pd.read_csv('demoday/train.csv', delimiter=\";\")\n",
        "dataset_test=pd.read_csv('demoday/test.csv', delimiter=\";\")"
      ],
      "metadata": {
        "id": "bOWBr6d9Zwtn"
      },
      "execution_count": 10,
      "outputs": []
    },
    {
      "cell_type": "markdown",
      "source": [
        "##Deskripsi dataset\n",
        "###Input variables:\n",
        "bank client data:  \n",
        "1 - age : umur pelanggan (numeric)  \n",
        "2 - job : jenis pekerjaan (categorical: 'admin.','blue-collar','entrepreneur','housemaid','management','retired','self-employed','services','student','technician','unemployed','unknown')  \n",
        "3 - marital : status pernikahan (categorical: 'divorced','married','single','unknown'; note: 'divorced' berarti cerai atau janda)  \n",
        "4 - education : tingkat pendidikan(categorical: 'basic.4y','basic.6y','basic.9y','high.school','illiterate','professional.course','university.degree','unknown')  \n",
        "5 - default: apakah memiliki kredit yang gagal bayar? (categorical: 'no','yes','unknown')  \n",
        "6 - housing: apakah memiliki pinjaman untuk rumah? (categorical: 'no','yes','unknown')  \n",
        "7 - loan: apakah memiliki pinjaman untuk pribadi? (categorical: 'no','yes','unknown')  \n",
        "related with the last contact of the current campaign:  \n",
        "8 - contact: jenis komunikasi kontak (categorical: 'cellular','telephone')  \n",
        "9 - month: kontak terakhir bulan tahun (categorical: 'jan', 'feb', 'mar', ..., 'nov', 'dec')  \n",
        "10 - day_of_week: hari kontak terakhir dalam seminggu (categorical: 'mon','tue','wed','thu','fri')  \n",
        "11 - duration: durasi kontak terakhir, dalam detik (numeric)  \n",
        "other attributes:  \n",
        "12 - campaign: jumlah kontak yang dilakukan selama kampanye ini dan untuk klien ini (numeric, includes last contact)  \n",
        "13 - pdays: jumlah hari yang berlalu setelah klien terakhir dihubungi dari kampanye sebelumnya (numeric; 999 artinya klien sebelumnya tidak dihubungi)  \n",
        "14 - previous: jumlah kontak yang dilakukan sebelum kampanye ini dan untuk klien ini (numeric)  \n",
        "15 - poutcome: hasil dari kampanye pemasaran sebelumnya (categorical: 'failure','nonexistent','success')  \n",
        "\n",
        "###Output variable (desired target):\n",
        "21 - y - apakah klien telah berlangganan deposito berjangka?? (binary: 'yes','no')  \n",
        "Source: https://archive.ics.uci.edu/ml/datasets/Bank+Marketing  "
      ],
      "metadata": {
        "id": "hUfyeQyAGKLh"
      }
    },
    {
      "cell_type": "markdown",
      "source": [
        "##Data Explorer"
      ],
      "metadata": {
        "id": "ltfZLjmWJ4eY"
      }
    },
    {
      "cell_type": "code",
      "source": [
        "print(f\"jumlah data untuk train adalah {len(dataset_train)}\")\n",
        "print(f\"jumlah data untuk test adalah {len(dataset_test)}\")"
      ],
      "metadata": {
        "colab": {
          "base_uri": "https://localhost:8080/"
        },
        "id": "nh0ZVGm_FxZj",
        "outputId": "6dd31ffa-11aa-472f-c61b-8ed4871cf136"
      },
      "execution_count": 11,
      "outputs": [
        {
          "output_type": "stream",
          "name": "stdout",
          "text": [
            "jumlah data untuk train adalah 45211\n",
            "jumlah data untuk test adalah 4521\n"
          ]
        }
      ]
    },
    {
      "cell_type": "code",
      "source": [
        "dataset_test.head()"
      ],
      "metadata": {
        "colab": {
          "base_uri": "https://localhost:8080/",
          "height": 270
        },
        "id": "o3331SCAmVGt",
        "outputId": "21c5038e-a4f3-4a4f-8cad-8a20818e0a10"
      },
      "execution_count": 12,
      "outputs": [
        {
          "output_type": "execute_result",
          "data": {
            "text/plain": [
              "   age          job  marital  education default  balance housing loan  \\\n",
              "0   30   unemployed  married    primary      no     1787      no   no   \n",
              "1   33     services  married  secondary      no     4789     yes  yes   \n",
              "2   35   management   single   tertiary      no     1350     yes   no   \n",
              "3   30   management  married   tertiary      no     1476     yes  yes   \n",
              "4   59  blue-collar  married  secondary      no        0     yes   no   \n",
              "\n",
              "    contact  day month  duration  campaign  pdays  previous poutcome   y  \n",
              "0  cellular   19   oct        79         1     -1         0  unknown  no  \n",
              "1  cellular   11   may       220         1    339         4  failure  no  \n",
              "2  cellular   16   apr       185         1    330         1  failure  no  \n",
              "3   unknown    3   jun       199         4     -1         0  unknown  no  \n",
              "4   unknown    5   may       226         1     -1         0  unknown  no  "
            ],
            "text/html": [
              "\n",
              "  <div id=\"df-fca4c3d2-6245-4b3d-a59a-1ddaab1e48fb\">\n",
              "    <div class=\"colab-df-container\">\n",
              "      <div>\n",
              "<style scoped>\n",
              "    .dataframe tbody tr th:only-of-type {\n",
              "        vertical-align: middle;\n",
              "    }\n",
              "\n",
              "    .dataframe tbody tr th {\n",
              "        vertical-align: top;\n",
              "    }\n",
              "\n",
              "    .dataframe thead th {\n",
              "        text-align: right;\n",
              "    }\n",
              "</style>\n",
              "<table border=\"1\" class=\"dataframe\">\n",
              "  <thead>\n",
              "    <tr style=\"text-align: right;\">\n",
              "      <th></th>\n",
              "      <th>age</th>\n",
              "      <th>job</th>\n",
              "      <th>marital</th>\n",
              "      <th>education</th>\n",
              "      <th>default</th>\n",
              "      <th>balance</th>\n",
              "      <th>housing</th>\n",
              "      <th>loan</th>\n",
              "      <th>contact</th>\n",
              "      <th>day</th>\n",
              "      <th>month</th>\n",
              "      <th>duration</th>\n",
              "      <th>campaign</th>\n",
              "      <th>pdays</th>\n",
              "      <th>previous</th>\n",
              "      <th>poutcome</th>\n",
              "      <th>y</th>\n",
              "    </tr>\n",
              "  </thead>\n",
              "  <tbody>\n",
              "    <tr>\n",
              "      <th>0</th>\n",
              "      <td>30</td>\n",
              "      <td>unemployed</td>\n",
              "      <td>married</td>\n",
              "      <td>primary</td>\n",
              "      <td>no</td>\n",
              "      <td>1787</td>\n",
              "      <td>no</td>\n",
              "      <td>no</td>\n",
              "      <td>cellular</td>\n",
              "      <td>19</td>\n",
              "      <td>oct</td>\n",
              "      <td>79</td>\n",
              "      <td>1</td>\n",
              "      <td>-1</td>\n",
              "      <td>0</td>\n",
              "      <td>unknown</td>\n",
              "      <td>no</td>\n",
              "    </tr>\n",
              "    <tr>\n",
              "      <th>1</th>\n",
              "      <td>33</td>\n",
              "      <td>services</td>\n",
              "      <td>married</td>\n",
              "      <td>secondary</td>\n",
              "      <td>no</td>\n",
              "      <td>4789</td>\n",
              "      <td>yes</td>\n",
              "      <td>yes</td>\n",
              "      <td>cellular</td>\n",
              "      <td>11</td>\n",
              "      <td>may</td>\n",
              "      <td>220</td>\n",
              "      <td>1</td>\n",
              "      <td>339</td>\n",
              "      <td>4</td>\n",
              "      <td>failure</td>\n",
              "      <td>no</td>\n",
              "    </tr>\n",
              "    <tr>\n",
              "      <th>2</th>\n",
              "      <td>35</td>\n",
              "      <td>management</td>\n",
              "      <td>single</td>\n",
              "      <td>tertiary</td>\n",
              "      <td>no</td>\n",
              "      <td>1350</td>\n",
              "      <td>yes</td>\n",
              "      <td>no</td>\n",
              "      <td>cellular</td>\n",
              "      <td>16</td>\n",
              "      <td>apr</td>\n",
              "      <td>185</td>\n",
              "      <td>1</td>\n",
              "      <td>330</td>\n",
              "      <td>1</td>\n",
              "      <td>failure</td>\n",
              "      <td>no</td>\n",
              "    </tr>\n",
              "    <tr>\n",
              "      <th>3</th>\n",
              "      <td>30</td>\n",
              "      <td>management</td>\n",
              "      <td>married</td>\n",
              "      <td>tertiary</td>\n",
              "      <td>no</td>\n",
              "      <td>1476</td>\n",
              "      <td>yes</td>\n",
              "      <td>yes</td>\n",
              "      <td>unknown</td>\n",
              "      <td>3</td>\n",
              "      <td>jun</td>\n",
              "      <td>199</td>\n",
              "      <td>4</td>\n",
              "      <td>-1</td>\n",
              "      <td>0</td>\n",
              "      <td>unknown</td>\n",
              "      <td>no</td>\n",
              "    </tr>\n",
              "    <tr>\n",
              "      <th>4</th>\n",
              "      <td>59</td>\n",
              "      <td>blue-collar</td>\n",
              "      <td>married</td>\n",
              "      <td>secondary</td>\n",
              "      <td>no</td>\n",
              "      <td>0</td>\n",
              "      <td>yes</td>\n",
              "      <td>no</td>\n",
              "      <td>unknown</td>\n",
              "      <td>5</td>\n",
              "      <td>may</td>\n",
              "      <td>226</td>\n",
              "      <td>1</td>\n",
              "      <td>-1</td>\n",
              "      <td>0</td>\n",
              "      <td>unknown</td>\n",
              "      <td>no</td>\n",
              "    </tr>\n",
              "  </tbody>\n",
              "</table>\n",
              "</div>\n",
              "      <button class=\"colab-df-convert\" onclick=\"convertToInteractive('df-fca4c3d2-6245-4b3d-a59a-1ddaab1e48fb')\"\n",
              "              title=\"Convert this dataframe to an interactive table.\"\n",
              "              style=\"display:none;\">\n",
              "        \n",
              "  <svg xmlns=\"http://www.w3.org/2000/svg\" height=\"24px\"viewBox=\"0 0 24 24\"\n",
              "       width=\"24px\">\n",
              "    <path d=\"M0 0h24v24H0V0z\" fill=\"none\"/>\n",
              "    <path d=\"M18.56 5.44l.94 2.06.94-2.06 2.06-.94-2.06-.94-.94-2.06-.94 2.06-2.06.94zm-11 1L8.5 8.5l.94-2.06 2.06-.94-2.06-.94L8.5 2.5l-.94 2.06-2.06.94zm10 10l.94 2.06.94-2.06 2.06-.94-2.06-.94-.94-2.06-.94 2.06-2.06.94z\"/><path d=\"M17.41 7.96l-1.37-1.37c-.4-.4-.92-.59-1.43-.59-.52 0-1.04.2-1.43.59L10.3 9.45l-7.72 7.72c-.78.78-.78 2.05 0 2.83L4 21.41c.39.39.9.59 1.41.59.51 0 1.02-.2 1.41-.59l7.78-7.78 2.81-2.81c.8-.78.8-2.07 0-2.86zM5.41 20L4 18.59l7.72-7.72 1.47 1.35L5.41 20z\"/>\n",
              "  </svg>\n",
              "      </button>\n",
              "      \n",
              "  <style>\n",
              "    .colab-df-container {\n",
              "      display:flex;\n",
              "      flex-wrap:wrap;\n",
              "      gap: 12px;\n",
              "    }\n",
              "\n",
              "    .colab-df-convert {\n",
              "      background-color: #E8F0FE;\n",
              "      border: none;\n",
              "      border-radius: 50%;\n",
              "      cursor: pointer;\n",
              "      display: none;\n",
              "      fill: #1967D2;\n",
              "      height: 32px;\n",
              "      padding: 0 0 0 0;\n",
              "      width: 32px;\n",
              "    }\n",
              "\n",
              "    .colab-df-convert:hover {\n",
              "      background-color: #E2EBFA;\n",
              "      box-shadow: 0px 1px 2px rgba(60, 64, 67, 0.3), 0px 1px 3px 1px rgba(60, 64, 67, 0.15);\n",
              "      fill: #174EA6;\n",
              "    }\n",
              "\n",
              "    [theme=dark] .colab-df-convert {\n",
              "      background-color: #3B4455;\n",
              "      fill: #D2E3FC;\n",
              "    }\n",
              "\n",
              "    [theme=dark] .colab-df-convert:hover {\n",
              "      background-color: #434B5C;\n",
              "      box-shadow: 0px 1px 3px 1px rgba(0, 0, 0, 0.15);\n",
              "      filter: drop-shadow(0px 1px 2px rgba(0, 0, 0, 0.3));\n",
              "      fill: #FFFFFF;\n",
              "    }\n",
              "  </style>\n",
              "\n",
              "      <script>\n",
              "        const buttonEl =\n",
              "          document.querySelector('#df-fca4c3d2-6245-4b3d-a59a-1ddaab1e48fb button.colab-df-convert');\n",
              "        buttonEl.style.display =\n",
              "          google.colab.kernel.accessAllowed ? 'block' : 'none';\n",
              "\n",
              "        async function convertToInteractive(key) {\n",
              "          const element = document.querySelector('#df-fca4c3d2-6245-4b3d-a59a-1ddaab1e48fb');\n",
              "          const dataTable =\n",
              "            await google.colab.kernel.invokeFunction('convertToInteractive',\n",
              "                                                     [key], {});\n",
              "          if (!dataTable) return;\n",
              "\n",
              "          const docLinkHtml = 'Like what you see? Visit the ' +\n",
              "            '<a target=\"_blank\" href=https://colab.research.google.com/notebooks/data_table.ipynb>data table notebook</a>'\n",
              "            + ' to learn more about interactive tables.';\n",
              "          element.innerHTML = '';\n",
              "          dataTable['output_type'] = 'display_data';\n",
              "          await google.colab.output.renderOutput(dataTable, element);\n",
              "          const docLink = document.createElement('div');\n",
              "          docLink.innerHTML = docLinkHtml;\n",
              "          element.appendChild(docLink);\n",
              "        }\n",
              "      </script>\n",
              "    </div>\n",
              "  </div>\n",
              "  "
            ]
          },
          "metadata": {},
          "execution_count": 12
        }
      ]
    },
    {
      "cell_type": "code",
      "source": [
        "dataset_train.head()"
      ],
      "metadata": {
        "colab": {
          "base_uri": "https://localhost:8080/",
          "height": 270
        },
        "id": "Fkiy4n1UZ3hq",
        "outputId": "f8fb3ba6-37d5-4c0a-de76-7a74656e4344"
      },
      "execution_count": 13,
      "outputs": [
        {
          "output_type": "execute_result",
          "data": {
            "text/plain": [
              "   age           job  marital  education default  balance housing loan  \\\n",
              "0   58    management  married   tertiary      no     2143     yes   no   \n",
              "1   44    technician   single  secondary      no       29     yes   no   \n",
              "2   33  entrepreneur  married  secondary      no        2     yes  yes   \n",
              "3   47   blue-collar  married    unknown      no     1506     yes   no   \n",
              "4   33       unknown   single    unknown      no        1      no   no   \n",
              "\n",
              "   contact  day month  duration  campaign  pdays  previous poutcome   y  \n",
              "0  unknown    5   may       261         1     -1         0  unknown  no  \n",
              "1  unknown    5   may       151         1     -1         0  unknown  no  \n",
              "2  unknown    5   may        76         1     -1         0  unknown  no  \n",
              "3  unknown    5   may        92         1     -1         0  unknown  no  \n",
              "4  unknown    5   may       198         1     -1         0  unknown  no  "
            ],
            "text/html": [
              "\n",
              "  <div id=\"df-fb03291e-3cdf-46f3-9c55-1b52ff09d1c6\">\n",
              "    <div class=\"colab-df-container\">\n",
              "      <div>\n",
              "<style scoped>\n",
              "    .dataframe tbody tr th:only-of-type {\n",
              "        vertical-align: middle;\n",
              "    }\n",
              "\n",
              "    .dataframe tbody tr th {\n",
              "        vertical-align: top;\n",
              "    }\n",
              "\n",
              "    .dataframe thead th {\n",
              "        text-align: right;\n",
              "    }\n",
              "</style>\n",
              "<table border=\"1\" class=\"dataframe\">\n",
              "  <thead>\n",
              "    <tr style=\"text-align: right;\">\n",
              "      <th></th>\n",
              "      <th>age</th>\n",
              "      <th>job</th>\n",
              "      <th>marital</th>\n",
              "      <th>education</th>\n",
              "      <th>default</th>\n",
              "      <th>balance</th>\n",
              "      <th>housing</th>\n",
              "      <th>loan</th>\n",
              "      <th>contact</th>\n",
              "      <th>day</th>\n",
              "      <th>month</th>\n",
              "      <th>duration</th>\n",
              "      <th>campaign</th>\n",
              "      <th>pdays</th>\n",
              "      <th>previous</th>\n",
              "      <th>poutcome</th>\n",
              "      <th>y</th>\n",
              "    </tr>\n",
              "  </thead>\n",
              "  <tbody>\n",
              "    <tr>\n",
              "      <th>0</th>\n",
              "      <td>58</td>\n",
              "      <td>management</td>\n",
              "      <td>married</td>\n",
              "      <td>tertiary</td>\n",
              "      <td>no</td>\n",
              "      <td>2143</td>\n",
              "      <td>yes</td>\n",
              "      <td>no</td>\n",
              "      <td>unknown</td>\n",
              "      <td>5</td>\n",
              "      <td>may</td>\n",
              "      <td>261</td>\n",
              "      <td>1</td>\n",
              "      <td>-1</td>\n",
              "      <td>0</td>\n",
              "      <td>unknown</td>\n",
              "      <td>no</td>\n",
              "    </tr>\n",
              "    <tr>\n",
              "      <th>1</th>\n",
              "      <td>44</td>\n",
              "      <td>technician</td>\n",
              "      <td>single</td>\n",
              "      <td>secondary</td>\n",
              "      <td>no</td>\n",
              "      <td>29</td>\n",
              "      <td>yes</td>\n",
              "      <td>no</td>\n",
              "      <td>unknown</td>\n",
              "      <td>5</td>\n",
              "      <td>may</td>\n",
              "      <td>151</td>\n",
              "      <td>1</td>\n",
              "      <td>-1</td>\n",
              "      <td>0</td>\n",
              "      <td>unknown</td>\n",
              "      <td>no</td>\n",
              "    </tr>\n",
              "    <tr>\n",
              "      <th>2</th>\n",
              "      <td>33</td>\n",
              "      <td>entrepreneur</td>\n",
              "      <td>married</td>\n",
              "      <td>secondary</td>\n",
              "      <td>no</td>\n",
              "      <td>2</td>\n",
              "      <td>yes</td>\n",
              "      <td>yes</td>\n",
              "      <td>unknown</td>\n",
              "      <td>5</td>\n",
              "      <td>may</td>\n",
              "      <td>76</td>\n",
              "      <td>1</td>\n",
              "      <td>-1</td>\n",
              "      <td>0</td>\n",
              "      <td>unknown</td>\n",
              "      <td>no</td>\n",
              "    </tr>\n",
              "    <tr>\n",
              "      <th>3</th>\n",
              "      <td>47</td>\n",
              "      <td>blue-collar</td>\n",
              "      <td>married</td>\n",
              "      <td>unknown</td>\n",
              "      <td>no</td>\n",
              "      <td>1506</td>\n",
              "      <td>yes</td>\n",
              "      <td>no</td>\n",
              "      <td>unknown</td>\n",
              "      <td>5</td>\n",
              "      <td>may</td>\n",
              "      <td>92</td>\n",
              "      <td>1</td>\n",
              "      <td>-1</td>\n",
              "      <td>0</td>\n",
              "      <td>unknown</td>\n",
              "      <td>no</td>\n",
              "    </tr>\n",
              "    <tr>\n",
              "      <th>4</th>\n",
              "      <td>33</td>\n",
              "      <td>unknown</td>\n",
              "      <td>single</td>\n",
              "      <td>unknown</td>\n",
              "      <td>no</td>\n",
              "      <td>1</td>\n",
              "      <td>no</td>\n",
              "      <td>no</td>\n",
              "      <td>unknown</td>\n",
              "      <td>5</td>\n",
              "      <td>may</td>\n",
              "      <td>198</td>\n",
              "      <td>1</td>\n",
              "      <td>-1</td>\n",
              "      <td>0</td>\n",
              "      <td>unknown</td>\n",
              "      <td>no</td>\n",
              "    </tr>\n",
              "  </tbody>\n",
              "</table>\n",
              "</div>\n",
              "      <button class=\"colab-df-convert\" onclick=\"convertToInteractive('df-fb03291e-3cdf-46f3-9c55-1b52ff09d1c6')\"\n",
              "              title=\"Convert this dataframe to an interactive table.\"\n",
              "              style=\"display:none;\">\n",
              "        \n",
              "  <svg xmlns=\"http://www.w3.org/2000/svg\" height=\"24px\"viewBox=\"0 0 24 24\"\n",
              "       width=\"24px\">\n",
              "    <path d=\"M0 0h24v24H0V0z\" fill=\"none\"/>\n",
              "    <path d=\"M18.56 5.44l.94 2.06.94-2.06 2.06-.94-2.06-.94-.94-2.06-.94 2.06-2.06.94zm-11 1L8.5 8.5l.94-2.06 2.06-.94-2.06-.94L8.5 2.5l-.94 2.06-2.06.94zm10 10l.94 2.06.94-2.06 2.06-.94-2.06-.94-.94-2.06-.94 2.06-2.06.94z\"/><path d=\"M17.41 7.96l-1.37-1.37c-.4-.4-.92-.59-1.43-.59-.52 0-1.04.2-1.43.59L10.3 9.45l-7.72 7.72c-.78.78-.78 2.05 0 2.83L4 21.41c.39.39.9.59 1.41.59.51 0 1.02-.2 1.41-.59l7.78-7.78 2.81-2.81c.8-.78.8-2.07 0-2.86zM5.41 20L4 18.59l7.72-7.72 1.47 1.35L5.41 20z\"/>\n",
              "  </svg>\n",
              "      </button>\n",
              "      \n",
              "  <style>\n",
              "    .colab-df-container {\n",
              "      display:flex;\n",
              "      flex-wrap:wrap;\n",
              "      gap: 12px;\n",
              "    }\n",
              "\n",
              "    .colab-df-convert {\n",
              "      background-color: #E8F0FE;\n",
              "      border: none;\n",
              "      border-radius: 50%;\n",
              "      cursor: pointer;\n",
              "      display: none;\n",
              "      fill: #1967D2;\n",
              "      height: 32px;\n",
              "      padding: 0 0 0 0;\n",
              "      width: 32px;\n",
              "    }\n",
              "\n",
              "    .colab-df-convert:hover {\n",
              "      background-color: #E2EBFA;\n",
              "      box-shadow: 0px 1px 2px rgba(60, 64, 67, 0.3), 0px 1px 3px 1px rgba(60, 64, 67, 0.15);\n",
              "      fill: #174EA6;\n",
              "    }\n",
              "\n",
              "    [theme=dark] .colab-df-convert {\n",
              "      background-color: #3B4455;\n",
              "      fill: #D2E3FC;\n",
              "    }\n",
              "\n",
              "    [theme=dark] .colab-df-convert:hover {\n",
              "      background-color: #434B5C;\n",
              "      box-shadow: 0px 1px 3px 1px rgba(0, 0, 0, 0.15);\n",
              "      filter: drop-shadow(0px 1px 2px rgba(0, 0, 0, 0.3));\n",
              "      fill: #FFFFFF;\n",
              "    }\n",
              "  </style>\n",
              "\n",
              "      <script>\n",
              "        const buttonEl =\n",
              "          document.querySelector('#df-fb03291e-3cdf-46f3-9c55-1b52ff09d1c6 button.colab-df-convert');\n",
              "        buttonEl.style.display =\n",
              "          google.colab.kernel.accessAllowed ? 'block' : 'none';\n",
              "\n",
              "        async function convertToInteractive(key) {\n",
              "          const element = document.querySelector('#df-fb03291e-3cdf-46f3-9c55-1b52ff09d1c6');\n",
              "          const dataTable =\n",
              "            await google.colab.kernel.invokeFunction('convertToInteractive',\n",
              "                                                     [key], {});\n",
              "          if (!dataTable) return;\n",
              "\n",
              "          const docLinkHtml = 'Like what you see? Visit the ' +\n",
              "            '<a target=\"_blank\" href=https://colab.research.google.com/notebooks/data_table.ipynb>data table notebook</a>'\n",
              "            + ' to learn more about interactive tables.';\n",
              "          element.innerHTML = '';\n",
              "          dataTable['output_type'] = 'display_data';\n",
              "          await google.colab.output.renderOutput(dataTable, element);\n",
              "          const docLink = document.createElement('div');\n",
              "          docLink.innerHTML = docLinkHtml;\n",
              "          element.appendChild(docLink);\n",
              "        }\n",
              "      </script>\n",
              "    </div>\n",
              "  </div>\n",
              "  "
            ]
          },
          "metadata": {},
          "execution_count": 13
        }
      ]
    },
    {
      "cell_type": "markdown",
      "source": [
        "melihat type pada data set"
      ],
      "metadata": {
        "id": "OhBKv9Lbl-vb"
      }
    },
    {
      "cell_type": "code",
      "source": [
        "dataset_train.dtypes"
      ],
      "metadata": {
        "colab": {
          "base_uri": "https://localhost:8080/"
        },
        "id": "1EWLh51tNZ46",
        "outputId": "0ddf7099-5c86-489f-dbd9-7a7c0c8e75b3"
      },
      "execution_count": 14,
      "outputs": [
        {
          "output_type": "execute_result",
          "data": {
            "text/plain": [
              "age           int64\n",
              "job          object\n",
              "marital      object\n",
              "education    object\n",
              "default      object\n",
              "balance       int64\n",
              "housing      object\n",
              "loan         object\n",
              "contact      object\n",
              "day           int64\n",
              "month        object\n",
              "duration      int64\n",
              "campaign      int64\n",
              "pdays         int64\n",
              "previous      int64\n",
              "poutcome     object\n",
              "y            object\n",
              "dtype: object"
            ]
          },
          "metadata": {},
          "execution_count": 14
        }
      ]
    },
    {
      "cell_type": "code",
      "source": [
        "ax = dataset_train['y'].value_counts().plot.bar(color=['r','b'])\n",
        "plt.title(\"Jumlah data tiap label pada dataset train\")\n",
        "for p in ax.patches:\n",
        "    b = p.get_bbox()\n",
        "    ax.annotate(str(p.get_height()), ((b.x0 + b.x1)/2 - .1, p.get_height() * 1.),fontsize=12)"
      ],
      "metadata": {
        "colab": {
          "base_uri": "https://localhost:8080/",
          "height": 289
        },
        "id": "7kW4KB0Pniq2",
        "outputId": "fef08a20-0774-489e-8dce-72b7598e58cd"
      },
      "execution_count": 15,
      "outputs": [
        {
          "output_type": "display_data",
          "data": {
            "text/plain": [
              "<Figure size 432x288 with 1 Axes>"
            ],
            "image/png": "[encoded data removed]"
          },
          "metadata": {
            "needs_background": "light"
          }
        }
      ]
    },
    {
      "cell_type": "code",
      "source": [
        "ax = dataset_test['y'].value_counts().plot.bar(color=['r','b'])\n",
        "plt.title(\"Jumlah data tiap label pada dataset test\")\n",
        "for p in ax.patches:\n",
        "    b = p.get_bbox()\n",
        "    ax.annotate(str(p.get_height()), ((b.x0 + b.x1)/2 - .1, p.get_height() * 1.),fontsize=12)"
      ],
      "metadata": {
        "colab": {
          "base_uri": "https://localhost:8080/",
          "height": 289
        },
        "id": "uuOyZoVEnlkq",
        "outputId": "ab42c889-ddf0-4a38-97e4-e4b039118b76"
      },
      "execution_count": 16,
      "outputs": [
        {
          "output_type": "display_data",
          "data": {
            "text/plain": [
              "<Figure size 432x288 with 1 Axes>"
            ],
            "image/png": "[encoded data removed]"
          },
          "metadata": {
            "needs_background": "light"
          }
        }
      ]
    },
    {
      "cell_type": "code",
      "source": [
        "train_index = [i for i in dataset_train.drop(columns=['y']).columns]\n",
        "dataset_train.groupby(by=train_index)[\"y\"].value_counts().unstack().reset_index().sort_values(by=[\"no\"], ascending=True).head()"
      ],
      "metadata": {
        "colab": {
          "base_uri": "https://localhost:8080/",
          "height": 270
        },
        "id": "9LQxvn4Dp7vZ",
        "outputId": "b7526f72-7823-4eb7-ca76-c9ff7c393ff5"
      },
      "execution_count": 17,
      "outputs": [
        {
          "output_type": "execute_result",
          "data": {
            "text/plain": [
              "y      age           job  marital  education default  balance housing loan  \\\n",
              "2       18       student   single    primary      no     1944      no   no   \n",
              "30043   45  entrepreneur  married    primary      no     1953     yes   no   \n",
              "30044   45  entrepreneur  married    primary      no     2418     yes   no   \n",
              "30045   45  entrepreneur  married    primary      no     5315     yes  yes   \n",
              "30046   45  entrepreneur  married  secondary      no     -479     yes   no   \n",
              "\n",
              "y        contact  day month  duration  campaign  pdays  previous poutcome  \\\n",
              "2      telephone   10   aug       122         3     -1         0  unknown   \n",
              "30043    unknown   15   may        95         3     -1         0  unknown   \n",
              "30044    unknown   14   may       120         1     -1         0  unknown   \n",
              "30045   cellular   15   may       262         2     -1         0  unknown   \n",
              "30046   cellular   30   jul       167         2     -1         0  unknown   \n",
              "\n",
              "y       no  yes  \n",
              "2      1.0  NaN  \n",
              "30043  1.0  NaN  \n",
              "30044  1.0  NaN  \n",
              "30045  1.0  NaN  \n",
              "30046  1.0  NaN  "
            ],
            "text/html": [
              "\n",
              "  <div id=\"df-f0ed5ecd-43e3-4ce9-a2e8-38b6767004be\">\n",
              "    <div class=\"colab-df-container\">\n",
              "      <div>\n",
              "<style scoped>\n",
              "    .dataframe tbody tr th:only-of-type {\n",
              "        vertical-align: middle;\n",
              "    }\n",
              "\n",
              "    .dataframe tbody tr th {\n",
              "        vertical-align: top;\n",
              "    }\n",
              "\n",
              "    .dataframe thead th {\n",
              "        text-align: right;\n",
              "    }\n",
              "</style>\n",
              "<table border=\"1\" class=\"dataframe\">\n",
              "  <thead>\n",
              "    <tr style=\"text-align: right;\">\n",
              "      <th>y</th>\n",
              "      <th>age</th>\n",
              "      <th>job</th>\n",
              "      <th>marital</th>\n",
              "      <th>education</th>\n",
              "      <th>default</th>\n",
              "      <th>balance</th>\n",
              "      <th>housing</th>\n",
              "      <th>loan</th>\n",
              "      <th>contact</th>\n",
              "      <th>day</th>\n",
              "      <th>month</th>\n",
              "      <th>duration</th>\n",
              "      <th>campaign</th>\n",
              "      <th>pdays</th>\n",
              "      <th>previous</th>\n",
              "      <th>poutcome</th>\n",
              "      <th>no</th>\n",
              "      <th>yes</th>\n",
              "    </tr>\n",
              "  </thead>\n",
              "  <tbody>\n",
              "    <tr>\n",
              "      <th>2</th>\n",
              "      <td>18</td>\n",
              "      <td>student</td>\n",
              "      <td>single</td>\n",
              "      <td>primary</td>\n",
              "      <td>no</td>\n",
              "      <td>1944</td>\n",
              "      <td>no</td>\n",
              "      <td>no</td>\n",
              "      <td>telephone</td>\n",
              "      <td>10</td>\n",
              "      <td>aug</td>\n",
              "      <td>122</td>\n",
              "      <td>3</td>\n",
              "      <td>-1</td>\n",
              "      <td>0</td>\n",
              "      <td>unknown</td>\n",
              "      <td>1.0</td>\n",
              "      <td>NaN</td>\n",
              "    </tr>\n",
              "    <tr>\n",
              "      <th>30043</th>\n",
              "      <td>45</td>\n",
              "      <td>entrepreneur</td>\n",
              "      <td>married</td>\n",
              "      <td>primary</td>\n",
              "      <td>no</td>\n",
              "      <td>1953</td>\n",
              "      <td>yes</td>\n",
              "      <td>no</td>\n",
              "      <td>unknown</td>\n",
              "      <td>15</td>\n",
              "      <td>may</td>\n",
              "      <td>95</td>\n",
              "      <td>3</td>\n",
              "      <td>-1</td>\n",
              "      <td>0</td>\n",
              "      <td>unknown</td>\n",
              "      <td>1.0</td>\n",
              "      <td>NaN</td>\n",
              "    </tr>\n",
              "    <tr>\n",
              "      <th>30044</th>\n",
              "      <td>45</td>\n",
              "      <td>entrepreneur</td>\n",
              "      <td>married</td>\n",
              "      <td>primary</td>\n",
              "      <td>no</td>\n",
              "      <td>2418</td>\n",
              "      <td>yes</td>\n",
              "      <td>no</td>\n",
              "      <td>unknown</td>\n",
              "      <td>14</td>\n",
              "      <td>may</td>\n",
              "      <td>120</td>\n",
              "      <td>1</td>\n",
              "      <td>-1</td>\n",
              "      <td>0</td>\n",
              "      <td>unknown</td>\n",
              "      <td>1.0</td>\n",
              "      <td>NaN</td>\n",
              "    </tr>\n",
              "    <tr>\n",
              "      <th>30045</th>\n",
              "      <td>45</td>\n",
              "      <td>entrepreneur</td>\n",
              "      <td>married</td>\n",
              "      <td>primary</td>\n",
              "      <td>no</td>\n",
              "      <td>5315</td>\n",
              "      <td>yes</td>\n",
              "      <td>yes</td>\n",
              "      <td>cellular</td>\n",
              "      <td>15</td>\n",
              "      <td>may</td>\n",
              "      <td>262</td>\n",
              "      <td>2</td>\n",
              "      <td>-1</td>\n",
              "      <td>0</td>\n",
              "      <td>unknown</td>\n",
              "      <td>1.0</td>\n",
              "      <td>NaN</td>\n",
              "    </tr>\n",
              "    <tr>\n",
              "      <th>30046</th>\n",
              "      <td>45</td>\n",
              "      <td>entrepreneur</td>\n",
              "      <td>married</td>\n",
              "      <td>secondary</td>\n",
              "      <td>no</td>\n",
              "      <td>-479</td>\n",
              "      <td>yes</td>\n",
              "      <td>no</td>\n",
              "      <td>cellular</td>\n",
              "      <td>30</td>\n",
              "      <td>jul</td>\n",
              "      <td>167</td>\n",
              "      <td>2</td>\n",
              "      <td>-1</td>\n",
              "      <td>0</td>\n",
              "      <td>unknown</td>\n",
              "      <td>1.0</td>\n",
              "      <td>NaN</td>\n",
              "    </tr>\n",
              "  </tbody>\n",
              "</table>\n",
              "</div>\n",
              "      <button class=\"colab-df-convert\" onclick=\"convertToInteractive('df-f0ed5ecd-43e3-4ce9-a2e8-38b6767004be')\"\n",
              "              title=\"Convert this dataframe to an interactive table.\"\n",
              "              style=\"display:none;\">\n",
              "        \n",
              "  <svg xmlns=\"http://www.w3.org/2000/svg\" height=\"24px\"viewBox=\"0 0 24 24\"\n",
              "       width=\"24px\">\n",
              "    <path d=\"M0 0h24v24H0V0z\" fill=\"none\"/>\n",
              "    <path d=\"M18.56 5.44l.94 2.06.94-2.06 2.06-.94-2.06-.94-.94-2.06-.94 2.06-2.06.94zm-11 1L8.5 8.5l.94-2.06 2.06-.94-2.06-.94L8.5 2.5l-.94 2.06-2.06.94zm10 10l.94 2.06.94-2.06 2.06-.94-2.06-.94-.94-2.06-.94 2.06-2.06.94z\"/><path d=\"M17.41 7.96l-1.37-1.37c-.4-.4-.92-.59-1.43-.59-.52 0-1.04.2-1.43.59L10.3 9.45l-7.72 7.72c-.78.78-.78 2.05 0 2.83L4 21.41c.39.39.9.59 1.41.59.51 0 1.02-.2 1.41-.59l7.78-7.78 2.81-2.81c.8-.78.8-2.07 0-2.86zM5.41 20L4 18.59l7.72-7.72 1.47 1.35L5.41 20z\"/>\n",
              "  </svg>\n",
              "      </button>\n",
              "      \n",
              "  <style>\n",
              "    .colab-df-container {\n",
              "      display:flex;\n",
              "      flex-wrap:wrap;\n",
              "      gap: 12px;\n",
              "    }\n",
              "\n",
              "    .colab-df-convert {\n",
              "      background-color: #E8F0FE;\n",
              "      border: none;\n",
              "      border-radius: 50%;\n",
              "      cursor: pointer;\n",
              "      display: none;\n",
              "      fill: #1967D2;\n",
              "      height: 32px;\n",
              "      padding: 0 0 0 0;\n",
              "      width: 32px;\n",
              "    }\n",
              "\n",
              "    .colab-df-convert:hover {\n",
              "      background-color: #E2EBFA;\n",
              "      box-shadow: 0px 1px 2px rgba(60, 64, 67, 0.3), 0px 1px 3px 1px rgba(60, 64, 67, 0.15);\n",
              "      fill: #174EA6;\n",
              "    }\n",
              "\n",
              "    [theme=dark] .colab-df-convert {\n",
              "      background-color: #3B4455;\n",
              "      fill: #D2E3FC;\n",
              "    }\n",
              "\n",
              "    [theme=dark] .colab-df-convert:hover {\n",
              "      background-color: #434B5C;\n",
              "      box-shadow: 0px 1px 3px 1px rgba(0, 0, 0, 0.15);\n",
              "      filter: drop-shadow(0px 1px 2px rgba(0, 0, 0, 0.3));\n",
              "      fill: #FFFFFF;\n",
              "    }\n",
              "  </style>\n",
              "\n",
              "      <script>\n",
              "        const buttonEl =\n",
              "          document.querySelector('#df-f0ed5ecd-43e3-4ce9-a2e8-38b6767004be button.colab-df-convert');\n",
              "        buttonEl.style.display =\n",
              "          google.colab.kernel.accessAllowed ? 'block' : 'none';\n",
              "\n",
              "        async function convertToInteractive(key) {\n",
              "          const element = document.querySelector('#df-f0ed5ecd-43e3-4ce9-a2e8-38b6767004be');\n",
              "          const dataTable =\n",
              "            await google.colab.kernel.invokeFunction('convertToInteractive',\n",
              "                                                     [key], {});\n",
              "          if (!dataTable) return;\n",
              "\n",
              "          const docLinkHtml = 'Like what you see? Visit the ' +\n",
              "            '<a target=\"_blank\" href=https://colab.research.google.com/notebooks/data_table.ipynb>data table notebook</a>'\n",
              "            + ' to learn more about interactive tables.';\n",
              "          element.innerHTML = '';\n",
              "          dataTable['output_type'] = 'display_data';\n",
              "          await google.colab.output.renderOutput(dataTable, element);\n",
              "          const docLink = document.createElement('div');\n",
              "          docLink.innerHTML = docLinkHtml;\n",
              "          element.appendChild(docLink);\n",
              "        }\n",
              "      </script>\n",
              "    </div>\n",
              "  </div>\n",
              "  "
            ]
          },
          "metadata": {},
          "execution_count": 17
        }
      ]
    },
    {
      "cell_type": "code",
      "source": [
        "cek_no_yes_max = dataset_train.groupby(by=[\"age\", \"job\", \"marital\", \"education\", \"balance\", \"housing\", \"loan\", \"month\" , \"duration\"])[\"y\"].value_counts().unstack().reset_index()"
      ],
      "metadata": {
        "id": "DbOxilfog-4k"
      },
      "execution_count": 18,
      "outputs": []
    },
    {
      "cell_type": "code",
      "source": [
        "cek_no_yes_max.loc[cek_no_yes_max['no'].ge(1.0) &cek_no_yes_max['yes'].ge(1.0)]"
      ],
      "metadata": {
        "colab": {
          "base_uri": "https://localhost:8080/",
          "height": 93
        },
        "id": "h5207phn71DR",
        "outputId": "9554de22-fa6d-4301-945e-c93c5d3fc5cf"
      },
      "execution_count": 19,
      "outputs": [
        {
          "output_type": "execute_result",
          "data": {
            "text/plain": [
              "Empty DataFrame\n",
              "Columns: [age, job, marital, education, balance, housing, loan, month, duration, no, yes]\n",
              "Index: []"
            ],
            "text/html": [
              "\n",
              "  <div id=\"df-2b94a87b-123e-44c3-ba4d-71f35ba97ee3\">\n",
              "    <div class=\"colab-df-container\">\n",
              "      <div>\n",
              "<style scoped>\n",
              "    .dataframe tbody tr th:only-of-type {\n",
              "        vertical-align: middle;\n",
              "    }\n",
              "\n",
              "    .dataframe tbody tr th {\n",
              "        vertical-align: top;\n",
              "    }\n",
              "\n",
              "    .dataframe thead th {\n",
              "        text-align: right;\n",
              "    }\n",
              "</style>\n",
              "<table border=\"1\" class=\"dataframe\">\n",
              "  <thead>\n",
              "    <tr style=\"text-align: right;\">\n",
              "      <th>y</th>\n",
              "      <th>age</th>\n",
              "      <th>job</th>\n",
              "      <th>marital</th>\n",
              "      <th>education</th>\n",
              "      <th>balance</th>\n",
              "      <th>housing</th>\n",
              "      <th>loan</th>\n",
              "      <th>month</th>\n",
              "      <th>duration</th>\n",
              "      <th>no</th>\n",
              "      <th>yes</th>\n",
              "    </tr>\n",
              "  </thead>\n",
              "  <tbody>\n",
              "  </tbody>\n",
              "</table>\n",
              "</div>\n",
              "      <button class=\"colab-df-convert\" onclick=\"convertToInteractive('df-2b94a87b-123e-44c3-ba4d-71f35ba97ee3')\"\n",
              "              title=\"Convert this dataframe to an interactive table.\"\n",
              "              style=\"display:none;\">\n",
              "        \n",
              "  <svg xmlns=\"http://www.w3.org/2000/svg\" height=\"24px\"viewBox=\"0 0 24 24\"\n",
              "       width=\"24px\">\n",
              "    <path d=\"M0 0h24v24H0V0z\" fill=\"none\"/>\n",
              "    <path d=\"M18.56 5.44l.94 2.06.94-2.06 2.06-.94-2.06-.94-.94-2.06-.94 2.06-2.06.94zm-11 1L8.5 8.5l.94-2.06 2.06-.94-2.06-.94L8.5 2.5l-.94 2.06-2.06.94zm10 10l.94 2.06.94-2.06 2.06-.94-2.06-.94-.94-2.06-.94 2.06-2.06.94z\"/><path d=\"M17.41 7.96l-1.37-1.37c-.4-.4-.92-.59-1.43-.59-.52 0-1.04.2-1.43.59L10.3 9.45l-7.72 7.72c-.78.78-.78 2.05 0 2.83L4 21.41c.39.39.9.59 1.41.59.51 0 1.02-.2 1.41-.59l7.78-7.78 2.81-2.81c.8-.78.8-2.07 0-2.86zM5.41 20L4 18.59l7.72-7.72 1.47 1.35L5.41 20z\"/>\n",
              "  </svg>\n",
              "      </button>\n",
              "      \n",
              "  <style>\n",
              "    .colab-df-container {\n",
              "      display:flex;\n",
              "      flex-wrap:wrap;\n",
              "      gap: 12px;\n",
              "    }\n",
              "\n",
              "    .colab-df-convert {\n",
              "      background-color: #E8F0FE;\n",
              "      border: none;\n",
              "      border-radius: 50%;\n",
              "      cursor: pointer;\n",
              "      display: none;\n",
              "      fill: #1967D2;\n",
              "      height: 32px;\n",
              "      padding: 0 0 0 0;\n",
              "      width: 32px;\n",
              "    }\n",
              "\n",
              "    .colab-df-convert:hover {\n",
              "      background-color: #E2EBFA;\n",
              "      box-shadow: 0px 1px 2px rgba(60, 64, 67, 0.3), 0px 1px 3px 1px rgba(60, 64, 67, 0.15);\n",
              "      fill: #174EA6;\n",
              "    }\n",
              "\n",
              "    [theme=dark] .colab-df-convert {\n",
              "      background-color: #3B4455;\n",
              "      fill: #D2E3FC;\n",
              "    }\n",
              "\n",
              "    [theme=dark] .colab-df-convert:hover {\n",
              "      background-color: #434B5C;\n",
              "      box-shadow: 0px 1px 3px 1px rgba(0, 0, 0, 0.15);\n",
              "      filter: drop-shadow(0px 1px 2px rgba(0, 0, 0, 0.3));\n",
              "      fill: #FFFFFF;\n",
              "    }\n",
              "  </style>\n",
              "\n",
              "      <script>\n",
              "        const buttonEl =\n",
              "          document.querySelector('#df-2b94a87b-123e-44c3-ba4d-71f35ba97ee3 button.colab-df-convert');\n",
              "        buttonEl.style.display =\n",
              "          google.colab.kernel.accessAllowed ? 'block' : 'none';\n",
              "\n",
              "        async function convertToInteractive(key) {\n",
              "          const element = document.querySelector('#df-2b94a87b-123e-44c3-ba4d-71f35ba97ee3');\n",
              "          const dataTable =\n",
              "            await google.colab.kernel.invokeFunction('convertToInteractive',\n",
              "                                                     [key], {});\n",
              "          if (!dataTable) return;\n",
              "\n",
              "          const docLinkHtml = 'Like what you see? Visit the ' +\n",
              "            '<a target=\"_blank\" href=https://colab.research.google.com/notebooks/data_table.ipynb>data table notebook</a>'\n",
              "            + ' to learn more about interactive tables.';\n",
              "          element.innerHTML = '';\n",
              "          dataTable['output_type'] = 'display_data';\n",
              "          await google.colab.output.renderOutput(dataTable, element);\n",
              "          const docLink = document.createElement('div');\n",
              "          docLink.innerHTML = docLinkHtml;\n",
              "          element.appendChild(docLink);\n",
              "        }\n",
              "      </script>\n",
              "    </div>\n",
              "  </div>\n",
              "  "
            ]
          },
          "metadata": {},
          "execution_count": 19
        }
      ]
    },
    {
      "cell_type": "markdown",
      "source": [
        "##Data Preprocessing"
      ],
      "metadata": {
        "id": "p-QBTSuHBNk1"
      }
    },
    {
      "cell_type": "markdown",
      "source": [
        "mengubah column y, dengan nilai 0 menunjukan *NO* dan nilai 1 menunjukan *YES*"
      ],
      "metadata": {
        "id": "kQcO2hcxb3wL"
      }
    },
    {
      "cell_type": "code",
      "source": [
        "dataset_train['target'] = dataset_train.loc[:, 'y'].apply(lambda x : 0 if x == \"no\" else 1)\n",
        "\n",
        "dataset_train.drop(columns=[\"default\", \"contact\",\t\"day\", \"campaign\",\t\"pdays\",\t\"previous\", \"poutcome\", \"y\"], inplace=True)"
      ],
      "metadata": {
        "id": "ceeYHVHBbxnX"
      },
      "execution_count": 20,
      "outputs": []
    },
    {
      "cell_type": "code",
      "source": [
        "dataset_test['target'] = dataset_test.loc[:, 'y'].apply(lambda x : 0 if x == \"no\" else 1)\n",
        "\n",
        "dataset_test.drop(columns=[\"default\", \"contact\",\t\"day\", \"campaign\",\t\"pdays\",\t\"previous\", \"poutcome\", \"y\"], inplace=True)"
      ],
      "metadata": {
        "id": "Agv02-YRmL8O"
      },
      "execution_count": 21,
      "outputs": []
    },
    {
      "cell_type": "markdown",
      "source": [
        "dataset train ini merupakan dataframe pandas, split data train dengan ratio 80:20 . 20 % untuk validasi"
      ],
      "metadata": {
        "id": "-Vnal1UbHcZY"
      }
    },
    {
      "cell_type": "code",
      "source": [
        "train, val = dataframe_split(dataset_train, ratio = 0.2, shuffle=1)"
      ],
      "metadata": {
        "id": "rt2ZWTYzeWzv"
      },
      "execution_count": 22,
      "outputs": []
    },
    {
      "cell_type": "code",
      "source": [
        "print(len(train), 'training examples')\n",
        "print(len(val), 'validation examples')"
      ],
      "metadata": {
        "colab": {
          "base_uri": "https://localhost:8080/"
        },
        "id": "PVFwlMDWH8Dl",
        "outputId": "a32b2ec2-79a6-4d58-dd7e-90ef26180d5c"
      },
      "execution_count": 23,
      "outputs": [
        {
          "output_type": "stream",
          "name": "stdout",
          "text": [
            "36169 training examples\n",
            "9042 validation examples\n"
          ]
        }
      ]
    },
    {
      "cell_type": "markdown",
      "source": [
        "##Data Preparation"
      ],
      "metadata": {
        "id": "rojHf2I2LYYw"
      }
    },
    {
      "cell_type": "markdown",
      "source": [
        "membuat dataset"
      ],
      "metadata": {
        "id": "0VcaVe4Olf3u"
      }
    },
    {
      "cell_type": "code",
      "source": [
        "batch_size = 128\n",
        "\n",
        "train_ds = dataframe_imbalanced_to_dataset(train, batch_size=batch_size, repeat=5)\n",
        "val_ds = dataframe_imbalanced_to_dataset(val, batch_size=batch_size, repeat=6)\n",
        "test_ds = dataframe_to_dataset(dataset_test, batch_size=batch_size)"
      ],
      "metadata": {
        "id": "G2yhdthoLmol"
      },
      "execution_count": 24,
      "outputs": []
    },
    {
      "cell_type": "markdown",
      "source": [
        "cek data"
      ],
      "metadata": {
        "id": "Q6RnUThrljIL"
      }
    },
    {
      "cell_type": "code",
      "source": [
        "[(train_features, label_batch)] = train_ds.take(1)\n",
        "print('Every feature:', list(train_features.keys()))\n",
        "print('A batch of marital:', train_features['job'])\n",
        "print('A batch of targets:', label_batch )"
      ],
      "metadata": {
        "colab": {
          "base_uri": "https://localhost:8080/"
        },
        "id": "VptefnlDM1VA",
        "outputId": "7300a691-c333-4c7f-d435-4d998019509c"
      },
      "execution_count": 25,
      "outputs": [
        {
          "output_type": "stream",
          "name": "stdout",
          "text": [
            "Every feature: ['age', 'job', 'marital', 'education', 'balance', 'housing', 'loan', 'month', 'duration']\n",
            "A batch of marital: tf.Tensor(\n",
            "[[b'management']\n",
            " [b'blue-collar']\n",
            " [b'retired']\n",
            " [b'self-employed']\n",
            " [b'management']\n",
            " [b'management']\n",
            " [b'services']\n",
            " [b'admin.']\n",
            " [b'technician']\n",
            " [b'blue-collar']\n",
            " [b'management']\n",
            " [b'blue-collar']\n",
            " [b'blue-collar']\n",
            " [b'entrepreneur']\n",
            " [b'management']\n",
            " [b'admin.']\n",
            " [b'entrepreneur']\n",
            " [b'retired']\n",
            " [b'technician']\n",
            " [b'technician']\n",
            " [b'technician']\n",
            " [b'blue-collar']\n",
            " [b'technician']\n",
            " [b'technician']\n",
            " [b'management']\n",
            " [b'admin.']\n",
            " [b'student']\n",
            " [b'technician']\n",
            " [b'management']\n",
            " [b'admin.']\n",
            " [b'technician']\n",
            " [b'management']\n",
            " [b'management']\n",
            " [b'blue-collar']\n",
            " [b'management']\n",
            " [b'management']\n",
            " [b'student']\n",
            " [b'admin.']\n",
            " [b'management']\n",
            " [b'management']\n",
            " [b'housemaid']\n",
            " [b'housemaid']\n",
            " [b'technician']\n",
            " [b'retired']\n",
            " [b'admin.']\n",
            " [b'management']\n",
            " [b'services']\n",
            " [b'student']\n",
            " [b'blue-collar']\n",
            " [b'blue-collar']\n",
            " [b'student']\n",
            " [b'management']\n",
            " [b'blue-collar']\n",
            " [b'blue-collar']\n",
            " [b'student']\n",
            " [b'services']\n",
            " [b'technician']\n",
            " [b'unknown']\n",
            " [b'admin.']\n",
            " [b'self-employed']\n",
            " [b'self-employed']\n",
            " [b'blue-collar']\n",
            " [b'management']\n",
            " [b'technician']\n",
            " [b'unemployed']\n",
            " [b'management']\n",
            " [b'self-employed']\n",
            " [b'management']\n",
            " [b'retired']\n",
            " [b'entrepreneur']\n",
            " [b'management']\n",
            " [b'entrepreneur']\n",
            " [b'blue-collar']\n",
            " [b'technician']\n",
            " [b'management']\n",
            " [b'admin.']\n",
            " [b'self-employed']\n",
            " [b'blue-collar']\n",
            " [b'management']\n",
            " [b'blue-collar']\n",
            " [b'management']\n",
            " [b'management']\n",
            " [b'management']\n",
            " [b'technician']\n",
            " [b'admin.']\n",
            " [b'management']\n",
            " [b'retired']\n",
            " [b'services']\n",
            " [b'services']\n",
            " [b'admin.']\n",
            " [b'technician']\n",
            " [b'self-employed']\n",
            " [b'blue-collar']\n",
            " [b'management']\n",
            " [b'blue-collar']\n",
            " [b'blue-collar']\n",
            " [b'blue-collar']\n",
            " [b'technician']\n",
            " [b'admin.']\n",
            " [b'self-employed']\n",
            " [b'self-employed']\n",
            " [b'services']\n",
            " [b'technician']\n",
            " [b'self-employed']\n",
            " [b'self-employed']\n",
            " [b'admin.']\n",
            " [b'management']\n",
            " [b'admin.']\n",
            " [b'technician']\n",
            " [b'management']\n",
            " [b'student']\n",
            " [b'admin.']\n",
            " [b'blue-collar']\n",
            " [b'technician']\n",
            " [b'services']\n",
            " [b'student']\n",
            " [b'housemaid']\n",
            " [b'blue-collar']\n",
            " [b'blue-collar']\n",
            " [b'technician']\n",
            " [b'technician']\n",
            " [b'blue-collar']\n",
            " [b'technician']\n",
            " [b'technician']\n",
            " [b'technician']\n",
            " [b'blue-collar']\n",
            " [b'admin.']\n",
            " [b'admin.']], shape=(128, 1), dtype=string)\n",
            "A batch of targets: tf.Tensor(\n",
            "[0 1 0 1 0 0 0 0 0 0 0 0 1 0 1 0 0 1 0 0 1 0 0 1 0 0 0 0 1 0 1 0 1 0 1 0 1\n",
            " 1 0 0 1 1 1 1 0 0 0 0 0 1 1 0 0 0 0 0 0 0 1 1 0 0 1 0 0 0 0 0 1 1 1 0 1 0\n",
            " 1 0 1 0 0 1 0 1 1 0 0 0 0 1 1 0 1 1 1 1 0 0 1 0 1 0 1 1 0 1 1 1 1 1 0 1 1\n",
            " 1 0 1 0 1 1 0 1 0 0 0 0 1 1 0 1 1], shape=(128,), dtype=int64)\n"
          ]
        }
      ]
    },
    {
      "cell_type": "markdown",
      "source": [
        "test preprocessing"
      ],
      "metadata": {
        "id": "2moUUtUQyEj5"
      }
    },
    {
      "cell_type": "code",
      "source": [
        "test_job_col = train_features['job']\n",
        "test_job_layer = categories_preprocessing(name='job',\n",
        "                                        dataset=train_ds,\n",
        "                                        dtype='string')\n",
        "test_job_layer(test_job_col).numpy()"
      ],
      "metadata": {
        "colab": {
          "base_uri": "https://localhost:8080/"
        },
        "id": "6C16yd6jyJVY",
        "outputId": "42e1bc8f-a47e-4375-dc00-1ed3ce46cf7a"
      },
      "execution_count": 26,
      "outputs": [
        {
          "output_type": "execute_result",
          "data": {
            "text/plain": [
              "array([[0., 1., 0., ..., 0., 0., 0.],\n",
              "       [0., 0., 1., ..., 0., 0., 0.],\n",
              "       [0., 0., 0., ..., 0., 0., 0.],\n",
              "       ...,\n",
              "       [0., 0., 1., ..., 0., 0., 0.],\n",
              "       [0., 0., 0., ..., 0., 0., 0.],\n",
              "       [0., 0., 0., ..., 0., 0., 0.]], dtype=float32)"
            ]
          },
          "metadata": {},
          "execution_count": 26
        }
      ]
    },
    {
      "cell_type": "code",
      "source": [
        "test_duration_col = train_features['duration']\n",
        "test_duration_layer = numeric_preprocessing(name='duration',\n",
        "                                            dataset=train_ds,\n",
        "                                            num_bins=32)\n",
        "test_duration_layer(test_duration_col)"
      ],
      "metadata": {
        "colab": {
          "base_uri": "https://localhost:8080/"
        },
        "id": "R6N2tN4byZ8D",
        "outputId": "3889eea8-892f-430e-d0d9-6e951032e7f2"
      },
      "execution_count": 27,
      "outputs": [
        {
          "output_type": "execute_result",
          "data": {
            "text/plain": [
              "<tf.Tensor: shape=(128, 1), dtype=float32, numpy=\n",
              "array([[ 0.22395158],\n",
              "       [-0.03667781],\n",
              "       [-0.42195603],\n",
              "       [ 0.02564661],\n",
              "       [-0.8837233 ],\n",
              "       [-0.44461945],\n",
              "       [ 1.0936605 ],\n",
              "       [-0.22081813],\n",
              "       [ 0.5724017 ],\n",
              "       [ 0.17862472],\n",
              "       [-0.7930696 ],\n",
              "       [-0.7165805 ],\n",
              "       [ 1.3174618 ],\n",
              "       [ 1.3089631 ],\n",
              "       [-0.34263402],\n",
              "       [-1.0055392 ],\n",
              "       [-0.776072  ],\n",
              "       [-0.5522707 ],\n",
              "       [-0.2576462 ],\n",
              "       [-0.6230939 ],\n",
              "       [-0.55793655],\n",
              "       [-0.9772099 ],\n",
              "       [ 0.79903597],\n",
              "       [ 0.03697832],\n",
              "       [-0.3284694 ],\n",
              "       [-0.7335781 ],\n",
              "       [-0.79023665],\n",
              "       [-0.6514232 ],\n",
              "       [-0.6060963 ],\n",
              "       [-0.86105984],\n",
              "       [-0.08200466],\n",
              "       [-0.7109147 ],\n",
              "       [-0.07350587],\n",
              "       [-0.8100672 ],\n",
              "       [ 0.4194236 ],\n",
              "       [-0.62875974],\n",
              "       [-0.7137476 ],\n",
              "       [ 1.3174618 ],\n",
              "       [-0.48711336],\n",
              "       [-0.82989764],\n",
              "       [ 1.4591082 ],\n",
              "       [-0.05367538],\n",
              "       [-0.39645967],\n",
              "       [-0.4106243 ],\n",
              "       [-0.84972817],\n",
              "       [ 0.18995644],\n",
              "       [-0.2888084 ],\n",
              "       [-0.739244  ],\n",
              "       [-0.78173786],\n",
              "       [-0.6542561 ],\n",
              "       [-0.73641104],\n",
              "       [-0.6372585 ],\n",
              "       [-0.6315927 ],\n",
              "       [-0.72791225],\n",
              "       [-0.9488806 ],\n",
              "       [ 0.5185761 ],\n",
              "       [-0.99137455],\n",
              "       [ 1.1503191 ],\n",
              "       [ 0.5809005 ],\n",
              "       [ 2.6206088 ],\n",
              "       [-0.6145951 ],\n",
              "       [ 1.6064205 ],\n",
              "       [ 1.8302218 ],\n",
              "       [-0.9857087 ],\n",
              "       [-0.41629016],\n",
              "       [-0.85256106],\n",
              "       [-0.8327306 ],\n",
              "       [-0.44461945],\n",
              "       [ 0.6573896 ],\n",
              "       [ 2.3231514 ],\n",
              "       [-0.17832421],\n",
              "       [-0.22081813],\n",
              "       [ 0.73954445],\n",
              "       [ 0.03414539],\n",
              "       [ 0.86702627],\n",
              "       [ 1.8245559 ],\n",
              "       [ 0.11063445],\n",
              "       [-0.186823  ],\n",
              "       [ 0.19845521],\n",
              "       [ 1.2013117 ],\n",
              "       [ 0.8273652 ],\n",
              "       [ 0.5242419 ],\n",
              "       [ 1.3429582 ],\n",
              "       [-0.3596316 ],\n",
              "       [ 0.2976077 ],\n",
              "       [ 1.1446532 ],\n",
              "       [-0.5834329 ],\n",
              "       [ 1.3911179 ],\n",
              "       [ 1.6829095 ],\n",
              "       [-0.71941346],\n",
              "       [ 0.6630554 ],\n",
              "       [ 2.4024732 ],\n",
              "       [ 0.28910893],\n",
              "       [ 1.1673166 ],\n",
              "       [-0.62875974],\n",
              "       [-0.7619074 ],\n",
              "       [-0.24348156],\n",
              "       [-0.8440623 ],\n",
              "       [-0.6457573 ],\n",
              "       [-0.81290007],\n",
              "       [ 0.8925226 ],\n",
              "       [ 0.5497383 ],\n",
              "       [-0.09616929],\n",
              "       [ 3.1616979 ],\n",
              "       [ 1.8273889 ],\n",
              "       [ 0.02847954],\n",
              "       [ 0.04264418],\n",
              "       [ 0.0851381 ],\n",
              "       [-0.8837233 ],\n",
              "       [ 0.24094914],\n",
              "       [-0.22648399],\n",
              "       [ 1.3542899 ],\n",
              "       [-0.7250793 ],\n",
              "       [ 0.35143334],\n",
              "       [-0.7250793 ],\n",
              "       [-0.6769195 ],\n",
              "       [-0.31147182],\n",
              "       [-0.9857087 ],\n",
              "       [ 0.5072444 ],\n",
              "       [-0.86955863],\n",
              "       [-0.49561214],\n",
              "       [-0.81290007],\n",
              "       [-0.7420769 ],\n",
              "       [-0.27464375],\n",
              "       [-0.6457573 ],\n",
              "       [-0.92055136],\n",
              "       [-0.69675004],\n",
              "       [-0.6315927 ]], dtype=float32)>"
            ]
          },
          "metadata": {},
          "execution_count": 27
        }
      ]
    },
    {
      "cell_type": "markdown",
      "source": [
        "membagikan column berdasarkan numeric atau categorical integer atau string"
      ],
      "metadata": {
        "id": "c19rHREvlsAr"
      }
    },
    {
      "cell_type": "code",
      "source": [
        "numeric_keys = [\"balance\", \"duration\"]\n",
        "categorical_integer_keys = [\"age\"]\n",
        "categorical_string_keys = [\"job\", \"marital\", \"education\", \"housing\", \"loan\", \"month\"]\n",
        "all_inputs = []\n",
        "all_preprocessors = []"
      ],
      "metadata": {
        "id": "Hl5BaK0S9Xb1"
      },
      "execution_count": 28,
      "outputs": []
    },
    {
      "cell_type": "code",
      "source": [
        "for numeric in numeric_keys:\n",
        "  input = tf.keras.Input(shape=(1,), name=numeric, dtype=\"int64\")\n",
        "  num_layer = numeric_preprocessing(name=numeric, dataset=train_ds, num_bins=32)\n",
        "  num_preprocessor = num_layer(input)\n",
        "  all_inputs.append(input)\n",
        "  all_preprocessors.append(num_preprocessor)"
      ],
      "metadata": {
        "id": "n44nM94XQ4po"
      },
      "execution_count": 29,
      "outputs": []
    },
    {
      "cell_type": "code",
      "source": [
        "for categorical in categorical_string_keys:\n",
        "  input = tf.keras.Input(shape=(1,), name=categorical, dtype=\"string\")\n",
        "  cat_layer = categories_preprocessing(name=categorical, dataset=train_ds, dtype=\"string\")\n",
        "  cat_preprocessor = cat_layer(input)\n",
        "  all_inputs.append(input)\n",
        "  all_preprocessors.append(cat_preprocessor)"
      ],
      "metadata": {
        "id": "uZp_YEXgUlZc"
      },
      "execution_count": 30,
      "outputs": []
    },
    {
      "cell_type": "code",
      "source": [
        "for categorical_int in categorical_integer_keys:\n",
        "  input = tf.keras.Input(shape=(1,), name=categorical_int, dtype=\"int64\")\n",
        "  cat_int_layer = categories_preprocessing(name=categorical_int, dataset=train_ds, dtype=\"int64\")\n",
        "  cat_int_preprocessor = cat_int_layer(input)\n",
        "  all_inputs.append(input)\n",
        "  all_preprocessors.append(cat_int_preprocessor)"
      ],
      "metadata": {
        "id": "LcPGORYKsIYB"
      },
      "execution_count": 31,
      "outputs": []
    },
    {
      "cell_type": "code",
      "source": [
        "all_inputs, all_preprocessors"
      ],
      "metadata": {
        "colab": {
          "base_uri": "https://localhost:8080/"
        },
        "id": "dBp7suJaVeg8",
        "outputId": "27b061b5-d578-4929-d015-656b50d5c4a6"
      },
      "execution_count": 32,
      "outputs": [
        {
          "output_type": "execute_result",
          "data": {
            "text/plain": [
              "([<KerasTensor: shape=(None, 1) dtype=int64 (created by layer 'balance')>,\n",
              "  <KerasTensor: shape=(None, 1) dtype=int64 (created by layer 'duration')>,\n",
              "  <KerasTensor: shape=(None, 1) dtype=string (created by layer 'job')>,\n",
              "  <KerasTensor: shape=(None, 1) dtype=string (created by layer 'marital')>,\n",
              "  <KerasTensor: shape=(None, 1) dtype=string (created by layer 'education')>,\n",
              "  <KerasTensor: shape=(None, 1) dtype=string (created by layer 'housing')>,\n",
              "  <KerasTensor: shape=(None, 1) dtype=string (created by layer 'loan')>,\n",
              "  <KerasTensor: shape=(None, 1) dtype=string (created by layer 'month')>,\n",
              "  <KerasTensor: shape=(None, 1) dtype=int64 (created by layer 'age')>],\n",
              " [<KerasTensor: shape=(None, 1) dtype=float32 (created by layer 'normalization_1')>,\n",
              "  <KerasTensor: shape=(None, 1) dtype=float32 (created by layer 'normalization_2')>,\n",
              "  <KerasTensor: shape=(None, 13) dtype=float32 (created by layer 'category_encoding_1')>,\n",
              "  <KerasTensor: shape=(None, 4) dtype=float32 (created by layer 'category_encoding_2')>,\n",
              "  <KerasTensor: shape=(None, 5) dtype=float32 (created by layer 'category_encoding_3')>,\n",
              "  <KerasTensor: shape=(None, 3) dtype=float32 (created by layer 'category_encoding_4')>,\n",
              "  <KerasTensor: shape=(None, 3) dtype=float32 (created by layer 'category_encoding_5')>,\n",
              "  <KerasTensor: shape=(None, 13) dtype=float32 (created by layer 'category_encoding_6')>,\n",
              "  <KerasTensor: shape=(None, 78) dtype=float32 (created by layer 'category_encoding_7')>])"
            ]
          },
          "metadata": {},
          "execution_count": 32
        }
      ]
    },
    {
      "cell_type": "markdown",
      "source": [
        "##Model"
      ],
      "metadata": {
        "id": "0w9VerxWVw43"
      }
    },
    {
      "cell_type": "code",
      "source": [
        "all_features = tf.keras.layers.concatenate(all_preprocessors)\n",
        "x = tf.keras.layers.Dense(16, activation=tf.keras.activations.relu, kernel_regularizer=tf.keras.regularizers.L2(0.0001))(all_features)\n",
        "x = tf.keras.layers.Dropout(0.5)(x)\n",
        "x = tf.keras.layers.Dense(16, activation=tf.keras.activations.relu, kernel_regularizer=tf.keras.regularizers.L2(0.0001))(x)\n",
        "x = tf.keras.layers.Dropout(0.5)(x)\n",
        "x = tf.keras.layers.Dense(16, activation=tf.keras.activations.relu, kernel_regularizer=tf.keras.regularizers.L2(0.0001))(x)\n",
        "x = tf.keras.layers.Dropout(0.5)(x)\n",
        "output = tf.keras.layers.Dense(1, activation=tf.keras.activations.sigmoid)(x)\n",
        "\n",
        "model = tf.keras.Model(all_inputs, output)"
      ],
      "metadata": {
        "id": "Kq0jZyrzVwJT"
      },
      "execution_count": 42,
      "outputs": []
    },
    {
      "cell_type": "code",
      "source": [
        "tf.keras.utils.plot_model(model, show_shapes=True, rankdir=\"LR\")"
      ],
      "metadata": {
        "colab": {
          "base_uri": "https://localhost:8080/",
          "height": 266
        },
        "id": "yOHa8_s5d49g",
        "outputId": "668fb98b-afb5-46aa-fac2-795055e9c7bc"
      },
      "execution_count": 43,
      "outputs": [
        {
          "output_type": "execute_result",
          "data": {
            "text/plain": [
              "<IPython.core.display.Image object>"
            ],
            "image/png": "[encoded data removed]"
          },
          "metadata": {},
          "execution_count": 43
        }
      ]
    },
    {
      "cell_type": "code",
      "source": [
        "METRICS = [\n",
        "      tf.keras.metrics.TruePositives(name='tp'),\n",
        "      tf.keras.metrics.FalsePositives(name='fp'),\n",
        "      tf.keras.metrics.TrueNegatives(name='tn'),\n",
        "      tf.keras.metrics.FalseNegatives(name='fn'), \n",
        "      tf.keras.metrics.BinaryAccuracy(name='accuracy'),\n",
        "      tf.keras.metrics.Precision(name='precision'),\n",
        "      tf.keras.metrics.Recall(name='recall'),\n",
        "      tf.keras.metrics.AUC(name='auc'),\n",
        "      tf.keras.metrics.AUC(name='prc', curve='PR'), # precision-recall curve\n",
        "]\n",
        "model.compile(optimizer=tf.keras.optimizers.Adam(),\n",
        "              loss=tf.keras.losses.BinaryCrossentropy(),\n",
        "              metrics=METRICS)"
      ],
      "metadata": {
        "id": "8ohLUpvQdMsH"
      },
      "execution_count": 44,
      "outputs": []
    },
    {
      "cell_type": "code",
      "source": [
        "es_loss = tf.keras.callbacks.EarlyStopping(monitor='loss', patience=5)\n",
        "es_val_loss = tf.keras.callbacks.EarlyStopping(monitor='val_loss', patience=5)\n",
        "history = model.fit(train_ds, epochs=100, validation_data=val_ds, callbacks=[es_loss, es_val_loss])"
      ],
      "metadata": {
        "colab": {
          "base_uri": "https://localhost:8080/"
        },
        "id": "3XgJ1yhqeOMb",
        "outputId": "62bb9c29-7828-4d47-9afd-68d331e7ee3d"
      },
      "execution_count": 45,
      "outputs": [
        {
          "output_type": "stream",
          "name": "stdout",
          "text": [
            "Epoch 1/100\n",
            "2568/2568 [==============================] - 46s 17ms/step - loss: 0.4971 - tp: 138582.0000 - fp: 43577.0000 - tn: 116148.0000 - fn: 30378.0000 - accuracy: 0.7750 - precision: 0.7608 - recall: 0.8202 - auc: 0.8476 - prc: 0.8321 - val_loss: 1.2237 - val_tp: 44646.0000 - val_fp: 41136.0000 - val_tn: 6726.0000 - val_fn: 84.0000 - val_accuracy: 0.5548 - val_precision: 0.5205 - val_recall: 0.9981 - val_auc: 0.8843 - val_prc: 0.8476\n",
            "Epoch 2/100\n",
            "2568/2568 [==============================] - 43s 17ms/step - loss: 0.4440 - tp: 147893.0000 - fp: 39777.0000 - tn: 119948.0000 - fn: 21067.0000 - accuracy: 0.8149 - precision: 0.7880 - recall: 0.8753 - auc: 0.8764 - prc: 0.8529 - val_loss: 1.1094 - val_tp: 44646.0000 - val_fp: 39666.0000 - val_tn: 8196.0000 - val_fn: 84.0000 - val_accuracy: 0.5707 - val_precision: 0.5295 - val_recall: 0.9981 - val_auc: 0.8863 - val_prc: 0.8512\n",
            "Epoch 3/100\n",
            "2568/2568 [==============================] - 42s 16ms/step - loss: 0.4356 - tp: 148735.0000 - fp: 39692.0000 - tn: 120033.0000 - fn: 20225.0000 - accuracy: 0.8177 - precision: 0.7894 - recall: 0.8803 - auc: 0.8801 - prc: 0.8551 - val_loss: 1.0263 - val_tp: 44562.0000 - val_fp: 36990.0000 - val_tn: 10872.0000 - val_fn: 168.0000 - val_accuracy: 0.5987 - val_precision: 0.5464 - val_recall: 0.9962 - val_auc: 0.8852 - val_prc: 0.8511\n",
            "Epoch 4/100\n",
            "2568/2568 [==============================] - 43s 17ms/step - loss: 0.4315 - tp: 149421.0000 - fp: 39867.0000 - tn: 119858.0000 - fn: 19539.0000 - accuracy: 0.8193 - precision: 0.7894 - recall: 0.8844 - auc: 0.8823 - prc: 0.8571 - val_loss: 0.9469 - val_tp: 44436.0000 - val_fp: 34362.0000 - val_tn: 13500.0000 - val_fn: 294.0000 - val_accuracy: 0.6257 - val_precision: 0.5639 - val_recall: 0.9934 - val_auc: 0.8856 - val_prc: 0.8520\n",
            "Epoch 5/100\n",
            "2568/2568 [==============================] - 44s 17ms/step - loss: 0.4286 - tp: 149582.0000 - fp: 39857.0000 - tn: 119868.0000 - fn: 19378.0000 - accuracy: 0.8198 - precision: 0.7896 - recall: 0.8853 - auc: 0.8835 - prc: 0.8594 - val_loss: 0.9610 - val_tp: 44394.0000 - val_fp: 34530.0000 - val_tn: 13332.0000 - val_fn: 336.0000 - val_accuracy: 0.6234 - val_precision: 0.5625 - val_recall: 0.9925 - val_auc: 0.8861 - val_prc: 0.8522\n",
            "Epoch 6/100\n",
            "2568/2568 [==============================] - 43s 17ms/step - loss: 0.4275 - tp: 149761.0000 - fp: 39939.0000 - tn: 119786.0000 - fn: 19199.0000 - accuracy: 0.8201 - precision: 0.7895 - recall: 0.8864 - auc: 0.8840 - prc: 0.8591 - val_loss: 0.8825 - val_tp: 44268.0000 - val_fp: 31974.0000 - val_tn: 15888.0000 - val_fn: 462.0000 - val_accuracy: 0.6497 - val_precision: 0.5806 - val_recall: 0.9897 - val_auc: 0.8865 - val_prc: 0.8534\n",
            "Epoch 7/100\n",
            "2568/2568 [==============================] - 44s 17ms/step - loss: 0.4264 - tp: 150025.0000 - fp: 40305.0000 - tn: 119420.0000 - fn: 18935.0000 - accuracy: 0.8198 - precision: 0.7882 - recall: 0.8879 - auc: 0.8843 - prc: 0.8598 - val_loss: 0.9046 - val_tp: 44268.0000 - val_fp: 32328.0000 - val_tn: 15534.0000 - val_fn: 462.0000 - val_accuracy: 0.6459 - val_precision: 0.5779 - val_recall: 0.9897 - val_auc: 0.8862 - val_prc: 0.8525\n",
            "Epoch 8/100\n",
            "2568/2568 [==============================] - 43s 17ms/step - loss: 0.4250 - tp: 150228.0000 - fp: 40307.0000 - tn: 119418.0000 - fn: 18732.0000 - accuracy: 0.8204 - precision: 0.7885 - recall: 0.8891 - auc: 0.8847 - prc: 0.8605 - val_loss: 0.8916 - val_tp: 44142.0000 - val_fp: 30768.0000 - val_tn: 17094.0000 - val_fn: 588.0000 - val_accuracy: 0.6614 - val_precision: 0.5893 - val_recall: 0.9869 - val_auc: 0.8860 - val_prc: 0.8517\n",
            "Epoch 9/100\n",
            "2568/2568 [==============================] - 44s 17ms/step - loss: 0.4226 - tp: 150381.0000 - fp: 40277.0000 - tn: 119448.0000 - fn: 18579.0000 - accuracy: 0.8209 - precision: 0.7887 - recall: 0.8900 - auc: 0.8856 - prc: 0.8610 - val_loss: 0.8999 - val_tp: 44142.0000 - val_fp: 31116.0000 - val_tn: 16746.0000 - val_fn: 588.0000 - val_accuracy: 0.6576 - val_precision: 0.5865 - val_recall: 0.9869 - val_auc: 0.8850 - val_prc: 0.8515\n",
            "Epoch 10/100\n",
            "2568/2568 [==============================] - 42s 17ms/step - loss: 0.4216 - tp: 150371.0000 - fp: 40292.0000 - tn: 119433.0000 - fn: 18589.0000 - accuracy: 0.8209 - precision: 0.7887 - recall: 0.8900 - auc: 0.8858 - prc: 0.8609 - val_loss: 0.8511 - val_tp: 44016.0000 - val_fp: 28842.0000 - val_tn: 19020.0000 - val_fn: 714.0000 - val_accuracy: 0.6808 - val_precision: 0.6041 - val_recall: 0.9840 - val_auc: 0.8852 - val_prc: 0.8514\n",
            "Epoch 11/100\n",
            "2568/2568 [==============================] - 43s 17ms/step - loss: 0.4196 - tp: 150661.0000 - fp: 40658.0000 - tn: 119067.0000 - fn: 18299.0000 - accuracy: 0.8206 - precision: 0.7875 - recall: 0.8917 - auc: 0.8866 - prc: 0.8618 - val_loss: 0.8439 - val_tp: 44016.0000 - val_fp: 27864.0000 - val_tn: 19998.0000 - val_fn: 714.0000 - val_accuracy: 0.6914 - val_precision: 0.6124 - val_recall: 0.9840 - val_auc: 0.8867 - val_prc: 0.8522\n",
            "Epoch 12/100\n",
            "2568/2568 [==============================] - 42s 16ms/step - loss: 0.4197 - tp: 150647.0000 - fp: 40804.0000 - tn: 118921.0000 - fn: 18313.0000 - accuracy: 0.8201 - precision: 0.7869 - recall: 0.8916 - auc: 0.8868 - prc: 0.8627 - val_loss: 0.8436 - val_tp: 43932.0000 - val_fp: 27384.0000 - val_tn: 20478.0000 - val_fn: 798.0000 - val_accuracy: 0.6956 - val_precision: 0.6160 - val_recall: 0.9822 - val_auc: 0.8868 - val_prc: 0.8518\n",
            "Epoch 13/100\n",
            "2568/2568 [==============================] - 43s 17ms/step - loss: 0.4185 - tp: 150787.0000 - fp: 40759.0000 - tn: 118966.0000 - fn: 18173.0000 - accuracy: 0.8207 - precision: 0.7872 - recall: 0.8924 - auc: 0.8869 - prc: 0.8625 - val_loss: 0.8564 - val_tp: 43890.0000 - val_fp: 26976.0000 - val_tn: 20886.0000 - val_fn: 840.0000 - val_accuracy: 0.6996 - val_precision: 0.6193 - val_recall: 0.9812 - val_auc: 0.8872 - val_prc: 0.8519\n",
            "Epoch 14/100\n",
            "2568/2568 [==============================] - 42s 16ms/step - loss: 0.4180 - tp: 150848.0000 - fp: 40699.0000 - tn: 119026.0000 - fn: 18112.0000 - accuracy: 0.8211 - precision: 0.7875 - recall: 0.8928 - auc: 0.8872 - prc: 0.8624 - val_loss: 0.8467 - val_tp: 43974.0000 - val_fp: 26664.0000 - val_tn: 21198.0000 - val_fn: 756.0000 - val_accuracy: 0.7039 - val_precision: 0.6225 - val_recall: 0.9831 - val_auc: 0.8864 - val_prc: 0.8519\n",
            "Epoch 15/100\n",
            "2568/2568 [==============================] - 43s 17ms/step - loss: 0.4177 - tp: 150677.0000 - fp: 40490.0000 - tn: 119235.0000 - fn: 18283.0000 - accuracy: 0.8212 - precision: 0.7882 - recall: 0.8918 - auc: 0.8870 - prc: 0.8609 - val_loss: 0.8241 - val_tp: 43806.0000 - val_fp: 26442.0000 - val_tn: 21420.0000 - val_fn: 924.0000 - val_accuracy: 0.7044 - val_precision: 0.6236 - val_recall: 0.9793 - val_auc: 0.8854 - val_prc: 0.8522\n",
            "Epoch 16/100\n",
            "2568/2568 [==============================] - 43s 17ms/step - loss: 0.4176 - tp: 150650.0000 - fp: 40669.0000 - tn: 119056.0000 - fn: 18310.0000 - accuracy: 0.8206 - precision: 0.7874 - recall: 0.8916 - auc: 0.8874 - prc: 0.8623 - val_loss: 0.8366 - val_tp: 43764.0000 - val_fp: 26790.0000 - val_tn: 21072.0000 - val_fn: 966.0000 - val_accuracy: 0.7002 - val_precision: 0.6203 - val_recall: 0.9784 - val_auc: 0.8858 - val_prc: 0.8522\n",
            "Epoch 17/100\n",
            "2568/2568 [==============================] - 43s 17ms/step - loss: 0.4165 - tp: 150694.0000 - fp: 40828.0000 - tn: 118897.0000 - fn: 18266.0000 - accuracy: 0.8202 - precision: 0.7868 - recall: 0.8919 - auc: 0.8876 - prc: 0.8633 - val_loss: 0.8662 - val_tp: 43806.0000 - val_fp: 26322.0000 - val_tn: 21540.0000 - val_fn: 924.0000 - val_accuracy: 0.7057 - val_precision: 0.6247 - val_recall: 0.9793 - val_auc: 0.8862 - val_prc: 0.8517\n",
            "Epoch 18/100\n",
            "2568/2568 [==============================] - 42s 16ms/step - loss: 0.4173 - tp: 150567.0000 - fp: 40571.0000 - tn: 119154.0000 - fn: 18393.0000 - accuracy: 0.8206 - precision: 0.7877 - recall: 0.8911 - auc: 0.8870 - prc: 0.8609 - val_loss: 0.8296 - val_tp: 43806.0000 - val_fp: 26550.0000 - val_tn: 21312.0000 - val_fn: 924.0000 - val_accuracy: 0.7033 - val_precision: 0.6226 - val_recall: 0.9793 - val_auc: 0.8844 - val_prc: 0.8521\n",
            "Epoch 19/100\n",
            "2568/2568 [==============================] - 42s 17ms/step - loss: 0.4174 - tp: 150739.0000 - fp: 41031.0000 - tn: 118694.0000 - fn: 18221.0000 - accuracy: 0.8197 - precision: 0.7860 - recall: 0.8922 - auc: 0.8874 - prc: 0.8620 - val_loss: 0.8149 - val_tp: 43638.0000 - val_fp: 25320.0000 - val_tn: 22542.0000 - val_fn: 1092.0000 - val_accuracy: 0.7147 - val_precision: 0.6328 - val_recall: 0.9756 - val_auc: 0.8859 - val_prc: 0.8532\n",
            "Epoch 20/100\n",
            "2568/2568 [==============================] - 42s 16ms/step - loss: 0.4150 - tp: 150830.0000 - fp: 40736.0000 - tn: 118989.0000 - fn: 18130.0000 - accuracy: 0.8209 - precision: 0.7874 - recall: 0.8927 - auc: 0.8887 - prc: 0.8651 - val_loss: 0.8729 - val_tp: 43806.0000 - val_fp: 26046.0000 - val_tn: 21816.0000 - val_fn: 924.0000 - val_accuracy: 0.7087 - val_precision: 0.6271 - val_recall: 0.9793 - val_auc: 0.8865 - val_prc: 0.8505\n",
            "Epoch 21/100\n",
            "2568/2568 [==============================] - 43s 17ms/step - loss: 0.4160 - tp: 150846.0000 - fp: 40590.0000 - tn: 119135.0000 - fn: 18114.0000 - accuracy: 0.8214 - precision: 0.7880 - recall: 0.8928 - auc: 0.8880 - prc: 0.8625 - val_loss: 0.8555 - val_tp: 43848.0000 - val_fp: 26148.0000 - val_tn: 21714.0000 - val_fn: 882.0000 - val_accuracy: 0.7081 - val_precision: 0.6264 - val_recall: 0.9803 - val_auc: 0.8858 - val_prc: 0.8522\n",
            "Epoch 22/100\n",
            "2568/2568 [==============================] - 42s 16ms/step - loss: 0.4166 - tp: 150852.0000 - fp: 41164.0000 - tn: 118561.0000 - fn: 18108.0000 - accuracy: 0.8197 - precision: 0.7856 - recall: 0.8928 - auc: 0.8874 - prc: 0.8619 - val_loss: 0.8591 - val_tp: 43722.0000 - val_fp: 25716.0000 - val_tn: 22146.0000 - val_fn: 1008.0000 - val_accuracy: 0.7114 - val_precision: 0.6297 - val_recall: 0.9775 - val_auc: 0.8862 - val_prc: 0.8529\n",
            "Epoch 23/100\n",
            "2568/2568 [==============================] - 43s 17ms/step - loss: 0.4158 - tp: 151180.0000 - fp: 41059.0000 - tn: 118666.0000 - fn: 17780.0000 - accuracy: 0.8210 - precision: 0.7864 - recall: 0.8948 - auc: 0.8880 - prc: 0.8624 - val_loss: 0.8390 - val_tp: 43680.0000 - val_fp: 25350.0000 - val_tn: 22512.0000 - val_fn: 1050.0000 - val_accuracy: 0.7149 - val_precision: 0.6328 - val_recall: 0.9765 - val_auc: 0.8859 - val_prc: 0.8530\n",
            "Epoch 24/100\n",
            "2568/2568 [==============================] - 42s 16ms/step - loss: 0.4158 - tp: 151288.0000 - fp: 41083.0000 - tn: 118642.0000 - fn: 17672.0000 - accuracy: 0.8212 - precision: 0.7864 - recall: 0.8954 - auc: 0.8880 - prc: 0.8628 - val_loss: 0.8761 - val_tp: 43806.0000 - val_fp: 25842.0000 - val_tn: 22020.0000 - val_fn: 924.0000 - val_accuracy: 0.7109 - val_precision: 0.6290 - val_recall: 0.9793 - val_auc: 0.8860 - val_prc: 0.8517\n"
          ]
        }
      ]
    },
    {
      "cell_type": "markdown",
      "source": [
        "##Model Evaluation"
      ],
      "metadata": {
        "id": "oR0g7AJPLiA1"
      }
    },
    {
      "cell_type": "code",
      "source": [
        "metric = ['loss', 'accuracy', 'prc', 'precision', 'recall']\n",
        "plot_metric(3,2, history, metric)"
      ],
      "metadata": {
        "id": "Gs-9MpCvtnP9",
        "outputId": "9656a6e0-232c-4338-b2ce-f803367576f3",
        "colab": {
          "base_uri": "https://localhost:8080/",
          "height": 427
        }
      },
      "execution_count": 46,
      "outputs": [
        {
          "output_type": "display_data",
          "data": {
            "text/plain": [
              "<Figure size 1080x720 with 6 Axes>"
            ],
            "image/png": "[encoded data removed]"
          },
          "metadata": {
            "needs_background": "light"
          }
        }
      ]
    },
    {
      "cell_type": "code",
      "source": [
        "predict_test = model.predict(test_ds)\n",
        "test_ds_unbach = test_ds.unbatch()\n",
        "label_test = [i[1] for i in list(test_ds_unbach.as_numpy_iterator())]\n"
      ],
      "metadata": {
        "id": "PvuHBMGFwg6T"
      },
      "execution_count": 47,
      "outputs": []
    },
    {
      "cell_type": "code",
      "source": [
        "model_evaluate = model.evaluate(test_ds)\n",
        "for name_metric, value_evaluate in zip(model.metrics_names, model_evaluate):\n",
        "  print(name_metric, ': ', value_evaluate)\n",
        "\n",
        "plot_confution_matrix(label_test, predict_test)"
      ],
      "metadata": {
        "id": "tl8vJBCmpgtJ",
        "colab": {
          "base_uri": "https://localhost:8080/",
          "height": 648
        },
        "outputId": "ace61460-9348-4712-a29b-e8772ce15662"
      },
      "execution_count": 48,
      "outputs": [
        {
          "output_type": "stream",
          "name": "stdout",
          "text": [
            "36/36 [==============================] - 0s 9ms/step - loss: 1.3775 - tp: 519.0000 - fp: 2211.0000 - tn: 1789.0000 - fn: 2.0000 - accuracy: 0.5105 - precision: 0.1901 - recall: 0.9962 - auc: 0.8935 - prc: 0.4673\n",
            "loss :  1.3774547576904297\n",
            "tp :  519.0\n",
            "fp :  2211.0\n",
            "tn :  1789.0\n",
            "fn :  2.0\n",
            "accuracy :  0.5105065107345581\n",
            "precision :  0.19010989367961884\n",
            "recall :  0.9961612224578857\n",
            "auc :  0.8934691548347473\n",
            "prc :  0.46730685234069824\n",
            "Legitimate Transactions Detected (True Negatives):  1789\n",
            "Legitimate Transactions Incorrectly Detected (False Positives):  2211\n",
            "Fraudulent Transactions Missed (False Negatives):  2\n",
            "Fraudulent Transactions Detected (True Positives):  519\n",
            "Total Fraudulent Transactions:  521\n"
          ]
        },
        {
          "output_type": "display_data",
          "data": {
            "text/plain": [
              "<Figure size 360x360 with 2 Axes>"
            ],
            "image/png": "[encoded data removed]"
          },
          "metadata": {
            "needs_background": "light"
          }
        }
      ]
    },
    {
      "cell_type": "code",
      "source": [
        "dataset_test.sort_values(by=[\"target\"], ascending=True).head()"
      ],
      "metadata": {
        "id": "QImhllBHu2zd",
        "colab": {
          "base_uri": "https://localhost:8080/",
          "height": 270
        },
        "outputId": "8d13a75b-7056-4658-8856-48076fc4347d"
      },
      "execution_count": 49,
      "outputs": [
        {
          "output_type": "execute_result",
          "data": {
            "text/plain": [
              "      age         job  marital  education  balance housing loan month  \\\n",
              "0      30  unemployed  married    primary     1787      no   no   oct   \n",
              "2906   34  management   single   tertiary        0      no   no   aug   \n",
              "2907   44  technician  married   tertiary     1707      no   no   aug   \n",
              "2908   35  technician  married  secondary    13658     yes   no   dec   \n",
              "2909   39      admin.  married  secondary      406      no   no   jul   \n",
              "\n",
              "      duration  target  \n",
              "0           79       0  \n",
              "2906       191       0  \n",
              "2907       406       0  \n",
              "2908       220       0  \n",
              "2909       253       0  "
            ],
            "text/html": [
              "\n",
              "  <div id=\"df-138e22e0-891d-4f1e-8e2d-53b6ae657a73\">\n",
              "    <div class=\"colab-df-container\">\n",
              "      <div>\n",
              "<style scoped>\n",
              "    .dataframe tbody tr th:only-of-type {\n",
              "        vertical-align: middle;\n",
              "    }\n",
              "\n",
              "    .dataframe tbody tr th {\n",
              "        vertical-align: top;\n",
              "    }\n",
              "\n",
              "    .dataframe thead th {\n",
              "        text-align: right;\n",
              "    }\n",
              "</style>\n",
              "<table border=\"1\" class=\"dataframe\">\n",
              "  <thead>\n",
              "    <tr style=\"text-align: right;\">\n",
              "      <th></th>\n",
              "      <th>age</th>\n",
              "      <th>job</th>\n",
              "      <th>marital</th>\n",
              "      <th>education</th>\n",
              "      <th>balance</th>\n",
              "      <th>housing</th>\n",
              "      <th>loan</th>\n",
              "      <th>month</th>\n",
              "      <th>duration</th>\n",
              "      <th>target</th>\n",
              "    </tr>\n",
              "  </thead>\n",
              "  <tbody>\n",
              "    <tr>\n",
              "      <th>0</th>\n",
              "      <td>30</td>\n",
              "      <td>unemployed</td>\n",
              "      <td>married</td>\n",
              "      <td>primary</td>\n",
              "      <td>1787</td>\n",
              "      <td>no</td>\n",
              "      <td>no</td>\n",
              "      <td>oct</td>\n",
              "      <td>79</td>\n",
              "      <td>0</td>\n",
              "    </tr>\n",
              "    <tr>\n",
              "      <th>2906</th>\n",
              "      <td>34</td>\n",
              "      <td>management</td>\n",
              "      <td>single</td>\n",
              "      <td>tertiary</td>\n",
              "      <td>0</td>\n",
              "      <td>no</td>\n",
              "      <td>no</td>\n",
              "      <td>aug</td>\n",
              "      <td>191</td>\n",
              "      <td>0</td>\n",
              "    </tr>\n",
              "    <tr>\n",
              "      <th>2907</th>\n",
              "      <td>44</td>\n",
              "      <td>technician</td>\n",
              "      <td>married</td>\n",
              "      <td>tertiary</td>\n",
              "      <td>1707</td>\n",
              "      <td>no</td>\n",
              "      <td>no</td>\n",
              "      <td>aug</td>\n",
              "      <td>406</td>\n",
              "      <td>0</td>\n",
              "    </tr>\n",
              "    <tr>\n",
              "      <th>2908</th>\n",
              "      <td>35</td>\n",
              "      <td>technician</td>\n",
              "      <td>married</td>\n",
              "      <td>secondary</td>\n",
              "      <td>13658</td>\n",
              "      <td>yes</td>\n",
              "      <td>no</td>\n",
              "      <td>dec</td>\n",
              "      <td>220</td>\n",
              "      <td>0</td>\n",
              "    </tr>\n",
              "    <tr>\n",
              "      <th>2909</th>\n",
              "      <td>39</td>\n",
              "      <td>admin.</td>\n",
              "      <td>married</td>\n",
              "      <td>secondary</td>\n",
              "      <td>406</td>\n",
              "      <td>no</td>\n",
              "      <td>no</td>\n",
              "      <td>jul</td>\n",
              "      <td>253</td>\n",
              "      <td>0</td>\n",
              "    </tr>\n",
              "  </tbody>\n",
              "</table>\n",
              "</div>\n",
              "      <button class=\"colab-df-convert\" onclick=\"convertToInteractive('df-138e22e0-891d-4f1e-8e2d-53b6ae657a73')\"\n",
              "              title=\"Convert this dataframe to an interactive table.\"\n",
              "              style=\"display:none;\">\n",
              "        \n",
              "  <svg xmlns=\"http://www.w3.org/2000/svg\" height=\"24px\"viewBox=\"0 0 24 24\"\n",
              "       width=\"24px\">\n",
              "    <path d=\"M0 0h24v24H0V0z\" fill=\"none\"/>\n",
              "    <path d=\"M18.56 5.44l.94 2.06.94-2.06 2.06-.94-2.06-.94-.94-2.06-.94 2.06-2.06.94zm-11 1L8.5 8.5l.94-2.06 2.06-.94-2.06-.94L8.5 2.5l-.94 2.06-2.06.94zm10 10l.94 2.06.94-2.06 2.06-.94-2.06-.94-.94-2.06-.94 2.06-2.06.94z\"/><path d=\"M17.41 7.96l-1.37-1.37c-.4-.4-.92-.59-1.43-.59-.52 0-1.04.2-1.43.59L10.3 9.45l-7.72 7.72c-.78.78-.78 2.05 0 2.83L4 21.41c.39.39.9.59 1.41.59.51 0 1.02-.2 1.41-.59l7.78-7.78 2.81-2.81c.8-.78.8-2.07 0-2.86zM5.41 20L4 18.59l7.72-7.72 1.47 1.35L5.41 20z\"/>\n",
              "  </svg>\n",
              "      </button>\n",
              "      \n",
              "  <style>\n",
              "    .colab-df-container {\n",
              "      display:flex;\n",
              "      flex-wrap:wrap;\n",
              "      gap: 12px;\n",
              "    }\n",
              "\n",
              "    .colab-df-convert {\n",
              "      background-color: #E8F0FE;\n",
              "      border: none;\n",
              "      border-radius: 50%;\n",
              "      cursor: pointer;\n",
              "      display: none;\n",
              "      fill: #1967D2;\n",
              "      height: 32px;\n",
              "      padding: 0 0 0 0;\n",
              "      width: 32px;\n",
              "    }\n",
              "\n",
              "    .colab-df-convert:hover {\n",
              "      background-color: #E2EBFA;\n",
              "      box-shadow: 0px 1px 2px rgba(60, 64, 67, 0.3), 0px 1px 3px 1px rgba(60, 64, 67, 0.15);\n",
              "      fill: #174EA6;\n",
              "    }\n",
              "\n",
              "    [theme=dark] .colab-df-convert {\n",
              "      background-color: #3B4455;\n",
              "      fill: #D2E3FC;\n",
              "    }\n",
              "\n",
              "    [theme=dark] .colab-df-convert:hover {\n",
              "      background-color: #434B5C;\n",
              "      box-shadow: 0px 1px 3px 1px rgba(0, 0, 0, 0.15);\n",
              "      filter: drop-shadow(0px 1px 2px rgba(0, 0, 0, 0.3));\n",
              "      fill: #FFFFFF;\n",
              "    }\n",
              "  </style>\n",
              "\n",
              "      <script>\n",
              "        const buttonEl =\n",
              "          document.querySelector('#df-138e22e0-891d-4f1e-8e2d-53b6ae657a73 button.colab-df-convert');\n",
              "        buttonEl.style.display =\n",
              "          google.colab.kernel.accessAllowed ? 'block' : 'none';\n",
              "\n",
              "        async function convertToInteractive(key) {\n",
              "          const element = document.querySelector('#df-138e22e0-891d-4f1e-8e2d-53b6ae657a73');\n",
              "          const dataTable =\n",
              "            await google.colab.kernel.invokeFunction('convertToInteractive',\n",
              "                                                     [key], {});\n",
              "          if (!dataTable) return;\n",
              "\n",
              "          const docLinkHtml = 'Like what you see? Visit the ' +\n",
              "            '<a target=\"_blank\" href=https://colab.research.google.com/notebooks/data_table.ipynb>data table notebook</a>'\n",
              "            + ' to learn more about interactive tables.';\n",
              "          element.innerHTML = '';\n",
              "          dataTable['output_type'] = 'display_data';\n",
              "          await google.colab.output.renderOutput(dataTable, element);\n",
              "          const docLink = document.createElement('div');\n",
              "          docLink.innerHTML = docLinkHtml;\n",
              "          element.appendChild(docLink);\n",
              "        }\n",
              "      </script>\n",
              "    </div>\n",
              "  </div>\n",
              "  "
            ]
          },
          "metadata": {},
          "execution_count": 49
        }
      ]
    },
    {
      "cell_type": "markdown",
      "source": [
        "##Predict"
      ],
      "metadata": {
        "id": "JnbZWUunLtWa"
      }
    },
    {
      "cell_type": "code",
      "source": [
        "sample = {\n",
        "    'age': 35,\n",
        "    'job': 'technician',\n",
        "    'marital': 'married',\n",
        "    'education': 'tertiary',\n",
        "    'balance': 1707,\n",
        "    'housing': 'no',\n",
        "    'loan': 'no',\n",
        "    'month': 'aug',\n",
        "    'duration': 406\n",
        "}\n",
        "\n",
        "input_dict = {name: tf.convert_to_tensor([value]) for name, value in sample.items()}\n",
        "predictions = model.predict(input_dict)\n",
        "\n",
        "print(\n",
        "    f\"Probabilitas untuk berlangganan deposito berjangka adalah {round(100 * predictions[0][0], 2)} % \"\n",
        "    f\"untuk setuju\"\n",
        ")"
      ],
      "metadata": {
        "id": "EZ8ZzX-X3PgX",
        "colab": {
          "base_uri": "https://localhost:8080/"
        },
        "outputId": "5daffbc4-84da-4eb7-b2cd-9a0f12c55360"
      },
      "execution_count": 50,
      "outputs": [
        {
          "output_type": "stream",
          "name": "stdout",
          "text": [
            "Probabilitas untuk berlangganan deposito berjangka adalah 96.41 % untuk setuju\n"
          ]
        }
      ]
    }
  ]
}