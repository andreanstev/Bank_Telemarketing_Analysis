{
  "nbformat": 4,
  "nbformat_minor": 0,
  "metadata": {
    "colab": {
      "name": "#Demo day Fintech 8.ipynb",
      "provenance": [],
      "collapsed_sections": [
        "I8sLXLmJ0YHl",
        "xNDd-nsn0bqh",
        "8nLDorXUiwIG"
      ],
      "toc_visible": true,
      "authorship_tag": "ABX9TyMVWu3eN8L81kTs6vSgecLg",
      "include_colab_link": true
    },
    "kernelspec": {
      "name": "python3",
      "display_name": "Python 3"
    },
    "language_info": {
      "name": "python"
    },
    "gpuClass": "standard"
  },
  "cells": [
    {
      "cell_type": "markdown",
      "metadata": {
        "id": "view-in-github",
        "colab_type": "text"
      },
      "source": [
        "<a href=\"https://colab.research.google.com/github/iongie/demo-day-fin-8/blob/Gigih-Santoso/_Demo_day_Fintech_8.ipynb\" target=\"_parent\"><img src=\"https://colab.research.google.com/assets/colab-badge.svg\" alt=\"Open In Colab\"/></a>"
      ]
    },
    {
      "cell_type": "markdown",
      "source": [
        "#Demo day Fintech 8\n",
        "\n",
        "\"Data tersebut terkait dengan kampanye pemasaran langsung dari lembaga perbankan Portugis. Kampanye pemasaran didasarkan pada panggilan telepon. Seringkali, lebih dari satu kontak ke klien yang sama diperlukan, untuk mengakses apakah produk (deposito berjangka bank) akan ('ya') atau tidak ('tidak') dilanggan oleh pelanggan atau tidak. Folder data berisi dua kumpulan data: -\n",
        "\n",
        "     train.csv: 45.211 baris dan 18 kolom diurutkan berdasarkan tanggal (dari Mei 2008 hingga November 2010)\n",
        "     test.csv: 4521 baris dan 18 kolom dengan 10% contoh (4521), dipilih secara acak dari train.csv\""
      ],
      "metadata": {
        "id": "hDbYMQhe0P1A"
      }
    },
    {
      "cell_type": "markdown",
      "source": [
        "test pull and push"
      ],
      "metadata": {
        "id": "8Hg4ZuZM0DQa"
      }
    },
    {
      "cell_type": "markdown",
      "source": [
        "##Setup"
      ],
      "metadata": {
        "id": "FVjSsPfn0VTS"
      }
    },
    {
      "cell_type": "code",
      "source": [
        "import pathlib\n",
        "import tensorflow as tf\n",
        "import zipfile\n",
        "import os\n",
        "import matplotlib.pyplot as plt\n",
        "import pandas as pd\n",
        "import numpy as np\n",
        "import seaborn as sns\n",
        "from google.colab import drive\n",
        "from google.colab import data_table\n",
        "import tensorflow as tf\n",
        "from sklearn.metrics import confusion_matrix"
      ],
      "metadata": {
        "id": "XNyPcjlfy4QW"
      },
      "execution_count": 243,
      "outputs": []
    },
    {
      "cell_type": "markdown",
      "source": [
        "##Function"
      ],
      "metadata": {
        "id": "ppsowJyTjXhT"
      }
    },
    {
      "cell_type": "markdown",
      "source": [
        "function split data"
      ],
      "metadata": {
        "id": "RGZYYbArmE3y"
      }
    },
    {
      "cell_type": "code",
      "source": [
        "def dataframe_split(data, ratio= 0.2, shuffle= 0):\n",
        "  len_ = int(len(data) - (ratio*len(data)))\n",
        "  if shuffle == 0 :\n",
        "    part_  = data.iloc[:int(1 + len_)]\n",
        "    rest_part_ = data.drop(part_.index)\n",
        "  elif shuffle == 1:\n",
        "    part_ = data.sample(frac = 1.0 - ratio)\n",
        "    rest_part_ = data.drop(part_.index)\n",
        "  return (part_, rest_part_)"
      ],
      "metadata": {
        "id": "-yhTOXNX9zG_"
      },
      "execution_count": 244,
      "outputs": []
    },
    {
      "cell_type": "markdown",
      "source": [
        "fucntion membuat dataset"
      ],
      "metadata": {
        "id": "aES7xQuXmG_-"
      }
    },
    {
      "cell_type": "code",
      "source": [
        "def dataframe_to_dataset(data, batch_size=32):\n",
        "  df = data.copy()\n",
        "  labels = df.pop('target')\n",
        "  df = {key:  tf.expand_dims(value,axis=1) for key, value in df.items()}\n",
        "  ds = tf.data.Dataset.from_tensor_slices((dict(df), labels))\n",
        "  ds = ds.batch(batch_size)\n",
        "  ds = ds.prefetch(tf.data.AUTOTUNE)\n",
        "  return ds"
      ],
      "metadata": {
        "id": "yUeMchRXKhcS"
      },
      "execution_count": 245,
      "outputs": []
    },
    {
      "cell_type": "code",
      "source": [
        "def dataframe_imbalanced_to_dataset(data, batch_size=32):\n",
        "  no_df = data.loc[dataset_train['target'].eq(0)].copy()\n",
        "  yes_df = data.loc[dataset_train['target'].eq(1)].copy()\n",
        "  no_labels = no_df.pop('target')\n",
        "  yes_labels = yes_df.pop('target')\n",
        "\n",
        "  no_df = {key:  tf.expand_dims(value,axis=1) for key, value in no_df.items()}\n",
        "  no_ds = tf.data.Dataset.from_tensor_slices((dict(no_df), no_labels))\n",
        "\n",
        "  yes_df = {key:  tf.expand_dims(value,axis=1) for key, value in yes_df.items()}\n",
        "  yes_ds = tf.data.Dataset.from_tensor_slices((dict(yes_df), yes_labels))\n",
        "\n",
        "  ds = tf.data.Dataset.sample_from_datasets([no_ds, yes_ds])\n",
        "  ds = ds.batch(batch_size)\n",
        "  ds = ds.prefetch(tf.data.AUTOTUNE)\n",
        "  return ds"
      ],
      "metadata": {
        "id": "EcEnw-62cpnK"
      },
      "execution_count": 246,
      "outputs": []
    },
    {
      "cell_type": "markdown",
      "source": [
        "function preprocessing numeric"
      ],
      "metadata": {
        "id": "x3qXY5rvmJFq"
      }
    },
    {
      "cell_type": "code",
      "source": [
        "def numeric_preprocessing(name, dataset, num_bins):\n",
        "  feature_dataset = dataset.map(lambda x,y: x[name])\n",
        "  # layer = tf.keras.layers.Discretization(num_bins=num_bins, epsilon=0.01)\n",
        "  layer = tf.keras.layers.Normalization()\n",
        "  layer.adapt(feature_dataset)\n",
        "\n",
        "  return layer"
      ],
      "metadata": {
        "id": "jEXvg9csPJyb"
      },
      "execution_count": 247,
      "outputs": []
    },
    {
      "cell_type": "markdown",
      "source": [
        "fucntion preprocessing categories"
      ],
      "metadata": {
        "id": "LeSvhuKSmNTX"
      }
    },
    {
      "cell_type": "code",
      "source": [
        "def categories_preprocessing(name, dataset, dtype):\n",
        "  if(dtype == \"int64\"):\n",
        "    lookup = tf.keras.layers.IntegerLookup()\n",
        "  else:\n",
        "    lookup = tf.keras.layers.StringLookup()\n",
        "  feature_dataset = dataset.map(lambda x,y: x[name])\n",
        "  lookup.adapt(feature_dataset)\n",
        "\n",
        "  # return lookup\n",
        "  category_encoding = tf.keras.layers.CategoryEncoding(num_tokens=lookup.vocabulary_size())\n",
        "  return lambda feature:  category_encoding(lookup(feature))"
      ],
      "metadata": {
        "id": "4Z9l9kcjV4Fy"
      },
      "execution_count": 248,
      "outputs": []
    },
    {
      "cell_type": "markdown",
      "source": [
        "plot metric"
      ],
      "metadata": {
        "id": "r7-sO-o2kxN2"
      }
    },
    {
      "cell_type": "code",
      "source": [
        "def plot_metric(x, y, history, metric):\n",
        "  fig, ax = plt.subplots(x, y, figsize=(15,10))\n",
        "  epochs = range(len(history.history[metric[0]]))\n",
        "  for metric, ax in zip(metric, ax.flatten()):\n",
        "    ax.plot(epochs, history.history[metric], 'r', label='train')\n",
        "    ax.plot(epochs, history.history['val_'+metric], 'b', ls=\"--\", label='val')\n",
        "    ax.set_ylabel(metric)\n",
        "    ax.set_xlabel('epoch')\n",
        "    ax.legend()  \n",
        "  plt.show()"
      ],
      "metadata": {
        "id": "hXtZMSKVkyav"
      },
      "execution_count": 249,
      "outputs": []
    },
    {
      "cell_type": "markdown",
      "source": [
        "plot confution matrix"
      ],
      "metadata": {
        "id": "WNz4kMtlJxPo"
      }
    },
    {
      "cell_type": "code",
      "source": [
        "def plot_confution_matrix(labels, predictions, p=0.5):\n",
        "  cm = confusion_matrix(labels, predictions > p)\n",
        "  plt.figure(figsize=(5,5))\n",
        "  sns.heatmap(cm, annot=True, fmt=\"d\")\n",
        "  plt.title('Confusion matrix @{:.2f}'.format(p))\n",
        "  plt.ylabel('Actual label')\n",
        "  plt.xlabel('Predicted label')\n",
        "\n",
        "  print('Legitimate Transactions Detected (True Negatives): ', cm[0][0])\n",
        "  print('Legitimate Transactions Incorrectly Detected (False Positives): ', cm[0][1])\n",
        "  print('Fraudulent Transactions Missed (False Negatives): ', cm[1][0])\n",
        "  print('Fraudulent Transactions Detected (True Positives): ', cm[1][1])\n",
        "  print('Total Fraudulent Transactions: ', np.sum(cm[1]))"
      ],
      "metadata": {
        "id": "q5w2FAIiJz--"
      },
      "execution_count": 250,
      "outputs": []
    },
    {
      "cell_type": "markdown",
      "source": [
        "## Mount Google Drive"
      ],
      "metadata": {
        "id": "I8sLXLmJ0YHl"
      }
    },
    {
      "cell_type": "code",
      "source": [
        "drive.mount('/content/drive')"
      ],
      "metadata": {
        "colab": {
          "base_uri": "https://localhost:8080/"
        },
        "id": "CKxJs9K80a5q",
        "outputId": "c511ac30-b3f1-4bc2-a666-165392f70a7f"
      },
      "execution_count": 251,
      "outputs": [
        {
          "output_type": "stream",
          "name": "stdout",
          "text": [
            "Drive already mounted at /content/drive; to attempt to forcibly remount, call drive.mount(\"/content/drive\", force_remount=True).\n"
          ]
        }
      ]
    },
    {
      "cell_type": "markdown",
      "source": [
        "## Load Data"
      ],
      "metadata": {
        "id": "xNDd-nsn0bqh"
      }
    },
    {
      "cell_type": "code",
      "execution_count": 252,
      "metadata": {
        "id": "n12Gn5YyxmSE"
      },
      "outputs": [],
      "source": [
        "data_url = \"/content/drive/MyDrive/Kumpulan_dataset/fintech_banking_dataset.zip\"\n",
        "data_dir = zipfile.ZipFile(data_url, 'r')\n",
        "data_dir.extractall(\"demoday\")\n",
        "data_dir.close()"
      ]
    },
    {
      "cell_type": "code",
      "source": [
        "dataset_train=pd.read_csv('demoday/train.csv', delimiter=\";\")\n",
        "dataset_test=pd.read_csv('demoday/test.csv', delimiter=\";\")"
      ],
      "metadata": {
        "id": "bOWBr6d9Zwtn"
      },
      "execution_count": 253,
      "outputs": []
    },
    {
      "cell_type": "markdown",
      "source": [
        "##Data Explorer"
      ],
      "metadata": {
        "id": "8nLDorXUiwIG"
      }
    },
    {
      "cell_type": "code",
      "source": [
        "print(f\"jumlah data untuk train adalah {len(dataset_train)}\")\n",
        "print(f\"jumlah data untuk test adalah {len(dataset_test)}\")"
      ],
      "metadata": {
        "colab": {
          "base_uri": "https://localhost:8080/"
        },
        "id": "nh0ZVGm_FxZj",
        "outputId": "02892bba-ba7d-4f20-d40d-4d2368907d01"
      },
      "execution_count": 254,
      "outputs": [
        {
          "output_type": "stream",
          "name": "stdout",
          "text": [
            "jumlah data untuk train adalah 45211\n",
            "jumlah data untuk test adalah 4521\n"
          ]
        }
      ]
    },
    {
      "cell_type": "code",
      "source": [
        "dataset_test.head()"
      ],
      "metadata": {
        "colab": {
          "base_uri": "https://localhost:8080/",
          "height": 0
        },
        "id": "o3331SCAmVGt",
        "outputId": "2b912638-7df5-4a2d-8c2e-e6585cf0e94f"
      },
      "execution_count": 255,
      "outputs": [
        {
          "output_type": "execute_result",
          "data": {
            "text/plain": [
              "   age          job  marital  education default  balance housing loan  \\\n",
              "0   30   unemployed  married    primary      no     1787      no   no   \n",
              "1   33     services  married  secondary      no     4789     yes  yes   \n",
              "2   35   management   single   tertiary      no     1350     yes   no   \n",
              "3   30   management  married   tertiary      no     1476     yes  yes   \n",
              "4   59  blue-collar  married  secondary      no        0     yes   no   \n",
              "\n",
              "    contact  day month  duration  campaign  pdays  previous poutcome   y  \n",
              "0  cellular   19   oct        79         1     -1         0  unknown  no  \n",
              "1  cellular   11   may       220         1    339         4  failure  no  \n",
              "2  cellular   16   apr       185         1    330         1  failure  no  \n",
              "3   unknown    3   jun       199         4     -1         0  unknown  no  \n",
              "4   unknown    5   may       226         1     -1         0  unknown  no  "
            ],
            "text/html": [
              "\n",
              "  <div id=\"df-9521bf5e-567e-4f31-9a5e-ba8af6a960f8\">\n",
              "    <div class=\"colab-df-container\">\n",
              "      <div>\n",
              "<style scoped>\n",
              "    .dataframe tbody tr th:only-of-type {\n",
              "        vertical-align: middle;\n",
              "    }\n",
              "\n",
              "    .dataframe tbody tr th {\n",
              "        vertical-align: top;\n",
              "    }\n",
              "\n",
              "    .dataframe thead th {\n",
              "        text-align: right;\n",
              "    }\n",
              "</style>\n",
              "<table border=\"1\" class=\"dataframe\">\n",
              "  <thead>\n",
              "    <tr style=\"text-align: right;\">\n",
              "      <th></th>\n",
              "      <th>age</th>\n",
              "      <th>job</th>\n",
              "      <th>marital</th>\n",
              "      <th>education</th>\n",
              "      <th>default</th>\n",
              "      <th>balance</th>\n",
              "      <th>housing</th>\n",
              "      <th>loan</th>\n",
              "      <th>contact</th>\n",
              "      <th>day</th>\n",
              "      <th>month</th>\n",
              "      <th>duration</th>\n",
              "      <th>campaign</th>\n",
              "      <th>pdays</th>\n",
              "      <th>previous</th>\n",
              "      <th>poutcome</th>\n",
              "      <th>y</th>\n",
              "    </tr>\n",
              "  </thead>\n",
              "  <tbody>\n",
              "    <tr>\n",
              "      <th>0</th>\n",
              "      <td>30</td>\n",
              "      <td>unemployed</td>\n",
              "      <td>married</td>\n",
              "      <td>primary</td>\n",
              "      <td>no</td>\n",
              "      <td>1787</td>\n",
              "      <td>no</td>\n",
              "      <td>no</td>\n",
              "      <td>cellular</td>\n",
              "      <td>19</td>\n",
              "      <td>oct</td>\n",
              "      <td>79</td>\n",
              "      <td>1</td>\n",
              "      <td>-1</td>\n",
              "      <td>0</td>\n",
              "      <td>unknown</td>\n",
              "      <td>no</td>\n",
              "    </tr>\n",
              "    <tr>\n",
              "      <th>1</th>\n",
              "      <td>33</td>\n",
              "      <td>services</td>\n",
              "      <td>married</td>\n",
              "      <td>secondary</td>\n",
              "      <td>no</td>\n",
              "      <td>4789</td>\n",
              "      <td>yes</td>\n",
              "      <td>yes</td>\n",
              "      <td>cellular</td>\n",
              "      <td>11</td>\n",
              "      <td>may</td>\n",
              "      <td>220</td>\n",
              "      <td>1</td>\n",
              "      <td>339</td>\n",
              "      <td>4</td>\n",
              "      <td>failure</td>\n",
              "      <td>no</td>\n",
              "    </tr>\n",
              "    <tr>\n",
              "      <th>2</th>\n",
              "      <td>35</td>\n",
              "      <td>management</td>\n",
              "      <td>single</td>\n",
              "      <td>tertiary</td>\n",
              "      <td>no</td>\n",
              "      <td>1350</td>\n",
              "      <td>yes</td>\n",
              "      <td>no</td>\n",
              "      <td>cellular</td>\n",
              "      <td>16</td>\n",
              "      <td>apr</td>\n",
              "      <td>185</td>\n",
              "      <td>1</td>\n",
              "      <td>330</td>\n",
              "      <td>1</td>\n",
              "      <td>failure</td>\n",
              "      <td>no</td>\n",
              "    </tr>\n",
              "    <tr>\n",
              "      <th>3</th>\n",
              "      <td>30</td>\n",
              "      <td>management</td>\n",
              "      <td>married</td>\n",
              "      <td>tertiary</td>\n",
              "      <td>no</td>\n",
              "      <td>1476</td>\n",
              "      <td>yes</td>\n",
              "      <td>yes</td>\n",
              "      <td>unknown</td>\n",
              "      <td>3</td>\n",
              "      <td>jun</td>\n",
              "      <td>199</td>\n",
              "      <td>4</td>\n",
              "      <td>-1</td>\n",
              "      <td>0</td>\n",
              "      <td>unknown</td>\n",
              "      <td>no</td>\n",
              "    </tr>\n",
              "    <tr>\n",
              "      <th>4</th>\n",
              "      <td>59</td>\n",
              "      <td>blue-collar</td>\n",
              "      <td>married</td>\n",
              "      <td>secondary</td>\n",
              "      <td>no</td>\n",
              "      <td>0</td>\n",
              "      <td>yes</td>\n",
              "      <td>no</td>\n",
              "      <td>unknown</td>\n",
              "      <td>5</td>\n",
              "      <td>may</td>\n",
              "      <td>226</td>\n",
              "      <td>1</td>\n",
              "      <td>-1</td>\n",
              "      <td>0</td>\n",
              "      <td>unknown</td>\n",
              "      <td>no</td>\n",
              "    </tr>\n",
              "  </tbody>\n",
              "</table>\n",
              "</div>\n",
              "      <button class=\"colab-df-convert\" onclick=\"convertToInteractive('df-9521bf5e-567e-4f31-9a5e-ba8af6a960f8')\"\n",
              "              title=\"Convert this dataframe to an interactive table.\"\n",
              "              style=\"display:none;\">\n",
              "        \n",
              "  <svg xmlns=\"http://www.w3.org/2000/svg\" height=\"24px\"viewBox=\"0 0 24 24\"\n",
              "       width=\"24px\">\n",
              "    <path d=\"M0 0h24v24H0V0z\" fill=\"none\"/>\n",
              "    <path d=\"M18.56 5.44l.94 2.06.94-2.06 2.06-.94-2.06-.94-.94-2.06-.94 2.06-2.06.94zm-11 1L8.5 8.5l.94-2.06 2.06-.94-2.06-.94L8.5 2.5l-.94 2.06-2.06.94zm10 10l.94 2.06.94-2.06 2.06-.94-2.06-.94-.94-2.06-.94 2.06-2.06.94z\"/><path d=\"M17.41 7.96l-1.37-1.37c-.4-.4-.92-.59-1.43-.59-.52 0-1.04.2-1.43.59L10.3 9.45l-7.72 7.72c-.78.78-.78 2.05 0 2.83L4 21.41c.39.39.9.59 1.41.59.51 0 1.02-.2 1.41-.59l7.78-7.78 2.81-2.81c.8-.78.8-2.07 0-2.86zM5.41 20L4 18.59l7.72-7.72 1.47 1.35L5.41 20z\"/>\n",
              "  </svg>\n",
              "      </button>\n",
              "      \n",
              "  <style>\n",
              "    .colab-df-container {\n",
              "      display:flex;\n",
              "      flex-wrap:wrap;\n",
              "      gap: 12px;\n",
              "    }\n",
              "\n",
              "    .colab-df-convert {\n",
              "      background-color: #E8F0FE;\n",
              "      border: none;\n",
              "      border-radius: 50%;\n",
              "      cursor: pointer;\n",
              "      display: none;\n",
              "      fill: #1967D2;\n",
              "      height: 32px;\n",
              "      padding: 0 0 0 0;\n",
              "      width: 32px;\n",
              "    }\n",
              "\n",
              "    .colab-df-convert:hover {\n",
              "      background-color: #E2EBFA;\n",
              "      box-shadow: 0px 1px 2px rgba(60, 64, 67, 0.3), 0px 1px 3px 1px rgba(60, 64, 67, 0.15);\n",
              "      fill: #174EA6;\n",
              "    }\n",
              "\n",
              "    [theme=dark] .colab-df-convert {\n",
              "      background-color: #3B4455;\n",
              "      fill: #D2E3FC;\n",
              "    }\n",
              "\n",
              "    [theme=dark] .colab-df-convert:hover {\n",
              "      background-color: #434B5C;\n",
              "      box-shadow: 0px 1px 3px 1px rgba(0, 0, 0, 0.15);\n",
              "      filter: drop-shadow(0px 1px 2px rgba(0, 0, 0, 0.3));\n",
              "      fill: #FFFFFF;\n",
              "    }\n",
              "  </style>\n",
              "\n",
              "      <script>\n",
              "        const buttonEl =\n",
              "          document.querySelector('#df-9521bf5e-567e-4f31-9a5e-ba8af6a960f8 button.colab-df-convert');\n",
              "        buttonEl.style.display =\n",
              "          google.colab.kernel.accessAllowed ? 'block' : 'none';\n",
              "\n",
              "        async function convertToInteractive(key) {\n",
              "          const element = document.querySelector('#df-9521bf5e-567e-4f31-9a5e-ba8af6a960f8');\n",
              "          const dataTable =\n",
              "            await google.colab.kernel.invokeFunction('convertToInteractive',\n",
              "                                                     [key], {});\n",
              "          if (!dataTable) return;\n",
              "\n",
              "          const docLinkHtml = 'Like what you see? Visit the ' +\n",
              "            '<a target=\"_blank\" href=https://colab.research.google.com/notebooks/data_table.ipynb>data table notebook</a>'\n",
              "            + ' to learn more about interactive tables.';\n",
              "          element.innerHTML = '';\n",
              "          dataTable['output_type'] = 'display_data';\n",
              "          await google.colab.output.renderOutput(dataTable, element);\n",
              "          const docLink = document.createElement('div');\n",
              "          docLink.innerHTML = docLinkHtml;\n",
              "          element.appendChild(docLink);\n",
              "        }\n",
              "      </script>\n",
              "    </div>\n",
              "  </div>\n",
              "  "
            ]
          },
          "metadata": {},
          "execution_count": 255
        }
      ]
    },
    {
      "cell_type": "code",
      "source": [
        "dataset_train.head()"
      ],
      "metadata": {
        "colab": {
          "base_uri": "https://localhost:8080/",
          "height": 0
        },
        "id": "Fkiy4n1UZ3hq",
        "outputId": "d0417cbe-826a-4761-f01f-10562be7c50b"
      },
      "execution_count": 256,
      "outputs": [
        {
          "output_type": "execute_result",
          "data": {
            "text/plain": [
              "   age           job  marital  education default  balance housing loan  \\\n",
              "0   58    management  married   tertiary      no     2143     yes   no   \n",
              "1   44    technician   single  secondary      no       29     yes   no   \n",
              "2   33  entrepreneur  married  secondary      no        2     yes  yes   \n",
              "3   47   blue-collar  married    unknown      no     1506     yes   no   \n",
              "4   33       unknown   single    unknown      no        1      no   no   \n",
              "\n",
              "   contact  day month  duration  campaign  pdays  previous poutcome   y  \n",
              "0  unknown    5   may       261         1     -1         0  unknown  no  \n",
              "1  unknown    5   may       151         1     -1         0  unknown  no  \n",
              "2  unknown    5   may        76         1     -1         0  unknown  no  \n",
              "3  unknown    5   may        92         1     -1         0  unknown  no  \n",
              "4  unknown    5   may       198         1     -1         0  unknown  no  "
            ],
            "text/html": [
              "\n",
              "  <div id=\"df-6f16d9eb-44d7-4c38-9138-af63cfa3db7b\">\n",
              "    <div class=\"colab-df-container\">\n",
              "      <div>\n",
              "<style scoped>\n",
              "    .dataframe tbody tr th:only-of-type {\n",
              "        vertical-align: middle;\n",
              "    }\n",
              "\n",
              "    .dataframe tbody tr th {\n",
              "        vertical-align: top;\n",
              "    }\n",
              "\n",
              "    .dataframe thead th {\n",
              "        text-align: right;\n",
              "    }\n",
              "</style>\n",
              "<table border=\"1\" class=\"dataframe\">\n",
              "  <thead>\n",
              "    <tr style=\"text-align: right;\">\n",
              "      <th></th>\n",
              "      <th>age</th>\n",
              "      <th>job</th>\n",
              "      <th>marital</th>\n",
              "      <th>education</th>\n",
              "      <th>default</th>\n",
              "      <th>balance</th>\n",
              "      <th>housing</th>\n",
              "      <th>loan</th>\n",
              "      <th>contact</th>\n",
              "      <th>day</th>\n",
              "      <th>month</th>\n",
              "      <th>duration</th>\n",
              "      <th>campaign</th>\n",
              "      <th>pdays</th>\n",
              "      <th>previous</th>\n",
              "      <th>poutcome</th>\n",
              "      <th>y</th>\n",
              "    </tr>\n",
              "  </thead>\n",
              "  <tbody>\n",
              "    <tr>\n",
              "      <th>0</th>\n",
              "      <td>58</td>\n",
              "      <td>management</td>\n",
              "      <td>married</td>\n",
              "      <td>tertiary</td>\n",
              "      <td>no</td>\n",
              "      <td>2143</td>\n",
              "      <td>yes</td>\n",
              "      <td>no</td>\n",
              "      <td>unknown</td>\n",
              "      <td>5</td>\n",
              "      <td>may</td>\n",
              "      <td>261</td>\n",
              "      <td>1</td>\n",
              "      <td>-1</td>\n",
              "      <td>0</td>\n",
              "      <td>unknown</td>\n",
              "      <td>no</td>\n",
              "    </tr>\n",
              "    <tr>\n",
              "      <th>1</th>\n",
              "      <td>44</td>\n",
              "      <td>technician</td>\n",
              "      <td>single</td>\n",
              "      <td>secondary</td>\n",
              "      <td>no</td>\n",
              "      <td>29</td>\n",
              "      <td>yes</td>\n",
              "      <td>no</td>\n",
              "      <td>unknown</td>\n",
              "      <td>5</td>\n",
              "      <td>may</td>\n",
              "      <td>151</td>\n",
              "      <td>1</td>\n",
              "      <td>-1</td>\n",
              "      <td>0</td>\n",
              "      <td>unknown</td>\n",
              "      <td>no</td>\n",
              "    </tr>\n",
              "    <tr>\n",
              "      <th>2</th>\n",
              "      <td>33</td>\n",
              "      <td>entrepreneur</td>\n",
              "      <td>married</td>\n",
              "      <td>secondary</td>\n",
              "      <td>no</td>\n",
              "      <td>2</td>\n",
              "      <td>yes</td>\n",
              "      <td>yes</td>\n",
              "      <td>unknown</td>\n",
              "      <td>5</td>\n",
              "      <td>may</td>\n",
              "      <td>76</td>\n",
              "      <td>1</td>\n",
              "      <td>-1</td>\n",
              "      <td>0</td>\n",
              "      <td>unknown</td>\n",
              "      <td>no</td>\n",
              "    </tr>\n",
              "    <tr>\n",
              "      <th>3</th>\n",
              "      <td>47</td>\n",
              "      <td>blue-collar</td>\n",
              "      <td>married</td>\n",
              "      <td>unknown</td>\n",
              "      <td>no</td>\n",
              "      <td>1506</td>\n",
              "      <td>yes</td>\n",
              "      <td>no</td>\n",
              "      <td>unknown</td>\n",
              "      <td>5</td>\n",
              "      <td>may</td>\n",
              "      <td>92</td>\n",
              "      <td>1</td>\n",
              "      <td>-1</td>\n",
              "      <td>0</td>\n",
              "      <td>unknown</td>\n",
              "      <td>no</td>\n",
              "    </tr>\n",
              "    <tr>\n",
              "      <th>4</th>\n",
              "      <td>33</td>\n",
              "      <td>unknown</td>\n",
              "      <td>single</td>\n",
              "      <td>unknown</td>\n",
              "      <td>no</td>\n",
              "      <td>1</td>\n",
              "      <td>no</td>\n",
              "      <td>no</td>\n",
              "      <td>unknown</td>\n",
              "      <td>5</td>\n",
              "      <td>may</td>\n",
              "      <td>198</td>\n",
              "      <td>1</td>\n",
              "      <td>-1</td>\n",
              "      <td>0</td>\n",
              "      <td>unknown</td>\n",
              "      <td>no</td>\n",
              "    </tr>\n",
              "  </tbody>\n",
              "</table>\n",
              "</div>\n",
              "      <button class=\"colab-df-convert\" onclick=\"convertToInteractive('df-6f16d9eb-44d7-4c38-9138-af63cfa3db7b')\"\n",
              "              title=\"Convert this dataframe to an interactive table.\"\n",
              "              style=\"display:none;\">\n",
              "        \n",
              "  <svg xmlns=\"http://www.w3.org/2000/svg\" height=\"24px\"viewBox=\"0 0 24 24\"\n",
              "       width=\"24px\">\n",
              "    <path d=\"M0 0h24v24H0V0z\" fill=\"none\"/>\n",
              "    <path d=\"M18.56 5.44l.94 2.06.94-2.06 2.06-.94-2.06-.94-.94-2.06-.94 2.06-2.06.94zm-11 1L8.5 8.5l.94-2.06 2.06-.94-2.06-.94L8.5 2.5l-.94 2.06-2.06.94zm10 10l.94 2.06.94-2.06 2.06-.94-2.06-.94-.94-2.06-.94 2.06-2.06.94z\"/><path d=\"M17.41 7.96l-1.37-1.37c-.4-.4-.92-.59-1.43-.59-.52 0-1.04.2-1.43.59L10.3 9.45l-7.72 7.72c-.78.78-.78 2.05 0 2.83L4 21.41c.39.39.9.59 1.41.59.51 0 1.02-.2 1.41-.59l7.78-7.78 2.81-2.81c.8-.78.8-2.07 0-2.86zM5.41 20L4 18.59l7.72-7.72 1.47 1.35L5.41 20z\"/>\n",
              "  </svg>\n",
              "      </button>\n",
              "      \n",
              "  <style>\n",
              "    .colab-df-container {\n",
              "      display:flex;\n",
              "      flex-wrap:wrap;\n",
              "      gap: 12px;\n",
              "    }\n",
              "\n",
              "    .colab-df-convert {\n",
              "      background-color: #E8F0FE;\n",
              "      border: none;\n",
              "      border-radius: 50%;\n",
              "      cursor: pointer;\n",
              "      display: none;\n",
              "      fill: #1967D2;\n",
              "      height: 32px;\n",
              "      padding: 0 0 0 0;\n",
              "      width: 32px;\n",
              "    }\n",
              "\n",
              "    .colab-df-convert:hover {\n",
              "      background-color: #E2EBFA;\n",
              "      box-shadow: 0px 1px 2px rgba(60, 64, 67, 0.3), 0px 1px 3px 1px rgba(60, 64, 67, 0.15);\n",
              "      fill: #174EA6;\n",
              "    }\n",
              "\n",
              "    [theme=dark] .colab-df-convert {\n",
              "      background-color: #3B4455;\n",
              "      fill: #D2E3FC;\n",
              "    }\n",
              "\n",
              "    [theme=dark] .colab-df-convert:hover {\n",
              "      background-color: #434B5C;\n",
              "      box-shadow: 0px 1px 3px 1px rgba(0, 0, 0, 0.15);\n",
              "      filter: drop-shadow(0px 1px 2px rgba(0, 0, 0, 0.3));\n",
              "      fill: #FFFFFF;\n",
              "    }\n",
              "  </style>\n",
              "\n",
              "      <script>\n",
              "        const buttonEl =\n",
              "          document.querySelector('#df-6f16d9eb-44d7-4c38-9138-af63cfa3db7b button.colab-df-convert');\n",
              "        buttonEl.style.display =\n",
              "          google.colab.kernel.accessAllowed ? 'block' : 'none';\n",
              "\n",
              "        async function convertToInteractive(key) {\n",
              "          const element = document.querySelector('#df-6f16d9eb-44d7-4c38-9138-af63cfa3db7b');\n",
              "          const dataTable =\n",
              "            await google.colab.kernel.invokeFunction('convertToInteractive',\n",
              "                                                     [key], {});\n",
              "          if (!dataTable) return;\n",
              "\n",
              "          const docLinkHtml = 'Like what you see? Visit the ' +\n",
              "            '<a target=\"_blank\" href=https://colab.research.google.com/notebooks/data_table.ipynb>data table notebook</a>'\n",
              "            + ' to learn more about interactive tables.';\n",
              "          element.innerHTML = '';\n",
              "          dataTable['output_type'] = 'display_data';\n",
              "          await google.colab.output.renderOutput(dataTable, element);\n",
              "          const docLink = document.createElement('div');\n",
              "          docLink.innerHTML = docLinkHtml;\n",
              "          element.appendChild(docLink);\n",
              "        }\n",
              "      </script>\n",
              "    </div>\n",
              "  </div>\n",
              "  "
            ]
          },
          "metadata": {},
          "execution_count": 256
        }
      ]
    },
    {
      "cell_type": "markdown",
      "source": [
        "melihat type pada data set"
      ],
      "metadata": {
        "id": "OhBKv9Lbl-vb"
      }
    },
    {
      "cell_type": "code",
      "source": [
        "dataset_train.dtypes"
      ],
      "metadata": {
        "colab": {
          "base_uri": "https://localhost:8080/"
        },
        "id": "1EWLh51tNZ46",
        "outputId": "7f44ba00-d99e-4f62-dcfe-719e6ba9994f"
      },
      "execution_count": 257,
      "outputs": [
        {
          "output_type": "execute_result",
          "data": {
            "text/plain": [
              "age           int64\n",
              "job          object\n",
              "marital      object\n",
              "education    object\n",
              "default      object\n",
              "balance       int64\n",
              "housing      object\n",
              "loan         object\n",
              "contact      object\n",
              "day           int64\n",
              "month        object\n",
              "duration      int64\n",
              "campaign      int64\n",
              "pdays         int64\n",
              "previous      int64\n",
              "poutcome     object\n",
              "y            object\n",
              "dtype: object"
            ]
          },
          "metadata": {},
          "execution_count": 257
        }
      ]
    },
    {
      "cell_type": "code",
      "source": [
        "train_index = [i for i in dataset_train.drop(columns=['y']).columns]\n",
        "dataset_train.groupby(by=train_index)[\"y\"].value_counts().unstack().reset_index().sort_values(by=[\"no\"], ascending=True).head()"
      ],
      "metadata": {
        "colab": {
          "base_uri": "https://localhost:8080/",
          "height": 0
        },
        "id": "9LQxvn4Dp7vZ",
        "outputId": "716e157f-f36e-4a57-a109-bf88c9e4dfe1"
      },
      "execution_count": 258,
      "outputs": [
        {
          "output_type": "execute_result",
          "data": {
            "text/plain": [
              "y      age           job  marital  education default  balance housing loan  \\\n",
              "2       18       student   single    primary      no     1944      no   no   \n",
              "30043   45  entrepreneur  married    primary      no     1953     yes   no   \n",
              "30044   45  entrepreneur  married    primary      no     2418     yes   no   \n",
              "30045   45  entrepreneur  married    primary      no     5315     yes  yes   \n",
              "30046   45  entrepreneur  married  secondary      no     -479     yes   no   \n",
              "\n",
              "y        contact  day month  duration  campaign  pdays  previous poutcome  \\\n",
              "2      telephone   10   aug       122         3     -1         0  unknown   \n",
              "30043    unknown   15   may        95         3     -1         0  unknown   \n",
              "30044    unknown   14   may       120         1     -1         0  unknown   \n",
              "30045   cellular   15   may       262         2     -1         0  unknown   \n",
              "30046   cellular   30   jul       167         2     -1         0  unknown   \n",
              "\n",
              "y       no  yes  \n",
              "2      1.0  NaN  \n",
              "30043  1.0  NaN  \n",
              "30044  1.0  NaN  \n",
              "30045  1.0  NaN  \n",
              "30046  1.0  NaN  "
            ],
            "text/html": [
              "\n",
              "  <div id=\"df-c0b1e6f5-20ba-4414-b11a-cb8c737a25d0\">\n",
              "    <div class=\"colab-df-container\">\n",
              "      <div>\n",
              "<style scoped>\n",
              "    .dataframe tbody tr th:only-of-type {\n",
              "        vertical-align: middle;\n",
              "    }\n",
              "\n",
              "    .dataframe tbody tr th {\n",
              "        vertical-align: top;\n",
              "    }\n",
              "\n",
              "    .dataframe thead th {\n",
              "        text-align: right;\n",
              "    }\n",
              "</style>\n",
              "<table border=\"1\" class=\"dataframe\">\n",
              "  <thead>\n",
              "    <tr style=\"text-align: right;\">\n",
              "      <th>y</th>\n",
              "      <th>age</th>\n",
              "      <th>job</th>\n",
              "      <th>marital</th>\n",
              "      <th>education</th>\n",
              "      <th>default</th>\n",
              "      <th>balance</th>\n",
              "      <th>housing</th>\n",
              "      <th>loan</th>\n",
              "      <th>contact</th>\n",
              "      <th>day</th>\n",
              "      <th>month</th>\n",
              "      <th>duration</th>\n",
              "      <th>campaign</th>\n",
              "      <th>pdays</th>\n",
              "      <th>previous</th>\n",
              "      <th>poutcome</th>\n",
              "      <th>no</th>\n",
              "      <th>yes</th>\n",
              "    </tr>\n",
              "  </thead>\n",
              "  <tbody>\n",
              "    <tr>\n",
              "      <th>2</th>\n",
              "      <td>18</td>\n",
              "      <td>student</td>\n",
              "      <td>single</td>\n",
              "      <td>primary</td>\n",
              "      <td>no</td>\n",
              "      <td>1944</td>\n",
              "      <td>no</td>\n",
              "      <td>no</td>\n",
              "      <td>telephone</td>\n",
              "      <td>10</td>\n",
              "      <td>aug</td>\n",
              "      <td>122</td>\n",
              "      <td>3</td>\n",
              "      <td>-1</td>\n",
              "      <td>0</td>\n",
              "      <td>unknown</td>\n",
              "      <td>1.0</td>\n",
              "      <td>NaN</td>\n",
              "    </tr>\n",
              "    <tr>\n",
              "      <th>30043</th>\n",
              "      <td>45</td>\n",
              "      <td>entrepreneur</td>\n",
              "      <td>married</td>\n",
              "      <td>primary</td>\n",
              "      <td>no</td>\n",
              "      <td>1953</td>\n",
              "      <td>yes</td>\n",
              "      <td>no</td>\n",
              "      <td>unknown</td>\n",
              "      <td>15</td>\n",
              "      <td>may</td>\n",
              "      <td>95</td>\n",
              "      <td>3</td>\n",
              "      <td>-1</td>\n",
              "      <td>0</td>\n",
              "      <td>unknown</td>\n",
              "      <td>1.0</td>\n",
              "      <td>NaN</td>\n",
              "    </tr>\n",
              "    <tr>\n",
              "      <th>30044</th>\n",
              "      <td>45</td>\n",
              "      <td>entrepreneur</td>\n",
              "      <td>married</td>\n",
              "      <td>primary</td>\n",
              "      <td>no</td>\n",
              "      <td>2418</td>\n",
              "      <td>yes</td>\n",
              "      <td>no</td>\n",
              "      <td>unknown</td>\n",
              "      <td>14</td>\n",
              "      <td>may</td>\n",
              "      <td>120</td>\n",
              "      <td>1</td>\n",
              "      <td>-1</td>\n",
              "      <td>0</td>\n",
              "      <td>unknown</td>\n",
              "      <td>1.0</td>\n",
              "      <td>NaN</td>\n",
              "    </tr>\n",
              "    <tr>\n",
              "      <th>30045</th>\n",
              "      <td>45</td>\n",
              "      <td>entrepreneur</td>\n",
              "      <td>married</td>\n",
              "      <td>primary</td>\n",
              "      <td>no</td>\n",
              "      <td>5315</td>\n",
              "      <td>yes</td>\n",
              "      <td>yes</td>\n",
              "      <td>cellular</td>\n",
              "      <td>15</td>\n",
              "      <td>may</td>\n",
              "      <td>262</td>\n",
              "      <td>2</td>\n",
              "      <td>-1</td>\n",
              "      <td>0</td>\n",
              "      <td>unknown</td>\n",
              "      <td>1.0</td>\n",
              "      <td>NaN</td>\n",
              "    </tr>\n",
              "    <tr>\n",
              "      <th>30046</th>\n",
              "      <td>45</td>\n",
              "      <td>entrepreneur</td>\n",
              "      <td>married</td>\n",
              "      <td>secondary</td>\n",
              "      <td>no</td>\n",
              "      <td>-479</td>\n",
              "      <td>yes</td>\n",
              "      <td>no</td>\n",
              "      <td>cellular</td>\n",
              "      <td>30</td>\n",
              "      <td>jul</td>\n",
              "      <td>167</td>\n",
              "      <td>2</td>\n",
              "      <td>-1</td>\n",
              "      <td>0</td>\n",
              "      <td>unknown</td>\n",
              "      <td>1.0</td>\n",
              "      <td>NaN</td>\n",
              "    </tr>\n",
              "  </tbody>\n",
              "</table>\n",
              "</div>\n",
              "      <button class=\"colab-df-convert\" onclick=\"convertToInteractive('df-c0b1e6f5-20ba-4414-b11a-cb8c737a25d0')\"\n",
              "              title=\"Convert this dataframe to an interactive table.\"\n",
              "              style=\"display:none;\">\n",
              "        \n",
              "  <svg xmlns=\"http://www.w3.org/2000/svg\" height=\"24px\"viewBox=\"0 0 24 24\"\n",
              "       width=\"24px\">\n",
              "    <path d=\"M0 0h24v24H0V0z\" fill=\"none\"/>\n",
              "    <path d=\"M18.56 5.44l.94 2.06.94-2.06 2.06-.94-2.06-.94-.94-2.06-.94 2.06-2.06.94zm-11 1L8.5 8.5l.94-2.06 2.06-.94-2.06-.94L8.5 2.5l-.94 2.06-2.06.94zm10 10l.94 2.06.94-2.06 2.06-.94-2.06-.94-.94-2.06-.94 2.06-2.06.94z\"/><path d=\"M17.41 7.96l-1.37-1.37c-.4-.4-.92-.59-1.43-.59-.52 0-1.04.2-1.43.59L10.3 9.45l-7.72 7.72c-.78.78-.78 2.05 0 2.83L4 21.41c.39.39.9.59 1.41.59.51 0 1.02-.2 1.41-.59l7.78-7.78 2.81-2.81c.8-.78.8-2.07 0-2.86zM5.41 20L4 18.59l7.72-7.72 1.47 1.35L5.41 20z\"/>\n",
              "  </svg>\n",
              "      </button>\n",
              "      \n",
              "  <style>\n",
              "    .colab-df-container {\n",
              "      display:flex;\n",
              "      flex-wrap:wrap;\n",
              "      gap: 12px;\n",
              "    }\n",
              "\n",
              "    .colab-df-convert {\n",
              "      background-color: #E8F0FE;\n",
              "      border: none;\n",
              "      border-radius: 50%;\n",
              "      cursor: pointer;\n",
              "      display: none;\n",
              "      fill: #1967D2;\n",
              "      height: 32px;\n",
              "      padding: 0 0 0 0;\n",
              "      width: 32px;\n",
              "    }\n",
              "\n",
              "    .colab-df-convert:hover {\n",
              "      background-color: #E2EBFA;\n",
              "      box-shadow: 0px 1px 2px rgba(60, 64, 67, 0.3), 0px 1px 3px 1px rgba(60, 64, 67, 0.15);\n",
              "      fill: #174EA6;\n",
              "    }\n",
              "\n",
              "    [theme=dark] .colab-df-convert {\n",
              "      background-color: #3B4455;\n",
              "      fill: #D2E3FC;\n",
              "    }\n",
              "\n",
              "    [theme=dark] .colab-df-convert:hover {\n",
              "      background-color: #434B5C;\n",
              "      box-shadow: 0px 1px 3px 1px rgba(0, 0, 0, 0.15);\n",
              "      filter: drop-shadow(0px 1px 2px rgba(0, 0, 0, 0.3));\n",
              "      fill: #FFFFFF;\n",
              "    }\n",
              "  </style>\n",
              "\n",
              "      <script>\n",
              "        const buttonEl =\n",
              "          document.querySelector('#df-c0b1e6f5-20ba-4414-b11a-cb8c737a25d0 button.colab-df-convert');\n",
              "        buttonEl.style.display =\n",
              "          google.colab.kernel.accessAllowed ? 'block' : 'none';\n",
              "\n",
              "        async function convertToInteractive(key) {\n",
              "          const element = document.querySelector('#df-c0b1e6f5-20ba-4414-b11a-cb8c737a25d0');\n",
              "          const dataTable =\n",
              "            await google.colab.kernel.invokeFunction('convertToInteractive',\n",
              "                                                     [key], {});\n",
              "          if (!dataTable) return;\n",
              "\n",
              "          const docLinkHtml = 'Like what you see? Visit the ' +\n",
              "            '<a target=\"_blank\" href=https://colab.research.google.com/notebooks/data_table.ipynb>data table notebook</a>'\n",
              "            + ' to learn more about interactive tables.';\n",
              "          element.innerHTML = '';\n",
              "          dataTable['output_type'] = 'display_data';\n",
              "          await google.colab.output.renderOutput(dataTable, element);\n",
              "          const docLink = document.createElement('div');\n",
              "          docLink.innerHTML = docLinkHtml;\n",
              "          element.appendChild(docLink);\n",
              "        }\n",
              "      </script>\n",
              "    </div>\n",
              "  </div>\n",
              "  "
            ]
          },
          "metadata": {},
          "execution_count": 258
        }
      ]
    },
    {
      "cell_type": "code",
      "source": [
        "cek_no_yes_max = dataset_train.groupby(by=[\"age\", \"job\", \"marital\", \"education\", \"balance\", \"housing\", \"loan\", \"month\" , \"duration\"])[\"y\"].value_counts().unstack().reset_index()"
      ],
      "metadata": {
        "id": "DbOxilfog-4k"
      },
      "execution_count": 259,
      "outputs": []
    },
    {
      "cell_type": "code",
      "source": [
        "cek_no_yes_max.loc[cek_no_yes_max['no'].ge(1.0) &cek_no_yes_max['yes'].ge(1.0)]"
      ],
      "metadata": {
        "colab": {
          "base_uri": "https://localhost:8080/",
          "height": 0
        },
        "id": "h5207phn71DR",
        "outputId": "0e7a867b-65f8-4e16-c24c-6bc337fba3f8"
      },
      "execution_count": 260,
      "outputs": [
        {
          "output_type": "execute_result",
          "data": {
            "text/plain": [
              "Empty DataFrame\n",
              "Columns: [age, job, marital, education, balance, housing, loan, month, duration, no, yes]\n",
              "Index: []"
            ],
            "text/html": [
              "\n",
              "  <div id=\"df-d1372ab4-6138-42cf-9187-0666e06bdb88\">\n",
              "    <div class=\"colab-df-container\">\n",
              "      <div>\n",
              "<style scoped>\n",
              "    .dataframe tbody tr th:only-of-type {\n",
              "        vertical-align: middle;\n",
              "    }\n",
              "\n",
              "    .dataframe tbody tr th {\n",
              "        vertical-align: top;\n",
              "    }\n",
              "\n",
              "    .dataframe thead th {\n",
              "        text-align: right;\n",
              "    }\n",
              "</style>\n",
              "<table border=\"1\" class=\"dataframe\">\n",
              "  <thead>\n",
              "    <tr style=\"text-align: right;\">\n",
              "      <th>y</th>\n",
              "      <th>age</th>\n",
              "      <th>job</th>\n",
              "      <th>marital</th>\n",
              "      <th>education</th>\n",
              "      <th>balance</th>\n",
              "      <th>housing</th>\n",
              "      <th>loan</th>\n",
              "      <th>month</th>\n",
              "      <th>duration</th>\n",
              "      <th>no</th>\n",
              "      <th>yes</th>\n",
              "    </tr>\n",
              "  </thead>\n",
              "  <tbody>\n",
              "  </tbody>\n",
              "</table>\n",
              "</div>\n",
              "      <button class=\"colab-df-convert\" onclick=\"convertToInteractive('df-d1372ab4-6138-42cf-9187-0666e06bdb88')\"\n",
              "              title=\"Convert this dataframe to an interactive table.\"\n",
              "              style=\"display:none;\">\n",
              "        \n",
              "  <svg xmlns=\"http://www.w3.org/2000/svg\" height=\"24px\"viewBox=\"0 0 24 24\"\n",
              "       width=\"24px\">\n",
              "    <path d=\"M0 0h24v24H0V0z\" fill=\"none\"/>\n",
              "    <path d=\"M18.56 5.44l.94 2.06.94-2.06 2.06-.94-2.06-.94-.94-2.06-.94 2.06-2.06.94zm-11 1L8.5 8.5l.94-2.06 2.06-.94-2.06-.94L8.5 2.5l-.94 2.06-2.06.94zm10 10l.94 2.06.94-2.06 2.06-.94-2.06-.94-.94-2.06-.94 2.06-2.06.94z\"/><path d=\"M17.41 7.96l-1.37-1.37c-.4-.4-.92-.59-1.43-.59-.52 0-1.04.2-1.43.59L10.3 9.45l-7.72 7.72c-.78.78-.78 2.05 0 2.83L4 21.41c.39.39.9.59 1.41.59.51 0 1.02-.2 1.41-.59l7.78-7.78 2.81-2.81c.8-.78.8-2.07 0-2.86zM5.41 20L4 18.59l7.72-7.72 1.47 1.35L5.41 20z\"/>\n",
              "  </svg>\n",
              "      </button>\n",
              "      \n",
              "  <style>\n",
              "    .colab-df-container {\n",
              "      display:flex;\n",
              "      flex-wrap:wrap;\n",
              "      gap: 12px;\n",
              "    }\n",
              "\n",
              "    .colab-df-convert {\n",
              "      background-color: #E8F0FE;\n",
              "      border: none;\n",
              "      border-radius: 50%;\n",
              "      cursor: pointer;\n",
              "      display: none;\n",
              "      fill: #1967D2;\n",
              "      height: 32px;\n",
              "      padding: 0 0 0 0;\n",
              "      width: 32px;\n",
              "    }\n",
              "\n",
              "    .colab-df-convert:hover {\n",
              "      background-color: #E2EBFA;\n",
              "      box-shadow: 0px 1px 2px rgba(60, 64, 67, 0.3), 0px 1px 3px 1px rgba(60, 64, 67, 0.15);\n",
              "      fill: #174EA6;\n",
              "    }\n",
              "\n",
              "    [theme=dark] .colab-df-convert {\n",
              "      background-color: #3B4455;\n",
              "      fill: #D2E3FC;\n",
              "    }\n",
              "\n",
              "    [theme=dark] .colab-df-convert:hover {\n",
              "      background-color: #434B5C;\n",
              "      box-shadow: 0px 1px 3px 1px rgba(0, 0, 0, 0.15);\n",
              "      filter: drop-shadow(0px 1px 2px rgba(0, 0, 0, 0.3));\n",
              "      fill: #FFFFFF;\n",
              "    }\n",
              "  </style>\n",
              "\n",
              "      <script>\n",
              "        const buttonEl =\n",
              "          document.querySelector('#df-d1372ab4-6138-42cf-9187-0666e06bdb88 button.colab-df-convert');\n",
              "        buttonEl.style.display =\n",
              "          google.colab.kernel.accessAllowed ? 'block' : 'none';\n",
              "\n",
              "        async function convertToInteractive(key) {\n",
              "          const element = document.querySelector('#df-d1372ab4-6138-42cf-9187-0666e06bdb88');\n",
              "          const dataTable =\n",
              "            await google.colab.kernel.invokeFunction('convertToInteractive',\n",
              "                                                     [key], {});\n",
              "          if (!dataTable) return;\n",
              "\n",
              "          const docLinkHtml = 'Like what you see? Visit the ' +\n",
              "            '<a target=\"_blank\" href=https://colab.research.google.com/notebooks/data_table.ipynb>data table notebook</a>'\n",
              "            + ' to learn more about interactive tables.';\n",
              "          element.innerHTML = '';\n",
              "          dataTable['output_type'] = 'display_data';\n",
              "          await google.colab.output.renderOutput(dataTable, element);\n",
              "          const docLink = document.createElement('div');\n",
              "          docLink.innerHTML = docLinkHtml;\n",
              "          element.appendChild(docLink);\n",
              "        }\n",
              "      </script>\n",
              "    </div>\n",
              "  </div>\n",
              "  "
            ]
          },
          "metadata": {},
          "execution_count": 260
        }
      ]
    },
    {
      "cell_type": "markdown",
      "source": [
        "##Data Preprocessing"
      ],
      "metadata": {
        "id": "p-QBTSuHBNk1"
      }
    },
    {
      "cell_type": "markdown",
      "source": [
        "mengubah column y, dengan nilai 0 menunjukan *NO* dan nilai 1 menunjukan *YES*"
      ],
      "metadata": {
        "id": "kQcO2hcxb3wL"
      }
    },
    {
      "cell_type": "code",
      "source": [
        "dataset_train['target'] = dataset_train.loc[:, 'y'].apply(lambda x : 0 if x == \"no\" else 1)\n",
        "\n",
        "dataset_train.drop(columns=[\"default\", \"contact\",\t\"day\", \"campaign\",\t\"pdays\",\t\"previous\", \"poutcome\", \"y\"], inplace=True)"
      ],
      "metadata": {
        "id": "ceeYHVHBbxnX"
      },
      "execution_count": 261,
      "outputs": []
    },
    {
      "cell_type": "code",
      "source": [
        "dataset_test['target'] = dataset_test.loc[:, 'y'].apply(lambda x : 0 if x == \"no\" else 1)\n",
        "\n",
        "dataset_test.drop(columns=[\"default\", \"contact\",\t\"day\", \"campaign\",\t\"pdays\",\t\"previous\", \"poutcome\", \"y\"], inplace=True)"
      ],
      "metadata": {
        "id": "Agv02-YRmL8O"
      },
      "execution_count": 262,
      "outputs": []
    },
    {
      "cell_type": "markdown",
      "source": [
        "dataset train ini merupakan dataframe pandas, split data train dengan ratio 80:20 . 20 % untuk validasi"
      ],
      "metadata": {
        "id": "-Vnal1UbHcZY"
      }
    },
    {
      "cell_type": "code",
      "source": [
        "train, val = dataframe_split(dataset_train, ratio = 0.2, shuffle=1)"
      ],
      "metadata": {
        "id": "rt2ZWTYzeWzv"
      },
      "execution_count": 263,
      "outputs": []
    },
    {
      "cell_type": "code",
      "source": [
        "print(len(train), 'training examples')\n",
        "print(len(val), 'validation examples')"
      ],
      "metadata": {
        "colab": {
          "base_uri": "https://localhost:8080/"
        },
        "id": "PVFwlMDWH8Dl",
        "outputId": "f3c585c3-044c-4360-ddde-697efdb19155"
      },
      "execution_count": 264,
      "outputs": [
        {
          "output_type": "stream",
          "name": "stdout",
          "text": [
            "36169 training examples\n",
            "9042 validation examples\n"
          ]
        }
      ]
    },
    {
      "cell_type": "markdown",
      "source": [
        "membuat dataset"
      ],
      "metadata": {
        "id": "0VcaVe4Olf3u"
      }
    },
    {
      "cell_type": "code",
      "source": [
        "batch_size = 128\n",
        "\n",
        "train_ds = dataframe_imbalanced_to_dataset(train, batch_size=batch_size)\n",
        "val_ds = dataframe_to_dataset(val, batch_size=batch_size)\n",
        "test_ds = dataframe_to_dataset(dataset_test, batch_size=batch_size)"
      ],
      "metadata": {
        "id": "G2yhdthoLmol"
      },
      "execution_count": 265,
      "outputs": []
    },
    {
      "cell_type": "markdown",
      "source": [
        "cek data"
      ],
      "metadata": {
        "id": "Q6RnUThrljIL"
      }
    },
    {
      "cell_type": "code",
      "source": [
        "[(train_features, label_batch)] = train_ds.take(1)\n",
        "print('Every feature:', list(train_features.keys()))\n",
        "print('A batch of marital:', train_features['job'])\n",
        "print('A batch of targets:', label_batch )"
      ],
      "metadata": {
        "colab": {
          "base_uri": "https://localhost:8080/"
        },
        "id": "VptefnlDM1VA",
        "outputId": "81b6d642-9fac-4248-d4d1-b19f449aacd9"
      },
      "execution_count": 266,
      "outputs": [
        {
          "output_type": "stream",
          "name": "stdout",
          "text": [
            "Every feature: ['age', 'job', 'marital', 'education', 'balance', 'housing', 'loan', 'month', 'duration']\n",
            "A batch of marital: tf.Tensor(\n",
            "[[b'management']\n",
            " [b'services']\n",
            " [b'admin.']\n",
            " [b'technician']\n",
            " [b'services']\n",
            " [b'services']\n",
            " [b'admin.']\n",
            " [b'admin.']\n",
            " [b'retired']\n",
            " [b'services']\n",
            " [b'management']\n",
            " [b'services']\n",
            " [b'management']\n",
            " [b'housemaid']\n",
            " [b'management']\n",
            " [b'housemaid']\n",
            " [b'technician']\n",
            " [b'services']\n",
            " [b'management']\n",
            " [b'services']\n",
            " [b'services']\n",
            " [b'technician']\n",
            " [b'blue-collar']\n",
            " [b'management']\n",
            " [b'blue-collar']\n",
            " [b'management']\n",
            " [b'blue-collar']\n",
            " [b'management']\n",
            " [b'management']\n",
            " [b'services']\n",
            " [b'admin.']\n",
            " [b'admin.']\n",
            " [b'management']\n",
            " [b'services']\n",
            " [b'retired']\n",
            " [b'blue-collar']\n",
            " [b'services']\n",
            " [b'blue-collar']\n",
            " [b'blue-collar']\n",
            " [b'blue-collar']\n",
            " [b'technician']\n",
            " [b'admin.']\n",
            " [b'self-employed']\n",
            " [b'self-employed']\n",
            " [b'services']\n",
            " [b'unemployed']\n",
            " [b'blue-collar']\n",
            " [b'management']\n",
            " [b'management']\n",
            " [b'management']\n",
            " [b'management']\n",
            " [b'services']\n",
            " [b'blue-collar']\n",
            " [b'technician']\n",
            " [b'management']\n",
            " [b'blue-collar']\n",
            " [b'management']\n",
            " [b'management']\n",
            " [b'admin.']\n",
            " [b'blue-collar']\n",
            " [b'blue-collar']\n",
            " [b'technician']\n",
            " [b'management']\n",
            " [b'services']\n",
            " [b'unemployed']\n",
            " [b'admin.']\n",
            " [b'admin.']\n",
            " [b'technician']\n",
            " [b'blue-collar']\n",
            " [b'student']\n",
            " [b'management']\n",
            " [b'retired']\n",
            " [b'services']\n",
            " [b'management']\n",
            " [b'management']\n",
            " [b'blue-collar']\n",
            " [b'unemployed']\n",
            " [b'management']\n",
            " [b'student']\n",
            " [b'technician']\n",
            " [b'technician']\n",
            " [b'unemployed']\n",
            " [b'admin.']\n",
            " [b'management']\n",
            " [b'management']\n",
            " [b'retired']\n",
            " [b'technician']\n",
            " [b'blue-collar']\n",
            " [b'self-employed']\n",
            " [b'management']\n",
            " [b'technician']\n",
            " [b'blue-collar']\n",
            " [b'admin.']\n",
            " [b'unemployed']\n",
            " [b'admin.']\n",
            " [b'retired']\n",
            " [b'management']\n",
            " [b'management']\n",
            " [b'management']\n",
            " [b'management']\n",
            " [b'management']\n",
            " [b'retired']\n",
            " [b'housemaid']\n",
            " [b'management']\n",
            " [b'unemployed']\n",
            " [b'unemployed']\n",
            " [b'management']\n",
            " [b'self-employed']\n",
            " [b'admin.']\n",
            " [b'technician']\n",
            " [b'retired']\n",
            " [b'technician']\n",
            " [b'unemployed']\n",
            " [b'management']\n",
            " [b'management']\n",
            " [b'technician']\n",
            " [b'unknown']\n",
            " [b'management']\n",
            " [b'admin.']\n",
            " [b'management']\n",
            " [b'management']\n",
            " [b'management']\n",
            " [b'admin.']\n",
            " [b'blue-collar']\n",
            " [b'technician']\n",
            " [b'management']\n",
            " [b'blue-collar']\n",
            " [b'management']], shape=(128, 1), dtype=string)\n",
            "A batch of targets: tf.Tensor(\n",
            "[0 0 0 0 1 1 0 0 1 1 1 0 1 0 1 0 1 0 1 0 0 0 0 0 0 0 1 0 0 0 0 0 0 0 1 1 0\n",
            " 1 1 0 1 0 0 1 1 1 0 0 1 0 1 1 0 1 0 1 0 0 1 1 0 1 1 0 0 0 1 0 1 1 1 1 0 1\n",
            " 0 0 0 1 1 0 0 1 1 0 1 1 0 0 1 1 1 1 0 0 1 1 1 1 1 1 1 1 1 0 0 1 1 0 1 0 1\n",
            " 0 0 0 1 1 1 0 0 0 1 1 1 0 1 1 0 1], shape=(128,), dtype=int64)\n"
          ]
        }
      ]
    },
    {
      "cell_type": "markdown",
      "source": [
        "test preprocessing"
      ],
      "metadata": {
        "id": "2moUUtUQyEj5"
      }
    },
    {
      "cell_type": "code",
      "source": [
        "test_job_col = train_features['job']\n",
        "test_job_layer = categories_preprocessing(name='job',\n",
        "                                        dataset=train_ds,\n",
        "                                        dtype='string')\n",
        "test_job_layer(test_job_col).numpy()"
      ],
      "metadata": {
        "colab": {
          "base_uri": "https://localhost:8080/"
        },
        "id": "6C16yd6jyJVY",
        "outputId": "755d3dc7-e31e-441f-823b-b6ffbf93914c"
      },
      "execution_count": 267,
      "outputs": [
        {
          "output_type": "execute_result",
          "data": {
            "text/plain": [
              "array([[0., 0., 1., ..., 0., 0., 0.],\n",
              "       [0., 0., 0., ..., 0., 0., 0.],\n",
              "       [0., 0., 0., ..., 0., 0., 0.],\n",
              "       ...,\n",
              "       [0., 0., 1., ..., 0., 0., 0.],\n",
              "       [0., 1., 0., ..., 0., 0., 0.],\n",
              "       [0., 0., 1., ..., 0., 0., 0.]], dtype=float32)"
            ]
          },
          "metadata": {},
          "execution_count": 267
        }
      ]
    },
    {
      "cell_type": "code",
      "source": [
        "test_duration_col = train_features['duration']\n",
        "test_duration_layer = numeric_preprocessing(name='duration',\n",
        "                                            dataset=train_ds,\n",
        "                                            num_bins=32)\n",
        "test_duration_layer(test_duration_col)"
      ],
      "metadata": {
        "colab": {
          "base_uri": "https://localhost:8080/"
        },
        "id": "R6N2tN4byZ8D",
        "outputId": "023ef3ac-d8bd-4219-d9d9-d4c86b928946"
      },
      "execution_count": 268,
      "outputs": [
        {
          "output_type": "execute_result",
          "data": {
            "text/plain": [
              "<tf.Tensor: shape=(128, 1), dtype=float32, numpy=\n",
              "array([[-2.72193164e-01],\n",
              "       [ 4.38457340e-01],\n",
              "       [-7.43342638e-01],\n",
              "       [-5.94145298e-01],\n",
              "       [ 6.33567858e+00],\n",
              "       [ 2.29949808e+00],\n",
              "       [-5.20843454e-03],\n",
              "       [ 2.58218765e+00],\n",
              "       [ 1.01168919e+00],\n",
              "       [ 4.35292435e+00],\n",
              "       [ 1.49069118e+00],\n",
              "       [ 9.05680597e-01],\n",
              "       [-4.21390504e-01],\n",
              "       [-4.76357937e-01],\n",
              "       [-2.52561927e-01],\n",
              "       [-2.48396639e-02],\n",
              "       [ 1.07843542e+00],\n",
              "       [-4.17464256e-01],\n",
              "       [ 1.13340282e+00],\n",
              "       [-5.43104112e-01],\n",
              "       [-4.13538009e-01],\n",
              "       [-6.53038979e-01],\n",
              "       [ 1.20800149e+00],\n",
              "       [-4.99915421e-01],\n",
              "       [ 1.74197090e+00],\n",
              "       [-1.54405773e-01],\n",
              "       [ 1.18837035e+00],\n",
              "       [ 3.12817484e-01],\n",
              "       [-1.07290827e-01],\n",
              "       [ 5.36852516e-02],\n",
              "       [ 1.16505183e-01],\n",
              "       [-6.21629000e-01],\n",
              "       [-6.41260266e-01],\n",
              "       [-7.47268915e-01],\n",
              "       [ 6.58327103e-01],\n",
              "       [ 4.58088577e-01],\n",
              "       [ 4.58088577e-01],\n",
              "       [ 1.93828321e+00],\n",
              "       [-5.62496297e-02],\n",
              "       [-9.16097462e-01],\n",
              "       [ 3.45774055e+00],\n",
              "       [-2.68266916e-01],\n",
              "       [ 1.91103861e-01],\n",
              "       [ 5.69177437e+00],\n",
              "       [ 5.52318454e-01],\n",
              "       [ 2.53899908e+00],\n",
              "       [ 9.25311804e-01],\n",
              "       [-6.96227670e-01],\n",
              "       [-4.56726700e-01],\n",
              "       [-2.87659094e-02],\n",
              "       [ 1.81656957e+00],\n",
              "       [ 4.23513699e+00],\n",
              "       [-2.05446973e-01],\n",
              "       [ 5.13056040e-01],\n",
              "       [-5.54882824e-01],\n",
              "       [ 1.45928121e+00],\n",
              "       [-8.92539978e-01],\n",
              "       [ 3.04964989e-01],\n",
              "       [ 1.75374973e+00],\n",
              "       [ 6.42622113e-01],\n",
              "       [-4.44947958e-01],\n",
              "       [ 5.01277268e-01],\n",
              "       [ 5.32687247e-01],\n",
              "       [-6.88375235e-01],\n",
              "       [-9.90696132e-01],\n",
              "       [-1.11217074e-01],\n",
              "       [ 1.04965484e-02],\n",
              "       [-6.76596463e-01],\n",
              "       [ 9.56721783e-01],\n",
              "       [-4.83971387e-02],\n",
              "       [ 1.00383675e+00],\n",
              "       [ 3.04964989e-01],\n",
              "       [ 3.40301186e-01],\n",
              "       [-4.84210432e-01],\n",
              "       [-8.65056276e-01],\n",
              "       [-1.89741984e-01],\n",
              "       [-1.97594479e-01],\n",
              "       [ 1.64381480e+00],\n",
              "       [ 7.36852050e-01],\n",
              "       [-2.48396639e-02],\n",
              "       [ 9.29477140e-02],\n",
              "       [ 3.25750184e+00],\n",
              "       [ 2.03643942e+00],\n",
              "       [-8.17941308e-01],\n",
              "       [ 4.42383587e-01],\n",
              "       [ 9.76353049e-01],\n",
              "       [-5.54882824e-01],\n",
              "       [-8.57203782e-01],\n",
              "       [ 6.15377426e-02],\n",
              "       [ 7.52556980e-01],\n",
              "       [ 1.34542012e+00],\n",
              "       [ 1.95030108e-01],\n",
              "       [ 9.88131762e-01],\n",
              "       [ 5.36852516e-02],\n",
              "       [ 1.10984540e+00],\n",
              "       [ 3.32448691e-01],\n",
              "       [ 1.17266536e+00],\n",
              "       [ 2.40550661e+00],\n",
              "       [ 7.18374777e+00],\n",
              "       [ 1.32210165e-01],\n",
              "       [-7.31563926e-01],\n",
              "       [-4.64579195e-01],\n",
              "       [ 2.22752858e-02],\n",
              "       [-8.06162596e-01],\n",
              "       [-8.88613760e-01],\n",
              "       [ 5.83728433e-01],\n",
              "       [-2.91824371e-01],\n",
              "       [-9.82843637e-01],\n",
              "       [ 2.38218799e-01],\n",
              "       [-7.98071027e-02],\n",
              "       [-5.94145298e-01],\n",
              "       [-6.88375235e-01],\n",
              "       [-7.78678834e-01],\n",
              "       [-5.86292803e-01],\n",
              "       [ 2.03251338e+00],\n",
              "       [ 2.08355451e+00],\n",
              "       [ 1.03132045e+00],\n",
              "       [-2.87659094e-02],\n",
              "       [ 1.59693897e-01],\n",
              "       [-9.08244967e-01],\n",
              "       [-4.44947958e-01],\n",
              "       [ 4.93400908e+00],\n",
              "       [ 4.38457340e-01],\n",
              "       [-4.84210432e-01],\n",
              "       [ 1.31401014e+00],\n",
              "       [ 7.36852050e-01],\n",
              "       [ 4.53353167e+00],\n",
              "       [ 4.97351021e-01]], dtype=float32)>"
            ]
          },
          "metadata": {},
          "execution_count": 268
        }
      ]
    },
    {
      "cell_type": "markdown",
      "source": [
        "membagikan column berdasarkan numeric atau categorical integer atau string"
      ],
      "metadata": {
        "id": "c19rHREvlsAr"
      }
    },
    {
      "cell_type": "code",
      "source": [
        "numeric_keys = [\"age\", \"balance\", \"duration\"]\n",
        "categorical_integer_keys = [\"age\"]\n",
        "categorical_string_keys = [\"job\", \"marital\", \"education\", \"housing\", \"loan\", \"month\"]\n",
        "all_inputs = []\n",
        "all_preprocessors = []"
      ],
      "metadata": {
        "id": "Hl5BaK0S9Xb1"
      },
      "execution_count": 269,
      "outputs": []
    },
    {
      "cell_type": "code",
      "source": [
        "for numeric in numeric_keys:\n",
        "  input = tf.keras.Input(shape=(1,), name=numeric, dtype=\"int64\")\n",
        "  num_layer = numeric_preprocessing(name=numeric, dataset=train_ds, num_bins=32)\n",
        "  num_preprocessor = num_layer(input)\n",
        "  all_inputs.append(input)\n",
        "  all_preprocessors.append(num_preprocessor)"
      ],
      "metadata": {
        "id": "n44nM94XQ4po"
      },
      "execution_count": 270,
      "outputs": []
    },
    {
      "cell_type": "code",
      "source": [
        "for categorical in categorical_string_keys:\n",
        "  input = tf.keras.Input(shape=(1,), name=categorical, dtype=\"string\")\n",
        "  cat_layer = categories_preprocessing(name=categorical, dataset=train_ds, dtype=\"string\")\n",
        "  cat_preprocessor = cat_layer(input)\n",
        "  all_inputs.append(input)\n",
        "  all_preprocessors.append(cat_preprocessor)"
      ],
      "metadata": {
        "id": "uZp_YEXgUlZc"
      },
      "execution_count": 271,
      "outputs": []
    },
    {
      "cell_type": "code",
      "source": [
        "all_inputs, all_preprocessors"
      ],
      "metadata": {
        "colab": {
          "base_uri": "https://localhost:8080/"
        },
        "id": "dBp7suJaVeg8",
        "outputId": "db4821ff-57ce-43d2-8002-28962f7c7df4"
      },
      "execution_count": 272,
      "outputs": [
        {
          "output_type": "execute_result",
          "data": {
            "text/plain": [
              "([<KerasTensor: shape=(None, 1) dtype=int64 (created by layer 'age')>,\n",
              "  <KerasTensor: shape=(None, 1) dtype=int64 (created by layer 'balance')>,\n",
              "  <KerasTensor: shape=(None, 1) dtype=int64 (created by layer 'duration')>,\n",
              "  <KerasTensor: shape=(None, 1) dtype=string (created by layer 'job')>,\n",
              "  <KerasTensor: shape=(None, 1) dtype=string (created by layer 'marital')>,\n",
              "  <KerasTensor: shape=(None, 1) dtype=string (created by layer 'education')>,\n",
              "  <KerasTensor: shape=(None, 1) dtype=string (created by layer 'housing')>,\n",
              "  <KerasTensor: shape=(None, 1) dtype=string (created by layer 'loan')>,\n",
              "  <KerasTensor: shape=(None, 1) dtype=string (created by layer 'month')>],\n",
              " [<KerasTensor: shape=(None, 1) dtype=float32 (created by layer 'normalization_9')>,\n",
              "  <KerasTensor: shape=(None, 1) dtype=float32 (created by layer 'normalization_10')>,\n",
              "  <KerasTensor: shape=(None, 1) dtype=float32 (created by layer 'normalization_11')>,\n",
              "  <KerasTensor: shape=(None, 13) dtype=float32 (created by layer 'category_encoding_15')>,\n",
              "  <KerasTensor: shape=(None, 4) dtype=float32 (created by layer 'category_encoding_16')>,\n",
              "  <KerasTensor: shape=(None, 5) dtype=float32 (created by layer 'category_encoding_17')>,\n",
              "  <KerasTensor: shape=(None, 3) dtype=float32 (created by layer 'category_encoding_18')>,\n",
              "  <KerasTensor: shape=(None, 3) dtype=float32 (created by layer 'category_encoding_19')>,\n",
              "  <KerasTensor: shape=(None, 13) dtype=float32 (created by layer 'category_encoding_20')>])"
            ]
          },
          "metadata": {},
          "execution_count": 272
        }
      ]
    },
    {
      "cell_type": "markdown",
      "source": [
        "##Model"
      ],
      "metadata": {
        "id": "0w9VerxWVw43"
      }
    },
    {
      "cell_type": "code",
      "source": [
        "all_features = tf.keras.layers.concatenate(all_preprocessors)\n",
        "x = tf.keras.layers.Dense(16, activation=tf.keras.activations.relu, kernel_regularizer=\"l2\")(all_features)\n",
        "x = tf.keras.layers.Dropout(0.2)(x)\n",
        "output = tf.keras.layers.Dense(1, activation=tf.keras.activations.sigmoid)(x)\n",
        "\n",
        "model = tf.keras.Model(all_inputs, output)"
      ],
      "metadata": {
        "id": "Kq0jZyrzVwJT"
      },
      "execution_count": 273,
      "outputs": []
    },
    {
      "cell_type": "code",
      "source": [
        "tf.keras.utils.plot_model(model, show_shapes=True, rankdir=\"LR\")"
      ],
      "metadata": {
        "colab": {
          "base_uri": "https://localhost:8080/",
          "height": 759
        },
        "id": "yOHa8_s5d49g",
        "outputId": "86b2d9d5-fd7b-4ec6-bdeb-41c602f6a027"
      },
      "execution_count": 274,
      "outputs": [
        {
          "output_type": "execute_result",
          "data": {
            "text/plain": [
              "<IPython.core.display.Image object>"
            ],
            "image/png": "[encoded data removed]"
          },
          "metadata": {},
          "execution_count": 274
        }
      ]
    },
    {
      "cell_type": "code",
      "source": [
        "METRICS = [\n",
        "      tf.keras.metrics.TruePositives(name='tp'),\n",
        "      tf.keras.metrics.FalsePositives(name='fp'),\n",
        "      tf.keras.metrics.TrueNegatives(name='tn'),\n",
        "      tf.keras.metrics.FalseNegatives(name='fn'), \n",
        "      tf.keras.metrics.BinaryAccuracy(name='accuracy'),\n",
        "      tf.keras.metrics.Precision(name='precision'),\n",
        "      tf.keras.metrics.Recall(name='recall'),\n",
        "      tf.keras.metrics.AUC(name='auc'),\n",
        "      tf.keras.metrics.AUC(name='prc', curve='PR'), # precision-recall curve\n",
        "]\n",
        "model.compile(optimizer=tf.keras.optimizers.Adam(),\n",
        "              loss=tf.keras.losses.BinaryCrossentropy(),\n",
        "              metrics=METRICS)"
      ],
      "metadata": {
        "id": "8ohLUpvQdMsH"
      },
      "execution_count": 275,
      "outputs": []
    },
    {
      "cell_type": "code",
      "source": [
        "history = model.fit(train_ds, epochs=50, validation_data=val_ds)"
      ],
      "metadata": {
        "colab": {
          "base_uri": "https://localhost:8080/"
        },
        "id": "3XgJ1yhqeOMb",
        "outputId": "da74828e-1924-45c5-b62b-d9933f18cb3d"
      },
      "execution_count": 276,
      "outputs": [
        {
          "output_type": "stream",
          "name": "stdout",
          "text": [
            "Epoch 1/50\n",
            "283/283 [==============================] - 7s 16ms/step - loss: 0.3997 - tp: 3595.0000 - fp: 3246.0000 - tn: 28675.0000 - fn: 653.0000 - accuracy: 0.8922 - precision: 0.5255 - recall: 0.8463 - auc: 0.9507 - prc: 0.6578 - val_loss: 0.4783 - val_tp: 0.0000e+00 - val_fp: 1.0000 - val_tn: 8000.0000 - val_fn: 1041.0000 - val_accuracy: 0.8848 - val_precision: 0.0000e+00 - val_recall: 0.0000e+00 - val_auc: 0.7612 - val_prc: 0.3301\n",
            "Epoch 2/50\n",
            "283/283 [==============================] - 3s 11ms/step - loss: 0.3449 - tp: 1236.0000 - fp: 802.0000 - tn: 31119.0000 - fn: 3012.0000 - accuracy: 0.8946 - precision: 0.6065 - recall: 0.2910 - auc: 0.7953 - prc: 0.4289 - val_loss: 0.4029 - val_tp: 7.0000 - val_fp: 6.0000 - val_tn: 7995.0000 - val_fn: 1034.0000 - val_accuracy: 0.8850 - val_precision: 0.5385 - val_recall: 0.0067 - val_auc: 0.8420 - val_prc: 0.4324\n",
            "Epoch 3/50\n",
            "283/283 [==============================] - 3s 11ms/step - loss: 0.3186 - tp: 1257.0000 - fp: 807.0000 - tn: 31114.0000 - fn: 2991.0000 - accuracy: 0.8950 - precision: 0.6090 - recall: 0.2959 - auc: 0.8179 - prc: 0.4476 - val_loss: 0.3766 - val_tp: 9.0000 - val_fp: 9.0000 - val_tn: 7992.0000 - val_fn: 1032.0000 - val_accuracy: 0.8849 - val_precision: 0.5000 - val_recall: 0.0086 - val_auc: 0.8604 - val_prc: 0.4523\n",
            "Epoch 4/50\n",
            "283/283 [==============================] - 3s 11ms/step - loss: 0.3089 - tp: 1210.0000 - fp: 803.0000 - tn: 31118.0000 - fn: 3038.0000 - accuracy: 0.8938 - precision: 0.6011 - recall: 0.2848 - auc: 0.8266 - prc: 0.4487 - val_loss: 0.3625 - val_tp: 9.0000 - val_fp: 11.0000 - val_tn: 7990.0000 - val_fn: 1032.0000 - val_accuracy: 0.8846 - val_precision: 0.4500 - val_recall: 0.0086 - val_auc: 0.8652 - val_prc: 0.4576\n",
            "Epoch 5/50\n",
            "283/283 [==============================] - 3s 12ms/step - loss: 0.3037 - tp: 1184.0000 - fp: 788.0000 - tn: 31133.0000 - fn: 3064.0000 - accuracy: 0.8935 - precision: 0.6004 - recall: 0.2787 - auc: 0.8317 - prc: 0.4478 - val_loss: 0.3530 - val_tp: 16.0000 - val_fp: 15.0000 - val_tn: 7986.0000 - val_fn: 1025.0000 - val_accuracy: 0.8850 - val_precision: 0.5161 - val_recall: 0.0154 - val_auc: 0.8688 - val_prc: 0.4608\n",
            "Epoch 6/50\n",
            "283/283 [==============================] - 3s 12ms/step - loss: 0.3012 - tp: 1107.0000 - fp: 763.0000 - tn: 31158.0000 - fn: 3141.0000 - accuracy: 0.8921 - precision: 0.5920 - recall: 0.2606 - auc: 0.8348 - prc: 0.4381 - val_loss: 0.3464 - val_tp: 20.0000 - val_fp: 16.0000 - val_tn: 7985.0000 - val_fn: 1021.0000 - val_accuracy: 0.8853 - val_precision: 0.5556 - val_recall: 0.0192 - val_auc: 0.8702 - val_prc: 0.4617\n",
            "Epoch 7/50\n",
            "283/283 [==============================] - 3s 12ms/step - loss: 0.3001 - tp: 1025.0000 - fp: 721.0000 - tn: 31200.0000 - fn: 3223.0000 - accuracy: 0.8910 - precision: 0.5871 - recall: 0.2413 - auc: 0.8345 - prc: 0.4345 - val_loss: 0.3422 - val_tp: 22.0000 - val_fp: 16.0000 - val_tn: 7985.0000 - val_fn: 1019.0000 - val_accuracy: 0.8855 - val_precision: 0.5789 - val_recall: 0.0211 - val_auc: 0.8699 - val_prc: 0.4620\n",
            "Epoch 8/50\n",
            "283/283 [==============================] - 3s 11ms/step - loss: 0.2970 - tp: 958.0000 - fp: 659.0000 - tn: 31262.0000 - fn: 3290.0000 - accuracy: 0.8908 - precision: 0.5925 - recall: 0.2255 - auc: 0.8389 - prc: 0.4326 - val_loss: 0.3401 - val_tp: 20.0000 - val_fp: 16.0000 - val_tn: 7985.0000 - val_fn: 1021.0000 - val_accuracy: 0.8853 - val_precision: 0.5556 - val_recall: 0.0192 - val_auc: 0.8700 - val_prc: 0.4621\n",
            "Epoch 9/50\n",
            "283/283 [==============================] - 3s 12ms/step - loss: 0.2954 - tp: 834.0000 - fp: 596.0000 - tn: 31325.0000 - fn: 3414.0000 - accuracy: 0.8891 - precision: 0.5832 - recall: 0.1963 - auc: 0.8410 - prc: 0.4333 - val_loss: 0.3393 - val_tp: 12.0000 - val_fp: 13.0000 - val_tn: 7988.0000 - val_fn: 1029.0000 - val_accuracy: 0.8848 - val_precision: 0.4800 - val_recall: 0.0115 - val_auc: 0.8710 - val_prc: 0.4627\n",
            "Epoch 10/50\n",
            "283/283 [==============================] - 3s 12ms/step - loss: 0.2937 - tp: 699.0000 - fp: 502.0000 - tn: 31419.0000 - fn: 3549.0000 - accuracy: 0.8880 - precision: 0.5820 - recall: 0.1645 - auc: 0.8426 - prc: 0.4348 - val_loss: 0.3392 - val_tp: 11.0000 - val_fp: 13.0000 - val_tn: 7988.0000 - val_fn: 1030.0000 - val_accuracy: 0.8846 - val_precision: 0.4583 - val_recall: 0.0106 - val_auc: 0.8713 - val_prc: 0.4635\n",
            "Epoch 11/50\n",
            "283/283 [==============================] - 3s 12ms/step - loss: 0.2923 - tp: 640.0000 - fp: 473.0000 - tn: 31448.0000 - fn: 3608.0000 - accuracy: 0.8872 - precision: 0.5750 - recall: 0.1507 - auc: 0.8445 - prc: 0.4311 - val_loss: 0.3395 - val_tp: 10.0000 - val_fp: 13.0000 - val_tn: 7988.0000 - val_fn: 1031.0000 - val_accuracy: 0.8845 - val_precision: 0.4348 - val_recall: 0.0096 - val_auc: 0.8717 - val_prc: 0.4635\n",
            "Epoch 12/50\n",
            "283/283 [==============================] - 3s 12ms/step - loss: 0.2907 - tp: 555.0000 - fp: 408.0000 - tn: 31513.0000 - fn: 3693.0000 - accuracy: 0.8866 - precision: 0.5763 - recall: 0.1306 - auc: 0.8466 - prc: 0.4301 - val_loss: 0.3397 - val_tp: 9.0000 - val_fp: 11.0000 - val_tn: 7990.0000 - val_fn: 1032.0000 - val_accuracy: 0.8846 - val_precision: 0.4500 - val_recall: 0.0086 - val_auc: 0.8718 - val_prc: 0.4638\n",
            "Epoch 13/50\n",
            "283/283 [==============================] - 3s 12ms/step - loss: 0.2900 - tp: 478.0000 - fp: 354.0000 - tn: 31567.0000 - fn: 3770.0000 - accuracy: 0.8860 - precision: 0.5745 - recall: 0.1125 - auc: 0.8465 - prc: 0.4312 - val_loss: 0.3401 - val_tp: 8.0000 - val_fp: 10.0000 - val_tn: 7991.0000 - val_fn: 1033.0000 - val_accuracy: 0.8846 - val_precision: 0.4444 - val_recall: 0.0077 - val_auc: 0.8721 - val_prc: 0.4641\n",
            "Epoch 14/50\n",
            "283/283 [==============================] - 3s 12ms/step - loss: 0.2886 - tp: 455.0000 - fp: 386.0000 - tn: 31535.0000 - fn: 3793.0000 - accuracy: 0.8845 - precision: 0.5410 - recall: 0.1071 - auc: 0.8487 - prc: 0.4310 - val_loss: 0.3407 - val_tp: 8.0000 - val_fp: 10.0000 - val_tn: 7991.0000 - val_fn: 1033.0000 - val_accuracy: 0.8846 - val_precision: 0.4444 - val_recall: 0.0077 - val_auc: 0.8714 - val_prc: 0.4633\n",
            "Epoch 15/50\n",
            "283/283 [==============================] - 3s 12ms/step - loss: 0.2883 - tp: 405.0000 - fp: 323.0000 - tn: 31598.0000 - fn: 3843.0000 - accuracy: 0.8848 - precision: 0.5563 - recall: 0.0953 - auc: 0.8485 - prc: 0.4304 - val_loss: 0.3406 - val_tp: 8.0000 - val_fp: 9.0000 - val_tn: 7992.0000 - val_fn: 1033.0000 - val_accuracy: 0.8848 - val_precision: 0.4706 - val_recall: 0.0077 - val_auc: 0.8717 - val_prc: 0.4636\n",
            "Epoch 16/50\n",
            "283/283 [==============================] - 3s 11ms/step - loss: 0.2868 - tp: 428.0000 - fp: 332.0000 - tn: 31589.0000 - fn: 3820.0000 - accuracy: 0.8852 - precision: 0.5632 - recall: 0.1008 - auc: 0.8503 - prc: 0.4345 - val_loss: 0.3411 - val_tp: 8.0000 - val_fp: 9.0000 - val_tn: 7992.0000 - val_fn: 1033.0000 - val_accuracy: 0.8848 - val_precision: 0.4706 - val_recall: 0.0077 - val_auc: 0.8708 - val_prc: 0.4630\n",
            "Epoch 17/50\n",
            "283/283 [==============================] - 4s 15ms/step - loss: 0.2866 - tp: 419.0000 - fp: 321.0000 - tn: 31600.0000 - fn: 3829.0000 - accuracy: 0.8853 - precision: 0.5662 - recall: 0.0986 - auc: 0.8496 - prc: 0.4341 - val_loss: 0.3421 - val_tp: 8.0000 - val_fp: 10.0000 - val_tn: 7991.0000 - val_fn: 1033.0000 - val_accuracy: 0.8846 - val_precision: 0.4444 - val_recall: 0.0077 - val_auc: 0.8712 - val_prc: 0.4630\n",
            "Epoch 18/50\n",
            "283/283 [==============================] - 3s 11ms/step - loss: 0.2855 - tp: 419.0000 - fp: 342.0000 - tn: 31579.0000 - fn: 3829.0000 - accuracy: 0.8847 - precision: 0.5506 - recall: 0.0986 - auc: 0.8514 - prc: 0.4343 - val_loss: 0.3421 - val_tp: 8.0000 - val_fp: 10.0000 - val_tn: 7991.0000 - val_fn: 1033.0000 - val_accuracy: 0.8846 - val_precision: 0.4444 - val_recall: 0.0077 - val_auc: 0.8714 - val_prc: 0.4635\n",
            "Epoch 19/50\n",
            "283/283 [==============================] - 3s 12ms/step - loss: 0.2855 - tp: 349.0000 - fp: 288.0000 - tn: 31633.0000 - fn: 3899.0000 - accuracy: 0.8842 - precision: 0.5479 - recall: 0.0822 - auc: 0.8512 - prc: 0.4329 - val_loss: 0.3426 - val_tp: 8.0000 - val_fp: 8.0000 - val_tn: 7993.0000 - val_fn: 1033.0000 - val_accuracy: 0.8849 - val_precision: 0.5000 - val_recall: 0.0077 - val_auc: 0.8717 - val_prc: 0.4638\n",
            "Epoch 20/50\n",
            "283/283 [==============================] - 3s 12ms/step - loss: 0.2852 - tp: 306.0000 - fp: 277.0000 - tn: 31644.0000 - fn: 3942.0000 - accuracy: 0.8834 - precision: 0.5249 - recall: 0.0720 - auc: 0.8515 - prc: 0.4313 - val_loss: 0.3419 - val_tp: 8.0000 - val_fp: 8.0000 - val_tn: 7993.0000 - val_fn: 1033.0000 - val_accuracy: 0.8849 - val_precision: 0.5000 - val_recall: 0.0077 - val_auc: 0.8721 - val_prc: 0.4640\n",
            "Epoch 21/50\n",
            "283/283 [==============================] - 4s 15ms/step - loss: 0.2828 - tp: 410.0000 - fp: 324.0000 - tn: 31597.0000 - fn: 3838.0000 - accuracy: 0.8849 - precision: 0.5586 - recall: 0.0965 - auc: 0.8553 - prc: 0.4394 - val_loss: 0.3432 - val_tp: 8.0000 - val_fp: 10.0000 - val_tn: 7991.0000 - val_fn: 1033.0000 - val_accuracy: 0.8846 - val_precision: 0.4444 - val_recall: 0.0077 - val_auc: 0.8730 - val_prc: 0.4646\n",
            "Epoch 22/50\n",
            "283/283 [==============================] - 3s 12ms/step - loss: 0.2832 - tp: 381.0000 - fp: 302.0000 - tn: 31619.0000 - fn: 3867.0000 - accuracy: 0.8847 - precision: 0.5578 - recall: 0.0897 - auc: 0.8545 - prc: 0.4357 - val_loss: 0.3436 - val_tp: 8.0000 - val_fp: 10.0000 - val_tn: 7991.0000 - val_fn: 1033.0000 - val_accuracy: 0.8846 - val_precision: 0.4444 - val_recall: 0.0077 - val_auc: 0.8724 - val_prc: 0.4641\n",
            "Epoch 23/50\n",
            "283/283 [==============================] - 3s 11ms/step - loss: 0.2830 - tp: 326.0000 - fp: 267.0000 - tn: 31654.0000 - fn: 3922.0000 - accuracy: 0.8842 - precision: 0.5497 - recall: 0.0767 - auc: 0.8545 - prc: 0.4346 - val_loss: 0.3435 - val_tp: 8.0000 - val_fp: 10.0000 - val_tn: 7991.0000 - val_fn: 1033.0000 - val_accuracy: 0.8846 - val_precision: 0.4444 - val_recall: 0.0077 - val_auc: 0.8732 - val_prc: 0.4650\n",
            "Epoch 24/50\n",
            "283/283 [==============================] - 3s 12ms/step - loss: 0.2818 - tp: 365.0000 - fp: 288.0000 - tn: 31633.0000 - fn: 3883.0000 - accuracy: 0.8847 - precision: 0.5590 - recall: 0.0859 - auc: 0.8560 - prc: 0.4388 - val_loss: 0.3436 - val_tp: 8.0000 - val_fp: 10.0000 - val_tn: 7991.0000 - val_fn: 1033.0000 - val_accuracy: 0.8846 - val_precision: 0.4444 - val_recall: 0.0077 - val_auc: 0.8733 - val_prc: 0.4655\n",
            "Epoch 25/50\n",
            "283/283 [==============================] - 3s 12ms/step - loss: 0.2821 - tp: 360.0000 - fp: 291.0000 - tn: 31630.0000 - fn: 3888.0000 - accuracy: 0.8845 - precision: 0.5530 - recall: 0.0847 - auc: 0.8549 - prc: 0.4384 - val_loss: 0.3448 - val_tp: 8.0000 - val_fp: 10.0000 - val_tn: 7991.0000 - val_fn: 1033.0000 - val_accuracy: 0.8846 - val_precision: 0.4444 - val_recall: 0.0077 - val_auc: 0.8731 - val_prc: 0.4649\n",
            "Epoch 26/50\n",
            "283/283 [==============================] - 3s 12ms/step - loss: 0.2819 - tp: 406.0000 - fp: 313.0000 - tn: 31608.0000 - fn: 3842.0000 - accuracy: 0.8851 - precision: 0.5647 - recall: 0.0956 - auc: 0.8552 - prc: 0.4380 - val_loss: 0.3450 - val_tp: 8.0000 - val_fp: 10.0000 - val_tn: 7991.0000 - val_fn: 1033.0000 - val_accuracy: 0.8846 - val_precision: 0.4444 - val_recall: 0.0077 - val_auc: 0.8734 - val_prc: 0.4654\n",
            "Epoch 27/50\n",
            "283/283 [==============================] - 3s 12ms/step - loss: 0.2806 - tp: 382.0000 - fp: 291.0000 - tn: 31630.0000 - fn: 3866.0000 - accuracy: 0.8851 - precision: 0.5676 - recall: 0.0899 - auc: 0.8565 - prc: 0.4430 - val_loss: 0.3454 - val_tp: 8.0000 - val_fp: 10.0000 - val_tn: 7991.0000 - val_fn: 1033.0000 - val_accuracy: 0.8846 - val_precision: 0.4444 - val_recall: 0.0077 - val_auc: 0.8730 - val_prc: 0.4651\n",
            "Epoch 28/50\n",
            "283/283 [==============================] - 3s 12ms/step - loss: 0.2821 - tp: 348.0000 - fp: 299.0000 - tn: 31622.0000 - fn: 3900.0000 - accuracy: 0.8839 - precision: 0.5379 - recall: 0.0819 - auc: 0.8551 - prc: 0.4346 - val_loss: 0.3452 - val_tp: 8.0000 - val_fp: 10.0000 - val_tn: 7991.0000 - val_fn: 1033.0000 - val_accuracy: 0.8846 - val_precision: 0.4444 - val_recall: 0.0077 - val_auc: 0.8728 - val_prc: 0.4654\n",
            "Epoch 29/50\n",
            "283/283 [==============================] - 3s 12ms/step - loss: 0.2806 - tp: 333.0000 - fp: 289.0000 - tn: 31632.0000 - fn: 3915.0000 - accuracy: 0.8838 - precision: 0.5354 - recall: 0.0784 - auc: 0.8568 - prc: 0.4378 - val_loss: 0.3459 - val_tp: 8.0000 - val_fp: 9.0000 - val_tn: 7992.0000 - val_fn: 1033.0000 - val_accuracy: 0.8848 - val_precision: 0.4706 - val_recall: 0.0077 - val_auc: 0.8724 - val_prc: 0.4654\n",
            "Epoch 30/50\n",
            "283/283 [==============================] - 3s 12ms/step - loss: 0.2811 - tp: 283.0000 - fp: 241.0000 - tn: 31680.0000 - fn: 3965.0000 - accuracy: 0.8837 - precision: 0.5401 - recall: 0.0666 - auc: 0.8560 - prc: 0.4347 - val_loss: 0.3457 - val_tp: 8.0000 - val_fp: 8.0000 - val_tn: 7993.0000 - val_fn: 1033.0000 - val_accuracy: 0.8849 - val_precision: 0.5000 - val_recall: 0.0077 - val_auc: 0.8727 - val_prc: 0.4659\n",
            "Epoch 31/50\n",
            "283/283 [==============================] - 4s 12ms/step - loss: 0.2805 - tp: 351.0000 - fp: 273.0000 - tn: 31648.0000 - fn: 3897.0000 - accuracy: 0.8847 - precision: 0.5625 - recall: 0.0826 - auc: 0.8571 - prc: 0.4395 - val_loss: 0.3456 - val_tp: 8.0000 - val_fp: 8.0000 - val_tn: 7993.0000 - val_fn: 1033.0000 - val_accuracy: 0.8849 - val_precision: 0.5000 - val_recall: 0.0077 - val_auc: 0.8736 - val_prc: 0.4663\n",
            "Epoch 32/50\n",
            "283/283 [==============================] - 3s 12ms/step - loss: 0.2808 - tp: 306.0000 - fp: 261.0000 - tn: 31660.0000 - fn: 3942.0000 - accuracy: 0.8838 - precision: 0.5397 - recall: 0.0720 - auc: 0.8563 - prc: 0.4388 - val_loss: 0.3459 - val_tp: 8.0000 - val_fp: 8.0000 - val_tn: 7993.0000 - val_fn: 1033.0000 - val_accuracy: 0.8849 - val_precision: 0.5000 - val_recall: 0.0077 - val_auc: 0.8733 - val_prc: 0.4665\n",
            "Epoch 33/50\n",
            "283/283 [==============================] - 3s 12ms/step - loss: 0.2803 - tp: 319.0000 - fp: 277.0000 - tn: 31644.0000 - fn: 3929.0000 - accuracy: 0.8837 - precision: 0.5352 - recall: 0.0751 - auc: 0.8573 - prc: 0.4377 - val_loss: 0.3456 - val_tp: 8.0000 - val_fp: 8.0000 - val_tn: 7993.0000 - val_fn: 1033.0000 - val_accuracy: 0.8849 - val_precision: 0.5000 - val_recall: 0.0077 - val_auc: 0.8733 - val_prc: 0.4664\n",
            "Epoch 34/50\n",
            "283/283 [==============================] - 3s 12ms/step - loss: 0.2801 - tp: 366.0000 - fp: 303.0000 - tn: 31618.0000 - fn: 3882.0000 - accuracy: 0.8843 - precision: 0.5471 - recall: 0.0862 - auc: 0.8576 - prc: 0.4383 - val_loss: 0.3457 - val_tp: 8.0000 - val_fp: 9.0000 - val_tn: 7992.0000 - val_fn: 1033.0000 - val_accuracy: 0.8848 - val_precision: 0.4706 - val_recall: 0.0077 - val_auc: 0.8738 - val_prc: 0.4669\n",
            "Epoch 35/50\n",
            "283/283 [==============================] - 3s 12ms/step - loss: 0.2805 - tp: 329.0000 - fp: 272.0000 - tn: 31649.0000 - fn: 3919.0000 - accuracy: 0.8841 - precision: 0.5474 - recall: 0.0774 - auc: 0.8567 - prc: 0.4373 - val_loss: 0.3453 - val_tp: 8.0000 - val_fp: 10.0000 - val_tn: 7991.0000 - val_fn: 1033.0000 - val_accuracy: 0.8846 - val_precision: 0.4444 - val_recall: 0.0077 - val_auc: 0.8731 - val_prc: 0.4664\n",
            "Epoch 36/50\n",
            "283/283 [==============================] - 3s 12ms/step - loss: 0.2808 - tp: 367.0000 - fp: 281.0000 - tn: 31640.0000 - fn: 3881.0000 - accuracy: 0.8849 - precision: 0.5664 - recall: 0.0864 - auc: 0.8564 - prc: 0.4391 - val_loss: 0.3453 - val_tp: 8.0000 - val_fp: 11.0000 - val_tn: 7990.0000 - val_fn: 1033.0000 - val_accuracy: 0.8845 - val_precision: 0.4211 - val_recall: 0.0077 - val_auc: 0.8728 - val_prc: 0.4661\n",
            "Epoch 37/50\n",
            "283/283 [==============================] - 3s 12ms/step - loss: 0.2804 - tp: 365.0000 - fp: 281.0000 - tn: 31640.0000 - fn: 3883.0000 - accuracy: 0.8849 - precision: 0.5650 - recall: 0.0859 - auc: 0.8571 - prc: 0.4398 - val_loss: 0.3453 - val_tp: 8.0000 - val_fp: 10.0000 - val_tn: 7991.0000 - val_fn: 1033.0000 - val_accuracy: 0.8846 - val_precision: 0.4444 - val_recall: 0.0077 - val_auc: 0.8729 - val_prc: 0.4667\n",
            "Epoch 38/50\n",
            "283/283 [==============================] - 3s 12ms/step - loss: 0.2795 - tp: 325.0000 - fp: 268.0000 - tn: 31653.0000 - fn: 3923.0000 - accuracy: 0.8841 - precision: 0.5481 - recall: 0.0765 - auc: 0.8585 - prc: 0.4393 - val_loss: 0.3459 - val_tp: 8.0000 - val_fp: 10.0000 - val_tn: 7991.0000 - val_fn: 1033.0000 - val_accuracy: 0.8846 - val_precision: 0.4444 - val_recall: 0.0077 - val_auc: 0.8730 - val_prc: 0.4662\n",
            "Epoch 39/50\n",
            "283/283 [==============================] - 3s 12ms/step - loss: 0.2795 - tp: 321.0000 - fp: 287.0000 - tn: 31634.0000 - fn: 3927.0000 - accuracy: 0.8835 - precision: 0.5280 - recall: 0.0756 - auc: 0.8582 - prc: 0.4391 - val_loss: 0.3463 - val_tp: 8.0000 - val_fp: 10.0000 - val_tn: 7991.0000 - val_fn: 1033.0000 - val_accuracy: 0.8846 - val_precision: 0.4444 - val_recall: 0.0077 - val_auc: 0.8734 - val_prc: 0.4669\n",
            "Epoch 40/50\n",
            "283/283 [==============================] - 3s 12ms/step - loss: 0.2800 - tp: 323.0000 - fp: 268.0000 - tn: 31653.0000 - fn: 3925.0000 - accuracy: 0.8841 - precision: 0.5465 - recall: 0.0760 - auc: 0.8573 - prc: 0.4399 - val_loss: 0.3463 - val_tp: 8.0000 - val_fp: 11.0000 - val_tn: 7990.0000 - val_fn: 1033.0000 - val_accuracy: 0.8845 - val_precision: 0.4211 - val_recall: 0.0077 - val_auc: 0.8737 - val_prc: 0.4670\n",
            "Epoch 41/50\n",
            "283/283 [==============================] - 3s 12ms/step - loss: 0.2809 - tp: 311.0000 - fp: 283.0000 - tn: 31638.0000 - fn: 3937.0000 - accuracy: 0.8833 - precision: 0.5236 - recall: 0.0732 - auc: 0.8563 - prc: 0.4348 - val_loss: 0.3456 - val_tp: 8.0000 - val_fp: 9.0000 - val_tn: 7992.0000 - val_fn: 1033.0000 - val_accuracy: 0.8848 - val_precision: 0.4706 - val_recall: 0.0077 - val_auc: 0.8738 - val_prc: 0.4675\n",
            "Epoch 42/50\n",
            "283/283 [==============================] - 4s 13ms/step - loss: 0.2792 - tp: 307.0000 - fp: 266.0000 - tn: 31655.0000 - fn: 3941.0000 - accuracy: 0.8837 - precision: 0.5358 - recall: 0.0723 - auc: 0.8585 - prc: 0.4412 - val_loss: 0.3467 - val_tp: 8.0000 - val_fp: 8.0000 - val_tn: 7993.0000 - val_fn: 1033.0000 - val_accuracy: 0.8849 - val_precision: 0.5000 - val_recall: 0.0077 - val_auc: 0.8734 - val_prc: 0.4672\n",
            "Epoch 43/50\n",
            "283/283 [==============================] - 4s 12ms/step - loss: 0.2798 - tp: 296.0000 - fp: 249.0000 - tn: 31672.0000 - fn: 3952.0000 - accuracy: 0.8839 - precision: 0.5431 - recall: 0.0697 - auc: 0.8580 - prc: 0.4391 - val_loss: 0.3461 - val_tp: 8.0000 - val_fp: 9.0000 - val_tn: 7992.0000 - val_fn: 1033.0000 - val_accuracy: 0.8848 - val_precision: 0.4706 - val_recall: 0.0077 - val_auc: 0.8740 - val_prc: 0.4674\n",
            "Epoch 44/50\n",
            "283/283 [==============================] - 6s 21ms/step - loss: 0.2787 - tp: 363.0000 - fp: 291.0000 - tn: 31630.0000 - fn: 3885.0000 - accuracy: 0.8845 - precision: 0.5550 - recall: 0.0855 - auc: 0.8591 - prc: 0.4456 - val_loss: 0.3464 - val_tp: 8.0000 - val_fp: 10.0000 - val_tn: 7991.0000 - val_fn: 1033.0000 - val_accuracy: 0.8846 - val_precision: 0.4444 - val_recall: 0.0077 - val_auc: 0.8735 - val_prc: 0.4674\n",
            "Epoch 45/50\n",
            "283/283 [==============================] - 4s 13ms/step - loss: 0.2792 - tp: 292.0000 - fp: 260.0000 - tn: 31661.0000 - fn: 3956.0000 - accuracy: 0.8834 - precision: 0.5290 - recall: 0.0687 - auc: 0.8587 - prc: 0.4397 - val_loss: 0.3467 - val_tp: 8.0000 - val_fp: 8.0000 - val_tn: 7993.0000 - val_fn: 1033.0000 - val_accuracy: 0.8849 - val_precision: 0.5000 - val_recall: 0.0077 - val_auc: 0.8735 - val_prc: 0.4672\n",
            "Epoch 46/50\n",
            "283/283 [==============================] - 4s 13ms/step - loss: 0.2797 - tp: 324.0000 - fp: 264.0000 - tn: 31657.0000 - fn: 3924.0000 - accuracy: 0.8842 - precision: 0.5510 - recall: 0.0763 - auc: 0.8581 - prc: 0.4398 - val_loss: 0.3463 - val_tp: 8.0000 - val_fp: 8.0000 - val_tn: 7993.0000 - val_fn: 1033.0000 - val_accuracy: 0.8849 - val_precision: 0.5000 - val_recall: 0.0077 - val_auc: 0.8733 - val_prc: 0.4675\n",
            "Epoch 47/50\n",
            "283/283 [==============================] - 4s 13ms/step - loss: 0.2793 - tp: 301.0000 - fp: 258.0000 - tn: 31663.0000 - fn: 3947.0000 - accuracy: 0.8837 - precision: 0.5385 - recall: 0.0709 - auc: 0.8585 - prc: 0.4418 - val_loss: 0.3471 - val_tp: 7.0000 - val_fp: 8.0000 - val_tn: 7993.0000 - val_fn: 1034.0000 - val_accuracy: 0.8848 - val_precision: 0.4667 - val_recall: 0.0067 - val_auc: 0.8734 - val_prc: 0.4674\n",
            "Epoch 48/50\n",
            "283/283 [==============================] - 4s 13ms/step - loss: 0.2791 - tp: 324.0000 - fp: 265.0000 - tn: 31656.0000 - fn: 3924.0000 - accuracy: 0.8842 - precision: 0.5501 - recall: 0.0763 - auc: 0.8588 - prc: 0.4423 - val_loss: 0.3464 - val_tp: 7.0000 - val_fp: 8.0000 - val_tn: 7993.0000 - val_fn: 1034.0000 - val_accuracy: 0.8848 - val_precision: 0.4667 - val_recall: 0.0067 - val_auc: 0.8736 - val_prc: 0.4676\n",
            "Epoch 49/50\n",
            "283/283 [==============================] - 3s 12ms/step - loss: 0.2786 - tp: 300.0000 - fp: 244.0000 - tn: 31677.0000 - fn: 3948.0000 - accuracy: 0.8841 - precision: 0.5515 - recall: 0.0706 - auc: 0.8597 - prc: 0.4426 - val_loss: 0.3466 - val_tp: 7.0000 - val_fp: 8.0000 - val_tn: 7993.0000 - val_fn: 1034.0000 - val_accuracy: 0.8848 - val_precision: 0.4667 - val_recall: 0.0067 - val_auc: 0.8731 - val_prc: 0.4673\n",
            "Epoch 50/50\n",
            "283/283 [==============================] - 3s 12ms/step - loss: 0.2788 - tp: 320.0000 - fp: 277.0000 - tn: 31644.0000 - fn: 3928.0000 - accuracy: 0.8837 - precision: 0.5360 - recall: 0.0753 - auc: 0.8591 - prc: 0.4416 - val_loss: 0.3466 - val_tp: 7.0000 - val_fp: 8.0000 - val_tn: 7993.0000 - val_fn: 1034.0000 - val_accuracy: 0.8848 - val_precision: 0.4667 - val_recall: 0.0067 - val_auc: 0.8731 - val_prc: 0.4675\n"
          ]
        }
      ]
    },
    {
      "cell_type": "code",
      "source": [
        "metric = ['loss', 'accuracy', 'prc', 'precision', 'recall']\n",
        "plot_metric(3,2, history, metric)"
      ],
      "metadata": {
        "id": "Gs-9MpCvtnP9",
        "outputId": "de1b183f-0266-44a6-f3d7-11a4740d805a",
        "colab": {
          "base_uri": "https://localhost:8080/",
          "height": 606
        }
      },
      "execution_count": 277,
      "outputs": [
        {
          "output_type": "display_data",
          "data": {
            "text/plain": [
              "<Figure size 1080x720 with 6 Axes>"
            ],
            "image/png": "[encoded data removed]"
          },
          "metadata": {
            "needs_background": "light"
          }
        }
      ]
    },
    {
      "cell_type": "code",
      "source": [
        "predict_test = model.predict(test_ds)\n",
        "test_ds_unbach = test_ds.unbatch()\n",
        "label_test = [i[1] for i in list(test_ds_unbach.as_numpy_iterator())]\n"
      ],
      "metadata": {
        "id": "PvuHBMGFwg6T"
      },
      "execution_count": 278,
      "outputs": []
    },
    {
      "cell_type": "code",
      "source": [
        "model_evaluate = model.evaluate(test_ds)\n",
        "for name_metric, value_evaluate in zip(model.metrics_names, model_evaluate):\n",
        "  print(name_metric, ': ', value_evaluate)\n",
        "\n",
        "plot_confution_matrix(label_test, predict_test)"
      ],
      "metadata": {
        "id": "tl8vJBCmpgtJ",
        "colab": {
          "base_uri": "https://localhost:8080/",
          "height": 648
        },
        "outputId": "1ad56f38-fc2e-4bdc-8911-1b578f005856"
      },
      "execution_count": 279,
      "outputs": [
        {
          "output_type": "stream",
          "name": "stdout",
          "text": [
            "36/36 [==============================] - 0s 3ms/step - loss: 0.3558 - tp: 3.0000 - fp: 1.0000 - tn: 3999.0000 - fn: 518.0000 - accuracy: 0.8852 - precision: 0.7500 - recall: 0.0058 - auc: 0.8599 - prc: 0.4413\n",
            "loss :  0.35584014654159546\n",
            "tp :  3.0\n",
            "fp :  1.0\n",
            "tn :  3999.0\n",
            "fn :  518.0\n",
            "accuracy :  0.8852024078369141\n",
            "precision :  0.75\n",
            "recall :  0.005758157465606928\n",
            "auc :  0.859880805015564\n",
            "prc :  0.44130244851112366\n",
            "Legitimate Transactions Detected (True Negatives):  3999\n",
            "Legitimate Transactions Incorrectly Detected (False Positives):  1\n",
            "Fraudulent Transactions Missed (False Negatives):  518\n",
            "Fraudulent Transactions Detected (True Positives):  3\n",
            "Total Fraudulent Transactions:  521\n"
          ]
        },
        {
          "output_type": "display_data",
          "data": {
            "text/plain": [
              "<Figure size 360x360 with 2 Axes>"
            ],
            "image/png": "[encoded data removed]"
          },
          "metadata": {
            "needs_background": "light"
          }
        }
      ]
    },
    {
      "cell_type": "code",
      "source": [
        "dataset_test.sort_values(by=[\"target\"], ascending=False).head()"
      ],
      "metadata": {
        "id": "QImhllBHu2zd",
        "colab": {
          "base_uri": "https://localhost:8080/",
          "height": 206
        },
        "outputId": "706cdbc1-f46d-403a-aae9-9fe399e34593"
      },
      "execution_count": 280,
      "outputs": [
        {
          "output_type": "execute_result",
          "data": {
            "text/plain": [
              "      age          job   marital  education  balance housing loan month  \\\n",
              "3930   51      retired  divorced  secondary     1679      no   no   aug   \n",
              "702    32   management  divorced   tertiary      874      no   no   aug   \n",
              "1876   26  blue-collar    single    primary     -887     yes   no   may   \n",
              "2865   51    housemaid  divorced  secondary     9228      no   no   jul   \n",
              "1872   34       admin.   married  secondary      247      no   no   oct   \n",
              "\n",
              "      duration  target  \n",
              "3930       417       1  \n",
              "702       1282       1  \n",
              "1876       827       1  \n",
              "2865       655       1  \n",
              "1872       401       1  "
            ],
            "text/html": [
              "\n",
              "  <div id=\"df-74eaa7f2-975a-4db1-b44d-b8be38a30631\">\n",
              "    <div class=\"colab-df-container\">\n",
              "      <div>\n",
              "<style scoped>\n",
              "    .dataframe tbody tr th:only-of-type {\n",
              "        vertical-align: middle;\n",
              "    }\n",
              "\n",
              "    .dataframe tbody tr th {\n",
              "        vertical-align: top;\n",
              "    }\n",
              "\n",
              "    .dataframe thead th {\n",
              "        text-align: right;\n",
              "    }\n",
              "</style>\n",
              "<table border=\"1\" class=\"dataframe\">\n",
              "  <thead>\n",
              "    <tr style=\"text-align: right;\">\n",
              "      <th></th>\n",
              "      <th>age</th>\n",
              "      <th>job</th>\n",
              "      <th>marital</th>\n",
              "      <th>education</th>\n",
              "      <th>balance</th>\n",
              "      <th>housing</th>\n",
              "      <th>loan</th>\n",
              "      <th>month</th>\n",
              "      <th>duration</th>\n",
              "      <th>target</th>\n",
              "    </tr>\n",
              "  </thead>\n",
              "  <tbody>\n",
              "    <tr>\n",
              "      <th>3930</th>\n",
              "      <td>51</td>\n",
              "      <td>retired</td>\n",
              "      <td>divorced</td>\n",
              "      <td>secondary</td>\n",
              "      <td>1679</td>\n",
              "      <td>no</td>\n",
              "      <td>no</td>\n",
              "      <td>aug</td>\n",
              "      <td>417</td>\n",
              "      <td>1</td>\n",
              "    </tr>\n",
              "    <tr>\n",
              "      <th>702</th>\n",
              "      <td>32</td>\n",
              "      <td>management</td>\n",
              "      <td>divorced</td>\n",
              "      <td>tertiary</td>\n",
              "      <td>874</td>\n",
              "      <td>no</td>\n",
              "      <td>no</td>\n",
              "      <td>aug</td>\n",
              "      <td>1282</td>\n",
              "      <td>1</td>\n",
              "    </tr>\n",
              "    <tr>\n",
              "      <th>1876</th>\n",
              "      <td>26</td>\n",
              "      <td>blue-collar</td>\n",
              "      <td>single</td>\n",
              "      <td>primary</td>\n",
              "      <td>-887</td>\n",
              "      <td>yes</td>\n",
              "      <td>no</td>\n",
              "      <td>may</td>\n",
              "      <td>827</td>\n",
              "      <td>1</td>\n",
              "    </tr>\n",
              "    <tr>\n",
              "      <th>2865</th>\n",
              "      <td>51</td>\n",
              "      <td>housemaid</td>\n",
              "      <td>divorced</td>\n",
              "      <td>secondary</td>\n",
              "      <td>9228</td>\n",
              "      <td>no</td>\n",
              "      <td>no</td>\n",
              "      <td>jul</td>\n",
              "      <td>655</td>\n",
              "      <td>1</td>\n",
              "    </tr>\n",
              "    <tr>\n",
              "      <th>1872</th>\n",
              "      <td>34</td>\n",
              "      <td>admin.</td>\n",
              "      <td>married</td>\n",
              "      <td>secondary</td>\n",
              "      <td>247</td>\n",
              "      <td>no</td>\n",
              "      <td>no</td>\n",
              "      <td>oct</td>\n",
              "      <td>401</td>\n",
              "      <td>1</td>\n",
              "    </tr>\n",
              "  </tbody>\n",
              "</table>\n",
              "</div>\n",
              "      <button class=\"colab-df-convert\" onclick=\"convertToInteractive('df-74eaa7f2-975a-4db1-b44d-b8be38a30631')\"\n",
              "              title=\"Convert this dataframe to an interactive table.\"\n",
              "              style=\"display:none;\">\n",
              "        \n",
              "  <svg xmlns=\"http://www.w3.org/2000/svg\" height=\"24px\"viewBox=\"0 0 24 24\"\n",
              "       width=\"24px\">\n",
              "    <path d=\"M0 0h24v24H0V0z\" fill=\"none\"/>\n",
              "    <path d=\"M18.56 5.44l.94 2.06.94-2.06 2.06-.94-2.06-.94-.94-2.06-.94 2.06-2.06.94zm-11 1L8.5 8.5l.94-2.06 2.06-.94-2.06-.94L8.5 2.5l-.94 2.06-2.06.94zm10 10l.94 2.06.94-2.06 2.06-.94-2.06-.94-.94-2.06-.94 2.06-2.06.94z\"/><path d=\"M17.41 7.96l-1.37-1.37c-.4-.4-.92-.59-1.43-.59-.52 0-1.04.2-1.43.59L10.3 9.45l-7.72 7.72c-.78.78-.78 2.05 0 2.83L4 21.41c.39.39.9.59 1.41.59.51 0 1.02-.2 1.41-.59l7.78-7.78 2.81-2.81c.8-.78.8-2.07 0-2.86zM5.41 20L4 18.59l7.72-7.72 1.47 1.35L5.41 20z\"/>\n",
              "  </svg>\n",
              "      </button>\n",
              "      \n",
              "  <style>\n",
              "    .colab-df-container {\n",
              "      display:flex;\n",
              "      flex-wrap:wrap;\n",
              "      gap: 12px;\n",
              "    }\n",
              "\n",
              "    .colab-df-convert {\n",
              "      background-color: #E8F0FE;\n",
              "      border: none;\n",
              "      border-radius: 50%;\n",
              "      cursor: pointer;\n",
              "      display: none;\n",
              "      fill: #1967D2;\n",
              "      height: 32px;\n",
              "      padding: 0 0 0 0;\n",
              "      width: 32px;\n",
              "    }\n",
              "\n",
              "    .colab-df-convert:hover {\n",
              "      background-color: #E2EBFA;\n",
              "      box-shadow: 0px 1px 2px rgba(60, 64, 67, 0.3), 0px 1px 3px 1px rgba(60, 64, 67, 0.15);\n",
              "      fill: #174EA6;\n",
              "    }\n",
              "\n",
              "    [theme=dark] .colab-df-convert {\n",
              "      background-color: #3B4455;\n",
              "      fill: #D2E3FC;\n",
              "    }\n",
              "\n",
              "    [theme=dark] .colab-df-convert:hover {\n",
              "      background-color: #434B5C;\n",
              "      box-shadow: 0px 1px 3px 1px rgba(0, 0, 0, 0.15);\n",
              "      filter: drop-shadow(0px 1px 2px rgba(0, 0, 0, 0.3));\n",
              "      fill: #FFFFFF;\n",
              "    }\n",
              "  </style>\n",
              "\n",
              "      <script>\n",
              "        const buttonEl =\n",
              "          document.querySelector('#df-74eaa7f2-975a-4db1-b44d-b8be38a30631 button.colab-df-convert');\n",
              "        buttonEl.style.display =\n",
              "          google.colab.kernel.accessAllowed ? 'block' : 'none';\n",
              "\n",
              "        async function convertToInteractive(key) {\n",
              "          const element = document.querySelector('#df-74eaa7f2-975a-4db1-b44d-b8be38a30631');\n",
              "          const dataTable =\n",
              "            await google.colab.kernel.invokeFunction('convertToInteractive',\n",
              "                                                     [key], {});\n",
              "          if (!dataTable) return;\n",
              "\n",
              "          const docLinkHtml = 'Like what you see? Visit the ' +\n",
              "            '<a target=\"_blank\" href=https://colab.research.google.com/notebooks/data_table.ipynb>data table notebook</a>'\n",
              "            + ' to learn more about interactive tables.';\n",
              "          element.innerHTML = '';\n",
              "          dataTable['output_type'] = 'display_data';\n",
              "          await google.colab.output.renderOutput(dataTable, element);\n",
              "          const docLink = document.createElement('div');\n",
              "          docLink.innerHTML = docLinkHtml;\n",
              "          element.appendChild(docLink);\n",
              "        }\n",
              "      </script>\n",
              "    </div>\n",
              "  </div>\n",
              "  "
            ]
          },
          "metadata": {},
          "execution_count": 280
        }
      ]
    },
    {
      "cell_type": "code",
      "source": [
        "sample = {\n",
        "    'age': 51,\n",
        "    'job': 'retired',\n",
        "    'marital': 'divorced',\n",
        "    'education': 'secondary',\n",
        "    'balance': 1679,\n",
        "    'housing': 'no',\n",
        "    'loan': 'no',\n",
        "    'month': 'aug',\n",
        "    'duration': 417\n",
        "}\n",
        "\n",
        "input_dict = {name: tf.convert_to_tensor([value]) for name, value in sample.items()}\n",
        "predictions = model.predict(input_dict)\n",
        "prob = tf.nn.sigmoid(predictions[0])\n",
        "\n",
        "print(\n",
        "    f\"Probabilitas untuk berlangganan deposito berjangka adalah {round(100 * predictions[0][0], 2)} % \"\n",
        "    f\"untuk setuju\"\n",
        ")"
      ],
      "metadata": {
        "id": "EZ8ZzX-X3PgX",
        "colab": {
          "base_uri": "https://localhost:8080/"
        },
        "outputId": "b71f6dbb-20fb-490a-e8f7-7fe51f07cf07"
      },
      "execution_count": 281,
      "outputs": [
        {
          "output_type": "stream",
          "name": "stdout",
          "text": [
            "Probabilitas untuk berlangganan deposito berjangka adalah 7.46 % untuk setuju\n"
          ]
        }
      ]
    }
  ]
}